{
  "nbformat": 4,
  "nbformat_minor": 0,
  "metadata": {
    "colab": {
      "name": "Text Mining.ipynb",
      "version": "0.3.2",
      "provenance": [],
      "collapsed_sections": [],
      "include_colab_link": true
    },
    "kernelspec": {
      "name": "python3",
      "display_name": "Python 3"
    }
  },
  "cells": [
    {
      "cell_type": "markdown",
      "metadata": {
        "id": "view-in-github",
        "colab_type": "text"
      },
      "source": [
        "<a href=\"https://colab.research.google.com/github/mohammedterry/NLP_for_ML/blob/master/Text_Mining.ipynb\" target=\"_parent\"><img src=\"https://colab.research.google.com/assets/colab-badge.svg\" alt=\"Open In Colab\"/></a>"
      ]
    },
    {
      "metadata": {
        "id": "E5jzBMCalDsT",
        "colab_type": "code",
        "colab": {}
      },
      "cell_type": "code",
      "source": [
        "%matplotlib inline\n",
        "import seaborn as sns\n",
        "import pandas as pd\n",
        "\n",
        "def display(ranked_wordlist, n_samples = 15):\n",
        "  sns.barplot(x=\"frequency\", y=\"words\", data=pd.DataFrame({\"frequency\":[x for x,_ in ranked_wordlist[:n_samples]], \"words\":[x for _,x in ranked_wordlist[:n_samples]]}))\n",
        "  \n",
        "def compare(ranked_wordlist_a, ranked_wordlist_b, method_a = \"a\", method_b = \"b\", n_samples = 15):\n",
        "  d_i = pd.DataFrame({\n",
        "    \"method\":[method_a]*n_samples + [method_b]*n_samples,\n",
        "    \"frequency\":[x for x,_ in ranked_wordlist_a[:n_samples]] + [x for x,_ in ranked_wordlist_b[:n_samples]],\n",
        "    \"words\":[x for _,x in ranked_wordlist_a[:n_samples]] + [x for _,x in ranked_wordlist_b[:n_samples]], \n",
        "  })\n",
        "  sns.factorplot(\"frequency\", \"words\", col=\"method\", data=d_i, kind=\"bar\")"
      ],
      "execution_count": 0,
      "outputs": []
    },
    {
      "metadata": {
        "id": "VSijAIUcmFeV",
        "colab_type": "text"
      },
      "cell_type": "markdown",
      "source": [
        "# Get some raw text"
      ]
    },
    {
      "metadata": {
        "id": "zNTuY819mE1m",
        "colab_type": "code",
        "colab": {}
      },
      "cell_type": "code",
      "source": [
        "import requests\n",
        "from bs4 import BeautifulSoup as bs\n",
        "\n",
        "def scrape(url):\n",
        "  soup = bs(requests.get(url, headers = {'user-agent': \"Mozilla/5.0 (Macintosh; Intel Mac OS X 10_14_0) AppleWebKit/537.36 (KHTML, like Gecko) Chrome/71.0.3578.98 Safari/537.36\",'referrer': 'https://google.com'}).text, \"html.parser\")\n",
        "  return '\\n'.join([dom.text for dom in soup.find_all(['title','h1','h2','h3','h4','h5','h6','p'])])"
      ],
      "execution_count": 0,
      "outputs": []
    },
    {
      "metadata": {
        "id": "BGTH4tdpmxpd",
        "colab_type": "code",
        "colab": {
          "base_uri": "https://localhost:8080/",
          "height": 272
        },
        "outputId": "71624871-2b36-47b0-85b5-711395cdc6a9"
      },
      "cell_type": "code",
      "source": [
        "example_document = scrape(\"http://www.literatureproject.com/alice/alice_7.htm\")\n",
        "\n",
        "print(example_document[:300])"
      ],
      "execution_count": 76,
      "outputs": [
        {
          "output_type": "stream",
          "text": [
            "7 : CHAPTER VII\n",
            "\n",
            "\n",
            " \n",
            "Prev \n",
            "| Next \n",
            "| Contents \n",
            "CHAPTER VII\n",
            "A Mad Tea-Party\n",
            "              \n",
            "\n",
            "  There was a table set out under a tree in front of the house,\n",
            "and the March Hare and the Hatter were having tea at it:  a\n",
            "Dormouse was sitting between them, fast asleep, and the other two\n",
            "were using it as a c\n"
          ],
          "name": "stdout"
        }
      ]
    },
    {
      "metadata": {
        "id": "hYcsM4UtkTxL",
        "colab_type": "text"
      },
      "cell_type": "markdown",
      "source": [
        "# Frequency of Terms"
      ]
    },
    {
      "metadata": {
        "id": "-EW8yEm_kX6j",
        "colab_type": "code",
        "colab": {}
      },
      "cell_type": "code",
      "source": [
        "from collections import defaultdict\n",
        "\n",
        "def rank_words(document):\n",
        "  counter = defaultdict(int)\n",
        "  for word in document.split():\n",
        "      counter[word] += 1\n",
        "  return sorted(zip(counter.values(), counter.keys()), reverse = True)"
      ],
      "execution_count": 0,
      "outputs": []
    },
    {
      "metadata": {
        "id": "3FsSk0Dwkiaw",
        "colab_type": "code",
        "colab": {
          "base_uri": "https://localhost:8080/",
          "height": 313
        },
        "outputId": "b6d96376-d649-4f68-c7cc-406a9ed7761e"
      },
      "cell_type": "code",
      "source": [
        "ranked_raw = rank_words(example_document)\n",
        "display(ranked_raw)"
      ],
      "execution_count": 78,
      "outputs": [
        {
          "output_type": "stream",
          "text": [
            "/usr/local/lib/python3.6/dist-packages/seaborn/categorical.py:1428: FutureWarning: remove_na is deprecated and is a private function. Do not use.\n",
            "  stat_data = remove_na(group_data)\n"
          ],
          "name": "stderr"
        },
        {
          "output_type": "display_data",
          "data": {
            "image/png": "[encoded data removed]",
            "text/plain": [
              "<Figure size 432x288 with 1 Axes>"
            ]
          },
          "metadata": {
            "tags": []
          }
        }
      ]
    },
    {
      "metadata": {
        "id": "SQu7EDsspUIa",
        "colab_type": "text"
      },
      "cell_type": "markdown",
      "source": [
        "# Strip Punctuation "
      ]
    },
    {
      "metadata": {
        "id": "H2gtUIGipYA_",
        "colab_type": "code",
        "colab": {}
      },
      "cell_type": "code",
      "source": [
        "def clean(text):\n",
        "  return ' '.join(''.join(letter if ord('a') <= ord(letter.lower()) <= ord('z') or letter.isdigit() else ' ' for letter in text).split())"
      ],
      "execution_count": 0,
      "outputs": []
    },
    {
      "metadata": {
        "id": "NQv9ZD_8pqow",
        "colab_type": "code",
        "colab": {
          "base_uri": "https://localhost:8080/",
          "height": 34
        },
        "outputId": "c2654082-ba60-4715-d16b-3defb701226f"
      },
      "cell_type": "code",
      "source": [
        "clean_document = clean(example_document)\n",
        "clean_document[:100]"
      ],
      "execution_count": 80,
      "outputs": [
        {
          "output_type": "execute_result",
          "data": {
            "text/plain": [
              "'7 CHAPTER VII Prev Next Contents CHAPTER VII A Mad Tea Party There was a table set out under a tree '"
            ]
          },
          "metadata": {
            "tags": []
          },
          "execution_count": 80
        }
      ]
    },
    {
      "metadata": {
        "id": "jSa_IE5UqYoo",
        "colab_type": "text"
      },
      "cell_type": "markdown",
      "source": [
        "# Lower Case"
      ]
    },
    {
      "metadata": {
        "id": "VGt2KbRcqZ5P",
        "colab_type": "code",
        "colab": {
          "base_uri": "https://localhost:8080/",
          "height": 34
        },
        "outputId": "b6f4e479-aca1-4d03-f4e6-19c6be276fb8"
      },
      "cell_type": "code",
      "source": [
        "clean_document = clean_document.lower()\n",
        "clean_document[:100]"
      ],
      "execution_count": 81,
      "outputs": [
        {
          "output_type": "execute_result",
          "data": {
            "text/plain": [
              "'7 chapter vii prev next contents chapter vii a mad tea party there was a table set out under a tree '"
            ]
          },
          "metadata": {
            "tags": []
          },
          "execution_count": 81
        }
      ]
    },
    {
      "metadata": {
        "id": "ECTKitnotcec",
        "colab_type": "code",
        "colab": {
          "base_uri": "https://localhost:8080/",
          "height": 313
        },
        "outputId": "a98c88b6-5c3c-4396-e8cc-ffa10f0bbff2"
      },
      "cell_type": "code",
      "source": [
        "ranked_clean = rank_words(clean_document)\n",
        "display(ranked_clean)"
      ],
      "execution_count": 82,
      "outputs": [
        {
          "output_type": "stream",
          "text": [
            "/usr/local/lib/python3.6/dist-packages/seaborn/categorical.py:1428: FutureWarning: remove_na is deprecated and is a private function. Do not use.\n",
            "  stat_data = remove_na(group_data)\n"
          ],
          "name": "stderr"
        },
        {
          "output_type": "display_data",
          "data": {
            "image/png": "[encoded data removed]",
            "text/plain": [
              "<Figure size 432x288 with 1 Axes>"
            ]
          },
          "metadata": {
            "tags": []
          }
        }
      ]
    },
    {
      "metadata": {
        "id": "w9ekHDBBpuHl",
        "colab_type": "code",
        "colab": {
          "base_uri": "https://localhost:8080/",
          "height": 331
        },
        "outputId": "0fc1c4db-c9c9-429b-aa6f-adfe2bed7b9f"
      },
      "cell_type": "code",
      "source": [
        "compare(ranked_raw,ranked_clean, \"raw\", \"lower case\")"
      ],
      "execution_count": 83,
      "outputs": [
        {
          "output_type": "stream",
          "text": [
            "/usr/local/lib/python3.6/dist-packages/seaborn/categorical.py:1428: FutureWarning: remove_na is deprecated and is a private function. Do not use.\n",
            "  stat_data = remove_na(group_data)\n"
          ],
          "name": "stderr"
        },
        {
          "output_type": "display_data",
          "data": {
            "image/png": "[encoded data removed]",
            "text/plain": [
              "<Figure size 576x288 with 2 Axes>"
            ]
          },
          "metadata": {
            "tags": []
          }
        }
      ]
    },
    {
      "metadata": {
        "id": "VogWiYNRtzh4",
        "colab_type": "text"
      },
      "cell_type": "markdown",
      "source": [
        "# Split Strings"
      ]
    },
    {
      "metadata": {
        "id": "ptjMWEbq2vrs",
        "colab_type": "code",
        "colab": {
          "base_uri": "https://localhost:8080/",
          "height": 34
        },
        "outputId": "d2b58194-fdea-41fc-d148-d6a4b1041724"
      },
      "cell_type": "code",
      "source": [
        "!pip3 install wordninja"
      ],
      "execution_count": 84,
      "outputs": [
        {
          "output_type": "stream",
          "text": [
            "Requirement already satisfied: wordninja in /usr/local/lib/python3.6/dist-packages (0.1.5)\n"
          ],
          "name": "stdout"
        }
      ]
    },
    {
      "metadata": {
        "id": "oufIgFRq2tM7",
        "colab_type": "code",
        "colab": {
          "base_uri": "https://localhost:8080/",
          "height": 54
        },
        "outputId": "db145243-15d7-4d81-b7ae-807906bc312b"
      },
      "cell_type": "code",
      "source": [
        "from wordninja import split\n",
        "\n",
        "x = 'itwasadarkandstormynighttherainfellintorrentsexceptatoccasionalintervalswhenitwascheckedbyaviolentgustofwindwhichsweptupthestreetsforitisinlondonthatoursceneliesrattlingalongthehousetopsandfiercelyagitatingthescantyflameofthelampsthatstruggledagainstthedarkness'\n",
        "' '.join(split(x))"
      ],
      "execution_count": 85,
      "outputs": [
        {
          "output_type": "execute_result",
          "data": {
            "text/plain": [
              "'it was a dark and stormy night the rain fell in torrents except at occasional intervals when it was checked by a violent gust of wind which swept up the streets for it is in london that our scene lies rattling along the housetops and fiercely agitating the scanty flame of the lamps that struggled against the darkness'"
            ]
          },
          "metadata": {
            "tags": []
          },
          "execution_count": 85
        }
      ]
    },
    {
      "metadata": {
        "id": "pDnURB6h28D2",
        "colab_type": "code",
        "colab": {
          "base_uri": "https://localhost:8080/",
          "height": 313
        },
        "outputId": "02559592-a190-4b80-98d0-1979f9ac443f"
      },
      "cell_type": "code",
      "source": [
        "split_document = ' '.join(split(clean_document))\n",
        "ranked_split = rank_words(split_document)\n",
        "display(ranked_split)"
      ],
      "execution_count": 86,
      "outputs": [
        {
          "output_type": "stream",
          "text": [
            "/usr/local/lib/python3.6/dist-packages/seaborn/categorical.py:1428: FutureWarning: remove_na is deprecated and is a private function. Do not use.\n",
            "  stat_data = remove_na(group_data)\n"
          ],
          "name": "stderr"
        },
        {
          "output_type": "display_data",
          "data": {
            "image/png": "[encoded data removed]",
            "text/plain": [
              "<Figure size 432x288 with 1 Axes>"
            ]
          },
          "metadata": {
            "tags": []
          }
        }
      ]
    },
    {
      "metadata": {
        "id": "1jiHNpXL3ND8",
        "colab_type": "code",
        "colab": {
          "base_uri": "https://localhost:8080/",
          "height": 331
        },
        "outputId": "02f6f7ad-15f7-401b-b7eb-e6f0ea8f4b20"
      },
      "cell_type": "code",
      "source": [
        "compare(ranked_clean, ranked_split, \"clean\", \"split\")"
      ],
      "execution_count": 87,
      "outputs": [
        {
          "output_type": "stream",
          "text": [
            "/usr/local/lib/python3.6/dist-packages/seaborn/categorical.py:1428: FutureWarning: remove_na is deprecated and is a private function. Do not use.\n",
            "  stat_data = remove_na(group_data)\n"
          ],
          "name": "stderr"
        },
        {
          "output_type": "display_data",
          "data": {
            "image/png": "[encoded data removed]",
            "text/plain": [
              "<Figure size 576x288 with 2 Axes>"
            ]
          },
          "metadata": {
            "tags": []
          }
        }
      ]
    },
    {
      "metadata": {
        "id": "SU6K0s6q3kAa",
        "colab_type": "text"
      },
      "cell_type": "markdown",
      "source": [
        "# Stop Words"
      ]
    },
    {
      "metadata": {
        "id": "nIFrMoIA31Ez",
        "colab_type": "code",
        "colab": {
          "base_uri": "https://localhost:8080/",
          "height": 68
        },
        "outputId": "3d881757-ab97-41ef-8410-24fb16e63f6e"
      },
      "cell_type": "code",
      "source": [
        "import nltk\n",
        "nltk.download('stopwords')"
      ],
      "execution_count": 88,
      "outputs": [
        {
          "output_type": "stream",
          "text": [
            "[nltk_data] Downloading package stopwords to /root/nltk_data...\n",
            "[nltk_data]   Unzipping corpora/stopwords.zip.\n"
          ],
          "name": "stdout"
        },
        {
          "output_type": "execute_result",
          "data": {
            "text/plain": [
              "True"
            ]
          },
          "metadata": {
            "tags": []
          },
          "execution_count": 88
        }
      ]
    },
    {
      "metadata": {
        "id": "hk8l-vaS36tv",
        "colab_type": "code",
        "colab": {
          "base_uri": "https://localhost:8080/",
          "height": 34
        },
        "outputId": "8da9dea7-43c2-4932-ecf5-d47c0f3ab67a"
      },
      "cell_type": "code",
      "source": [
        "from nltk.corpus import stopwords\n",
        "stopWords = stopwords.words('english')\n",
        "stopWords[:10]"
      ],
      "execution_count": 89,
      "outputs": [
        {
          "output_type": "execute_result",
          "data": {
            "text/plain": [
              "['i', 'me', 'my', 'myself', 'we', 'our', 'ours', 'ourselves', 'you', \"you're\"]"
            ]
          },
          "metadata": {
            "tags": []
          },
          "execution_count": 89
        }
      ]
    },
    {
      "metadata": {
        "id": "-e3Unw_W4ETJ",
        "colab_type": "code",
        "colab": {
          "base_uri": "https://localhost:8080/",
          "height": 313
        },
        "outputId": "b4b59537-ea63-40b4-a616-3b90b7e8ec96"
      },
      "cell_type": "code",
      "source": [
        "nostopwords_document = ' '.join([word for word in split_document.split() if word not in stopWords])\n",
        "ranked_nostopwords = rank_words(nostopwords_document)\n",
        "display(ranked_nostopwords)"
      ],
      "execution_count": 90,
      "outputs": [
        {
          "output_type": "stream",
          "text": [
            "/usr/local/lib/python3.6/dist-packages/seaborn/categorical.py:1428: FutureWarning: remove_na is deprecated and is a private function. Do not use.\n",
            "  stat_data = remove_na(group_data)\n"
          ],
          "name": "stderr"
        },
        {
          "output_type": "display_data",
          "data": {
            "image/png": "[encoded data removed]",
            "text/plain": [
              "<Figure size 432x288 with 1 Axes>"
            ]
          },
          "metadata": {
            "tags": []
          }
        }
      ]
    },
    {
      "metadata": {
        "id": "fuZ-4FqU409-",
        "colab_type": "code",
        "colab": {
          "base_uri": "https://localhost:8080/",
          "height": 331
        },
        "outputId": "3f00d792-89e2-4523-9678-bf4947c385af"
      },
      "cell_type": "code",
      "source": [
        "compare(ranked_split,ranked_nostopwords, \"split\", \"no stop words\")"
      ],
      "execution_count": 91,
      "outputs": [
        {
          "output_type": "stream",
          "text": [
            "/usr/local/lib/python3.6/dist-packages/seaborn/categorical.py:1428: FutureWarning: remove_na is deprecated and is a private function. Do not use.\n",
            "  stat_data = remove_na(group_data)\n"
          ],
          "name": "stderr"
        },
        {
          "output_type": "display_data",
          "data": {
            "image/png": "[encoded data removed]",
            "text/plain": [
              "<Figure size 576x288 with 2 Axes>"
            ]
          },
          "metadata": {
            "tags": []
          }
        }
      ]
    },
    {
      "metadata": {
        "id": "TQIP7TAJ31mo",
        "colab_type": "text"
      },
      "cell_type": "markdown",
      "source": [
        "# N-Grams"
      ]
    },
    {
      "metadata": {
        "id": "cF16v7Cg830o",
        "colab_type": "code",
        "colab": {
          "base_uri": "https://localhost:8080/",
          "height": 34
        },
        "outputId": "9f110fab-2870-44c5-912c-3bc1abb0282f"
      },
      "cell_type": "code",
      "source": [
        "list(nltk.bigrams(\"this is a test\".split()))"
      ],
      "execution_count": 92,
      "outputs": [
        {
          "output_type": "execute_result",
          "data": {
            "text/plain": [
              "[('this', 'is'), ('is', 'a'), ('a', 'test')]"
            ]
          },
          "metadata": {
            "tags": []
          },
          "execution_count": 92
        }
      ]
    },
    {
      "metadata": {
        "id": "XEHLxP_o86eb",
        "colab_type": "code",
        "colab": {
          "base_uri": "https://localhost:8080/",
          "height": 34
        },
        "outputId": "62008fc2-ebfa-4711-9bac-152ac9d34ebf"
      },
      "cell_type": "code",
      "source": [
        "list(nltk.trigrams(\"this is a test\".split()))"
      ],
      "execution_count": 93,
      "outputs": [
        {
          "output_type": "execute_result",
          "data": {
            "text/plain": [
              "[('this', 'is', 'a'), ('is', 'a', 'test')]"
            ]
          },
          "metadata": {
            "tags": []
          },
          "execution_count": 93
        }
      ]
    },
    {
      "metadata": {
        "id": "w6UBoD8O7b_h",
        "colab_type": "code",
        "colab": {}
      },
      "cell_type": "code",
      "source": [
        "from collections import defaultdict\n",
        "import nltk\n",
        "\n",
        "def rank_ngrams(document, unigrams = True, bigrams = True, trigrams = True):\n",
        "  counter = defaultdict(int)\n",
        "  if unigrams:\n",
        "    for word in document.split():\n",
        "        counter[word] += 1\n",
        "  if bigrams:\n",
        "    for bigram in nltk.bigrams(document.split()):\n",
        "      counter[' '.join(bigram)] += 1\n",
        "  if trigrams:\n",
        "    for trigram in nltk.trigrams(document.split()):\n",
        "      counter[' '.join(trigram)] += 1\n",
        "  return sorted(zip(counter.values(), counter.keys()), reverse = True)"
      ],
      "execution_count": 0,
      "outputs": []
    },
    {
      "metadata": {
        "id": "Rbeu-PjQ7LfO",
        "colab_type": "code",
        "colab": {
          "base_uri": "https://localhost:8080/",
          "height": 313
        },
        "outputId": "2411b0aa-4ce2-4207-c626-11276cac50eb"
      },
      "cell_type": "code",
      "source": [
        "ranked_ngrams = rank_ngrams(nostopwords_document)\n",
        "display(ranked_ngrams)"
      ],
      "execution_count": 95,
      "outputs": [
        {
          "output_type": "stream",
          "text": [
            "/usr/local/lib/python3.6/dist-packages/seaborn/categorical.py:1428: FutureWarning: remove_na is deprecated and is a private function. Do not use.\n",
            "  stat_data = remove_na(group_data)\n"
          ],
          "name": "stderr"
        },
        {
          "output_type": "display_data",
          "data": {
            "image/png": "[encoded data removed]",
            "text/plain": [
              "<Figure size 432x288 with 1 Axes>"
            ]
          },
          "metadata": {
            "tags": []
          }
        }
      ]
    },
    {
      "metadata": {
        "id": "rrZzqLyl9M-u",
        "colab_type": "code",
        "colab": {
          "base_uri": "https://localhost:8080/",
          "height": 331
        },
        "outputId": "2d120593-f86b-414c-b282-f43173719bee"
      },
      "cell_type": "code",
      "source": [
        "compare(ranked_nostopwords, ranked_ngrams, method_b = \"n grams\")"
      ],
      "execution_count": 105,
      "outputs": [
        {
          "output_type": "stream",
          "text": [
            "/usr/local/lib/python3.6/dist-packages/seaborn/categorical.py:1428: FutureWarning: remove_na is deprecated and is a private function. Do not use.\n",
            "  stat_data = remove_na(group_data)\n"
          ],
          "name": "stderr"
        },
        {
          "output_type": "display_data",
          "data": {
            "image/png": "[encoded data removed]",
            "text/plain": [
              "<Figure size 576x288 with 2 Axes>"
            ]
          },
          "metadata": {
            "tags": []
          }
        }
      ]
    },
    {
      "metadata": {
        "id": "ozixvPV16BMg",
        "colab_type": "text"
      },
      "cell_type": "markdown",
      "source": [
        "# Stemming\n",
        "chopping off suffixes"
      ]
    },
    {
      "metadata": {
        "id": "n97KKi2y9g7p",
        "colab_type": "code",
        "colab": {
          "base_uri": "https://localhost:8080/",
          "height": 51
        },
        "outputId": "7cb62b0d-610a-4590-b9df-5d6dc99fbaea"
      },
      "cell_type": "code",
      "source": [
        "import nltk\n",
        "nltk.download('rslp')\n",
        "\n",
        "from nltk.stem.api import StemmerI\n",
        "from nltk.stem.regexp import RegexpStemmer\n",
        "from nltk.stem.lancaster import LancasterStemmer\n",
        "from nltk.stem.isri import ISRIStemmer\n",
        "from nltk.stem.porter import PorterStemmer\n",
        "from nltk.stem.snowball import SnowballStemmer\n",
        "from nltk.stem.rslp import RSLPStemmer\n",
        "\n",
        "stemmer_sb = SnowballStemmer(\"english\")\n",
        "stemmer_p = PorterStemmer()\n",
        "stemmer_l = LancasterStemmer()\n",
        "stemmer_regex = RegexpStemmer('ing$|s$|e$|able$|ed$|en$',min=4)\n",
        "stemmer_isri = ISRIStemmer()\n",
        "stemmer_rslp = RSLPStemmer()\n",
        "\n",
        "def get_name(model):\n",
        "  name = clean(str(model).split()[0])\n",
        "  name = ''.join([c + ' ' if d.isupper() and e.islower() else c for c,d,e in zip(name,name[1:] + '..',name[2:] + '..')])\n",
        "  return ' '.join(name.split())\n",
        "  \n",
        "def test_stemmers(Xs, Ys, stemmers = [stemmer_sb, stemmer_p, stemmer_l, stemmer_isri, stemmer_rslp, stemmer_regex]):\n",
        "  results = {\"expected\":Ys}\n",
        "  for stemmer in stemmers:\n",
        "    results[get_name(stemmer)] = [stemmer.stem(x.lower()) for x in Xs]\n",
        "  for model,words in results.items():\n",
        "    results[model].append(sum([w1.lower() == w2.lower() for w1,w2 in zip(results['expected'],words)]))  \n",
        "\n",
        "  import pandas as pd\n",
        "  df = pd.DataFrame(results)\n",
        "  df.set_index(\"expected\", inplace = True) \n",
        "  return df"
      ],
      "execution_count": 97,
      "outputs": [
        {
          "output_type": "stream",
          "text": [
            "[nltk_data] Downloading package rslp to /root/nltk_data...\n",
            "[nltk_data]   Package rslp is already up-to-date!\n"
          ],
          "name": "stdout"
        }
      ]
    },
    {
      "metadata": {
        "id": "K1blZP2vdZLU",
        "colab_type": "code",
        "colab": {
          "base_uri": "https://localhost:8080/",
          "height": 407
        },
        "outputId": "b9dd573c-18de-456a-c959-089daa105eb6"
      },
      "cell_type": "code",
      "source": [
        "example_sentence = \"Sitting while eating leaves one wondering and then googling\"\n",
        "expected_sentence = \"Sit while eat leave one wonder and then google\"\n",
        "test_stemmers(example_sentence.split(), expected_sentence.split() )"
      ],
      "execution_count": 98,
      "outputs": [
        {
          "output_type": "execute_result",
          "data": {
            "text/html": [
              "<div>\n",
              "<style scoped>\n",
              "    .dataframe tbody tr th:only-of-type {\n",
              "        vertical-align: middle;\n",
              "    }\n",
              "\n",
              "    .dataframe tbody tr th {\n",
              "        vertical-align: top;\n",
              "    }\n",
              "\n",
              "    .dataframe thead th {\n",
              "        text-align: right;\n",
              "    }\n",
              "</style>\n",
              "<table border=\"1\" class=\"dataframe\">\n",
              "  <thead>\n",
              "    <tr style=\"text-align: right;\">\n",
              "      <th></th>\n",
              "      <th>Lancaster Stemmer</th>\n",
              "      <th>Porter Stemmer</th>\n",
              "      <th>Regexp Stemmer</th>\n",
              "      <th>nltk stem isri ISRI Stemmer</th>\n",
              "      <th>nltk stem rslp RSLP Stemmer</th>\n",
              "      <th>nltk stem snowball Snowball Stemmer</th>\n",
              "    </tr>\n",
              "    <tr>\n",
              "      <th>expected</th>\n",
              "      <th></th>\n",
              "      <th></th>\n",
              "      <th></th>\n",
              "      <th></th>\n",
              "      <th></th>\n",
              "      <th></th>\n",
              "    </tr>\n",
              "  </thead>\n",
              "  <tbody>\n",
              "    <tr>\n",
              "      <th>Sit</th>\n",
              "      <td>sit</td>\n",
              "      <td>sit</td>\n",
              "      <td>sitt</td>\n",
              "      <td>sitting</td>\n",
              "      <td>sitting</td>\n",
              "      <td>sit</td>\n",
              "    </tr>\n",
              "    <tr>\n",
              "      <th>while</th>\n",
              "      <td>whil</td>\n",
              "      <td>while</td>\n",
              "      <td>whil</td>\n",
              "      <td>while</td>\n",
              "      <td>whil</td>\n",
              "      <td>while</td>\n",
              "    </tr>\n",
              "    <tr>\n",
              "      <th>eat</th>\n",
              "      <td>eat</td>\n",
              "      <td>eat</td>\n",
              "      <td>eat</td>\n",
              "      <td>eating</td>\n",
              "      <td>eating</td>\n",
              "      <td>eat</td>\n",
              "    </tr>\n",
              "    <tr>\n",
              "      <th>leave</th>\n",
              "      <td>leav</td>\n",
              "      <td>leav</td>\n",
              "      <td>leave</td>\n",
              "      <td>leaves</td>\n",
              "      <td>leav</td>\n",
              "      <td>leav</td>\n",
              "    </tr>\n",
              "    <tr>\n",
              "      <th>one</th>\n",
              "      <td>on</td>\n",
              "      <td>one</td>\n",
              "      <td>one</td>\n",
              "      <td>one</td>\n",
              "      <td>one</td>\n",
              "      <td>one</td>\n",
              "    </tr>\n",
              "    <tr>\n",
              "      <th>wonder</th>\n",
              "      <td>wond</td>\n",
              "      <td>wonder</td>\n",
              "      <td>wonder</td>\n",
              "      <td>wondering</td>\n",
              "      <td>wondering</td>\n",
              "      <td>wonder</td>\n",
              "    </tr>\n",
              "    <tr>\n",
              "      <th>and</th>\n",
              "      <td>and</td>\n",
              "      <td>and</td>\n",
              "      <td>and</td>\n",
              "      <td>and</td>\n",
              "      <td>and</td>\n",
              "      <td>and</td>\n",
              "    </tr>\n",
              "    <tr>\n",
              "      <th>then</th>\n",
              "      <td>then</td>\n",
              "      <td>then</td>\n",
              "      <td>th</td>\n",
              "      <td>then</td>\n",
              "      <td>then</td>\n",
              "      <td>then</td>\n",
              "    </tr>\n",
              "    <tr>\n",
              "      <th>google</th>\n",
              "      <td>googl</td>\n",
              "      <td>googl</td>\n",
              "      <td>googl</td>\n",
              "      <td>googling</td>\n",
              "      <td>googling</td>\n",
              "      <td>googl</td>\n",
              "    </tr>\n",
              "    <tr>\n",
              "      <th>9</th>\n",
              "      <td>4</td>\n",
              "      <td>7</td>\n",
              "      <td>5</td>\n",
              "      <td>4</td>\n",
              "      <td>3</td>\n",
              "      <td>7</td>\n",
              "    </tr>\n",
              "  </tbody>\n",
              "</table>\n",
              "</div>"
            ],
            "text/plain": [
              "         Lancaster Stemmer Porter Stemmer Regexp Stemmer  \\\n",
              "expected                                                   \n",
              "Sit                    sit            sit           sitt   \n",
              "while                 whil          while           whil   \n",
              "eat                    eat            eat            eat   \n",
              "leave                 leav           leav          leave   \n",
              "one                     on            one            one   \n",
              "wonder                wond         wonder         wonder   \n",
              "and                    and            and            and   \n",
              "then                  then           then             th   \n",
              "google               googl          googl          googl   \n",
              "9                        4              7              5   \n",
              "\n",
              "         nltk stem isri ISRI Stemmer nltk stem rslp RSLP Stemmer  \\\n",
              "expected                                                           \n",
              "Sit                          sitting                     sitting   \n",
              "while                          while                        whil   \n",
              "eat                           eating                      eating   \n",
              "leave                         leaves                        leav   \n",
              "one                              one                         one   \n",
              "wonder                     wondering                   wondering   \n",
              "and                              and                         and   \n",
              "then                            then                        then   \n",
              "google                      googling                    googling   \n",
              "9                                  4                           3   \n",
              "\n",
              "         nltk stem snowball Snowball Stemmer  \n",
              "expected                                      \n",
              "Sit                                      sit  \n",
              "while                                  while  \n",
              "eat                                      eat  \n",
              "leave                                   leav  \n",
              "one                                      one  \n",
              "wonder                                wonder  \n",
              "and                                      and  \n",
              "then                                    then  \n",
              "google                                 googl  \n",
              "9                                          7  "
            ]
          },
          "metadata": {
            "tags": []
          },
          "execution_count": 98
        }
      ]
    },
    {
      "metadata": {
        "id": "uA7mDpfYmr7I",
        "colab_type": "text"
      },
      "cell_type": "markdown",
      "source": [
        "# Lemmatising\n",
        "getting to the root of the word"
      ]
    },
    {
      "metadata": {
        "id": "ThRmSgsFd4lN",
        "colab_type": "code",
        "colab": {
          "base_uri": "https://localhost:8080/",
          "height": 51
        },
        "outputId": "6e9a1f2d-231c-41b0-ea14-0a94760682ed"
      },
      "cell_type": "code",
      "source": [
        "nltk.download('wordnet')\n",
        "\n",
        "from nltk.stem.wordnet import WordNetLemmatizer \n",
        "from spacy.lemmatizer import Lemmatizer \n",
        "\n",
        "wn_lemmatiser = WordNetLemmatizer()\n",
        "sp_lemmatiser = Lemmatizer()\n",
        "\n",
        "def test_lemmatisers(Xs, Ys):\n",
        "  lemmatiser_results = {\n",
        "      \"expected\":Ys,\n",
        "      \"NLTK\":[wn_lemmatiser.lemmatize(x.lower(),'v') for x in Xs],\n",
        "      \"Spacy\":[sp_lemmatiser(x.lower(), 'VERB')[0] for x in Xs],    \n",
        "  }\n",
        "\n",
        "  for lemmatiser,words in lemmatiser_results.items():\n",
        "    lemmatiser_results[lemmatiser].append(sum([w1.lower() == w2.lower() for w1,w2 in zip(lemmatiser_results['expected'],words)]))  \n",
        "\n",
        "  import pandas as pd\n",
        "  lemma_df = pd.DataFrame(lemmatiser_results)\n",
        "  lemma_df.set_index(\"expected\", inplace = True) \n",
        "  return lemma_df"
      ],
      "execution_count": 99,
      "outputs": [
        {
          "output_type": "stream",
          "text": [
            "[nltk_data] Downloading package wordnet to /root/nltk_data...\n",
            "[nltk_data]   Package wordnet is already up-to-date!\n"
          ],
          "name": "stdout"
        }
      ]
    },
    {
      "metadata": {
        "id": "e1pv-dQinhy0",
        "colab_type": "code",
        "colab": {
          "base_uri": "https://localhost:8080/",
          "height": 390
        },
        "outputId": "f4d6d43d-4d09-4fda-d1ec-18f30b7114a5"
      },
      "cell_type": "code",
      "source": [
        "example_sentence = \"Sitting while eating leaves one wondering and then googling\"\n",
        "expected_sentence = \"Sit while eat leave one wonder and then google\"\n",
        "test_lemmatisers(example_sentence.split(), expected_sentence.split())"
      ],
      "execution_count": 100,
      "outputs": [
        {
          "output_type": "execute_result",
          "data": {
            "text/html": [
              "<div>\n",
              "<style scoped>\n",
              "    .dataframe tbody tr th:only-of-type {\n",
              "        vertical-align: middle;\n",
              "    }\n",
              "\n",
              "    .dataframe tbody tr th {\n",
              "        vertical-align: top;\n",
              "    }\n",
              "\n",
              "    .dataframe thead th {\n",
              "        text-align: right;\n",
              "    }\n",
              "</style>\n",
              "<table border=\"1\" class=\"dataframe\">\n",
              "  <thead>\n",
              "    <tr style=\"text-align: right;\">\n",
              "      <th></th>\n",
              "      <th>NLTK</th>\n",
              "      <th>Spacy</th>\n",
              "    </tr>\n",
              "    <tr>\n",
              "      <th>expected</th>\n",
              "      <th></th>\n",
              "      <th></th>\n",
              "    </tr>\n",
              "  </thead>\n",
              "  <tbody>\n",
              "    <tr>\n",
              "      <th>Sit</th>\n",
              "      <td>sit</td>\n",
              "      <td>sitting</td>\n",
              "    </tr>\n",
              "    <tr>\n",
              "      <th>while</th>\n",
              "      <td>while</td>\n",
              "      <td>while</td>\n",
              "    </tr>\n",
              "    <tr>\n",
              "      <th>eat</th>\n",
              "      <td>eat</td>\n",
              "      <td>eating</td>\n",
              "    </tr>\n",
              "    <tr>\n",
              "      <th>leave</th>\n",
              "      <td>leave</td>\n",
              "      <td>leaves</td>\n",
              "    </tr>\n",
              "    <tr>\n",
              "      <th>one</th>\n",
              "      <td>one</td>\n",
              "      <td>one</td>\n",
              "    </tr>\n",
              "    <tr>\n",
              "      <th>wonder</th>\n",
              "      <td>wonder</td>\n",
              "      <td>wondering</td>\n",
              "    </tr>\n",
              "    <tr>\n",
              "      <th>and</th>\n",
              "      <td>and</td>\n",
              "      <td>and</td>\n",
              "    </tr>\n",
              "    <tr>\n",
              "      <th>then</th>\n",
              "      <td>then</td>\n",
              "      <td>then</td>\n",
              "    </tr>\n",
              "    <tr>\n",
              "      <th>google</th>\n",
              "      <td>google</td>\n",
              "      <td>googling</td>\n",
              "    </tr>\n",
              "    <tr>\n",
              "      <th>9</th>\n",
              "      <td>9</td>\n",
              "      <td>4</td>\n",
              "    </tr>\n",
              "  </tbody>\n",
              "</table>\n",
              "</div>"
            ],
            "text/plain": [
              "            NLTK      Spacy\n",
              "expected                   \n",
              "Sit          sit    sitting\n",
              "while      while      while\n",
              "eat          eat     eating\n",
              "leave      leave     leaves\n",
              "one          one        one\n",
              "wonder    wonder  wondering\n",
              "and          and        and\n",
              "then        then       then\n",
              "google    google   googling\n",
              "9              9          4"
            ]
          },
          "metadata": {
            "tags": []
          },
          "execution_count": 100
        }
      ]
    },
    {
      "metadata": {
        "id": "ToSiET8ktXjx",
        "colab_type": "code",
        "colab": {
          "base_uri": "https://localhost:8080/",
          "height": 313
        },
        "outputId": "85262283-81d8-4085-a49f-adfbd93ef5b7"
      },
      "cell_type": "code",
      "source": [
        "lemmatised_document = ' '.join([wn_lemmatiser.lemmatize(word,'v') for word in nostopwords_document.split()])\n",
        "ranked_lemma = rank_ngrams(lemmatised_document)\n",
        "display(ranked_lemma)"
      ],
      "execution_count": 102,
      "outputs": [
        {
          "output_type": "stream",
          "text": [
            "/usr/local/lib/python3.6/dist-packages/seaborn/categorical.py:1428: FutureWarning: remove_na is deprecated and is a private function. Do not use.\n",
            "  stat_data = remove_na(group_data)\n"
          ],
          "name": "stderr"
        },
        {
          "output_type": "display_data",
          "data": {
            "image/png": "[encoded data removed]",
            "text/plain": [
              "<Figure size 432x288 with 1 Axes>"
            ]
          },
          "metadata": {
            "tags": []
          }
        }
      ]
    },
    {
      "metadata": {
        "id": "xE4GRdmUuE38",
        "colab_type": "code",
        "colab": {
          "base_uri": "https://localhost:8080/",
          "height": 331
        },
        "outputId": "0185d99c-54dc-48a4-99b8-962a76941490"
      },
      "cell_type": "code",
      "source": [
        "compare(ranked_ngrams, ranked_lemma,'pre-lemmatisation', 'post-lemmatisation')"
      ],
      "execution_count": 106,
      "outputs": [
        {
          "output_type": "stream",
          "text": [
            "/usr/local/lib/python3.6/dist-packages/seaborn/categorical.py:1428: FutureWarning: remove_na is deprecated and is a private function. Do not use.\n",
            "  stat_data = remove_na(group_data)\n"
          ],
          "name": "stderr"
        },
        {
          "output_type": "display_data",
          "data": {
            "image/png": "[encoded data removed]",
            "text/plain": [
              "<Figure size 576x288 with 2 Axes>"
            ]
          },
          "metadata": {
            "tags": []
          }
        }
      ]
    },
    {
      "metadata": {
        "id": "3w2U1AKY6vWl",
        "colab_type": "text"
      },
      "cell_type": "markdown",
      "source": [
        "# Tf-Idf"
      ]
    },
    {
      "metadata": {
        "id": "3Wqip1YtvQL4",
        "colab_type": "code",
        "colab": {}
      },
      "cell_type": "code",
      "source": [
        "alice_wonderland_12chapters = [scrape(f\"http://www.literatureproject.com/alice/alice_{i}.htm\") for i in range(1,13)]"
      ],
      "execution_count": 0,
      "outputs": []
    },
    {
      "metadata": {
        "id": "BuoBpF9Ov1iq",
        "colab_type": "code",
        "colab": {
          "base_uri": "https://localhost:8080/",
          "height": 34
        },
        "outputId": "f1c9332c-4d74-4781-d731-537d8770a05b"
      },
      "cell_type": "code",
      "source": [
        "alice_wonderland_12chapters[6][:100]"
      ],
      "execution_count": 124,
      "outputs": [
        {
          "output_type": "execute_result",
          "data": {
            "text/plain": [
              "'7 : CHAPTER VII\\n\\n\\n\\xa0\\nPrev \\n| Next \\n| Contents \\nCHAPTER VII\\nA Mad Tea-Party\\n              \\n\\n\\xa0\\xa0There wa'"
            ]
          },
          "metadata": {
            "tags": []
          },
          "execution_count": 124
        }
      ]
    },
    {
      "metadata": {
        "id": "tzXhwemp6uxI",
        "colab_type": "code",
        "colab": {
          "base_uri": "https://localhost:8080/",
          "height": 51
        },
        "outputId": "e2679c34-5b97-4640-e575-0a02d2d14319"
      },
      "cell_type": "code",
      "source": [
        "from sklearn.feature_extraction.text import TfidfVectorizer\n",
        "\n",
        "def rank_tfidf(document, tfidf):\n",
        "  feature_names = tfidf.get_feature_names()\n",
        "  response = tfidf.transform([document])\n",
        "  tfs = {feature_names[col] : response[0, col]  for col in response.nonzero()[1]}\n",
        "  return sorted(zip(tfs.values(), tfs.keys()), reverse = True)\n",
        "\n",
        "tfidf = TfidfVectorizer(stop_words = 'english', ngram_range = (1,3))\n",
        "tfidf.fit_transform(alice_wonderland_12chapters)"
      ],
      "execution_count": 117,
      "outputs": [
        {
          "output_type": "execute_result",
          "data": {
            "text/plain": [
              "<12x22016 sparse matrix of type '<class 'numpy.float64'>'\n",
              "\twith 27077 stored elements in Compressed Sparse Row format>"
            ]
          },
          "metadata": {
            "tags": []
          },
          "execution_count": 117
        }
      ]
    },
    {
      "metadata": {
        "id": "Q8aHKZF6wUY9",
        "colab_type": "code",
        "colab": {
          "base_uri": "https://localhost:8080/",
          "height": 313
        },
        "outputId": "94541908-933c-46d8-c570-657efe6f7146"
      },
      "cell_type": "code",
      "source": [
        "ranked_tfidf = rank_tfidf(example_document, tfidf)\n",
        "display(ranked_tfidf)"
      ],
      "execution_count": 136,
      "outputs": [
        {
          "output_type": "stream",
          "text": [
            "/usr/local/lib/python3.6/dist-packages/seaborn/categorical.py:1428: FutureWarning: remove_na is deprecated and is a private function. Do not use.\n",
            "  stat_data = remove_na(group_data)\n"
          ],
          "name": "stderr"
        },
        {
          "output_type": "display_data",
          "data": {
            "image/png": "[encoded data removed]",
            "text/plain": [
              "<Figure size 432x288 with 1 Axes>"
            ]
          },
          "metadata": {
            "tags": []
          }
        }
      ]
    },
    {
      "metadata": {
        "id": "JJKmmnVfxSKB",
        "colab_type": "code",
        "colab": {
          "base_uri": "https://localhost:8080/",
          "height": 331
        },
        "outputId": "056ebf3a-c4b8-49c1-97ff-e58799e6b33d"
      },
      "cell_type": "code",
      "source": [
        "max_freq = max(ranked_ngrams)[0] * 3\n",
        "scaled_tfidf = [(freq*max_freq,word) for freq,word in ranked_tfidf]\n",
        "compare(ranked_ngrams, scaled_tfidf, \"pre-tfidf\", \"post-tfidf\")"
      ],
      "execution_count": 134,
      "outputs": [
        {
          "output_type": "stream",
          "text": [
            "/usr/local/lib/python3.6/dist-packages/seaborn/categorical.py:1428: FutureWarning: remove_na is deprecated and is a private function. Do not use.\n",
            "  stat_data = remove_na(group_data)\n"
          ],
          "name": "stderr"
        },
        {
          "output_type": "display_data",
          "data": {
            "image/png": "[encoded data removed]",
            "text/plain": [
              "<Figure size 576x288 with 2 Axes>"
            ]
          },
          "metadata": {
            "tags": []
          }
        }
      ]
    },
    {
      "metadata": {
        "id": "cwsmn5Q0tTNm",
        "colab_type": "text"
      },
      "cell_type": "markdown",
      "source": [
        "# Fuzzy String Matching"
      ]
    },
    {
      "metadata": {
        "id": "ga8E7OIc1hh6",
        "colab_type": "text"
      },
      "cell_type": "markdown",
      "source": [
        "useful for typos"
      ]
    },
    {
      "metadata": {
        "id": "qFi3u5prvSjX",
        "colab_type": "text"
      },
      "cell_type": "markdown",
      "source": [
        "# Word Vectors"
      ]
    },
    {
      "metadata": {
        "id": "KpRDNCy81jLW",
        "colab_type": "text"
      },
      "cell_type": "markdown",
      "source": [
        "useful for extracting meaning"
      ]
    }
  ]
}