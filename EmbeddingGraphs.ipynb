{
  "nbformat": 4,
  "nbformat_minor": 0,
  "metadata": {
    "colab": {
      "name": "EmbeddingGraphs.ipynb",
      "provenance": [],
      "collapsed_sections": [],
      "authorship_tag": "ABX9TyNG2aXpWlI56Omkiw46b+Ng",
      "include_colab_link": true
    },
    "kernelspec": {
      "name": "python3",
      "display_name": "Python 3"
    }
  },
  "cells": [
    {
      "cell_type": "markdown",
      "metadata": {
        "id": "view-in-github",
        "colab_type": "text"
      },
      "source": [
        "<a href=\"https://colab.research.google.com/github/mohammedterry/NLP_for_ML/blob/master/EmbeddingGraphs.ipynb\" target=\"_parent\"><img src=\"https://colab.research.google.com/assets/colab-badge.svg\" alt=\"Open In Colab\"/></a>"
      ]
    },
    {
      "cell_type": "markdown",
      "metadata": {
        "id": "beZU9Z-uAilb",
        "colab_type": "text"
      },
      "source": [
        "## Util Functions"
      ]
    },
    {
      "cell_type": "code",
      "metadata": {
        "id": "JVnXsF_6qmW0",
        "colab_type": "code",
        "colab": {}
      },
      "source": [
        "from sklearn.decomposition import PCA\n",
        "from seaborn import set_style, regplot\n",
        "from pandas import DataFrame\n",
        "\n",
        "def plot_graph(vectors:List[List[int]], labels:List[str]) -> None:\n",
        "  \"\"\" \n",
        "  a labelled 2D plot of graph embeddings \n",
        "  (pca used to reduce vector dimensions) \n",
        "  \"\"\"\n",
        "\n",
        "  pca = PCA(n_components=2)  \n",
        "  set_style(\"whitegrid\")\n",
        "  \n",
        "  data = DataFrame(\n",
        "    data = pca.fit_transform(vectors), \n",
        "    columns = ['x_coordinate','y_coordinate']\n",
        "  )\n",
        "  graph=regplot(\n",
        "      data=data, \n",
        "      x=\"x_coordinate\", \n",
        "      y=\"y_coordinate\", \n",
        "      fit_reg=False, \n",
        "      marker=\"+\"\n",
        "  )\n",
        "\n",
        "  adjusted_x_coordinates = []\n",
        "  offsets = {}\n",
        "  for x in data['x_coordinate']:\n",
        "    x = round(x,2)\n",
        "    if x in offsets:\n",
        "      offsets[x] += .1\n",
        "    else:\n",
        "      offsets[x] = 0\n",
        "    adjusted_x_coordinates.append(x + offsets[x])\n",
        "\n",
        "  [\n",
        "   graph.text(*xylabel) for xylabel in zip(\n",
        "      adjusted_x_coordinates,\n",
        "      data['y_coordinate'],\n",
        "      labels\n",
        "    )\n",
        "  ]\n"
      ],
      "execution_count": 0,
      "outputs": []
    },
    {
      "cell_type": "code",
      "metadata": {
        "id": "HHCflNY0n9UB",
        "colab_type": "code",
        "colab": {
          "base_uri": "https://localhost:8080/",
          "height": 34
        },
        "outputId": "2e8dc177-e726-4c54-a7b1-b12a3c7058b2"
      },
      "source": [
        "from typing import List, Set\n",
        "def one_hot_encoding(indexes:Set[int], vector_length:int) -> List[int]:\n",
        "  return list(map(lambda index: int(index in indexes), range(vector_length)))\n",
        "\n",
        "one_hot_encoding(indexes={2,5},vector_length=10)"
      ],
      "execution_count": 35,
      "outputs": [
        {
          "output_type": "execute_result",
          "data": {
            "text/plain": [
              "[0, 0, 1, 0, 0, 1, 0, 0, 0, 0]"
            ]
          },
          "metadata": {
            "tags": []
          },
          "execution_count": 35
        }
      ]
    },
    {
      "cell_type": "code",
      "metadata": {
        "id": "-DpbBu4rGbEE",
        "colab_type": "code",
        "colab": {}
      },
      "source": [
        "from networkx import Graph, draw\n",
        "\n",
        "def create_graph(connections:List[int]) -> Graph:\n",
        "  graph = Graph()\n",
        "  for start_node,end_nodes in enumerate(connections):\n",
        "    if not isinstance(end_nodes,list):\n",
        "      end_nodes = [end_nodes]\n",
        "    for end_node in end_nodes:\n",
        "      graph.add_edge(start_node,end_node)\n",
        "    \n",
        "  draw(graph, with_labels=True)\n",
        "  return graph"
      ],
      "execution_count": 0,
      "outputs": []
    },
    {
      "cell_type": "markdown",
      "metadata": {
        "id": "BJM9iCrCAxax",
        "colab_type": "text"
      },
      "source": [
        "# An Example Graph"
      ]
    },
    {
      "cell_type": "code",
      "metadata": {
        "id": "-Vebjg7cAwKn",
        "colab_type": "code",
        "colab": {
          "base_uri": "https://localhost:8080/",
          "height": 319
        },
        "outputId": "f970388a-391c-4b64-c197-1e21c0743a04"
      },
      "source": [
        "graph1 = create_graph(connections = [0, 0, 1, 0, 0, 0, 2, 2, 2])"
      ],
      "execution_count": 224,
      "outputs": [
        {
          "output_type": "display_data",
          "data": {
            "image/png": "[encoded data removed]",
            "text/plain": [
              "<Figure size 432x288 with 1 Axes>"
            ]
          },
          "metadata": {
            "tags": []
          }
        }
      ]
    },
    {
      "cell_type": "code",
      "metadata": {
        "id": "xWfK_Q8zFI9a",
        "colab_type": "code",
        "colab": {
          "base_uri": "https://localhost:8080/",
          "height": 319
        },
        "outputId": "ddc273ef-7101-4dbf-ecd3-5310fdbe5d64"
      },
      "source": [
        "graph2 = create_graph(connections = [1,2,3,4,5,6,7,[2,3]])"
      ],
      "execution_count": 230,
      "outputs": [
        {
          "output_type": "display_data",
          "data": {
            "image/png": "[encoded data removed]",
            "text/plain": [
              "<Figure size 432x288 with 1 Axes>"
            ]
          },
          "metadata": {
            "tags": []
          }
        }
      ]
    },
    {
      "cell_type": "markdown",
      "metadata": {
        "id": "EdmN6v9CCc6E",
        "colab_type": "text"
      },
      "source": [
        "# Graph Embedding (Edges)"
      ]
    },
    {
      "cell_type": "code",
      "metadata": {
        "id": "XWAWY19YDFdv",
        "colab_type": "code",
        "colab": {}
      },
      "source": [
        "def create_vectors_from_edges(graph:Graph) -> List[List[int]]:\n",
        "  return [\n",
        "    [\n",
        "      int(node in edge) for edge in graph.edges\n",
        "    ]  for node in graph.nodes\n",
        "  ]"
      ],
      "execution_count": 0,
      "outputs": []
    },
    {
      "cell_type": "code",
      "metadata": {
        "id": "TMqDBe9hHO-j",
        "colab_type": "code",
        "colab": {
          "base_uri": "https://localhost:8080/",
          "height": 170
        },
        "outputId": "a52f3cfc-a1d0-4cc4-bc83-4d3d417b4dd1"
      },
      "source": [
        "create_vectors_from_edges(graph1)"
      ],
      "execution_count": 234,
      "outputs": [
        {
          "output_type": "execute_result",
          "data": {
            "text/plain": [
              "[[1, 1, 1, 1, 1, 0, 0, 0, 0],\n",
              " [0, 1, 0, 0, 0, 1, 0, 0, 0],\n",
              " [0, 0, 0, 0, 0, 1, 1, 1, 1],\n",
              " [0, 0, 1, 0, 0, 0, 0, 0, 0],\n",
              " [0, 0, 0, 1, 0, 0, 0, 0, 0],\n",
              " [0, 0, 0, 0, 1, 0, 0, 0, 0],\n",
              " [0, 0, 0, 0, 0, 0, 1, 0, 0],\n",
              " [0, 0, 0, 0, 0, 0, 0, 1, 0],\n",
              " [0, 0, 0, 0, 0, 0, 0, 0, 1]]"
            ]
          },
          "metadata": {
            "tags": []
          },
          "execution_count": 234
        }
      ]
    },
    {
      "cell_type": "code",
      "metadata": {
        "id": "akf9eOa_DwHx",
        "colab_type": "code",
        "colab": {
          "base_uri": "https://localhost:8080/",
          "height": 280
        },
        "outputId": "abde32e7-2625-484a-a6dc-681cfa14b78d"
      },
      "source": [
        "plot_graph(\n",
        "  vectors = create_vectors_from_edges(graph1),\n",
        "  labels = map(str,range(len(graph1.nodes)))\n",
        ")"
      ],
      "execution_count": 236,
      "outputs": [
        {
          "output_type": "display_data",
          "data": {
            "image/png": "[encoded data removed]",
            "text/plain": [
              "<Figure size 432x288 with 1 Axes>"
            ]
          },
          "metadata": {
            "tags": []
          }
        }
      ]
    },
    {
      "cell_type": "code",
      "metadata": {
        "id": "nlpqD2DqHaUT",
        "colab_type": "code",
        "colab": {
          "base_uri": "https://localhost:8080/",
          "height": 283
        },
        "outputId": "697277c0-636b-45f3-b4ff-7f0ec145917e"
      },
      "source": [
        "plot_graph(\n",
        "  vectors = create_vectors_from_edges(graph2),\n",
        "  labels = map(str,range(len(graph2.nodes)))\n",
        ")"
      ],
      "execution_count": 237,
      "outputs": [
        {
          "output_type": "display_data",
          "data": {
            "image/png": "[encoded data removed]",
            "text/plain": [
              "<Figure size 432x288 with 1 Axes>"
            ]
          },
          "metadata": {
            "tags": []
          }
        }
      ]
    },
    {
      "cell_type": "markdown",
      "metadata": {
        "id": "FKdwaZ9jgVcf",
        "colab_type": "text"
      },
      "source": [
        "# Graph Embedding (Adjacent Nodes)"
      ]
    },
    {
      "cell_type": "code",
      "metadata": {
        "id": "CbbYAyyAgRdU",
        "colab_type": "code",
        "colab": {}
      },
      "source": [
        "def create_vectors_from_adjacent_nodes(graph:Graph) -> List[List[int]]:\n",
        "  adjacent_nodes = [\n",
        "    set(graph[node_id].keys()) | {node_id} for node_id in graph.nodes\n",
        "  ]\n",
        "  return list(\n",
        "    map(\n",
        "      lambda neighbours: one_hot_encoding(\n",
        "          indexes=neighbours, \n",
        "          vector_length=len(graph.nodes)\n",
        "      ), \n",
        "      adjacent_nodes\n",
        "    )\n",
        "  )"
      ],
      "execution_count": 0,
      "outputs": []
    },
    {
      "cell_type": "code",
      "metadata": {
        "id": "UcpLD64mpXOU",
        "colab_type": "code",
        "colab": {
          "base_uri": "https://localhost:8080/",
          "height": 170
        },
        "outputId": "bda76b70-ebb8-40b7-acb2-83537a568e97"
      },
      "source": [
        "create_vectors_from_adjacent_nodes(graph1)"
      ],
      "execution_count": 239,
      "outputs": [
        {
          "output_type": "execute_result",
          "data": {
            "text/plain": [
              "[[1, 1, 0, 1, 1, 1, 0, 0, 0],\n",
              " [1, 1, 1, 0, 0, 0, 0, 0, 0],\n",
              " [0, 1, 1, 0, 0, 0, 1, 1, 1],\n",
              " [1, 0, 0, 1, 0, 0, 0, 0, 0],\n",
              " [1, 0, 0, 0, 1, 0, 0, 0, 0],\n",
              " [1, 0, 0, 0, 0, 1, 0, 0, 0],\n",
              " [0, 0, 1, 0, 0, 0, 1, 0, 0],\n",
              " [0, 0, 1, 0, 0, 0, 0, 1, 0],\n",
              " [0, 0, 1, 0, 0, 0, 0, 0, 1]]"
            ]
          },
          "metadata": {
            "tags": []
          },
          "execution_count": 239
        }
      ]
    },
    {
      "cell_type": "code",
      "metadata": {
        "id": "W0REnnPptkkR",
        "colab_type": "code",
        "colab": {
          "base_uri": "https://localhost:8080/",
          "height": 280
        },
        "outputId": "9201c014-04ef-4cd9-f117-147c5aa06a64"
      },
      "source": [
        "plot_graph(\n",
        "  vectors = create_vectors_from_adjacent_nodes(graph1),\n",
        "  labels = map(str,range(len(graph1.nodes)))\n",
        ")"
      ],
      "execution_count": 240,
      "outputs": [
        {
          "output_type": "display_data",
          "data": {
            "image/png": "[encoded data removed]",
            "text/plain": [
              "<Figure size 432x288 with 1 Axes>"
            ]
          },
          "metadata": {
            "tags": []
          }
        }
      ]
    },
    {
      "cell_type": "code",
      "metadata": {
        "id": "H6m92fLZIV5x",
        "colab_type": "code",
        "colab": {
          "base_uri": "https://localhost:8080/",
          "height": 280
        },
        "outputId": "47c8df4a-aba8-41e7-c749-2091e21e3bb2"
      },
      "source": [
        "plot_graph(\n",
        "  vectors = create_vectors_from_adjacent_nodes(graph2),\n",
        "  labels = map(str,range(len(graph2.nodes)))\n",
        ")"
      ],
      "execution_count": 241,
      "outputs": [
        {
          "output_type": "display_data",
          "data": {
            "image/png": "[encoded data removed]",
            "text/plain": [
              "<Figure size 432x288 with 1 Axes>"
            ]
          },
          "metadata": {
            "tags": []
          }
        }
      ]
    },
    {
      "cell_type": "markdown",
      "metadata": {
        "id": "CS1dUlp4VpEL",
        "colab_type": "text"
      },
      "source": [
        "# Graph Embedding (All Nodes)"
      ]
    },
    {
      "cell_type": "code",
      "metadata": {
        "id": "pAZcj9lzVsVf",
        "colab_type": "code",
        "colab": {}
      },
      "source": [
        "from networkx import shortest_path_length\n",
        "from math import exp\n",
        "\n",
        "def sigmoid(x:float) -> float:\n",
        "  return 1 / (1 + exp(-x))\n",
        "\n",
        "def create_vectors_from_all_nodes(graph:Graph) -> List[List[int]]:\n",
        "  return [\n",
        "    [\n",
        "      sigmoid(shortest_path_length(graph, node_start, node_end)) for node_end in graph.nodes\n",
        "    ] for node_start in graph.nodes\n",
        "  ]"
      ],
      "execution_count": 0,
      "outputs": []
    },
    {
      "cell_type": "code",
      "metadata": {
        "id": "KPJNhh4YXP05",
        "colab_type": "code",
        "colab": {
          "base_uri": "https://localhost:8080/",
          "height": 850
        },
        "outputId": "9202bbb1-1c2a-47ce-a5fb-c6107635de32"
      },
      "source": [
        "create_vectors_from_all_nodes(graph2)"
      ],
      "execution_count": 204,
      "outputs": [
        {
          "output_type": "execute_result",
          "data": {
            "text/plain": [
              "[[0.5,\n",
              "  0.7310585786300049,\n",
              "  0.8807970779778823,\n",
              "  0.9525741268224334,\n",
              "  0.9820137900379085,\n",
              "  0.9820137900379085,\n",
              "  0.9525741268224334],\n",
              " [0.7310585786300049,\n",
              "  0.5,\n",
              "  0.7310585786300049,\n",
              "  0.8807970779778823,\n",
              "  0.9525741268224334,\n",
              "  0.9525741268224334,\n",
              "  0.8807970779778823],\n",
              " [0.8807970779778823,\n",
              "  0.7310585786300049,\n",
              "  0.5,\n",
              "  0.7310585786300049,\n",
              "  0.8807970779778823,\n",
              "  0.8807970779778823,\n",
              "  0.7310585786300049],\n",
              " [0.9525741268224334,\n",
              "  0.8807970779778823,\n",
              "  0.7310585786300049,\n",
              "  0.5,\n",
              "  0.7310585786300049,\n",
              "  0.8807970779778823,\n",
              "  0.8807970779778823],\n",
              " [0.9820137900379085,\n",
              "  0.9525741268224334,\n",
              "  0.8807970779778823,\n",
              "  0.7310585786300049,\n",
              "  0.5,\n",
              "  0.7310585786300049,\n",
              "  0.8807970779778823],\n",
              " [0.9820137900379085,\n",
              "  0.9525741268224334,\n",
              "  0.8807970779778823,\n",
              "  0.8807970779778823,\n",
              "  0.7310585786300049,\n",
              "  0.5,\n",
              "  0.7310585786300049],\n",
              " [0.9525741268224334,\n",
              "  0.8807970779778823,\n",
              "  0.7310585786300049,\n",
              "  0.8807970779778823,\n",
              "  0.8807970779778823,\n",
              "  0.7310585786300049,\n",
              "  0.5]]"
            ]
          },
          "metadata": {
            "tags": []
          },
          "execution_count": 204
        }
      ]
    },
    {
      "cell_type": "code",
      "metadata": {
        "id": "2pTk3wYvXafw",
        "colab_type": "code",
        "colab": {
          "base_uri": "https://localhost:8080/",
          "height": 280
        },
        "outputId": "fd8370e5-8cff-40f5-d7a4-a3da35117299"
      },
      "source": [
        "plot_graph(\n",
        "  vectors = create_vectors_from_all_nodes(graph1),\n",
        "  labels = map(str,range(len(graph1.nodes)))\n",
        ")"
      ],
      "execution_count": 242,
      "outputs": [
        {
          "output_type": "display_data",
          "data": {
            "image/png": "[encoded data removed]",
            "text/plain": [
              "<Figure size 432x288 with 1 Axes>"
            ]
          },
          "metadata": {
            "tags": []
          }
        }
      ]
    },
    {
      "cell_type": "code",
      "metadata": {
        "id": "3kkN3DG9Xf9c",
        "colab_type": "code",
        "colab": {
          "base_uri": "https://localhost:8080/",
          "height": 284
        },
        "outputId": "c25b9301-108b-4efc-971a-c21be569b5d7"
      },
      "source": [
        "plot_graph(\n",
        "  vectors = create_vectors_from_all_nodes(graph2),\n",
        "  labels = map(str,range(len(graph2.nodes)))\n",
        ")"
      ],
      "execution_count": 243,
      "outputs": [
        {
          "output_type": "display_data",
          "data": {
            "image/png": "[encoded data removed]",
            "text/plain": [
              "<Figure size 432x288 with 1 Axes>"
            ]
          },
          "metadata": {
            "tags": []
          }
        }
      ]
    },
    {
      "cell_type": "markdown",
      "metadata": {
        "id": "jWE8_INvBcXT",
        "colab_type": "text"
      },
      "source": [
        "# Graph Embedding (Random-Walk)"
      ]
    },
    {
      "cell_type": "code",
      "metadata": {
        "id": "V506Hz0XNovF",
        "colab_type": "code",
        "colab": {}
      },
      "source": [
        "from random import choice\n",
        "\n",
        "def random_walk(node:int,steps:int, graph:Graph) -> List[str]:\n",
        "  path = []\n",
        "  for _ in range(steps):\n",
        "    path.append(str(node))\n",
        "    adjacent_nodes = list(graph[node])\n",
        "    node = choice(adjacent_nodes)\n",
        "  return path"
      ],
      "execution_count": 0,
      "outputs": []
    },
    {
      "cell_type": "code",
      "metadata": {
        "id": "JLYylFlPQUvl",
        "colab_type": "code",
        "colab": {
          "base_uri": "https://localhost:8080/",
          "height": 323
        },
        "outputId": "47ac7436-9d18-42c9-95da-ab7689063ee1"
      },
      "source": [
        "def generate_training_set(graph:Graph, random_walk_repeats:int, random_walk_path_length:int) -> List[List[str]]:\n",
        "  return [\n",
        "    random_walk(\n",
        "      node = node,\n",
        "      steps = random_walk_path_length,\n",
        "      graph = graph\n",
        "    ) for node in graph.nodes for _ in range(random_walk_repeats)\n",
        "  ]\n",
        "generate_training_set(graph1,2,10)"
      ],
      "execution_count": 167,
      "outputs": [
        {
          "output_type": "execute_result",
          "data": {
            "text/plain": [
              "[['0', '1', '2', '7', '2', '7', '2', '7', '2', '8'],\n",
              " ['0', '4', '0', '1', '0', '0', '4', '0', '5', '0'],\n",
              " ['1', '2', '6', '2', '6', '2', '8', '2', '8', '2'],\n",
              " ['1', '0', '0', '4', '0', '4', '0', '0', '4', '0'],\n",
              " ['2', '7', '2', '1', '2', '8', '2', '8', '2', '1'],\n",
              " ['2', '8', '2', '8', '2', '6', '2', '8', '2', '1'],\n",
              " ['3', '0', '0', '4', '0', '1', '2', '7', '2', '7'],\n",
              " ['3', '0', '3', '0', '4', '0', '5', '0', '5', '0'],\n",
              " ['4', '0', '3', '0', '4', '0', '5', '0', '4', '0'],\n",
              " ['4', '0', '1', '2', '8', '2', '8', '2', '6', '2'],\n",
              " ['5', '0', '3', '0', '1', '0', '3', '0', '0', '4'],\n",
              " ['5', '0', '4', '0', '5', '0', '0', '3', '0', '4'],\n",
              " ['6', '2', '8', '2', '6', '2', '1', '2', '7', '2'],\n",
              " ['6', '2', '6', '2', '1', '2', '8', '2', '7', '2'],\n",
              " ['7', '2', '8', '2', '8', '2', '6', '2', '1', '2'],\n",
              " ['7', '2', '1', '0', '0', '1', '0', '5', '0', '0'],\n",
              " ['8', '2', '1', '2', '7', '2', '1', '2', '6', '2'],\n",
              " ['8', '2', '1', '2', '7', '2', '1', '0', '3', '0']]"
            ]
          },
          "metadata": {
            "tags": []
          },
          "execution_count": 167
        }
      ]
    },
    {
      "cell_type": "code",
      "metadata": {
        "id": "0RGgjLI9SECp",
        "colab_type": "code",
        "colab": {}
      },
      "source": [
        "from gensim.models import Word2Vec\n",
        "\n",
        "def create_vectors_from_random_walks(graph:Graph) -> List[List[float]]:\n",
        "  skipgram_model = Word2Vec()\n",
        "  Word2Vec(window = 4, sg = 1, hs = 0,negative = 10, alpha=.03, min_alpha=.0007, seed = 14)\n",
        "  training_set_for_graph = generate_training_set(graph,30,40)\n",
        "  skipgram_model.build_vocab(training_set_for_graph, progress_per=2)\n",
        "  skipgram_model.train(\n",
        "    training_set_for_graph, \n",
        "    total_examples = skipgram_model.corpus_count, \n",
        "    epochs=20, \n",
        "    report_delay=1\n",
        "  )\n",
        "  return skipgram_model[list(map(str,graph.nodes))]"
      ],
      "execution_count": 0,
      "outputs": []
    },
    {
      "cell_type": "code",
      "metadata": {
        "id": "NivCSigiVHk8",
        "colab_type": "code",
        "colab": {
          "base_uri": "https://localhost:8080/",
          "height": 334
        },
        "outputId": "3be62370-d904-4b1d-ecb5-d3570d95003b"
      },
      "source": [
        "plot_graph(\n",
        "  vectors = create_vectors_from_random_walks(graph1),\n",
        "  labels = map(str,range(len(graph1.nodes)))\n",
        ")"
      ],
      "execution_count": 250,
      "outputs": [
        {
          "output_type": "stream",
          "text": [
            "/usr/local/lib/python3.6/dist-packages/ipykernel_launcher.py:14: DeprecationWarning: Call to deprecated `__getitem__` (Method will be removed in 4.0.0, use self.wv.__getitem__() instead).\n",
            "  \n"
          ],
          "name": "stderr"
        },
        {
          "output_type": "display_data",
          "data": {
            "image/png": "[encoded data removed]",
            "text/plain": [
              "<Figure size 432x288 with 1 Axes>"
            ]
          },
          "metadata": {
            "tags": []
          }
        }
      ]
    },
    {
      "cell_type": "code",
      "metadata": {
        "id": "t8goajo4VPVj",
        "colab_type": "code",
        "colab": {
          "base_uri": "https://localhost:8080/",
          "height": 334
        },
        "outputId": "71980d26-6b76-4d82-cb38-eccc4f61c96d"
      },
      "source": [
        "plot_graph(\n",
        "  vectors = create_vectors_from_random_walks(graph2),\n",
        "  labels = map(str,range(len(graph2.nodes)))\n",
        ")"
      ],
      "execution_count": 251,
      "outputs": [
        {
          "output_type": "stream",
          "text": [
            "/usr/local/lib/python3.6/dist-packages/ipykernel_launcher.py:14: DeprecationWarning: Call to deprecated `__getitem__` (Method will be removed in 4.0.0, use self.wv.__getitem__() instead).\n",
            "  \n"
          ],
          "name": "stderr"
        },
        {
          "output_type": "display_data",
          "data": {
            "image/png": "[encoded data removed]",
            "text/plain": [
              "<Figure size 432x288 with 1 Axes>"
            ]
          },
          "metadata": {
            "tags": []
          }
        }
      ]
    },
    {
      "cell_type": "markdown",
      "metadata": {
        "id": "8J2oYWmpckrd",
        "colab_type": "text"
      },
      "source": [
        "### Node2Vec"
      ]
    },
    {
      "cell_type": "code",
      "metadata": {
        "id": "9SABV6gbbu6M",
        "colab_type": "code",
        "colab": {
          "base_uri": "https://localhost:8080/",
          "height": 666
        },
        "outputId": "bc270eb1-4598-4645-cef1-45588b36e53d"
      },
      "source": [
        "!pip3 install node2vec"
      ],
      "execution_count": 216,
      "outputs": [
        {
          "output_type": "stream",
          "text": [
            "Collecting node2vec\n",
            "  Downloading https://files.pythonhosted.org/packages/c0/da/7f0c49433ef91033e21d523e82be1570074a5d6ab8c74f8771774e9d2fd1/node2vec-0.3.2-py3-none-any.whl\n",
            "Requirement already satisfied: tqdm in /usr/local/lib/python3.6/dist-packages (from node2vec) (4.38.0)\n",
            "Requirement already satisfied: networkx in /usr/local/lib/python3.6/dist-packages (from node2vec) (2.4)\n",
            "Requirement already satisfied: gensim in /usr/local/lib/python3.6/dist-packages (from node2vec) (3.6.0)\n",
            "Requirement already satisfied: numpy in /usr/local/lib/python3.6/dist-packages (from node2vec) (1.18.2)\n",
            "Requirement already satisfied: joblib>=0.13.2 in /usr/local/lib/python3.6/dist-packages (from node2vec) (0.14.1)\n",
            "Requirement already satisfied: decorator>=4.3.0 in /usr/local/lib/python3.6/dist-packages (from networkx->node2vec) (4.4.2)\n",
            "Requirement already satisfied: scipy>=0.18.1 in /usr/local/lib/python3.6/dist-packages (from gensim->node2vec) (1.4.1)\n",
            "Requirement already satisfied: smart-open>=1.2.1 in /usr/local/lib/python3.6/dist-packages (from gensim->node2vec) (1.10.0)\n",
            "Requirement already satisfied: six>=1.5.0 in /usr/local/lib/python3.6/dist-packages (from gensim->node2vec) (1.12.0)\n",
            "Requirement already satisfied: google-cloud-storage in /usr/local/lib/python3.6/dist-packages (from smart-open>=1.2.1->gensim->node2vec) (1.18.1)\n",
            "Requirement already satisfied: requests in /usr/local/lib/python3.6/dist-packages (from smart-open>=1.2.1->gensim->node2vec) (2.21.0)\n",
            "Requirement already satisfied: boto3 in /usr/local/lib/python3.6/dist-packages (from smart-open>=1.2.1->gensim->node2vec) (1.12.27)\n",
            "Requirement already satisfied: google-resumable-media<0.5.0dev,>=0.3.1 in /usr/local/lib/python3.6/dist-packages (from google-cloud-storage->smart-open>=1.2.1->gensim->node2vec) (0.4.1)\n",
            "Requirement already satisfied: google-cloud-core<2.0dev,>=1.0.0 in /usr/local/lib/python3.6/dist-packages (from google-cloud-storage->smart-open>=1.2.1->gensim->node2vec) (1.0.3)\n",
            "Requirement already satisfied: google-auth>=1.2.0 in /usr/local/lib/python3.6/dist-packages (from google-cloud-storage->smart-open>=1.2.1->gensim->node2vec) (1.7.2)\n",
            "Requirement already satisfied: idna<2.9,>=2.5 in /usr/local/lib/python3.6/dist-packages (from requests->smart-open>=1.2.1->gensim->node2vec) (2.8)\n",
            "Requirement already satisfied: certifi>=2017.4.17 in /usr/local/lib/python3.6/dist-packages (from requests->smart-open>=1.2.1->gensim->node2vec) (2019.11.28)\n",
            "Requirement already satisfied: urllib3<1.25,>=1.21.1 in /usr/local/lib/python3.6/dist-packages (from requests->smart-open>=1.2.1->gensim->node2vec) (1.24.3)\n",
            "Requirement already satisfied: chardet<3.1.0,>=3.0.2 in /usr/local/lib/python3.6/dist-packages (from requests->smart-open>=1.2.1->gensim->node2vec) (3.0.4)\n",
            "Requirement already satisfied: s3transfer<0.4.0,>=0.3.0 in /usr/local/lib/python3.6/dist-packages (from boto3->smart-open>=1.2.1->gensim->node2vec) (0.3.3)\n",
            "Requirement already satisfied: botocore<1.16.0,>=1.15.27 in /usr/local/lib/python3.6/dist-packages (from boto3->smart-open>=1.2.1->gensim->node2vec) (1.15.27)\n",
            "Requirement already satisfied: jmespath<1.0.0,>=0.7.1 in /usr/local/lib/python3.6/dist-packages (from boto3->smart-open>=1.2.1->gensim->node2vec) (0.9.5)\n",
            "Requirement already satisfied: google-api-core<2.0.0dev,>=1.14.0 in /usr/local/lib/python3.6/dist-packages (from google-cloud-core<2.0dev,>=1.0.0->google-cloud-storage->smart-open>=1.2.1->gensim->node2vec) (1.16.0)\n",
            "Requirement already satisfied: cachetools<3.2,>=2.0.0 in /usr/local/lib/python3.6/dist-packages (from google-auth>=1.2.0->google-cloud-storage->smart-open>=1.2.1->gensim->node2vec) (3.1.1)\n",
            "Requirement already satisfied: pyasn1-modules>=0.2.1 in /usr/local/lib/python3.6/dist-packages (from google-auth>=1.2.0->google-cloud-storage->smart-open>=1.2.1->gensim->node2vec) (0.2.8)\n",
            "Requirement already satisfied: rsa<4.1,>=3.1.4 in /usr/local/lib/python3.6/dist-packages (from google-auth>=1.2.0->google-cloud-storage->smart-open>=1.2.1->gensim->node2vec) (4.0)\n",
            "Requirement already satisfied: setuptools>=40.3.0 in /usr/local/lib/python3.6/dist-packages (from google-auth>=1.2.0->google-cloud-storage->smart-open>=1.2.1->gensim->node2vec) (46.0.0)\n",
            "Requirement already satisfied: docutils<0.16,>=0.10 in /usr/local/lib/python3.6/dist-packages (from botocore<1.16.0,>=1.15.27->boto3->smart-open>=1.2.1->gensim->node2vec) (0.15.2)\n",
            "Requirement already satisfied: python-dateutil<3.0.0,>=2.1 in /usr/local/lib/python3.6/dist-packages (from botocore<1.16.0,>=1.15.27->boto3->smart-open>=1.2.1->gensim->node2vec) (2.8.1)\n",
            "Requirement already satisfied: pytz in /usr/local/lib/python3.6/dist-packages (from google-api-core<2.0.0dev,>=1.14.0->google-cloud-core<2.0dev,>=1.0.0->google-cloud-storage->smart-open>=1.2.1->gensim->node2vec) (2018.9)\n",
            "Requirement already satisfied: protobuf>=3.4.0 in /usr/local/lib/python3.6/dist-packages (from google-api-core<2.0.0dev,>=1.14.0->google-cloud-core<2.0dev,>=1.0.0->google-cloud-storage->smart-open>=1.2.1->gensim->node2vec) (3.10.0)\n",
            "Requirement already satisfied: googleapis-common-protos<2.0dev,>=1.6.0 in /usr/local/lib/python3.6/dist-packages (from google-api-core<2.0.0dev,>=1.14.0->google-cloud-core<2.0dev,>=1.0.0->google-cloud-storage->smart-open>=1.2.1->gensim->node2vec) (1.51.0)\n",
            "Requirement already satisfied: pyasn1<0.5.0,>=0.4.6 in /usr/local/lib/python3.6/dist-packages (from pyasn1-modules>=0.2.1->google-auth>=1.2.0->google-cloud-storage->smart-open>=1.2.1->gensim->node2vec) (0.4.8)\n",
            "Installing collected packages: node2vec\n",
            "Successfully installed node2vec-0.3.2\n"
          ],
          "name": "stdout"
        }
      ]
    },
    {
      "cell_type": "code",
      "metadata": {
        "id": "YXOVkDWSbzjg",
        "colab_type": "code",
        "colab": {}
      },
      "source": [
        "from node2vec import Node2Vec\n",
        "\n",
        "def create_vectors_node2vec(graph:Graph) -> List[List[float]]:\n",
        "  node2vec = Node2Vec(graph, dimensions=64, walk_length=30, num_walks=200, workers=4)  \n",
        "  model = node2vec.fit(window=10, min_count=1, batch_words=4) \n",
        "  return model[list(map(str,graph.nodes))]"
      ],
      "execution_count": 0,
      "outputs": []
    },
    {
      "cell_type": "code",
      "metadata": {
        "id": "1iYvEZoncBY2",
        "colab_type": "code",
        "colab": {
          "base_uri": "https://localhost:8080/",
          "height": 351
        },
        "outputId": "455c8787-22d4-48f7-e4df-93d082737618"
      },
      "source": [
        "plot_graph(\n",
        "  vectors = create_vectors_node2vec(graph1),\n",
        "  labels = map(str,range(len(graph1.nodes)))\n",
        ")"
      ],
      "execution_count": 252,
      "outputs": [
        {
          "output_type": "stream",
          "text": [
            "Computing transition probabilities: 100%|██████████| 9/9 [00:00<00:00, 2874.78it/s]\n",
            "/usr/local/lib/python3.6/dist-packages/ipykernel_launcher.py:6: DeprecationWarning: Call to deprecated `__getitem__` (Method will be removed in 4.0.0, use self.wv.__getitem__() instead).\n",
            "  \n"
          ],
          "name": "stderr"
        },
        {
          "output_type": "display_data",
          "data": {
            "image/png": "[encoded data removed]",
            "text/plain": [
              "<Figure size 432x288 with 1 Axes>"
            ]
          },
          "metadata": {
            "tags": []
          }
        }
      ]
    },
    {
      "cell_type": "code",
      "metadata": {
        "id": "fhRViT93ccK7",
        "colab_type": "code",
        "colab": {
          "base_uri": "https://localhost:8080/",
          "height": 351
        },
        "outputId": "e773326b-5f8a-4c8c-efd5-c8caa5f84907"
      },
      "source": [
        "plot_graph(\n",
        "  vectors = create_vectors_node2vec(graph2),\n",
        "  labels = map(str,range(len(graph2.nodes)))\n",
        ")"
      ],
      "execution_count": 254,
      "outputs": [
        {
          "output_type": "stream",
          "text": [
            "Computing transition probabilities: 100%|██████████| 8/8 [00:00<00:00, 4155.86it/s]\n",
            "/usr/local/lib/python3.6/dist-packages/ipykernel_launcher.py:6: DeprecationWarning: Call to deprecated `__getitem__` (Method will be removed in 4.0.0, use self.wv.__getitem__() instead).\n",
            "  \n"
          ],
          "name": "stderr"
        },
        {
          "output_type": "display_data",
          "data": {
            "image/png": "[encoded data removed]",
            "text/plain": [
              "<Figure size 432x288 with 1 Axes>"
            ]
          },
          "metadata": {
            "tags": []
          }
        }
      ]
    }
  ]
}