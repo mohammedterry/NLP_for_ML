{
  "nbformat": 4,
  "nbformat_minor": 0,
  "metadata": {
    "colab": {
      "name": "EmbeddingGraphs.ipynb",
      "provenance": [],
      "collapsed_sections": [],
      "authorship_tag": "ABX9TyMXS1MKlL5bAeeP0MbEH6Sz",
      "include_colab_link": true
    },
    "kernelspec": {
      "name": "python3",
      "display_name": "Python 3"
    }
  },
  "cells": [
    {
      "cell_type": "markdown",
      "metadata": {
        "id": "view-in-github",
        "colab_type": "text"
      },
      "source": [
        "<a href=\"https://colab.research.google.com/github/mohammedterry/NLP_for_ML/blob/master/EmbeddingGraphs.ipynb\" target=\"_parent\"><img src=\"https://colab.research.google.com/assets/colab-badge.svg\" alt=\"Open In Colab\"/></a>"
      ]
    },
    {
      "cell_type": "markdown",
      "metadata": {
        "id": "beZU9Z-uAilb",
        "colab_type": "text"
      },
      "source": [
        "## Util Functions"
      ]
    },
    {
      "cell_type": "code",
      "metadata": {
        "id": "JVnXsF_6qmW0",
        "colab_type": "code",
        "colab": {}
      },
      "source": [
        "from typing import List, Set\n",
        "\n",
        "from sklearn.decomposition import PCA\n",
        "from seaborn import set_style, regplot\n",
        "from pandas import DataFrame\n",
        "\n",
        "def plot_graph(vectors:List[List[int]], labels:List[str], colours:List[str]=None) -> None:\n",
        "  \"\"\" \n",
        "  a labelled 2D plot of graph embeddings \n",
        "  (pca used to reduce vector dimensions) \n",
        "  \"\"\"\n",
        "\n",
        "  pca = PCA(n_components=2)  \n",
        "  set_style(\"whitegrid\")\n",
        "  \n",
        "  data = DataFrame(\n",
        "    data = pca.fit_transform(vectors), \n",
        "    columns = ['x_coordinate','y_coordinate']\n",
        "  )\n",
        "  graph=regplot(\n",
        "      data=data, \n",
        "      x=\"x_coordinate\", \n",
        "      y=\"y_coordinate\", \n",
        "      fit_reg=False, \n",
        "      scatter_kws= {'facecolors':colours},\n",
        "      marker=\"+\"\n",
        "  )\n",
        "\n",
        "  adjusted_x_coordinates = []\n",
        "  offsets = {}\n",
        "  for x in data['x_coordinate']:\n",
        "    x = round(x,2)\n",
        "    if x in offsets:\n",
        "      offsets[x] += .1\n",
        "    else:\n",
        "      offsets[x] = 0\n",
        "    adjusted_x_coordinates.append(x + offsets[x])\n",
        "\n",
        "  [\n",
        "   graph.text(*xylabel) for xylabel in zip(\n",
        "      adjusted_x_coordinates,\n",
        "      data['y_coordinate'],\n",
        "      labels\n",
        "    )\n",
        "  ]\n"
      ],
      "execution_count": 0,
      "outputs": []
    },
    {
      "cell_type": "code",
      "metadata": {
        "id": "HHCflNY0n9UB",
        "colab_type": "code",
        "outputId": "ab82d575-feb6-473a-e7ae-3c1628b8f8d1",
        "colab": {
          "base_uri": "https://localhost:8080/",
          "height": 34
        }
      },
      "source": [
        "def one_hot_encoding(indexes:Set[int], vector_length:int) -> List[int]:\n",
        "  return list(map(lambda index: int(index in indexes), range(vector_length)))\n",
        "\n",
        "one_hot_encoding(indexes={2,5},vector_length=10)"
      ],
      "execution_count": 3,
      "outputs": [
        {
          "output_type": "execute_result",
          "data": {
            "text/plain": [
              "[0, 0, 1, 0, 0, 1, 0, 0, 0, 0]"
            ]
          },
          "metadata": {
            "tags": []
          },
          "execution_count": 3
        }
      ]
    },
    {
      "cell_type": "code",
      "metadata": {
        "id": "-DpbBu4rGbEE",
        "colab_type": "code",
        "colab": {}
      },
      "source": [
        "from networkx import Graph, draw\n",
        "\n",
        "def create_graph(connections:List[int],colours:List[str]=None) -> Graph:\n",
        "  graph = Graph()\n",
        "  for start_node,end_nodes in enumerate(connections):\n",
        "    if not isinstance(end_nodes,list):\n",
        "      end_nodes = [end_nodes]\n",
        "    for end_node in end_nodes:\n",
        "      graph.add_edge(start_node,end_node)\n",
        "    \n",
        "  draw(graph, node_color=colours, with_labels=True)\n",
        "  return graph"
      ],
      "execution_count": 0,
      "outputs": []
    },
    {
      "cell_type": "markdown",
      "metadata": {
        "id": "BJM9iCrCAxax",
        "colab_type": "text"
      },
      "source": [
        "# An Example Graph"
      ]
    },
    {
      "cell_type": "code",
      "metadata": {
        "id": "-Vebjg7cAwKn",
        "colab_type": "code",
        "outputId": "49f3b52b-c94c-456f-b542-097a4c23fbdd",
        "colab": {
          "base_uri": "https://localhost:8080/",
          "height": 319
        }
      },
      "source": [
        "graph1 = create_graph(connections = [0, 0, 1, 0, 0, 0, 2, 2, 2])"
      ],
      "execution_count": 5,
      "outputs": [
        {
          "output_type": "display_data",
          "data": {
            "image/png": "[encoded data removed]",
            "text/plain": [
              "<Figure size 432x288 with 1 Axes>"
            ]
          },
          "metadata": {
            "tags": []
          }
        }
      ]
    },
    {
      "cell_type": "code",
      "metadata": {
        "id": "xWfK_Q8zFI9a",
        "colab_type": "code",
        "outputId": "afdbe0ba-a357-4e6f-9f0e-90af3524e030",
        "colab": {
          "base_uri": "https://localhost:8080/",
          "height": 319
        }
      },
      "source": [
        "colours_for_graph2 = ['blue','blue','blue','green','orange','red','orange','green']\n",
        "graph2 = create_graph(connections = [1,2,3,4,5,6,7,[2,3]], colours = colours_for_graph2)"
      ],
      "execution_count": 6,
      "outputs": [
        {
          "output_type": "display_data",
          "data": {
            "image/png": "[encoded data removed]",
            "text/plain": [
              "<Figure size 432x288 with 1 Axes>"
            ]
          },
          "metadata": {
            "tags": []
          }
        }
      ]
    },
    {
      "cell_type": "markdown",
      "metadata": {
        "id": "EdmN6v9CCc6E",
        "colab_type": "text"
      },
      "source": [
        "# Graph Embedding (Edges)"
      ]
    },
    {
      "cell_type": "code",
      "metadata": {
        "id": "XWAWY19YDFdv",
        "colab_type": "code",
        "colab": {}
      },
      "source": [
        "def create_vectors_from_edges(graph:Graph) -> List[List[int]]:\n",
        "  return [\n",
        "    [\n",
        "      int(node in edge) for edge in graph.edges\n",
        "    ]  for node in graph.nodes\n",
        "  ]"
      ],
      "execution_count": 0,
      "outputs": []
    },
    {
      "cell_type": "code",
      "metadata": {
        "id": "TMqDBe9hHO-j",
        "colab_type": "code",
        "outputId": "58542e38-fab0-424e-aa1a-422eab6f441a",
        "colab": {
          "base_uri": "https://localhost:8080/",
          "height": 170
        }
      },
      "source": [
        "create_vectors_from_edges(graph1)"
      ],
      "execution_count": 9,
      "outputs": [
        {
          "output_type": "execute_result",
          "data": {
            "text/plain": [
              "[[1, 1, 1, 1, 1, 0, 0, 0, 0],\n",
              " [0, 1, 0, 0, 0, 1, 0, 0, 0],\n",
              " [0, 0, 0, 0, 0, 1, 1, 1, 1],\n",
              " [0, 0, 1, 0, 0, 0, 0, 0, 0],\n",
              " [0, 0, 0, 1, 0, 0, 0, 0, 0],\n",
              " [0, 0, 0, 0, 1, 0, 0, 0, 0],\n",
              " [0, 0, 0, 0, 0, 0, 1, 0, 0],\n",
              " [0, 0, 0, 0, 0, 0, 0, 1, 0],\n",
              " [0, 0, 0, 0, 0, 0, 0, 0, 1]]"
            ]
          },
          "metadata": {
            "tags": []
          },
          "execution_count": 9
        }
      ]
    },
    {
      "cell_type": "code",
      "metadata": {
        "id": "akf9eOa_DwHx",
        "colab_type": "code",
        "outputId": "da6ba4c6-1c99-47fd-cb3c-3b2b774fd0fb",
        "colab": {
          "base_uri": "https://localhost:8080/",
          "height": 280
        }
      },
      "source": [
        "plot_graph(\n",
        "  vectors = create_vectors_from_edges(graph1),\n",
        "  labels = map(str,range(len(graph1.nodes)))\n",
        ")"
      ],
      "execution_count": 13,
      "outputs": [
        {
          "output_type": "display_data",
          "data": {
            "image/png": "[encoded data removed]",
            "text/plain": [
              "<Figure size 432x288 with 1 Axes>"
            ]
          },
          "metadata": {
            "tags": []
          }
        }
      ]
    },
    {
      "cell_type": "code",
      "metadata": {
        "id": "nlpqD2DqHaUT",
        "colab_type": "code",
        "outputId": "8185269d-f9fa-42c1-8e34-70a0cdb93e41",
        "colab": {
          "base_uri": "https://localhost:8080/",
          "height": 283
        }
      },
      "source": [
        "plot_graph(\n",
        "  vectors = create_vectors_from_edges(graph2),\n",
        "  labels = map(str,range(len(graph2.nodes))),\n",
        "  colours = colours_for_graph2\n",
        ")"
      ],
      "execution_count": 14,
      "outputs": [
        {
          "output_type": "display_data",
          "data": {
            "image/png": "[encoded data removed]",
            "text/plain": [
              "<Figure size 432x288 with 1 Axes>"
            ]
          },
          "metadata": {
            "tags": []
          }
        }
      ]
    },
    {
      "cell_type": "markdown",
      "metadata": {
        "id": "FKdwaZ9jgVcf",
        "colab_type": "text"
      },
      "source": [
        "# Graph Embedding (Adjacent Nodes)"
      ]
    },
    {
      "cell_type": "code",
      "metadata": {
        "id": "CbbYAyyAgRdU",
        "colab_type": "code",
        "colab": {}
      },
      "source": [
        "def create_vectors_from_adjacent_nodes(graph:Graph) -> List[List[int]]:\n",
        "  adjacent_nodes = [\n",
        "    set(graph[node_id].keys()) | {node_id} for node_id in graph.nodes\n",
        "  ]\n",
        "  return list(\n",
        "    map(\n",
        "      lambda neighbours: one_hot_encoding(\n",
        "          indexes=neighbours, \n",
        "          vector_length=len(graph.nodes)\n",
        "      ), \n",
        "      adjacent_nodes\n",
        "    )\n",
        "  )"
      ],
      "execution_count": 0,
      "outputs": []
    },
    {
      "cell_type": "code",
      "metadata": {
        "id": "UcpLD64mpXOU",
        "colab_type": "code",
        "outputId": "27439ac0-2454-4b4e-9d7d-b5800167ce38",
        "colab": {
          "base_uri": "https://localhost:8080/",
          "height": 170
        }
      },
      "source": [
        "create_vectors_from_adjacent_nodes(graph1)"
      ],
      "execution_count": 16,
      "outputs": [
        {
          "output_type": "execute_result",
          "data": {
            "text/plain": [
              "[[1, 1, 0, 1, 1, 1, 0, 0, 0],\n",
              " [1, 1, 1, 0, 0, 0, 0, 0, 0],\n",
              " [0, 1, 1, 0, 0, 0, 1, 1, 1],\n",
              " [1, 0, 0, 1, 0, 0, 0, 0, 0],\n",
              " [1, 0, 0, 0, 1, 0, 0, 0, 0],\n",
              " [1, 0, 0, 0, 0, 1, 0, 0, 0],\n",
              " [0, 0, 1, 0, 0, 0, 1, 0, 0],\n",
              " [0, 0, 1, 0, 0, 0, 0, 1, 0],\n",
              " [0, 0, 1, 0, 0, 0, 0, 0, 1]]"
            ]
          },
          "metadata": {
            "tags": []
          },
          "execution_count": 16
        }
      ]
    },
    {
      "cell_type": "code",
      "metadata": {
        "id": "W0REnnPptkkR",
        "colab_type": "code",
        "outputId": "598e8b24-e0f7-4fe8-b0df-fff93405da7e",
        "colab": {
          "base_uri": "https://localhost:8080/",
          "height": 280
        }
      },
      "source": [
        "plot_graph(\n",
        "  vectors = create_vectors_from_adjacent_nodes(graph1),\n",
        "  labels = map(str,range(len(graph1.nodes)))\n",
        ")"
      ],
      "execution_count": 17,
      "outputs": [
        {
          "output_type": "display_data",
          "data": {
            "image/png": "[encoded data removed]",
            "text/plain": [
              "<Figure size 432x288 with 1 Axes>"
            ]
          },
          "metadata": {
            "tags": []
          }
        }
      ]
    },
    {
      "cell_type": "code",
      "metadata": {
        "id": "H6m92fLZIV5x",
        "colab_type": "code",
        "outputId": "f3a2db85-3a2f-46ce-b725-d6877fa98ed9",
        "colab": {
          "base_uri": "https://localhost:8080/",
          "height": 280
        }
      },
      "source": [
        "plot_graph(\n",
        "  vectors = create_vectors_from_adjacent_nodes(graph2),\n",
        "  labels = map(str,range(len(graph2.nodes))),\n",
        "  colours = colours_for_graph2\n",
        ")"
      ],
      "execution_count": 18,
      "outputs": [
        {
          "output_type": "display_data",
          "data": {
            "image/png": "[encoded data removed]",
            "text/plain": [
              "<Figure size 432x288 with 1 Axes>"
            ]
          },
          "metadata": {
            "tags": []
          }
        }
      ]
    },
    {
      "cell_type": "markdown",
      "metadata": {
        "id": "CS1dUlp4VpEL",
        "colab_type": "text"
      },
      "source": [
        "# Graph Embedding (All Nodes)"
      ]
    },
    {
      "cell_type": "code",
      "metadata": {
        "id": "pAZcj9lzVsVf",
        "colab_type": "code",
        "colab": {}
      },
      "source": [
        "from networkx import shortest_path_length\n",
        "from math import exp\n",
        "\n",
        "def sigmoid(x:float) -> float:\n",
        "  return 1 / (1 + exp(-x))\n",
        "\n",
        "def create_vectors_from_all_nodes(graph:Graph) -> List[List[int]]:\n",
        "  return [\n",
        "    [\n",
        "      sigmoid(shortest_path_length(graph, node_start, node_end)) for node_end in graph.nodes\n",
        "    ] for node_start in graph.nodes\n",
        "  ]"
      ],
      "execution_count": 0,
      "outputs": []
    },
    {
      "cell_type": "code",
      "metadata": {
        "id": "KPJNhh4YXP05",
        "colab_type": "code",
        "outputId": "1df77371-bea9-422a-f38f-304502339aaf",
        "colab": {
          "base_uri": "https://localhost:8080/",
          "height": 1000
        }
      },
      "source": [
        "create_vectors_from_all_nodes(graph2)"
      ],
      "execution_count": 20,
      "outputs": [
        {
          "output_type": "execute_result",
          "data": {
            "text/plain": [
              "[[0.5,\n",
              "  0.7310585786300049,\n",
              "  0.8807970779778823,\n",
              "  0.9525741268224334,\n",
              "  0.9820137900379085,\n",
              "  0.9933071490757153,\n",
              "  0.9820137900379085,\n",
              "  0.9525741268224334],\n",
              " [0.7310585786300049,\n",
              "  0.5,\n",
              "  0.7310585786300049,\n",
              "  0.8807970779778823,\n",
              "  0.9525741268224334,\n",
              "  0.9820137900379085,\n",
              "  0.9525741268224334,\n",
              "  0.8807970779778823],\n",
              " [0.8807970779778823,\n",
              "  0.7310585786300049,\n",
              "  0.5,\n",
              "  0.7310585786300049,\n",
              "  0.8807970779778823,\n",
              "  0.9525741268224334,\n",
              "  0.8807970779778823,\n",
              "  0.7310585786300049],\n",
              " [0.9525741268224334,\n",
              "  0.8807970779778823,\n",
              "  0.7310585786300049,\n",
              "  0.5,\n",
              "  0.7310585786300049,\n",
              "  0.8807970779778823,\n",
              "  0.8807970779778823,\n",
              "  0.7310585786300049],\n",
              " [0.9820137900379085,\n",
              "  0.9525741268224334,\n",
              "  0.8807970779778823,\n",
              "  0.7310585786300049,\n",
              "  0.5,\n",
              "  0.7310585786300049,\n",
              "  0.8807970779778823,\n",
              "  0.8807970779778823],\n",
              " [0.9933071490757153,\n",
              "  0.9820137900379085,\n",
              "  0.9525741268224334,\n",
              "  0.8807970779778823,\n",
              "  0.7310585786300049,\n",
              "  0.5,\n",
              "  0.7310585786300049,\n",
              "  0.8807970779778823],\n",
              " [0.9820137900379085,\n",
              "  0.9525741268224334,\n",
              "  0.8807970779778823,\n",
              "  0.8807970779778823,\n",
              "  0.8807970779778823,\n",
              "  0.7310585786300049,\n",
              "  0.5,\n",
              "  0.7310585786300049],\n",
              " [0.9525741268224334,\n",
              "  0.8807970779778823,\n",
              "  0.7310585786300049,\n",
              "  0.7310585786300049,\n",
              "  0.8807970779778823,\n",
              "  0.8807970779778823,\n",
              "  0.7310585786300049,\n",
              "  0.5]]"
            ]
          },
          "metadata": {
            "tags": []
          },
          "execution_count": 20
        }
      ]
    },
    {
      "cell_type": "code",
      "metadata": {
        "id": "2pTk3wYvXafw",
        "colab_type": "code",
        "outputId": "7057bb36-9164-49c3-8ff8-baf58c6b9fb5",
        "colab": {
          "base_uri": "https://localhost:8080/",
          "height": 280
        }
      },
      "source": [
        "plot_graph(\n",
        "  vectors = create_vectors_from_all_nodes(graph1),\n",
        "  labels = map(str,range(len(graph1.nodes)))\n",
        ")"
      ],
      "execution_count": 21,
      "outputs": [
        {
          "output_type": "display_data",
          "data": {
            "image/png": "[encoded data removed]",
            "text/plain": [
              "<Figure size 432x288 with 1 Axes>"
            ]
          },
          "metadata": {
            "tags": []
          }
        }
      ]
    },
    {
      "cell_type": "code",
      "metadata": {
        "id": "3kkN3DG9Xf9c",
        "colab_type": "code",
        "outputId": "3c12f004-db5c-4e70-a77f-9b244925d387",
        "colab": {
          "base_uri": "https://localhost:8080/",
          "height": 284
        }
      },
      "source": [
        "plot_graph(\n",
        "  vectors = create_vectors_from_all_nodes(graph2),\n",
        "  labels = map(str,range(len(graph2.nodes))),\n",
        "  colours = colours_for_graph2\n",
        ")"
      ],
      "execution_count": 22,
      "outputs": [
        {
          "output_type": "display_data",
          "data": {
            "image/png": "[encoded data removed]",
            "text/plain": [
              "<Figure size 432x288 with 1 Axes>"
            ]
          },
          "metadata": {
            "tags": []
          }
        }
      ]
    },
    {
      "cell_type": "markdown",
      "metadata": {
        "id": "l0f0Helf9-P8",
        "colab_type": "text"
      },
      "source": [
        "# Graph Embedding (Parent Nodes)"
      ]
    },
    {
      "cell_type": "code",
      "metadata": {
        "id": "zlhcDVe-C1NI",
        "colab_type": "code",
        "colab": {}
      },
      "source": [
        "from networkx import all_shortest_paths\n",
        "from functools import reduce \n",
        "from typing import Set\n",
        "\n",
        "def get_all_parent_nodes(graph:Graph,node_start:int, node_end:int, include_node_end:bool) -> Set[int]:\n",
        "  parent_nodes = reduce(\n",
        "    lambda path_a,path_b: set(path_a)|set(path_b), \n",
        "    all_shortest_paths(graph,node_start,node_end)\n",
        "  )\n",
        "  return parent_nodes if include_node_end else set(parent_nodes) ^ {node_end}\n",
        "\n",
        "def create_vectors_from_parent_nodes(graph:Graph, root_node:int = 0, include_current_node:bool=True) -> List[List[int]]:\n",
        "  all_parent_nodes = map(\n",
        "    lambda current_node: get_all_parent_nodes(graph, root_node, current_node, include_current_node), \n",
        "    graph.nodes()\n",
        "  )\n",
        "  return list(\n",
        "    map(\n",
        "      lambda parent_nodes: one_hot_encoding(\n",
        "          indexes=parent_nodes, \n",
        "          vector_length=len(graph.nodes)\n",
        "      ), \n",
        "      all_parent_nodes\n",
        "    )\n",
        "  )"
      ],
      "execution_count": 0,
      "outputs": []
    },
    {
      "cell_type": "code",
      "metadata": {
        "id": "BB8K00LcHNaW",
        "colab_type": "code",
        "colab": {
          "base_uri": "https://localhost:8080/",
          "height": 280
        },
        "outputId": "f5243499-1b03-4ea1-ae42-659574b98440"
      },
      "source": [
        "plot_graph(\n",
        "  vectors = create_vectors_from_parent_nodes(graph2, include_current_node=False),\n",
        "  labels = map(str,range(len(graph2.nodes))),\n",
        "  colours = colours_for_graph2\n",
        ")"
      ],
      "execution_count": 75,
      "outputs": [
        {
          "output_type": "display_data",
          "data": {
            "image/png": "[encoded data removed]",
            "text/plain": [
              "<Figure size 432x288 with 1 Axes>"
            ]
          },
          "metadata": {
            "tags": []
          }
        }
      ]
    },
    {
      "cell_type": "code",
      "metadata": {
        "id": "gh0PQAhNArzj",
        "colab_type": "code",
        "colab": {
          "base_uri": "https://localhost:8080/",
          "height": 280
        },
        "outputId": "e90cca1f-743c-4249-9b62-1b54f347d877"
      },
      "source": [
        "plot_graph(\n",
        "  vectors = create_vectors_from_parent_nodes(graph2),\n",
        "  labels = map(str,range(len(graph2.nodes))),\n",
        "  colours = colours_for_graph2\n",
        ")"
      ],
      "execution_count": 71,
      "outputs": [
        {
          "output_type": "display_data",
          "data": {
            "image/png": "[encoded data removed]",
            "text/plain": [
              "<Figure size 432x288 with 1 Axes>"
            ]
          },
          "metadata": {
            "tags": []
          }
        }
      ]
    },
    {
      "cell_type": "markdown",
      "metadata": {
        "id": "jWE8_INvBcXT",
        "colab_type": "text"
      },
      "source": [
        "# Graph Embedding (Random-Walk)"
      ]
    },
    {
      "cell_type": "code",
      "metadata": {
        "id": "V506Hz0XNovF",
        "colab_type": "code",
        "colab": {}
      },
      "source": [
        "from random import choice\n",
        "\n",
        "def random_walk(node:int,steps:int, graph:Graph) -> List[str]:\n",
        "  path = []\n",
        "  for _ in range(steps):\n",
        "    path.append(str(node))\n",
        "    adjacent_nodes = list(graph[node])\n",
        "    node = choice(adjacent_nodes)\n",
        "  return path"
      ],
      "execution_count": 0,
      "outputs": []
    },
    {
      "cell_type": "code",
      "metadata": {
        "id": "JLYylFlPQUvl",
        "colab_type": "code",
        "outputId": "1313a4ec-cc3d-4fd3-ad12-9d72e74de038",
        "colab": {
          "base_uri": "https://localhost:8080/",
          "height": 323
        }
      },
      "source": [
        "def generate_training_set(graph:Graph, random_walk_repeats:int, random_walk_path_length:int) -> List[List[str]]:\n",
        "  return [\n",
        "    random_walk(\n",
        "      node = node,\n",
        "      steps = random_walk_path_length,\n",
        "      graph = graph\n",
        "    ) for node in graph.nodes for _ in range(random_walk_repeats)\n",
        "  ]\n",
        "generate_training_set(graph1,2,10)"
      ],
      "execution_count": 24,
      "outputs": [
        {
          "output_type": "execute_result",
          "data": {
            "text/plain": [
              "[['0', '4', '0', '0', '5', '0', '3', '0', '1', '0'],\n",
              " ['0', '3', '0', '3', '0', '1', '0', '4', '0', '1'],\n",
              " ['1', '2', '7', '2', '8', '2', '7', '2', '8', '2'],\n",
              " ['1', '0', '5', '0', '1', '0', '3', '0', '1', '2'],\n",
              " ['2', '6', '2', '7', '2', '7', '2', '1', '0', '1'],\n",
              " ['2', '7', '2', '8', '2', '8', '2', '8', '2', '6'],\n",
              " ['3', '0', '0', '5', '0', '4', '0', '0', '0', '5'],\n",
              " ['3', '0', '5', '0', '5', '0', '1', '0', '0', '0'],\n",
              " ['4', '0', '5', '0', '5', '0', '5', '0', '0', '1'],\n",
              " ['4', '0', '0', '0', '3', '0', '4', '0', '1', '0'],\n",
              " ['5', '0', '4', '0', '0', '4', '0', '0', '3', '0'],\n",
              " ['5', '0', '5', '0', '5', '0', '5', '0', '1', '0'],\n",
              " ['6', '2', '7', '2', '1', '2', '7', '2', '1', '2'],\n",
              " ['6', '2', '6', '2', '7', '2', '1', '0', '5', '0'],\n",
              " ['7', '2', '8', '2', '1', '2', '8', '2', '1', '0'],\n",
              " ['7', '2', '7', '2', '7', '2', '6', '2', '7', '2'],\n",
              " ['8', '2', '6', '2', '1', '0', '4', '0', '0', '5'],\n",
              " ['8', '2', '1', '0', '5', '0', '3', '0', '3', '0']]"
            ]
          },
          "metadata": {
            "tags": []
          },
          "execution_count": 24
        }
      ]
    },
    {
      "cell_type": "code",
      "metadata": {
        "id": "0RGgjLI9SECp",
        "colab_type": "code",
        "colab": {}
      },
      "source": [
        "from gensim.models import Word2Vec\n",
        "\n",
        "def create_vectors_from_random_walks(graph:Graph) -> List[List[float]]:\n",
        "  skipgram_model = Word2Vec(window = 4, sg = 1, hs = 0,negative = 10, alpha=.03, min_alpha=.0007, seed = 14)\n",
        "  training_set_for_graph = generate_training_set(graph,30,40)\n",
        "  skipgram_model.build_vocab(training_set_for_graph, progress_per=2)\n",
        "  skipgram_model.train(\n",
        "    training_set_for_graph, \n",
        "    total_examples = skipgram_model.corpus_count, \n",
        "    epochs=20, \n",
        "    report_delay=1\n",
        "  )\n",
        "  return skipgram_model[list(map(str,graph.nodes))]"
      ],
      "execution_count": 0,
      "outputs": []
    },
    {
      "cell_type": "code",
      "metadata": {
        "id": "NivCSigiVHk8",
        "colab_type": "code",
        "outputId": "63dd6814-06dc-4ecd-a9ad-724ab0bb17eb",
        "colab": {
          "base_uri": "https://localhost:8080/",
          "height": 334
        }
      },
      "source": [
        "plot_graph(\n",
        "  vectors = create_vectors_from_random_walks(graph1),\n",
        "  labels = map(str,range(len(graph1.nodes)))\n",
        ")"
      ],
      "execution_count": 156,
      "outputs": [
        {
          "output_type": "stream",
          "text": [
            "/usr/local/lib/python3.6/dist-packages/ipykernel_launcher.py:13: DeprecationWarning: Call to deprecated `__getitem__` (Method will be removed in 4.0.0, use self.wv.__getitem__() instead).\n",
            "  del sys.path[0]\n"
          ],
          "name": "stderr"
        },
        {
          "output_type": "display_data",
          "data": {
            "image/png": "[encoded data removed]",
            "text/plain": [
              "<Figure size 432x288 with 1 Axes>"
            ]
          },
          "metadata": {
            "tags": []
          }
        }
      ]
    },
    {
      "cell_type": "code",
      "metadata": {
        "id": "t8goajo4VPVj",
        "colab_type": "code",
        "outputId": "11f9b9da-85c3-43dc-bc9b-cf35693560f4",
        "colab": {
          "base_uri": "https://localhost:8080/",
          "height": 334
        }
      },
      "source": [
        "plot_graph(\n",
        "  vectors = create_vectors_from_random_walks(graph2),\n",
        "  labels = map(str,range(len(graph2.nodes))),\n",
        "  colours = colours_for_graph2\n",
        ")"
      ],
      "execution_count": 155,
      "outputs": [
        {
          "output_type": "stream",
          "text": [
            "/usr/local/lib/python3.6/dist-packages/ipykernel_launcher.py:13: DeprecationWarning: Call to deprecated `__getitem__` (Method will be removed in 4.0.0, use self.wv.__getitem__() instead).\n",
            "  del sys.path[0]\n"
          ],
          "name": "stderr"
        },
        {
          "output_type": "display_data",
          "data": {
            "image/png": "[encoded data removed]",
            "text/plain": [
              "<Figure size 432x288 with 1 Axes>"
            ]
          },
          "metadata": {
            "tags": []
          }
        }
      ]
    },
    {
      "cell_type": "markdown",
      "metadata": {
        "id": "8J2oYWmpckrd",
        "colab_type": "text"
      },
      "source": [
        "### Node2Vec"
      ]
    },
    {
      "cell_type": "code",
      "metadata": {
        "id": "9SABV6gbbu6M",
        "colab_type": "code",
        "outputId": "56a0189b-9a17-4532-8549-51285f5ce166",
        "colab": {
          "base_uri": "https://localhost:8080/",
          "height": 666
        }
      },
      "source": [
        "!pip3 install node2vec"
      ],
      "execution_count": 29,
      "outputs": [
        {
          "output_type": "stream",
          "text": [
            "Collecting node2vec\n",
            "  Downloading https://files.pythonhosted.org/packages/c0/da/7f0c49433ef91033e21d523e82be1570074a5d6ab8c74f8771774e9d2fd1/node2vec-0.3.2-py3-none-any.whl\n",
            "Requirement already satisfied: joblib>=0.13.2 in /usr/local/lib/python3.6/dist-packages (from node2vec) (0.14.1)\n",
            "Requirement already satisfied: networkx in /usr/local/lib/python3.6/dist-packages (from node2vec) (2.4)\n",
            "Requirement already satisfied: numpy in /usr/local/lib/python3.6/dist-packages (from node2vec) (1.18.2)\n",
            "Requirement already satisfied: gensim in /usr/local/lib/python3.6/dist-packages (from node2vec) (3.6.0)\n",
            "Requirement already satisfied: tqdm in /usr/local/lib/python3.6/dist-packages (from node2vec) (4.38.0)\n",
            "Requirement already satisfied: decorator>=4.3.0 in /usr/local/lib/python3.6/dist-packages (from networkx->node2vec) (4.4.2)\n",
            "Requirement already satisfied: scipy>=0.18.1 in /usr/local/lib/python3.6/dist-packages (from gensim->node2vec) (1.4.1)\n",
            "Requirement already satisfied: six>=1.5.0 in /usr/local/lib/python3.6/dist-packages (from gensim->node2vec) (1.12.0)\n",
            "Requirement already satisfied: smart-open>=1.2.1 in /usr/local/lib/python3.6/dist-packages (from gensim->node2vec) (1.10.0)\n",
            "Requirement already satisfied: requests in /usr/local/lib/python3.6/dist-packages (from smart-open>=1.2.1->gensim->node2vec) (2.21.0)\n",
            "Requirement already satisfied: google-cloud-storage in /usr/local/lib/python3.6/dist-packages (from smart-open>=1.2.1->gensim->node2vec) (1.18.1)\n",
            "Requirement already satisfied: boto3 in /usr/local/lib/python3.6/dist-packages (from smart-open>=1.2.1->gensim->node2vec) (1.12.27)\n",
            "Requirement already satisfied: idna<2.9,>=2.5 in /usr/local/lib/python3.6/dist-packages (from requests->smart-open>=1.2.1->gensim->node2vec) (2.8)\n",
            "Requirement already satisfied: certifi>=2017.4.17 in /usr/local/lib/python3.6/dist-packages (from requests->smart-open>=1.2.1->gensim->node2vec) (2019.11.28)\n",
            "Requirement already satisfied: urllib3<1.25,>=1.21.1 in /usr/local/lib/python3.6/dist-packages (from requests->smart-open>=1.2.1->gensim->node2vec) (1.24.3)\n",
            "Requirement already satisfied: chardet<3.1.0,>=3.0.2 in /usr/local/lib/python3.6/dist-packages (from requests->smart-open>=1.2.1->gensim->node2vec) (3.0.4)\n",
            "Requirement already satisfied: google-auth>=1.2.0 in /usr/local/lib/python3.6/dist-packages (from google-cloud-storage->smart-open>=1.2.1->gensim->node2vec) (1.7.2)\n",
            "Requirement already satisfied: google-resumable-media<0.5.0dev,>=0.3.1 in /usr/local/lib/python3.6/dist-packages (from google-cloud-storage->smart-open>=1.2.1->gensim->node2vec) (0.4.1)\n",
            "Requirement already satisfied: google-cloud-core<2.0dev,>=1.0.0 in /usr/local/lib/python3.6/dist-packages (from google-cloud-storage->smart-open>=1.2.1->gensim->node2vec) (1.0.3)\n",
            "Requirement already satisfied: s3transfer<0.4.0,>=0.3.0 in /usr/local/lib/python3.6/dist-packages (from boto3->smart-open>=1.2.1->gensim->node2vec) (0.3.3)\n",
            "Requirement already satisfied: botocore<1.16.0,>=1.15.27 in /usr/local/lib/python3.6/dist-packages (from boto3->smart-open>=1.2.1->gensim->node2vec) (1.15.27)\n",
            "Requirement already satisfied: jmespath<1.0.0,>=0.7.1 in /usr/local/lib/python3.6/dist-packages (from boto3->smart-open>=1.2.1->gensim->node2vec) (0.9.5)\n",
            "Requirement already satisfied: rsa<4.1,>=3.1.4 in /usr/local/lib/python3.6/dist-packages (from google-auth>=1.2.0->google-cloud-storage->smart-open>=1.2.1->gensim->node2vec) (4.0)\n",
            "Requirement already satisfied: setuptools>=40.3.0 in /usr/local/lib/python3.6/dist-packages (from google-auth>=1.2.0->google-cloud-storage->smart-open>=1.2.1->gensim->node2vec) (46.0.0)\n",
            "Requirement already satisfied: pyasn1-modules>=0.2.1 in /usr/local/lib/python3.6/dist-packages (from google-auth>=1.2.0->google-cloud-storage->smart-open>=1.2.1->gensim->node2vec) (0.2.8)\n",
            "Requirement already satisfied: cachetools<3.2,>=2.0.0 in /usr/local/lib/python3.6/dist-packages (from google-auth>=1.2.0->google-cloud-storage->smart-open>=1.2.1->gensim->node2vec) (3.1.1)\n",
            "Requirement already satisfied: google-api-core<2.0.0dev,>=1.14.0 in /usr/local/lib/python3.6/dist-packages (from google-cloud-core<2.0dev,>=1.0.0->google-cloud-storage->smart-open>=1.2.1->gensim->node2vec) (1.16.0)\n",
            "Requirement already satisfied: docutils<0.16,>=0.10 in /usr/local/lib/python3.6/dist-packages (from botocore<1.16.0,>=1.15.27->boto3->smart-open>=1.2.1->gensim->node2vec) (0.15.2)\n",
            "Requirement already satisfied: python-dateutil<3.0.0,>=2.1 in /usr/local/lib/python3.6/dist-packages (from botocore<1.16.0,>=1.15.27->boto3->smart-open>=1.2.1->gensim->node2vec) (2.8.1)\n",
            "Requirement already satisfied: pyasn1>=0.1.3 in /usr/local/lib/python3.6/dist-packages (from rsa<4.1,>=3.1.4->google-auth>=1.2.0->google-cloud-storage->smart-open>=1.2.1->gensim->node2vec) (0.4.8)\n",
            "Requirement already satisfied: pytz in /usr/local/lib/python3.6/dist-packages (from google-api-core<2.0.0dev,>=1.14.0->google-cloud-core<2.0dev,>=1.0.0->google-cloud-storage->smart-open>=1.2.1->gensim->node2vec) (2018.9)\n",
            "Requirement already satisfied: protobuf>=3.4.0 in /usr/local/lib/python3.6/dist-packages (from google-api-core<2.0.0dev,>=1.14.0->google-cloud-core<2.0dev,>=1.0.0->google-cloud-storage->smart-open>=1.2.1->gensim->node2vec) (3.10.0)\n",
            "Requirement already satisfied: googleapis-common-protos<2.0dev,>=1.6.0 in /usr/local/lib/python3.6/dist-packages (from google-api-core<2.0.0dev,>=1.14.0->google-cloud-core<2.0dev,>=1.0.0->google-cloud-storage->smart-open>=1.2.1->gensim->node2vec) (1.51.0)\n",
            "Installing collected packages: node2vec\n",
            "Successfully installed node2vec-0.3.2\n"
          ],
          "name": "stdout"
        }
      ]
    },
    {
      "cell_type": "code",
      "metadata": {
        "id": "YXOVkDWSbzjg",
        "colab_type": "code",
        "colab": {}
      },
      "source": [
        "from node2vec import Node2Vec\n",
        "\n",
        "def create_vectors_node2vec(graph:Graph) -> List[List[float]]:\n",
        "  node2vec = Node2Vec(graph, dimensions=64, walk_length=30, num_walks=200, workers=4)  \n",
        "  model = node2vec.fit(window=10, min_count=1, batch_words=4) \n",
        "  return model[list(map(str,graph.nodes))]"
      ],
      "execution_count": 0,
      "outputs": []
    },
    {
      "cell_type": "code",
      "metadata": {
        "id": "1iYvEZoncBY2",
        "colab_type": "code",
        "outputId": "fe8c6ebb-7add-4648-9f33-cbbf7a50dc29",
        "colab": {
          "base_uri": "https://localhost:8080/",
          "height": 354
        }
      },
      "source": [
        "plot_graph(\n",
        "  vectors = create_vectors_node2vec(graph1),\n",
        "  labels = map(str,range(len(graph1.nodes)))\n",
        ")"
      ],
      "execution_count": 31,
      "outputs": [
        {
          "output_type": "stream",
          "text": [
            "Computing transition probabilities: 100%|██████████| 9/9 [00:00<00:00, 5358.99it/s]\n",
            "/usr/local/lib/python3.6/dist-packages/ipykernel_launcher.py:6: DeprecationWarning: Call to deprecated `__getitem__` (Method will be removed in 4.0.0, use self.wv.__getitem__() instead).\n",
            "  \n"
          ],
          "name": "stderr"
        },
        {
          "output_type": "display_data",
          "data": {
            "image/png": "[encoded data removed]",
            "text/plain": [
              "<Figure size 432x288 with 1 Axes>"
            ]
          },
          "metadata": {
            "tags": []
          }
        }
      ]
    },
    {
      "cell_type": "code",
      "metadata": {
        "id": "fhRViT93ccK7",
        "colab_type": "code",
        "outputId": "e6c4c66f-72c1-4d53-aba5-902a69953d5a",
        "colab": {
          "base_uri": "https://localhost:8080/",
          "height": 351
        }
      },
      "source": [
        "plot_graph(\n",
        "  vectors = create_vectors_node2vec(graph2),\n",
        "  labels = map(str,range(len(graph2.nodes))),\n",
        "  colours = colours_for_graph2\n",
        ")"
      ],
      "execution_count": 32,
      "outputs": [
        {
          "output_type": "stream",
          "text": [
            "Computing transition probabilities: 100%|██████████| 8/8 [00:00<00:00, 4946.84it/s]\n",
            "/usr/local/lib/python3.6/dist-packages/ipykernel_launcher.py:6: DeprecationWarning: Call to deprecated `__getitem__` (Method will be removed in 4.0.0, use self.wv.__getitem__() instead).\n",
            "  \n"
          ],
          "name": "stderr"
        },
        {
          "output_type": "display_data",
          "data": {
            "image/png": "[encoded data removed]",
            "text/plain": [
              "<Figure size 432x288 with 1 Axes>"
            ]
          },
          "metadata": {
            "tags": []
          }
        }
      ]
    },
    {
      "cell_type": "markdown",
      "metadata": {
        "id": "tUCotB6KzjdJ",
        "colab_type": "text"
      },
      "source": [
        "# WordNet Embeddings"
      ]
    },
    {
      "cell_type": "code",
      "metadata": {
        "id": "-cqo0O7vKYBs",
        "colab_type": "code",
        "colab": {
          "base_uri": "https://localhost:8080/",
          "height": 68
        },
        "outputId": "231bf408-0b4f-4c6c-a75b-9a7bdd94bfc6"
      },
      "source": [
        "import nltk\n",
        "nltk.download('wordnet')\n",
        "from nltk.corpus import wordnet "
      ],
      "execution_count": 90,
      "outputs": [
        {
          "output_type": "stream",
          "text": [
            "[nltk_data] Downloading package wordnet to /root/nltk_data...\n",
            "[nltk_data]   Package wordnet is already up-to-date!\n"
          ],
          "name": "stdout"
        },
        {
          "output_type": "execute_result",
          "data": {
            "text/plain": [
              "True"
            ]
          },
          "metadata": {
            "tags": []
          },
          "execution_count": 90
        }
      ]
    },
    {
      "cell_type": "markdown",
      "metadata": {
        "id": "oLglObFutTyl",
        "colab_type": "text"
      },
      "source": [
        "### Parent Node Method"
      ]
    },
    {
      "cell_type": "code",
      "metadata": {
        "id": "WBukeqCRwjV1",
        "colab_type": "code",
        "colab": {}
      },
      "source": [
        "def get_all_parent_nodes_wordnet(start_synset, include_node_end:bool) -> list:\n",
        "  parent_nodes = list(\n",
        "    start_synset.closure(lambda synset: synset.hypernyms())\n",
        "  )\n",
        "  return [start_synset] + parent_nodes if include_node_end else parent_nodes"
      ],
      "execution_count": 0,
      "outputs": []
    },
    {
      "cell_type": "code",
      "metadata": {
        "id": "_l0C6MePs3ku",
        "colab_type": "code",
        "colab": {
          "base_uri": "https://localhost:8080/",
          "height": 272
        },
        "outputId": "5e5a54ef-1bb4-4c83-eb25-9d48e3d4d5fe"
      },
      "source": [
        "example_synset = wordnet.synsets(\"dog\")[0]\n",
        "parent_nodes = get_all_parent_nodes_wordnet(example_synset,include_node_end=True)\n",
        "parent_nodes"
      ],
      "execution_count": 277,
      "outputs": [
        {
          "output_type": "execute_result",
          "data": {
            "text/plain": [
              "[Synset('dog.n.01'),\n",
              " Synset('canine.n.02'),\n",
              " Synset('domestic_animal.n.01'),\n",
              " Synset('carnivore.n.01'),\n",
              " Synset('animal.n.01'),\n",
              " Synset('placental.n.01'),\n",
              " Synset('organism.n.01'),\n",
              " Synset('mammal.n.01'),\n",
              " Synset('living_thing.n.01'),\n",
              " Synset('vertebrate.n.01'),\n",
              " Synset('whole.n.02'),\n",
              " Synset('chordate.n.01'),\n",
              " Synset('object.n.01'),\n",
              " Synset('physical_entity.n.01'),\n",
              " Synset('entity.n.01')]"
            ]
          },
          "metadata": {
            "tags": []
          },
          "execution_count": 277
        }
      ]
    },
    {
      "cell_type": "code",
      "metadata": {
        "id": "M1NhTnbwtmwh",
        "colab_type": "code",
        "colab": {
          "base_uri": "https://localhost:8080/",
          "height": 319
        },
        "outputId": "62691f22-41bd-41a3-fa37-e8cce86208c5"
      },
      "source": [
        "from networkx import DiGraph\n",
        "\n",
        "graph = DiGraph()\n",
        "\n",
        "for node,parent in zip(parent_nodes, parent_nodes[1:]):\n",
        "  graph.add_edge(node.name(), parent.name())\n",
        "\n",
        "draw(graph, edge_color='r', with_labels=True)"
      ],
      "execution_count": 287,
      "outputs": [
        {
          "output_type": "display_data",
          "data": {
            "image/png": "[encoded data removed]",
            "text/plain": [
              "<Figure size 432x288 with 1 Axes>"
            ]
          },
          "metadata": {
            "tags": []
          }
        }
      ]
    },
    {
      "cell_type": "markdown",
      "metadata": {
        "id": "0Uph98RXtYMN",
        "colab_type": "text"
      },
      "source": [
        "### Random-Walk method"
      ]
    },
    {
      "cell_type": "code",
      "metadata": {
        "id": "58LiW6ImLp70",
        "colab_type": "code",
        "colab": {}
      },
      "source": [
        "def get_all_related_synsets(synset) -> list:\n",
        "  return synset.hypernyms() + synset.hyponyms() + synset.part_meronyms() +\\\n",
        "  synset.substance_meronyms() + synset.member_meronyms() + synset.part_holonyms() +\\\n",
        "  synset.substance_holonyms() + synset.member_holonyms() + synset.topic_domains() +\\\n",
        "  synset.region_domains() + synset.usage_domains() + synset.entailments() +\\\n",
        "  synset.causes() + synset.also_sees() + synset.verb_groups() + synset.similar_tos()"
      ],
      "execution_count": 0,
      "outputs": []
    },
    {
      "cell_type": "code",
      "metadata": {
        "id": "LAL913dMarp8",
        "colab_type": "code",
        "colab": {}
      },
      "source": [
        "def random_walk_wordnet(synset,steps:int) -> List[str]:\n",
        "  path = []\n",
        "  for _ in range(steps):\n",
        "    path.append(synset.name())\n",
        "    adjacent_nodes = get_all_related_synsets(synset)\n",
        "    if adjacent_nodes:\n",
        "      synset = choice(adjacent_nodes)\n",
        "    else:\n",
        "      break\n",
        "  return path"
      ],
      "execution_count": 0,
      "outputs": []
    },
    {
      "cell_type": "code",
      "metadata": {
        "id": "8w116xqJa6Sq",
        "colab_type": "code",
        "colab": {
          "base_uri": "https://localhost:8080/",
          "height": 187
        },
        "outputId": "40172d55-2634-4392-eb1f-89f58e373c10"
      },
      "source": [
        "example_synset = wordnet.synsets(\"dog\")[0]\n",
        "random_walk_wordnet(example_synset, 10)"
      ],
      "execution_count": 327,
      "outputs": [
        {
          "output_type": "execute_result",
          "data": {
            "text/plain": [
              "['dog.n.01',\n",
              " 'canis.n.01',\n",
              " 'dog.n.01',\n",
              " 'canis.n.01',\n",
              " 'dog.n.01',\n",
              " 'pack.n.06',\n",
              " 'animal_group.n.01',\n",
              " 'drove.n.01',\n",
              " 'animal_group.n.01',\n",
              " 'warren.n.05']"
            ]
          },
          "metadata": {
            "tags": []
          },
          "execution_count": 327
        }
      ]
    },
    {
      "cell_type": "code",
      "metadata": {
        "id": "6CbvOaSyb6wq",
        "colab_type": "code",
        "colab": {}
      },
      "source": [
        "def generate_training_set_wordnet(random_walk_repeats:int, random_walk_path_length:int) -> List[List[str]]:\n",
        "  return [\n",
        "    random_walk_wordnet(\n",
        "      synset = synset,\n",
        "      steps = random_walk_path_length,\n",
        "    ) for synset in wordnet.all_synsets() for _ in range(random_walk_repeats)\n",
        "  ]"
      ],
      "execution_count": 0,
      "outputs": []
    },
    {
      "cell_type": "code",
      "metadata": {
        "id": "kjfSDRjydI4u",
        "colab_type": "code",
        "colab": {}
      },
      "source": [
        "def create_vectors_from_random_walk_wordnet() -> Tuple[List[str],List[float]]:\n",
        "  skipgram_model = Word2Vec(window = 4, sg = 1, hs = 0,negative = 10, alpha=.03, min_alpha=.0007, seed = 14)\n",
        "  training_set_for_graph = generate_training_set_wordnet(2, 5)\n",
        "  skipgram_model.build_vocab(training_set_for_graph, progress_per=2)\n",
        "  skipgram_model.train(\n",
        "    training_set_for_graph, \n",
        "    total_examples = skipgram_model.corpus_count, \n",
        "    epochs=20, \n",
        "    report_delay=1\n",
        "  )\n",
        "  vocabulary = list(skipgram_model.wv.vocab.keys())\n",
        "  return vocabulary, list(\n",
        "    skipgram_model[vocabulary]\n",
        "  )"
      ],
      "execution_count": 0,
      "outputs": []
    },
    {
      "cell_type": "code",
      "metadata": {
        "id": "b1IQ9_7dYsPB",
        "colab_type": "code",
        "colab": {
          "base_uri": "https://localhost:8080/",
          "height": 71
        },
        "outputId": "a8e00b7a-2ca4-4d9a-94d1-a8af20137d16"
      },
      "source": [
        "wordnet_vocabulary, wordnet_vectors = create_vectors_from_random_walk_wordnet()"
      ],
      "execution_count": 331,
      "outputs": [
        {
          "output_type": "stream",
          "text": [
            "/usr/local/lib/python3.6/dist-packages/ipykernel_launcher.py:13: DeprecationWarning: Call to deprecated `__getitem__` (Method will be removed in 4.0.0, use self.wv.__getitem__() instead).\n",
            "  del sys.path[0]\n"
          ],
          "name": "stderr"
        }
      ]
    },
    {
      "cell_type": "code",
      "metadata": {
        "id": "LkpZy-MYlDCC",
        "colab_type": "code",
        "colab": {
          "base_uri": "https://localhost:8080/",
          "height": 34
        },
        "outputId": "6fcf952a-5c3a-4ce7-fcb7-82db4a670290"
      },
      "source": [
        "len(wordnet_vocabulary)"
      ],
      "execution_count": 332,
      "outputs": [
        {
          "output_type": "execute_result",
          "data": {
            "text/plain": [
              "81512"
            ]
          },
          "metadata": {
            "tags": []
          },
          "execution_count": 332
        }
      ]
    },
    {
      "cell_type": "code",
      "metadata": {
        "id": "2sCMsAUJ9522",
        "colab_type": "code",
        "colab": {
          "base_uri": "https://localhost:8080/",
          "height": 34
        },
        "outputId": "b49e2866-9917-4c13-e85c-f928221553fe"
      },
      "source": [
        "len(wordnet_vectors)"
      ],
      "execution_count": 333,
      "outputs": [
        {
          "output_type": "execute_result",
          "data": {
            "text/plain": [
              "81512"
            ]
          },
          "metadata": {
            "tags": []
          },
          "execution_count": 333
        }
      ]
    },
    {
      "cell_type": "code",
      "metadata": {
        "id": "5z0FGBun-AVA",
        "colab_type": "code",
        "colab": {
          "base_uri": "https://localhost:8080/",
          "height": 280
        },
        "outputId": "1cfb7286-8a0a-42ce-c42b-9ed2d4d94152"
      },
      "source": [
        "plot_graph(\n",
        "  vectors = wordnet_vectors[:12],\n",
        "  labels = wordnet_vocabulary[:12],\n",
        ")"
      ],
      "execution_count": 340,
      "outputs": [
        {
          "output_type": "display_data",
          "data": {
            "image/png": "[encoded data removed]",
            "text/plain": [
              "<Figure size 432x288 with 1 Axes>"
            ]
          },
          "metadata": {
            "tags": []
          }
        }
      ]
    },
    {
      "cell_type": "code",
      "metadata": {
        "id": "vlCwUpXc_41n",
        "colab_type": "code",
        "colab": {}
      },
      "source": [
        "from numpy import mean, zeros_like\n",
        "\n",
        "def get_wordnet_vector_for_word(word:str, vocabulary:List[str], vectors:List[List[float]]) -> List[float]:\n",
        "  possible_synsets_for_word = [\n",
        "    synset.name() for synset in wordnet.synsets(word) if synset.name() in vocabulary\n",
        "  ]\n",
        "  if possible_synsets_for_word:\n",
        "    synset_indexes = map(\n",
        "      lambda synset_name :vocabulary.index(synset_name),\n",
        "      possible_synsets_for_word\n",
        "    )\n",
        "    possible_vectors = map(\n",
        "      lambda index : vectors[index],\n",
        "      synset_indexes\n",
        "    )\n",
        "    return mean(list(possible_vectors), axis=0)\n",
        "  return zeros_like(vectors[0])"
      ],
      "execution_count": 0,
      "outputs": []
    },
    {
      "cell_type": "code",
      "metadata": {
        "id": "oGRmqmyTFF9x",
        "colab_type": "code",
        "colab": {
          "base_uri": "https://localhost:8080/",
          "height": 374
        },
        "outputId": "000bdeac-2f83-4b8a-ae2a-4434df739fe5"
      },
      "source": [
        "get_wordnet_vector_for_word(\"cat\", wordnet_vocabulary, wordnet_vectors)"
      ],
      "execution_count": 373,
      "outputs": [
        {
          "output_type": "execute_result",
          "data": {
            "text/plain": [
              "array([-0.0574913 ,  0.07957515,  0.3491341 ,  0.17068674, -0.3621271 ,\n",
              "       -0.08846668,  0.00635384,  0.09522622,  0.19410779,  0.05792175,\n",
              "        0.12355735,  0.20431311, -0.1800737 , -0.26895282, -0.12390616,\n",
              "        0.11764129,  0.18188459,  0.2829374 ,  0.01008003,  0.11990938,\n",
              "       -0.50398767, -0.17844267, -0.00980711,  0.36515486,  0.16770865,\n",
              "        0.0503007 , -0.20097764, -0.11769891,  0.15714751,  0.06426179,\n",
              "        0.2527846 ,  0.3146583 , -0.18970077, -0.12676413,  0.07218028,\n",
              "        0.45677114,  0.444621  ,  0.19871847, -0.15369157,  0.01108782,\n",
              "        0.10986325, -0.20799099, -0.4313567 ,  0.21042801,  0.27728716,\n",
              "       -0.18859003,  0.12449346,  0.00565637, -0.06268754, -0.03015422,\n",
              "        0.0751917 ,  0.1320804 , -0.04452032, -0.13724272, -0.4481627 ,\n",
              "       -0.58144635,  0.00135453,  0.0058699 , -0.19150023,  0.25752798,\n",
              "        0.4208574 ,  0.12054905,  0.00468743,  0.2916182 ,  0.07912584,\n",
              "       -0.4353    ,  0.08743665, -0.3667997 , -0.20976143,  0.02433077,\n",
              "       -0.15780933,  0.08221029, -0.14970236, -0.18198405,  0.42402124,\n",
              "       -0.24440902, -0.02922494,  0.0934731 , -0.27285787,  0.01436121,\n",
              "        0.20950133,  0.2871606 , -0.44132605, -0.03524398, -0.2900341 ,\n",
              "       -0.33632627, -0.1821825 ,  0.17351641,  0.25147966, -0.01859724,\n",
              "        0.45304167, -0.06704601,  0.4492136 ,  0.10304891,  0.36543623,\n",
              "        0.28781238, -0.42409328, -0.11233014, -0.42250073, -0.29516968],\n",
              "      dtype=float32)"
            ]
          },
          "metadata": {
            "tags": []
          },
          "execution_count": 373
        }
      ]
    },
    {
      "cell_type": "code",
      "metadata": {
        "id": "a64mz6FICXBi",
        "colab_type": "code",
        "colab": {
          "base_uri": "https://localhost:8080/",
          "height": 280
        },
        "outputId": "602c8335-9a56-4ad6-8079-fbf848521395"
      },
      "source": [
        "example_words = [\"cat\", \"dog\", \"puppy\", \"robot\", \"ai\", \"machine\", \"\",\"nnaskans\"]\n",
        "plot_graph(\n",
        "  vectors = list(map(lambda word: get_wordnet_vector_for_word(word, wordnet_vocabulary, wordnet_vectors), example_words)),\n",
        "  labels = example_words,\n",
        ")"
      ],
      "execution_count": 383,
      "outputs": [
        {
          "output_type": "display_data",
          "data": {
            "image/png": "[encoded data removed]",
            "text/plain": [
              "<Figure size 432x288 with 1 Axes>"
            ]
          },
          "metadata": {
            "tags": []
          }
        }
      ]
    },
    {
      "cell_type": "markdown",
      "metadata": {
        "id": "3X-46M37_z9C",
        "colab_type": "text"
      },
      "source": [
        "# Machine Learning Task (using WordNet Vectors)"
      ]
    },
    {
      "cell_type": "code",
      "metadata": {
        "id": "f08BNWgaMcF-",
        "colab_type": "code",
        "colab": {}
      },
      "source": [
        "animals = [\n",
        "  \"dog\",\n",
        "  \"cat\",\n",
        "  \"person\",\n",
        "  \"rabbit\",\n",
        "]\n",
        "not_animals =[\n",
        "  \"machine\",\n",
        "  \"robot\",\n",
        "  \"robot\",\n",
        "  \"ai\"              \n",
        "]\n",
        "\n",
        "training_inputs = list(\n",
        "  map(\n",
        "    lambda word: get_wordnet_vector_for_word(word, wordnet_vocabulary, wordnet_vectors),\n",
        "    animals + not_animals \n",
        "  )\n",
        ")\n",
        "training_output_labels = [\"animal\"]*len(animals) + [\"not_animal\"]*len(not_animals)"
      ],
      "execution_count": 0,
      "outputs": []
    },
    {
      "cell_type": "code",
      "metadata": {
        "id": "Z79cvxAvPBzg",
        "colab_type": "code",
        "colab": {
          "base_uri": "https://localhost:8080/",
          "height": 153
        },
        "outputId": "0926e235-f26d-4c88-c48f-ceae31209a0b"
      },
      "source": [
        "list(zip(animals + not_animals, training_outputs))"
      ],
      "execution_count": 398,
      "outputs": [
        {
          "output_type": "execute_result",
          "data": {
            "text/plain": [
              "[('dog', 'animal'),\n",
              " ('cat', 'animal'),\n",
              " ('person', 'animal'),\n",
              " ('rabbit', 'animal'),\n",
              " ('machine', 'not_animal'),\n",
              " ('robot', 'not_animal'),\n",
              " ('robot', 'not_animal'),\n",
              " ('ai', 'not_animal')]"
            ]
          },
          "metadata": {
            "tags": []
          },
          "execution_count": 398
        }
      ]
    },
    {
      "cell_type": "code",
      "metadata": {
        "id": "CAY0qpeRHN-b",
        "colab_type": "code",
        "colab": {
          "base_uri": "https://localhost:8080/",
          "height": 85
        },
        "outputId": "d11466c2-bc17-478e-8f08-fed6fca6441d"
      },
      "source": [
        "from sklearn.svm import SVC\n",
        "svm_classifier = SVC()\n",
        "svm_classifier.fit(training_inputs, training_output_labels)"
      ],
      "execution_count": 389,
      "outputs": [
        {
          "output_type": "execute_result",
          "data": {
            "text/plain": [
              "SVC(C=1.0, break_ties=False, cache_size=200, class_weight=None, coef0=0.0,\n",
              "    decision_function_shape='ovr', degree=3, gamma='scale', kernel='rbf',\n",
              "    max_iter=-1, probability=False, random_state=None, shrinking=True,\n",
              "    tol=0.001, verbose=False)"
            ]
          },
          "metadata": {
            "tags": []
          },
          "execution_count": 389
        }
      ]
    },
    {
      "cell_type": "code",
      "metadata": {
        "id": "-GEwk4dpN1qf",
        "colab_type": "code",
        "colab": {
          "base_uri": "https://localhost:8080/",
          "height": 187
        },
        "outputId": "89226dbf-b283-4b1a-842a-6857d5edffa5"
      },
      "source": [
        "word = \"\"\n",
        "while word != \"exit\":\n",
        "  word = input(\">\")\n",
        "  print(\n",
        "    svm_classifier.predict(\n",
        "      [get_wordnet_vector_for_word(\n",
        "        word = word, \n",
        "        vocabulary = wordnet_vocabulary, \n",
        "        vectors = wordnet_vectors\n",
        "      )]\n",
        "    )[0]\n",
        "  )"
      ],
      "execution_count": 401,
      "outputs": [
        {
          "output_type": "stream",
          "text": [
            ">car\n",
            "not_animal\n",
            ">motorbike\n",
            "not_animal\n",
            ">cat\n",
            "animal\n",
            ">kitten\n",
            "animal\n",
            ">exit\n",
            "animal\n"
          ],
          "name": "stdout"
        }
      ]
    }
  ]
}