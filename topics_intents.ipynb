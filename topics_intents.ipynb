{
  "nbformat": 4,
  "nbformat_minor": 0,
  "metadata": {
    "colab": {
      "name": "topics_intents.ipynb",
      "version": "0.3.2",
      "provenance": [],
      "collapsed_sections": [],
      "include_colab_link": true
    },
    "kernelspec": {
      "name": "python3",
      "display_name": "Python 3"
    },
    "accelerator": "GPU"
  },
  "cells": [
    {
      "cell_type": "markdown",
      "metadata": {
        "id": "view-in-github",
        "colab_type": "text"
      },
      "source": [
        "<a href=\"https://colab.research.google.com/github/mohammedterry/NLP_for_ML/blob/master/topics_intents.ipynb\" target=\"_parent\"><img src=\"https://colab.research.google.com/assets/colab-badge.svg\" alt=\"Open In Colab\"/></a>"
      ]
    },
    {
      "metadata": {
        "id": "zJX_5IZ9vNvb",
        "colab_type": "code",
        "colab": {}
      },
      "cell_type": "code",
      "source": [
        "example_text = '''\n",
        "A huge fireball exploded in the Earth's atmosphere in December, according to Nasa.\n",
        "\n",
        "The blast was the second largest of its kind in 30 years, and the biggest since the fireball over Chelyabinsk in Russia six years ago.\n",
        "\n",
        "But it went largely unnoticed until now because it blew up over the Bering Sea, off Russia's Kamchatka Peninsula.\n",
        "\n",
        "The space rock exploded with 10 times the energy released by the Hiroshima atomic bomb.\n",
        "\n",
        "Lindley Johnson, planetary defence officer at Nasa, told BBC News a fireball this big is only expected about two or three times every 100 years.\n",
        "'''"
      ],
      "execution_count": 0,
      "outputs": []
    },
    {
      "metadata": {
        "id": "5SLs12EQ6lW3",
        "colab_type": "text"
      },
      "cell_type": "markdown",
      "source": [
        "### preprocessing raw text"
      ]
    },
    {
      "metadata": {
        "id": "SOFDnlV1sYoy",
        "colab_type": "code",
        "colab": {
          "base_uri": "https://localhost:8080/",
          "height": 85
        },
        "outputId": "e8e76b2d-8b44-41d3-99e0-b935cb660a4c"
      },
      "cell_type": "code",
      "source": [
        "import nltk\n",
        "nltk.download('stopwords')\n",
        "nltk.download('wordnet')\n",
        "\n",
        "from nltk.corpus import stopwords\n",
        "stopWords = stopwords.words('english')\n",
        "\n",
        "from nltk.stem import WordNetLemmatizer\n",
        "wn_lemmatiser = WordNetLemmatizer()\n",
        "\n",
        "def clean(text):\n",
        "  return ' '.join(''.join(letter if ord('a') <= ord(letter) <= ord('z') or letter.isdigit() else ' ' for letter in text.lower()).split())\n",
        "\n",
        "def preprocess(document):\n",
        "  return [wn_lemmatiser.lemmatize(word,pos='v') for word in clean(document).split() if word not in stopWords]"
      ],
      "execution_count": 118,
      "outputs": [
        {
          "output_type": "stream",
          "text": [
            "[nltk_data] Downloading package stopwords to /root/nltk_data...\n",
            "[nltk_data]   Package stopwords is already up-to-date!\n",
            "[nltk_data] Downloading package wordnet to /root/nltk_data...\n",
            "[nltk_data]   Package wordnet is already up-to-date!\n"
          ],
          "name": "stdout"
        }
      ]
    },
    {
      "metadata": {
        "id": "B34O9tNY7S03",
        "colab_type": "code",
        "colab": {
          "base_uri": "https://localhost:8080/",
          "height": 54
        },
        "outputId": "aabac787-8309-4e27-89c2-e0c0d63cdd19"
      },
      "cell_type": "code",
      "source": [
        "' '.join(preprocess(example_text))"
      ],
      "execution_count": 146,
      "outputs": [
        {
          "output_type": "execute_result",
          "data": {
            "text/plain": [
              "'huge fireball explode earth atmosphere december accord nasa blast second largest kind 30 years biggest since fireball chelyabinsk russia six years ago go largely unnoticed blow bering sea russia kamchatka peninsula space rock explode 10 time energy release hiroshima atomic bomb lindley johnson planetary defence officer nasa tell bbc news fireball big expect two three time every 100 years'"
            ]
          },
          "metadata": {
            "tags": []
          },
          "execution_count": 146
        }
      ]
    },
    {
      "metadata": {
        "id": "aan_QRxzHTWz",
        "colab_type": "text"
      },
      "cell_type": "markdown",
      "source": [
        "# LDA\n"
      ]
    },
    {
      "metadata": {
        "id": "9TwLltwr7s2e",
        "colab_type": "text"
      },
      "cell_type": "markdown",
      "source": [
        "### Pre-trained LDA models"
      ]
    },
    {
      "metadata": {
        "id": "u-6vkALx6OLL",
        "colab_type": "text"
      },
      "cell_type": "markdown",
      "source": [
        "load some pretrained lda models"
      ]
    },
    {
      "metadata": {
        "id": "cmBci1Xf6VyD",
        "colab_type": "code",
        "colab": {}
      },
      "cell_type": "code",
      "source": [
        "from gensim.test.utils import datapath\n",
        "import gensim\n",
        "\n",
        "lda1 = gensim.models.LdaMulticore.load(datapath(\"lda_3_0_1_model\"))\n",
        "lda2 = gensim.models.LdaMulticore.load(datapath(\"ldamodel_python_3_5\"))"
      ],
      "execution_count": 0,
      "outputs": []
    },
    {
      "metadata": {
        "id": "7JGzT-Mq6eO9",
        "colab_type": "code",
        "colab": {}
      },
      "cell_type": "code",
      "source": [
        "def lda_topics(text, model, top_n = 3):\n",
        "  results = dict(model[model.id2word.doc2bow(preprocess(text))])\n",
        "  return[(topic,'/'.join([w for w in model.print_topic(topic,5).split('\"') if w.isalpha()]), score) for score,topic in sorted(zip(results.values(), results.keys()), reverse=True)][:top_n]"
      ],
      "execution_count": 0,
      "outputs": []
    },
    {
      "metadata": {
        "id": "4cHR4bTT7vdE",
        "colab_type": "text"
      },
      "cell_type": "markdown",
      "source": [
        "try them out"
      ]
    },
    {
      "metadata": {
        "id": "k2lZuQpE61x4",
        "colab_type": "code",
        "colab": {
          "base_uri": "https://localhost:8080/",
          "height": 51
        },
        "outputId": "fa69e50b-1240-4a0a-cfca-ce2ee235bf69"
      },
      "cell_type": "code",
      "source": [
        "lda_topics(example_text, lda1)"
      ],
      "execution_count": 143,
      "outputs": [
        {
          "output_type": "execute_result",
          "data": {
            "text/plain": [
              "[(0, 'system/user/eps/time/response', 0.8268186987472599),\n",
              " (1, 'graph/trees/minors/survey/interface', 0.17318130125274017)]"
            ]
          },
          "metadata": {
            "tags": []
          },
          "execution_count": 143
        }
      ]
    },
    {
      "metadata": {
        "id": "gK2mU_du60Ol",
        "colab_type": "code",
        "colab": {
          "base_uri": "https://localhost:8080/",
          "height": 51
        },
        "outputId": "bf120cf7-1869-490b-99ad-a2695a5ec0e3"
      },
      "cell_type": "code",
      "source": [
        "lda_topics(example_text, lda2)"
      ],
      "execution_count": 144,
      "outputs": [
        {
          "output_type": "execute_result",
          "data": {
            "text/plain": [
              "[(1, 'response/user/eps/survey/time', 0.8268134549578768),\n",
              " (0, 'graph/trees/minors/system/computer', 0.17318654504212305)]"
            ]
          },
          "metadata": {
            "tags": []
          },
          "execution_count": 144
        }
      ]
    },
    {
      "metadata": {
        "id": "J1uyBY7p67aV",
        "colab_type": "text"
      },
      "cell_type": "markdown",
      "source": [
        "### Train your own LDA model"
      ]
    },
    {
      "metadata": {
        "id": "bUgQCfbBy5tu",
        "colab_type": "text"
      },
      "cell_type": "markdown",
      "source": [
        "Get some sample documents to represent the topics"
      ]
    },
    {
      "metadata": {
        "id": "_S_lEWYjHWCP",
        "colab_type": "code",
        "colab": {}
      },
      "cell_type": "code",
      "source": [
        "from sklearn.datasets import fetch_20newsgroups\n",
        "newsgroups_train = fetch_20newsgroups(subset='train', shuffle = True, remove=('headers', 'footers', 'quotes'))\n",
        "preprocessed_docs = [preprocess(doc) for doc in newsgroups_train.data]"
      ],
      "execution_count": 0,
      "outputs": []
    },
    {
      "metadata": {
        "id": "tS3UOCO1y9hu",
        "colab_type": "text"
      },
      "cell_type": "markdown",
      "source": [
        "train an LDA model on the sample documents"
      ]
    },
    {
      "metadata": {
        "id": "jEvNolZtuIuF",
        "colab_type": "code",
        "colab": {}
      },
      "cell_type": "code",
      "source": [
        "import gensim\n",
        "vocab = gensim.corpora.Dictionary(preprocessed_docs)\n",
        "vocab.filter_extremes(no_below=15, no_above=0.1, keep_n= 100000)\n",
        "bow_corpus = [vocab.doc2bow(doc) for doc in preprocessed_docs]\n",
        "lda_model = gensim.models.LdaMulticore(bow_corpus, num_topics = 20, id2word = vocab, passes = 10, workers = 2)"
      ],
      "execution_count": 0,
      "outputs": []
    },
    {
      "metadata": {
        "id": "2q0_0_nczCJG",
        "colab_type": "text"
      },
      "cell_type": "markdown",
      "source": [
        "save the trained LDA model"
      ]
    },
    {
      "metadata": {
        "id": "M50LUq08xyQ8",
        "colab_type": "code",
        "colab": {}
      },
      "cell_type": "code",
      "source": [
        "from gensim.test.utils import datapath\n",
        "temp_file = datapath(\"lda\")\n",
        "lda_model.save(temp_file)"
      ],
      "execution_count": 0,
      "outputs": []
    },
    {
      "metadata": {
        "id": "VG86FhoGzEit",
        "colab_type": "text"
      },
      "cell_type": "markdown",
      "source": [
        "load in the trained LDA model"
      ]
    },
    {
      "metadata": {
        "id": "4QaiAJZnyMQL",
        "colab_type": "code",
        "colab": {}
      },
      "cell_type": "code",
      "source": [
        "your_lda = gensim.models.LdaMulticore.load(temp_file)"
      ],
      "execution_count": 0,
      "outputs": []
    },
    {
      "metadata": {
        "id": "7dGFGQBOzG5F",
        "colab_type": "text"
      },
      "cell_type": "markdown",
      "source": [
        "test out the trained LDA model"
      ]
    },
    {
      "metadata": {
        "id": "C_L_LGU97ICu",
        "colab_type": "code",
        "colab": {
          "base_uri": "https://localhost:8080/",
          "height": 68
        },
        "outputId": "a6f60f47-b29b-40d0-df0b-3a7b67f171c2"
      },
      "cell_type": "code",
      "source": [
        "lda_topics(example_text, your_lda)"
      ],
      "execution_count": 145,
      "outputs": [
        {
          "output_type": "execute_result",
          "data": {
            "text/plain": [
              "[(3, 'gun/government/us/really/keep', 0.33644345),\n",
              " (17, 'state/program/report/national/research', 0.27499065),\n",
              " (2, 'wire/cause/power/back/grind', 0.16544925)]"
            ]
          },
          "metadata": {
            "tags": []
          },
          "execution_count": 145
        }
      ]
    },
    {
      "metadata": {
        "id": "MnsWgOWttJjz",
        "colab_type": "text"
      },
      "cell_type": "markdown",
      "source": [
        "# ShortText"
      ]
    },
    {
      "metadata": {
        "id": "CZMIzWya9JP_",
        "colab_type": "code",
        "colab": {}
      },
      "cell_type": "code",
      "source": [
        "!pip3 install shorttext\n",
        "!wget https://s3.amazonaws.com/dl4j-distribution/GoogleNews-vectors-negative300.bin.gz\n",
        "from shorttext.utils import load_word2vec_model\n",
        "wvmodel = load_word2vec_model('GoogleNews-vectors-negative300.bin.gz')\n",
        "\n",
        "import shorttext\n",
        "nihtraindata = shorttext.data.nihreports(sample_size=None)\n",
        "classifier = shorttext.classifiers.SumEmbeddedVecClassifier(wvmodel)   \n",
        "classifier.train(nihtraindata)\n",
        "classifier.save_compact_model('sumvec_nihdata_model.bin')\n",
        "!ls\n",
        "\n",
        "classifier2 = shorttext.classifiers.load_sumword2vec_classifier(wvmodel, 'sumvec_nihdata_model.bin')\n",
        "\n",
        "classifier2.score('bioinformatics')\n",
        "\n",
        "sorted(classifier2.score('cancer immunotherapy').items(), key=lambda item: item[1], reverse=True)[:5]"
      ],
      "execution_count": 0,
      "outputs": []
    }
  ]
}