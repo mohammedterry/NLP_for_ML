{
  "nbformat": 4,
  "nbformat_minor": 0,
  "metadata": {
    "colab": {
      "name": "Sentiment_Analysis.ipynb",
      "version": "0.3.2",
      "provenance": [],
      "collapsed_sections": [],
      "include_colab_link": true
    },
    "kernelspec": {
      "name": "python3",
      "display_name": "Python 3"
    },
    "accelerator": "TPU"
  },
  "cells": [
    {
      "cell_type": "markdown",
      "metadata": {
        "id": "view-in-github",
        "colab_type": "text"
      },
      "source": [
        "<a href=\"https://colab.research.google.com/github/mohammedterry/NLP_for_ML/blob/master/Sentiment_Analysis.ipynb\" target=\"_parent\"><img src=\"https://colab.research.google.com/assets/colab-badge.svg\" alt=\"Open In Colab\"/></a>"
      ]
    },
    {
      "metadata": {
        "id": "pS9lDblHONBx",
        "colab_type": "text"
      },
      "cell_type": "markdown",
      "source": [
        "# Sentiment Analysis\n",
        "![alt text](https://ai2-s2-public.s3.amazonaws.com/figures/2017-08-08/0cc39c70021d21fc0d2fd7a986ccd242bef86c29/6-Figure1-1.png)"
      ]
    },
    {
      "metadata": {
        "id": "3E3QOWoqaJAn",
        "colab_type": "code",
        "colab": {}
      },
      "cell_type": "code",
      "source": [
        "import pandas as pd\n",
        "import seaborn as sns\n",
        "\n",
        "sns.set(rc={'figure.figsize':(30,1)})\n",
        "\n",
        "def visualise_sentiments(data):\n",
        "  sns.heatmap(pd.DataFrame(data).set_index(\"Sentence\").T,center=0, annot=True, cmap = \"PiYG\")"
      ],
      "execution_count": 0,
      "outputs": []
    },
    {
      "metadata": {
        "id": "QBpYqUI0SNiI",
        "colab_type": "code",
        "colab": {}
      },
      "cell_type": "code",
      "source": [
        "sentence = \"i really like you but you can be so dumb some times\""
      ],
      "execution_count": 0,
      "outputs": []
    },
    {
      "metadata": {
        "id": "bf9sNRfiyJv8",
        "colab_type": "text"
      },
      "cell_type": "markdown",
      "source": [
        "## MonkeyLearn (API)"
      ]
    },
    {
      "metadata": {
        "id": "LvaKPIcfyMxZ",
        "colab_type": "code",
        "colab": {
          "base_uri": "https://localhost:8080/",
          "height": 1403
        },
        "outputId": "9fc336dc-2f03-4c08-c86d-7c99a8e482a7"
      },
      "cell_type": "code",
      "source": [
        "import requests,json\n",
        "\n",
        "KEY = \"Token 8ce6d33e0d0ee777241ce0a8eb78713f43e27fa4\"\n",
        "ENDPOINT = \"https://api.monkeylearn.com/v3/classifiers/cl_pi3C7JiL/classify/\"\n",
        "r = requests.post(ENDPOINT, headers = {\"Authorization\":KEY,\"Content-Type\":\"application/json\"},data = json.dumps({\"data\": [sentence] + sentence.split()}))\n",
        "result = json.loads(r.text)\n",
        "result"
      ],
      "execution_count": 234,
      "outputs": [
        {
          "output_type": "execute_result",
          "data": {
            "text/plain": [
              "[{'classifications': [{'confidence': 0.871,\n",
              "    'tag_id': 60333049,\n",
              "    'tag_name': 'Negative'}],\n",
              "  'error': False,\n",
              "  'external_id': None,\n",
              "  'text': 'i really like you but you can be so dumb some times'},\n",
              " {'classifications': [{'confidence': 0.656,\n",
              "    'tag_id': 60333050,\n",
              "    'tag_name': 'Neutral'}],\n",
              "  'error': False,\n",
              "  'external_id': None,\n",
              "  'text': 'i'},\n",
              " {'classifications': [{'confidence': 0.734,\n",
              "    'tag_id': 60333050,\n",
              "    'tag_name': 'Neutral'}],\n",
              "  'error': False,\n",
              "  'external_id': None,\n",
              "  'text': 'really'},\n",
              " {'classifications': [{'confidence': 0.943,\n",
              "    'tag_id': 60333048,\n",
              "    'tag_name': 'Positive'}],\n",
              "  'error': False,\n",
              "  'external_id': None,\n",
              "  'text': 'like'},\n",
              " {'classifications': [{'confidence': 0.742,\n",
              "    'tag_id': 60333050,\n",
              "    'tag_name': 'Neutral'}],\n",
              "  'error': False,\n",
              "  'external_id': None,\n",
              "  'text': 'you'},\n",
              " {'classifications': [{'confidence': 0.824,\n",
              "    'tag_id': 60333050,\n",
              "    'tag_name': 'Neutral'}],\n",
              "  'error': False,\n",
              "  'external_id': None,\n",
              "  'text': 'but'},\n",
              " {'classifications': [{'confidence': 0.742,\n",
              "    'tag_id': 60333050,\n",
              "    'tag_name': 'Neutral'}],\n",
              "  'error': False,\n",
              "  'external_id': None,\n",
              "  'text': 'you'},\n",
              " {'classifications': [{'confidence': 0.731,\n",
              "    'tag_id': 60333050,\n",
              "    'tag_name': 'Neutral'}],\n",
              "  'error': False,\n",
              "  'external_id': None,\n",
              "  'text': 'can'},\n",
              " {'classifications': [{'confidence': 0.809,\n",
              "    'tag_id': 60333050,\n",
              "    'tag_name': 'Neutral'}],\n",
              "  'error': False,\n",
              "  'external_id': None,\n",
              "  'text': 'be'},\n",
              " {'classifications': [{'confidence': 0.732,\n",
              "    'tag_id': 60333050,\n",
              "    'tag_name': 'Neutral'}],\n",
              "  'error': False,\n",
              "  'external_id': None,\n",
              "  'text': 'so'},\n",
              " {'classifications': [{'confidence': 0.803,\n",
              "    'tag_id': 60333049,\n",
              "    'tag_name': 'Negative'}],\n",
              "  'error': False,\n",
              "  'external_id': None,\n",
              "  'text': 'dumb'},\n",
              " {'classifications': [{'confidence': 0.688,\n",
              "    'tag_id': 60333050,\n",
              "    'tag_name': 'Neutral'}],\n",
              "  'error': False,\n",
              "  'external_id': None,\n",
              "  'text': 'some'},\n",
              " {'classifications': [{'confidence': 0.833,\n",
              "    'tag_id': 60333050,\n",
              "    'tag_name': 'Neutral'}],\n",
              "  'error': False,\n",
              "  'external_id': None,\n",
              "  'text': 'times'}]"
            ]
          },
          "metadata": {
            "tags": []
          },
          "execution_count": 234
        }
      ]
    },
    {
      "metadata": {
        "id": "iYg8TLT50smg",
        "colab_type": "code",
        "colab": {
          "base_uri": "https://localhost:8080/",
          "height": 135
        },
        "outputId": "76f63eaf-96c7-4034-aa0a-a9c14c6819f5"
      },
      "cell_type": "code",
      "source": [
        "visualise_sentiments({\n",
        "    \"Sentence\":[\"SENTENCE\"] + sentence.split(),\n",
        "    \"Sentiment\":[res[\"classifications\"][0][\"confidence\"] * int(res[\"classifications\"][0][\"tag_name\"] != \"Neutral\") * (1,-1)[res[\"classifications\"][0][\"tag_name\"].startswith(\"Neg\")] for res in result],\n",
        "})"
      ],
      "execution_count": 246,
      "outputs": [
        {
          "output_type": "display_data",
          "data": {
            "image/png": "[encoded data removed]",
            "text/plain": [
              "<Figure size 2160x72 with 2 Axes>"
            ]
          },
          "metadata": {
            "tags": []
          }
        }
      ]
    },
    {
      "metadata": {
        "id": "PnFIqyY7OIuu",
        "colab_type": "text"
      },
      "cell_type": "markdown",
      "source": [
        "## NLTK Vader"
      ]
    },
    {
      "metadata": {
        "id": "0PWxpQSAO6x2",
        "colab_type": "code",
        "colab": {
          "base_uri": "https://localhost:8080/",
          "height": 34
        },
        "outputId": "d88de1c7-789c-4a58-eddf-9defc0b22990"
      },
      "cell_type": "code",
      "source": [
        "import nltk\n",
        "nltk.download('vader_lexicon')\n",
        "from nltk.sentiment.vader import SentimentIntensityAnalyzer\n",
        "sid = SentimentIntensityAnalyzer()"
      ],
      "execution_count": 12,
      "outputs": [
        {
          "output_type": "stream",
          "text": [
            "[nltk_data] Downloading package vader_lexicon to /root/nltk_data...\n"
          ],
          "name": "stdout"
        }
      ]
    },
    {
      "metadata": {
        "id": "ESebaEaTcD6l",
        "colab_type": "code",
        "colab": {
          "base_uri": "https://localhost:8080/",
          "height": 34
        },
        "outputId": "1b8a4fd4-dbeb-4bb7-91fd-bad90c5d0cfa"
      },
      "cell_type": "code",
      "source": [
        "sid.polarity_scores(sentence)"
      ],
      "execution_count": 162,
      "outputs": [
        {
          "output_type": "execute_result",
          "data": {
            "text/plain": [
              "{'compound': -0.7154, 'neg': 0.35, 'neu': 0.537, 'pos': 0.113}"
            ]
          },
          "metadata": {
            "tags": []
          },
          "execution_count": 162
        }
      ]
    },
    {
      "metadata": {
        "id": "nfsz-MWVWHTH",
        "colab_type": "code",
        "colab": {
          "base_uri": "https://localhost:8080/",
          "height": 135
        },
        "outputId": "42bfcccd-540b-4565-ce0e-2f0d09aaec6f"
      },
      "cell_type": "code",
      "source": [
        "visualise_sentiments({\n",
        "    \"Sentence\":[\"SENTENCE\"] + sentence.split(),\n",
        "    \"Sentiment\":[sid.polarity_scores(sentence)[\"compound\"]] + [sid.polarity_scores(word)[\"compound\"] for word in sentence.split()]\n",
        "})"
      ],
      "execution_count": 201,
      "outputs": [
        {
          "output_type": "display_data",
          "data": {
            "image/png": "[encoded data removed]",
            "text/plain": [
              "<Figure size 2160x72 with 2 Axes>"
            ]
          },
          "metadata": {
            "tags": []
          }
        }
      ]
    },
    {
      "metadata": {
        "id": "kacCYDY-Othv",
        "colab_type": "text"
      },
      "cell_type": "markdown",
      "source": [
        "## TextBlob"
      ]
    },
    {
      "metadata": {
        "id": "dhAPgCx3dTj2",
        "colab_type": "code",
        "colab": {}
      },
      "cell_type": "code",
      "source": [
        "from textblob import TextBlob"
      ],
      "execution_count": 0,
      "outputs": []
    },
    {
      "metadata": {
        "id": "plSfiNGweYAx",
        "colab_type": "code",
        "colab": {
          "base_uri": "https://localhost:8080/",
          "height": 34
        },
        "outputId": "2aedcf51-1766-49a7-a7f1-53c583bb6350"
      },
      "cell_type": "code",
      "source": [
        "TextBlob(sentence).sentiment"
      ],
      "execution_count": 159,
      "outputs": [
        {
          "output_type": "execute_result",
          "data": {
            "text/plain": [
              "Sentiment(polarity=-0.0875, subjectivity=0.35)"
            ]
          },
          "metadata": {
            "tags": []
          },
          "execution_count": 159
        }
      ]
    },
    {
      "metadata": {
        "id": "RVYxpyUDdlqB",
        "colab_type": "code",
        "colab": {
          "base_uri": "https://localhost:8080/",
          "height": 135
        },
        "outputId": "36a5b830-16b1-41e7-afad-47b17c434c05"
      },
      "cell_type": "code",
      "source": [
        "visualise_sentiments({\n",
        "      \"Sentence\":[\"SENTENCE\"] + sentence.split(),\n",
        "      \"Sentiment\":[TextBlob(sentence).polarity] + [TextBlob(word).polarity for word in sentence.split()],\n",
        "      \"Subjectivity\":[TextBlob(sentence).subjectivity] + [TextBlob(word).subjectivity for word in sentence.split()],\n",
        "})"
      ],
      "execution_count": 200,
      "outputs": [
        {
          "output_type": "display_data",
          "data": {
            "image/png": "[encoded data removed]",
            "text/plain": [
              "<Figure size 2160x72 with 2 Axes>"
            ]
          },
          "metadata": {
            "tags": []
          }
        }
      ]
    },
    {
      "metadata": {
        "id": "qjIbmONpOLCi",
        "colab_type": "text"
      },
      "cell_type": "markdown",
      "source": [
        "## Flair"
      ]
    },
    {
      "metadata": {
        "id": "-PmZosdXhI5q",
        "colab_type": "code",
        "colab": {}
      },
      "cell_type": "code",
      "source": [
        "!pip3 install flair\n",
        "import flair\n",
        "flair_sentiment = flair.models.TextClassifier.load('en-sentiment')"
      ],
      "execution_count": 0,
      "outputs": []
    },
    {
      "metadata": {
        "id": "a7vcQnmhipCB",
        "colab_type": "code",
        "colab": {
          "base_uri": "https://localhost:8080/",
          "height": 34
        },
        "outputId": "3122fa5b-53e8-44a9-c4cf-f9e78037136f"
      },
      "cell_type": "code",
      "source": [
        "s = flair.data.Sentence(sentence)\n",
        "flair_sentiment.predict(s)\n",
        "total_sentiment = s.labels\n",
        "total_sentiment"
      ],
      "execution_count": 183,
      "outputs": [
        {
          "output_type": "execute_result",
          "data": {
            "text/plain": [
              "[POSITIVE (0.8554061651229858)]"
            ]
          },
          "metadata": {
            "tags": []
          },
          "execution_count": 183
        }
      ]
    },
    {
      "metadata": {
        "id": "ND29Oz1akmCO",
        "colab_type": "code",
        "colab": {
          "base_uri": "https://localhost:8080/",
          "height": 135
        },
        "outputId": "30f5f6f2-dd45-49fb-d147-ca2722486bb3"
      },
      "cell_type": "code",
      "source": [
        "tokens = [token.text for token in s.tokens]\n",
        "ss = [flair.data.Sentence(s) for s in tokens]\n",
        "[flair_sentiment.predict(s) for s in ss]\n",
        "sentiments = [s.labels[0].score * (-1,1)[str(s.labels[0]).split()[0].startswith(\"POS\")] for s in ss]\n",
        "\n",
        "visualise_sentiments({\n",
        "      \"Sentence\":[\"SENTENCE\"] + tokens,\n",
        "      \"Sentiment\":[total_sentiment[0].score *(-1,1)[str(total_sentiment[0]).split()[0].startswith(\"POS\")]] + sentiments,\n",
        "})"
      ],
      "execution_count": 202,
      "outputs": [
        {
          "output_type": "display_data",
          "data": {
            "image/png": "[encoded data removed]",
            "text/plain": [
              "<Figure size 2160x72 with 2 Axes>"
            ]
          },
          "metadata": {
            "tags": []
          }
        }
      ]
    },
    {
      "metadata": {
        "id": "FDRXa8igOVC3",
        "colab_type": "text"
      },
      "cell_type": "markdown",
      "source": [
        "## DeepMoji (Emotions via Emojis)"
      ]
    },
    {
      "metadata": {
        "id": "FhbEFFbo3EgG",
        "colab_type": "code",
        "colab": {}
      },
      "cell_type": "code",
      "source": [
        "!git clone https://github.com/huggingface/torchMoji\n",
        "\n",
        "import os\n",
        "os.chdir('torchMoji')\n",
        "\n",
        "!pip3 install -e .\n",
        "\n",
        "!python3 scripts/download_weights.py"
      ],
      "execution_count": 0,
      "outputs": []
    },
    {
      "metadata": {
        "id": "hfyjDnld-WIP",
        "colab_type": "code",
        "colab": {
          "base_uri": "https://localhost:8080/",
          "height": 303
        },
        "outputId": "9f20b23b-68e4-40e8-af47-5d67c9c056a0"
      },
      "cell_type": "code",
      "source": [
        "!python3 examples/text_emojize.py --text f\" {sentence} \""
      ],
      "execution_count": 32,
      "outputs": [
        {
          "output_type": "stream",
          "text": [
            "/content/torchMoji/torchmoji/model_def.py:159: UserWarning: nn.init.uniform is now deprecated in favor of nn.init.uniform_.\n",
            "  nn.init.uniform(self.embed.weight.data, a=-0.5, b=0.5)\n",
            "/content/torchMoji/torchmoji/model_def.py:161: UserWarning: nn.init.xavier_uniform is now deprecated in favor of nn.init.xavier_uniform_.\n",
            "  nn.init.xavier_uniform(t)\n",
            "/content/torchMoji/torchmoji/model_def.py:163: UserWarning: nn.init.orthogonal is now deprecated in favor of nn.init.orthogonal_.\n",
            "  nn.init.orthogonal(t)\n",
            "/content/torchMoji/torchmoji/model_def.py:165: UserWarning: nn.init.constant is now deprecated in favor of nn.init.constant_.\n",
            "  nn.init.constant(t, 0)\n",
            "/content/torchMoji/torchmoji/model_def.py:167: UserWarning: nn.init.xavier_uniform is now deprecated in favor of nn.init.xavier_uniform_.\n",
            "  nn.init.xavier_uniform(self.output_layer[0].weight.data)\n",
            "/usr/local/lib/python3.6/dist-packages/torch/nn/functional.py:1320: UserWarning: nn.functional.tanh is deprecated. Use torch.tanh instead.\n",
            "  warnings.warn(\"nn.functional.tanh is deprecated. Use torch.tanh instead.\")\n",
            "/usr/local/lib/python3.6/dist-packages/torch/nn/modules/container.py:92: UserWarning: Implicit dimension choice for softmax has been deprecated. Change the call to include dim=X as an argument.\n",
            "  input = module(input)\n",
            "f i really like you but you can be so dumb some times  😒 😑 😕 😤 😡\n"
          ],
          "name": "stdout"
        }
      ]
    },
    {
      "metadata": {
        "id": "peYMP00W_6nk",
        "colab_type": "code",
        "colab": {
          "base_uri": "https://localhost:8080/",
          "height": 194
        },
        "outputId": "ced87738-790b-4fc8-a749-064fec2acd80"
      },
      "cell_type": "code",
      "source": [
        "import numpy as np\n",
        "import torchmoji, emoji, json\n",
        "from torchmoji.model_def import torchmoji_emojis\n",
        "  \n",
        "EMOJIS = \":joy: :unamused: :weary: :sob: :heart_eyes: :pensive: :ok_hand: :blush: :heart: :smirk: :grin: :notes: :flushed: :100: :sleeping: :relieved: :relaxed: :raised_hands: :two_hearts: :expressionless: :sweat_smile: :pray: :confused: :kissing_heart: :heartbeat: :neutral_face: :information_desk_person: :disappointed: :see_no_evil: :tired_face: :v: :sunglasses: :rage: :thumbsup: :cry: :sleepy: :yum: :triumph: :hand: :mask: :clap: :eyes: :gun: :persevere: :smiling_imp: :sweat: :broken_heart: :yellow_heart: :musical_note: :speak_no_evil: :wink: :skull: :confounded: :smile: :stuck_out_tongue_winking_eye: :angry: :no_good: :muscle: :facepunch: :purple_heart: :sparkling_heart: :blue_heart: :grimacing: :sparkles:\".split(' ')\n",
        "model = torchmoji_emojis(torchmoji.global_variables.PRETRAINED_PATH)\n",
        "with open(torchmoji.global_variables.VOCAB_PATH, 'r') as f:\n",
        "  vocabulary = json.load(f)\n",
        "\n",
        "def deepmojify(sentence,top_n =5):\n",
        "  def top_elements(array, k):\n",
        "    ind = np.argpartition(array, -k)[-k:]\n",
        "    return ind[np.argsort(array[ind])][::-1]\n",
        "\n",
        "  st = torchmoji.sentence_tokenizer.SentenceTokenizer(vocabulary, 30)\n",
        "  tokenized, _, _ = st.tokenize_sentences([sentence])\n",
        "  prob = model(tokenized)[0]\n",
        "  emoji_ids = top_elements(prob, top_n)\n",
        "  emojis = map(lambda x: EMOJIS[x], emoji_ids)\n",
        "  return emoji.emojize(f\"{sentence} {' '.join(emojis)}\", use_aliases=True)"
      ],
      "execution_count": 59,
      "outputs": [
        {
          "output_type": "stream",
          "text": [
            "/content/torchMoji/torchmoji/model_def.py:159: UserWarning: nn.init.uniform is now deprecated in favor of nn.init.uniform_.\n",
            "  nn.init.uniform(self.embed.weight.data, a=-0.5, b=0.5)\n",
            "/content/torchMoji/torchmoji/model_def.py:161: UserWarning: nn.init.xavier_uniform is now deprecated in favor of nn.init.xavier_uniform_.\n",
            "  nn.init.xavier_uniform(t)\n",
            "/content/torchMoji/torchmoji/model_def.py:163: UserWarning: nn.init.orthogonal is now deprecated in favor of nn.init.orthogonal_.\n",
            "  nn.init.orthogonal(t)\n",
            "/content/torchMoji/torchmoji/model_def.py:165: UserWarning: nn.init.constant is now deprecated in favor of nn.init.constant_.\n",
            "  nn.init.constant(t, 0)\n",
            "/content/torchMoji/torchmoji/model_def.py:167: UserWarning: nn.init.xavier_uniform is now deprecated in favor of nn.init.xavier_uniform_.\n",
            "  nn.init.xavier_uniform(self.output_layer[0].weight.data)\n"
          ],
          "name": "stderr"
        }
      ]
    },
    {
      "metadata": {
        "id": "MkRF-2LzCMxI",
        "colab_type": "code",
        "colab": {
          "base_uri": "https://localhost:8080/",
          "height": 125
        },
        "outputId": "2a648619-4e8f-454a-a402-a1e2f17d8cdc"
      },
      "cell_type": "code",
      "source": [
        "deepmojify(sentence, top_n = 3)"
      ],
      "execution_count": 60,
      "outputs": [
        {
          "output_type": "stream",
          "text": [
            "/usr/local/lib/python3.6/dist-packages/torch/nn/functional.py:1320: UserWarning: nn.functional.tanh is deprecated. Use torch.tanh instead.\n",
            "  warnings.warn(\"nn.functional.tanh is deprecated. Use torch.tanh instead.\")\n",
            "/usr/local/lib/python3.6/dist-packages/torch/nn/modules/container.py:92: UserWarning: Implicit dimension choice for softmax has been deprecated. Change the call to include dim=X as an argument.\n",
            "  input = module(input)\n"
          ],
          "name": "stderr"
        },
        {
          "output_type": "execute_result",
          "data": {
            "text/plain": [
              "'i really like you but you can be so dumb some times 😕 😒 😔'"
            ]
          },
          "metadata": {
            "tags": []
          },
          "execution_count": 60
        }
      ]
    }
  ]
}