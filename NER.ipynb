{
  "nbformat": 4,
  "nbformat_minor": 0,
  "metadata": {
    "colab": {
      "name": "NER.ipynb",
      "version": "0.3.2",
      "provenance": [],
      "collapsed_sections": [],
      "include_colab_link": true
    },
    "kernelspec": {
      "name": "python3",
      "display_name": "Python 3"
    }
  },
  "cells": [
    {
      "cell_type": "markdown",
      "metadata": {
        "id": "view-in-github",
        "colab_type": "text"
      },
      "source": [
        "<a href=\"https://colab.research.google.com/github/mohammedterry/NLP_for_ML/blob/master/NER.ipynb\" target=\"_parent\"><img src=\"https://colab.research.google.com/assets/colab-badge.svg\" alt=\"Open In Colab\"/></a>"
      ]
    },
    {
      "metadata": {
        "id": "BINfboLPqcO_",
        "colab_type": "code",
        "colab": {}
      },
      "cell_type": "code",
      "source": [
        "example_document = '''\n",
        "Friday 9/11/2018\n",
        "9th November 2018\n",
        "\n",
        "Hey ho !\n",
        "Can i have your contact details, please? \n",
        "aaha aaahhhh ah ahah ahahah ahh ahhahahaha hahaha hahahah\n",
        "Sure. \n",
        "My email is mohammed@cognitionx.io and my phone number is 0743423453 0 01 012 1987 98 0.32 2.34 \n",
        "\n",
        "The Matrix is a 1999 science fiction action film written and directed by The Wachowskis, starring Keanu Reeves, Laurence Fishburne, Carrie-Anne Moss, Hugo Weaving, and Joe Pantoliano.\n",
        "'''"
      ],
      "execution_count": 0,
      "outputs": []
    },
    {
      "metadata": {
        "id": "Wy5wwTpCuutS",
        "colab_type": "text"
      },
      "cell_type": "markdown",
      "source": [
        "# Flair"
      ]
    },
    {
      "metadata": {
        "id": "1zkh_P6buwRq",
        "colab_type": "code",
        "colab": {
          "base_uri": "https://localhost:8080/",
          "height": 870
        },
        "outputId": "ebd5c7eb-066d-4af5-8006-bc5af3b9ce8d"
      },
      "cell_type": "code",
      "source": [
        "!pip3 install flair\n",
        "from flair.data import Sentence\n",
        "from flair.models import SequenceTagger\n",
        "flair_4class = SequenceTagger.load('ner')\n",
        "flair_12class = SequenceTagger.load('ner-ontonotes')"
      ],
      "execution_count": 13,
      "outputs": [
        {
          "output_type": "stream",
          "text": [
            "Requirement already satisfied: flair in /usr/local/lib/python3.6/dist-packages (0.4.1)\n",
            "Requirement already satisfied: sklearn in /usr/local/lib/python3.6/dist-packages (from flair) (0.0)\n",
            "Requirement already satisfied: tqdm>=4.26.0 in /usr/local/lib/python3.6/dist-packages (from flair) (4.28.1)\n",
            "Requirement already satisfied: segtok>=1.5.7 in /usr/local/lib/python3.6/dist-packages (from flair) (1.5.7)\n",
            "Requirement already satisfied: torch>=1.0.0 in /usr/local/lib/python3.6/dist-packages (from flair) (1.0.1.post2)\n",
            "Requirement already satisfied: matplotlib>=2.2.3 in /usr/local/lib/python3.6/dist-packages (from flair) (2.2.3)\n",
            "Requirement already satisfied: regex==2018.1.10 in /usr/local/lib/python3.6/dist-packages (from flair) (2018.1.10)\n",
            "Requirement already satisfied: hyperopt>=0.1.1 in /usr/local/lib/python3.6/dist-packages (from flair) (0.1.2)\n",
            "Requirement already satisfied: bpemb>=0.2.9 in /usr/local/lib/python3.6/dist-packages (from flair) (0.2.11)\n",
            "Requirement already satisfied: deprecated>=1.2.4 in /usr/local/lib/python3.6/dist-packages (from flair) (1.2.5)\n",
            "Requirement already satisfied: mpld3>=0.3 in /usr/local/lib/python3.6/dist-packages (from flair) (0.3)\n",
            "Requirement already satisfied: gensim>=3.4.0 in /usr/local/lib/python3.6/dist-packages (from flair) (3.6.0)\n",
            "Requirement already satisfied: pytorch-pretrained-bert>=0.6.1 in /usr/local/lib/python3.6/dist-packages (from flair) (0.6.1)\n",
            "Requirement already satisfied: sqlitedict>=1.6.0 in /usr/local/lib/python3.6/dist-packages (from flair) (1.6.0)\n",
            "Requirement already satisfied: scikit-learn in /usr/local/lib/python3.6/dist-packages (from sklearn->flair) (0.20.3)\n",
            "Requirement already satisfied: pyparsing!=2.0.4,!=2.1.2,!=2.1.6,>=2.0.1 in /usr/local/lib/python3.6/dist-packages (from matplotlib>=2.2.3->flair) (2.3.1)\n",
            "Requirement already satisfied: six>=1.10 in /usr/local/lib/python3.6/dist-packages (from matplotlib>=2.2.3->flair) (1.11.0)\n",
            "Requirement already satisfied: kiwisolver>=1.0.1 in /usr/local/lib/python3.6/dist-packages (from matplotlib>=2.2.3->flair) (1.0.1)\n",
            "Requirement already satisfied: cycler>=0.10 in /usr/local/lib/python3.6/dist-packages (from matplotlib>=2.2.3->flair) (0.10.0)\n",
            "Requirement already satisfied: pytz in /usr/local/lib/python3.6/dist-packages (from matplotlib>=2.2.3->flair) (2017.3)\n",
            "Requirement already satisfied: python-dateutil>=2.1 in /usr/local/lib/python3.6/dist-packages (from matplotlib>=2.2.3->flair) (2.5.3)\n",
            "Requirement already satisfied: numpy>=1.7.1 in /usr/local/lib/python3.6/dist-packages (from matplotlib>=2.2.3->flair) (1.14.6)\n",
            "Requirement already satisfied: pymongo in /usr/local/lib/python3.6/dist-packages (from hyperopt>=0.1.1->flair) (3.7.2)\n",
            "Requirement already satisfied: networkx in /usr/local/lib/python3.6/dist-packages (from hyperopt>=0.1.1->flair) (2.2)\n",
            "Requirement already satisfied: future in /usr/local/lib/python3.6/dist-packages (from hyperopt>=0.1.1->flair) (0.16.0)\n",
            "Requirement already satisfied: scipy in /usr/local/lib/python3.6/dist-packages (from hyperopt>=0.1.1->flair) (1.1.0)\n",
            "Requirement already satisfied: sentencepiece in /usr/local/lib/python3.6/dist-packages (from bpemb>=0.2.9->flair) (0.1.8)\n",
            "Requirement already satisfied: requests in /usr/local/lib/python3.6/dist-packages (from bpemb>=0.2.9->flair) (2.18.4)\n",
            "Requirement already satisfied: wrapt<2,>=1 in /usr/local/lib/python3.6/dist-packages (from deprecated>=1.2.4->flair) (1.10.11)\n",
            "Requirement already satisfied: smart-open>=1.2.1 in /usr/local/lib/python3.6/dist-packages (from gensim>=3.4.0->flair) (1.8.0)\n",
            "Requirement already satisfied: boto3 in /usr/local/lib/python3.6/dist-packages (from pytorch-pretrained-bert>=0.6.1->flair) (1.9.106)\n",
            "Requirement already satisfied: setuptools in /usr/local/lib/python3.6/dist-packages (from kiwisolver>=1.0.1->matplotlib>=2.2.3->flair) (40.8.0)\n",
            "Requirement already satisfied: decorator>=4.3.0 in /usr/local/lib/python3.6/dist-packages (from networkx->hyperopt>=0.1.1->flair) (4.3.2)\n",
            "Requirement already satisfied: urllib3<1.23,>=1.21.1 in /usr/local/lib/python3.6/dist-packages (from requests->bpemb>=0.2.9->flair) (1.22)\n",
            "Requirement already satisfied: certifi>=2017.4.17 in /usr/local/lib/python3.6/dist-packages (from requests->bpemb>=0.2.9->flair) (2018.11.29)\n",
            "Requirement already satisfied: chardet<3.1.0,>=3.0.2 in /usr/local/lib/python3.6/dist-packages (from requests->bpemb>=0.2.9->flair) (3.0.4)\n",
            "Requirement already satisfied: idna<2.7,>=2.5 in /usr/local/lib/python3.6/dist-packages (from requests->bpemb>=0.2.9->flair) (2.6)\n",
            "Requirement already satisfied: boto>=2.32 in /usr/local/lib/python3.6/dist-packages (from smart-open>=1.2.1->gensim>=3.4.0->flair) (2.49.0)\n",
            "Requirement already satisfied: bz2file in /usr/local/lib/python3.6/dist-packages (from smart-open>=1.2.1->gensim>=3.4.0->flair) (0.98)\n",
            "Requirement already satisfied: s3transfer<0.3.0,>=0.2.0 in /usr/local/lib/python3.6/dist-packages (from boto3->pytorch-pretrained-bert>=0.6.1->flair) (0.2.0)\n",
            "Requirement already satisfied: botocore<1.13.0,>=1.12.106 in /usr/local/lib/python3.6/dist-packages (from boto3->pytorch-pretrained-bert>=0.6.1->flair) (1.12.106)\n",
            "Requirement already satisfied: jmespath<1.0.0,>=0.7.1 in /usr/local/lib/python3.6/dist-packages (from boto3->pytorch-pretrained-bert>=0.6.1->flair) (0.9.4)\n",
            "Requirement already satisfied: docutils>=0.10 in /usr/local/lib/python3.6/dist-packages (from botocore<1.13.0,>=1.12.106->boto3->pytorch-pretrained-bert>=0.6.1->flair) (0.14)\n",
            "2019-03-11 12:53:38,011 loading file /root/.flair/models/en-ner-conll03-v0.4.pt\n",
            "2019-03-11 12:53:40,376 https://s3.eu-central-1.amazonaws.com/alan-nlp/resources/models-v0.2/NER-ontoner--h256-l1-b32-%2Bcrawl%2Bnews-forward%2Bnews-backward--v0.2/en-ner-ontonotes-v0.3.pt not found in cache, downloading to /tmp/tmpcobte1nw\n"
          ],
          "name": "stdout"
        },
        {
          "output_type": "stream",
          "text": [
            "100%|██████████| 1508802050/1508802050 [00:52<00:00, 28752165.06B/s]"
          ],
          "name": "stderr"
        },
        {
          "output_type": "stream",
          "text": [
            "2019-03-11 12:54:33,525 copying /tmp/tmpcobte1nw to cache at /root/.flair/models/en-ner-ontonotes-v0.3.pt\n"
          ],
          "name": "stdout"
        },
        {
          "output_type": "stream",
          "text": [
            "\n"
          ],
          "name": "stderr"
        },
        {
          "output_type": "stream",
          "text": [
            "2019-03-11 12:54:45,650 removing temp file /tmp/tmpcobte1nw\n",
            "2019-03-11 12:54:45,652 loading file /root/.flair/models/en-ner-ontonotes-v0.3.pt\n"
          ],
          "name": "stdout"
        }
      ]
    },
    {
      "metadata": {
        "id": "bqHVPQSIu7j_",
        "colab_type": "code",
        "colab": {
          "base_uri": "https://localhost:8080/",
          "height": 1091
        },
        "outputId": "65a0526c-8863-4441-efd8-b7ee02b6ede7"
      },
      "cell_type": "code",
      "source": [
        "s = Sentence(example_document)\n",
        "flair_12class.predict(s)\n",
        "s.to_dict(tag_type='ner')"
      ],
      "execution_count": 23,
      "outputs": [
        {
          "output_type": "execute_result",
          "data": {
            "text/plain": [
              "{'entities': [{'confidence': 0.6401792913675308,\n",
              "   'end_pos': 40,\n",
              "   'start_pos': 0,\n",
              "   'text': '\\nFriday 9/11/2018\\n9th November 2018\\n\\nHey',\n",
              "   'type': 'DATE'},\n",
              "  {'confidence': 0.3553961515426636,\n",
              "   'end_pos': 223,\n",
              "   'start_pos': 222,\n",
              "   'text': '0',\n",
              "   'type': 'CARDINAL'},\n",
              "  {'confidence': 0.548831582069397,\n",
              "   'end_pos': 230,\n",
              "   'start_pos': 227,\n",
              "   'text': '012',\n",
              "   'type': 'CARDINAL'},\n",
              "  {'confidence': 0.6736858785152435,\n",
              "   'end_pos': 248,\n",
              "   'start_pos': 236,\n",
              "   'text': '98 0.32 2.34',\n",
              "   'type': 'CARDINAL'},\n",
              "  {'confidence': 0.4900788962841034,\n",
              "   'end_pos': 261,\n",
              "   'start_pos': 255,\n",
              "   'text': 'Matrix',\n",
              "   'type': 'PRODUCT'},\n",
              "  {'confidence': 0.9999772310256958,\n",
              "   'end_pos': 271,\n",
              "   'start_pos': 267,\n",
              "   'text': '1999',\n",
              "   'type': 'DATE'},\n",
              "  {'confidence': 0.9013994336128235,\n",
              "   'end_pos': 339,\n",
              "   'start_pos': 328,\n",
              "   'text': 'Wachowskis,',\n",
              "   'type': 'PERSON'},\n",
              "  {'confidence': 0.9939338564872742,\n",
              "   'end_pos': 362,\n",
              "   'start_pos': 349,\n",
              "   'text': 'Keanu Reeves,',\n",
              "   'type': 'PERSON'},\n",
              "  {'confidence': 0.9282466173171997,\n",
              "   'end_pos': 382,\n",
              "   'start_pos': 363,\n",
              "   'text': 'Laurence Fishburne,',\n",
              "   'type': 'PERSON'},\n",
              "  {'confidence': 0.9730001389980316,\n",
              "   'end_pos': 400,\n",
              "   'start_pos': 383,\n",
              "   'text': 'Carrie-Anne Moss,',\n",
              "   'type': 'PERSON'},\n",
              "  {'confidence': 0.967526376247406,\n",
              "   'end_pos': 414,\n",
              "   'start_pos': 401,\n",
              "   'text': 'Hugo Weaving,',\n",
              "   'type': 'PERSON'},\n",
              "  {'confidence': 0.7860015034675598,\n",
              "   'end_pos': 435,\n",
              "   'start_pos': 419,\n",
              "   'text': 'Joe Pantoliano.\\n',\n",
              "   'type': 'PERSON'}],\n",
              " 'labels': [],\n",
              " 'text': '\\nFriday 9/11/2018\\n9th November 2018\\n\\nHey ho !\\nCan i have your contact details, please? \\naaha aaahhhh ah ahah ahahah ahh ahhahahaha hahaha hahahah\\nSure. \\nMy email is mohammed@cognitionx.io and my phone number is 0743423453 0 01 012 1987 98 0.32 2.34 \\n\\nThe Matrix is a 1999 science fiction action film written and directed by The Wachowskis, starring Keanu Reeves, Laurence Fishburne, Carrie-Anne Moss, Hugo Weaving, and Joe Pantoliano.\\n'}"
            ]
          },
          "metadata": {
            "tags": []
          },
          "execution_count": 23
        }
      ]
    },
    {
      "metadata": {
        "id": "vbzepNzhzVkY",
        "colab_type": "code",
        "colab": {}
      },
      "cell_type": "code",
      "source": [
        "def flair_4ner(document):\n",
        "  s = Sentence(document)\n",
        "  flair_4class.predict(s)\n",
        "  entities = s.to_dict(tag_type='ner')\n",
        "  return [(entity[\"text\"], entity[\"type\"]) for entity in entities[\"entities\"]]\n",
        "\n",
        "def flair_12ner(document):\n",
        "  s = Sentence(document)\n",
        "  flair_12class.predict(s)\n",
        "  entities = s.to_dict(tag_type='ner')\n",
        "  return [(entity[\"text\"], entity[\"type\"]) for entity in entities[\"entities\"]]"
      ],
      "execution_count": 0,
      "outputs": []
    },
    {
      "metadata": {
        "id": "3kcqsnNbz6h9",
        "colab_type": "code",
        "colab": {
          "base_uri": "https://localhost:8080/",
          "height": 119
        },
        "outputId": "f43bd060-e948-4400-bcbf-3eb2a69000ee"
      },
      "cell_type": "code",
      "source": [
        "flair_4ner(example_document)"
      ],
      "execution_count": 17,
      "outputs": [
        {
          "output_type": "execute_result",
          "data": {
            "text/plain": [
              "[('The Wachowskis,', 'PER'),\n",
              " ('Keanu Reeves,', 'PER'),\n",
              " ('Laurence Fishburne,', 'PER'),\n",
              " ('Carrie-Anne Moss,', 'PER'),\n",
              " ('Hugo Weaving,', 'PER'),\n",
              " ('Joe Pantoliano.\\n', 'PER')]"
            ]
          },
          "metadata": {
            "tags": []
          },
          "execution_count": 17
        }
      ]
    },
    {
      "metadata": {
        "id": "VJsXDyy005ys",
        "colab_type": "code",
        "colab": {
          "base_uri": "https://localhost:8080/",
          "height": 221
        },
        "outputId": "963908c3-0bb4-4e40-b593-028c8701aa16"
      },
      "cell_type": "code",
      "source": [
        "flair_12ner(example_document)"
      ],
      "execution_count": 18,
      "outputs": [
        {
          "output_type": "execute_result",
          "data": {
            "text/plain": [
              "[('\\nFriday 9/11/2018\\n9th November 2018\\n\\nHey', 'DATE'),\n",
              " ('0', 'CARDINAL'),\n",
              " ('012', 'CARDINAL'),\n",
              " ('98 0.32 2.34', 'CARDINAL'),\n",
              " ('Matrix', 'PRODUCT'),\n",
              " ('1999', 'DATE'),\n",
              " ('Wachowskis,', 'PERSON'),\n",
              " ('Keanu Reeves,', 'PERSON'),\n",
              " ('Laurence Fishburne,', 'PERSON'),\n",
              " ('Carrie-Anne Moss,', 'PERSON'),\n",
              " ('Hugo Weaving,', 'PERSON'),\n",
              " ('Joe Pantoliano.\\n', 'PERSON')]"
            ]
          },
          "metadata": {
            "tags": []
          },
          "execution_count": 18
        }
      ]
    },
    {
      "metadata": {
        "id": "btx1denTqF1_",
        "colab_type": "text"
      },
      "cell_type": "markdown",
      "source": [
        "# GATE API (Free)"
      ]
    },
    {
      "metadata": {
        "id": "wvmXB7UKqIeg",
        "colab_type": "code",
        "outputId": "904f787f-b6c3-4c0b-f2d4-babdb8577a4d",
        "colab": {
          "base_uri": "https://localhost:8080/",
          "height": 2179
        }
      },
      "cell_type": "code",
      "source": [
        "import requests\n",
        "url = \"https://cloud-api.gate.ac.uk/process-document/annie-named-entity-recognizer\"\n",
        "headers = {'Content-Type': 'text/plain'}\n",
        "response = requests.post(url, data=example_document, headers=headers).json()\n",
        "\n",
        "import json\n",
        "print(json.dumps(response, indent=2))"
      ],
      "execution_count": 24,
      "outputs": [
        {
          "output_type": "stream",
          "text": [
            "{\n",
            "  \"text\": \"\\nFriday 9/11/2018\\n9th November 2018\\n\\nHey ho !\\nCan i have your contact details, please? \\naaha aaahhhh ah ahah ahahah ahh ahhahahaha hahaha hahahah\\nSure. \\nMy email is mohammed@cognitionx.io and my phone number is 0743423453 0 01 012 1987 98 0.32 2.34 \\n\\nThe Matrix is a 1999 science fiction action film written and directed by The Wachowskis, starring Keanu Reeves, Laurence Fishburne, Carrie-Anne Moss, Hugo Weaving, and Joe Pantoliano.\\n\",\n",
            "  \"entities\": {\n",
            "    \"Address\": [\n",
            "      {\n",
            "        \"indices\": [\n",
            "          165,\n",
            "          187\n",
            "        ],\n",
            "        \"kind\": \"email\",\n",
            "        \"rule\": \"Emailaddress1\",\n",
            "        \"ruleFinal\": \"EmailFinal\"\n",
            "      }\n",
            "    ],\n",
            "    \"Date\": [\n",
            "      {\n",
            "        \"indices\": [\n",
            "          1,\n",
            "          7\n",
            "        ],\n",
            "        \"rule\": \"GazDate\",\n",
            "        \"ruleFinal\": \"DateOnlyFinal\",\n",
            "        \"kind\": \"date\"\n",
            "      },\n",
            "      {\n",
            "        \"indices\": [\n",
            "          8,\n",
            "          17\n",
            "        ],\n",
            "        \"rule\": \"DateNumSlashDot\",\n",
            "        \"ruleFinal\": \"DateOnlyFinal\",\n",
            "        \"kind\": \"date\"\n",
            "      },\n",
            "      {\n",
            "        \"indices\": [\n",
            "          18,\n",
            "          35\n",
            "        ],\n",
            "        \"rule\": \"DateName\",\n",
            "        \"ruleFinal\": \"DateOnlyFinal\",\n",
            "        \"kind\": \"date\"\n",
            "      },\n",
            "      {\n",
            "        \"indices\": [\n",
            "          231,\n",
            "          235\n",
            "        ],\n",
            "        \"kind\": \"date\",\n",
            "        \"rule\": \"TempYear2\",\n",
            "        \"ruleFinal\": \"YearOnlyFinal\"\n",
            "      },\n",
            "      {\n",
            "        \"indices\": [\n",
            "          267,\n",
            "          271\n",
            "        ],\n",
            "        \"kind\": \"date\",\n",
            "        \"rule\": \"TempYear2\",\n",
            "        \"ruleFinal\": \"YearOnlyFinal\"\n",
            "      }\n",
            "    ],\n",
            "    \"Person\": [\n",
            "      {\n",
            "        \"indices\": [\n",
            "          349,\n",
            "          361\n",
            "        ],\n",
            "        \"firstName\": \"Keanu\",\n",
            "        \"gender\": \"male\",\n",
            "        \"surname\": \"Reeves\",\n",
            "        \"kind\": \"fullName\",\n",
            "        \"rule\": \"PersonFull\",\n",
            "        \"ruleFinal\": \"PersonFinal\"\n",
            "      },\n",
            "      {\n",
            "        \"indices\": [\n",
            "          363,\n",
            "          381\n",
            "        ],\n",
            "        \"firstName\": \"Laurence\",\n",
            "        \"gender\": \"male\",\n",
            "        \"surname\": \"Fishburne\",\n",
            "        \"kind\": \"fullName\",\n",
            "        \"rule\": \"PersonFull\",\n",
            "        \"ruleFinal\": \"PersonFinal\"\n",
            "      },\n",
            "      {\n",
            "        \"indices\": [\n",
            "          383,\n",
            "          399\n",
            "        ],\n",
            "        \"firstName\": \"Carrie\",\n",
            "        \"gender\": \"female\",\n",
            "        \"middleName\": \"Anne\",\n",
            "        \"surname\": \"Moss\",\n",
            "        \"kind\": \"fullName\",\n",
            "        \"rule\": \"PersonFull\",\n",
            "        \"ruleFinal\": \"PersonFinal\"\n",
            "      },\n",
            "      {\n",
            "        \"indices\": [\n",
            "          401,\n",
            "          413\n",
            "        ],\n",
            "        \"firstName\": \"Hugo\",\n",
            "        \"gender\": \"male\",\n",
            "        \"surname\": \"Weaving\",\n",
            "        \"kind\": \"fullName\",\n",
            "        \"rule\": \"PersonFull\",\n",
            "        \"ruleFinal\": \"PersonFinal\"\n",
            "      },\n",
            "      {\n",
            "        \"indices\": [\n",
            "          419,\n",
            "          433\n",
            "        ],\n",
            "        \"firstName\": \"Joe\",\n",
            "        \"gender\": \"male\",\n",
            "        \"surname\": \"Pantoliano\",\n",
            "        \"kind\": \"fullName\",\n",
            "        \"rule\": \"PersonFull\",\n",
            "        \"ruleFinal\": \"PersonFinal\"\n",
            "      }\n",
            "    ]\n",
            "  }\n",
            "}\n"
          ],
          "name": "stdout"
        }
      ]
    },
    {
      "metadata": {
        "id": "Sj_XZJgCqfbW",
        "colab_type": "code",
        "colab": {}
      },
      "cell_type": "code",
      "source": [
        "def gate_ner(sentence):\n",
        "  import requests\n",
        "  return [(sentence[entity[\"indices\"][0]:entity[\"indices\"][1]] + f\" ({entity['gender']})\",entity_type) if entity_type == \"Person\" and \"gender\" in entity else (sentence[entity[\"indices\"][0]:entity[\"indices\"][1]],entity_type)  for entity_type,entities in requests.post(\"https://cloud-api.gate.ac.uk/process-document/annie-named-entity-recognizer\", data=sentence, headers={'Content-Type': 'text/plain'}).json()[\"entities\"].items() for entity in entities]"
      ],
      "execution_count": 0,
      "outputs": []
    },
    {
      "metadata": {
        "id": "M10blkrErQ28",
        "colab_type": "code",
        "outputId": "19f856b9-b174-41e0-8b9c-ccedb039fb2a",
        "colab": {
          "base_uri": "https://localhost:8080/",
          "height": 204
        }
      },
      "cell_type": "code",
      "source": [
        "gate_ner(example_document)"
      ],
      "execution_count": 0,
      "outputs": [
        {
          "output_type": "execute_result",
          "data": {
            "text/plain": [
              "[('mohammed@cognitionx.io', 'Address'),\n",
              " ('Friday', 'Date'),\n",
              " ('9/11/2018', 'Date'),\n",
              " ('9th November 2018', 'Date'),\n",
              " ('1987', 'Date'),\n",
              " ('1999', 'Date'),\n",
              " ('Keanu Reeves (male)', 'Person'),\n",
              " ('Laurence Fishburne (male)', 'Person'),\n",
              " ('Carrie-Anne Moss (female)', 'Person'),\n",
              " ('Hugo Weaving (male)', 'Person'),\n",
              " ('Joe Pantoliano (male)', 'Person')]"
            ]
          },
          "metadata": {
            "tags": []
          },
          "execution_count": 45
        }
      ]
    },
    {
      "metadata": {
        "id": "HBqxcYavqoah",
        "colab_type": "text"
      },
      "cell_type": "markdown",
      "source": [
        "# Stanford Core NLP"
      ]
    },
    {
      "metadata": {
        "id": "U6in8psMKLMs",
        "colab_type": "code",
        "outputId": "26bdd07e-fd1f-4b61-8266-67c0c7c4ce9d",
        "colab": {
          "base_uri": "https://localhost:8080/",
          "height": 258
        }
      },
      "cell_type": "code",
      "source": [
        "!pip3 install nltk==3.2.4"
      ],
      "execution_count": 26,
      "outputs": [
        {
          "output_type": "stream",
          "text": [
            "Collecting nltk==3.2.4\n",
            "\u001b[?25l  Downloading https://files.pythonhosted.org/packages/cd/c2/858e0708b497116ae45cf5c6b1f66984ac60729c61e49df6c1c0b808d1e4/nltk-3.2.4.tar.gz (1.2MB)\n",
            "\u001b[K    100% |████████████████████████████████| 1.2MB 10.2MB/s \n",
            "\u001b[?25hRequirement already satisfied: six in /usr/local/lib/python3.6/dist-packages (from nltk==3.2.4) (1.11.0)\n",
            "Building wheels for collected packages: nltk\n",
            "  Building wheel for nltk (setup.py) ... \u001b[?25ldone\n",
            "\u001b[?25h  Stored in directory: /root/.cache/pip/wheels/36/f1/5c/f667347d86a3a534ba4c0127eed4389f929916e3ec88bb461a\n",
            "Successfully built nltk\n",
            "Installing collected packages: nltk\n",
            "  Found existing installation: nltk 3.2.5\n",
            "    Uninstalling nltk-3.2.5:\n",
            "      Successfully uninstalled nltk-3.2.5\n",
            "Successfully installed nltk-3.2.4\n"
          ],
          "name": "stdout"
        }
      ]
    },
    {
      "metadata": {
        "id": "W8w7LLsyKAYU",
        "colab_type": "code",
        "outputId": "275dcb20-c2e4-41ac-e677-6583c7909a54",
        "colab": {
          "base_uri": "https://localhost:8080/",
          "height": 816
        }
      },
      "cell_type": "code",
      "source": [
        "!wget http://nlp.stanford.edu/software/stanford-ner-2015-04-20.zip\n",
        "!unzip stanford-ner-2015-04-20.zip "
      ],
      "execution_count": 27,
      "outputs": [
        {
          "output_type": "stream",
          "text": [
            "--2019-03-11 13:12:49--  http://nlp.stanford.edu/software/stanford-ner-2015-04-20.zip\n",
            "Resolving nlp.stanford.edu (nlp.stanford.edu)... 171.64.67.140\n",
            "Connecting to nlp.stanford.edu (nlp.stanford.edu)|171.64.67.140|:80... connected.\n",
            "HTTP request sent, awaiting response... 302 Found\n",
            "Location: https://nlp.stanford.edu/software/stanford-ner-2015-04-20.zip [following]\n",
            "--2019-03-11 13:12:49--  https://nlp.stanford.edu/software/stanford-ner-2015-04-20.zip\n",
            "Connecting to nlp.stanford.edu (nlp.stanford.edu)|171.64.67.140|:443... connected.\n",
            "HTTP request sent, awaiting response... 200 OK\n",
            "Length: 176961718 (169M) [application/zip]\n",
            "Saving to: ‘stanford-ner-2015-04-20.zip’\n",
            "\n",
            "stanford-ner-2015-0 100%[===================>] 168.76M  3.83MB/s    in 32s     \n",
            "\n",
            "2019-03-11 13:13:21 (5.23 MB/s) - ‘stanford-ner-2015-04-20.zip’ saved [176961718/176961718]\n",
            "\n",
            "Archive:  stanford-ner-2015-04-20.zip\n",
            "   creating: stanford-ner-2015-04-20/\n",
            "  inflating: stanford-ner-2015-04-20/README.txt  \n",
            "  inflating: stanford-ner-2015-04-20/ner-gui.bat  \n",
            "  inflating: stanford-ner-2015-04-20/build.xml  \n",
            "  inflating: stanford-ner-2015-04-20/stanford-ner-3.5.2.jar  \n",
            "  inflating: stanford-ner-2015-04-20/stanford-ner.jar  \n",
            "  inflating: stanford-ner-2015-04-20/sample-conll-file.txt  \n",
            "  inflating: stanford-ner-2015-04-20/sample.ner.txt  \n",
            "   creating: stanford-ner-2015-04-20/lib/\n",
            "  inflating: stanford-ner-2015-04-20/lib/jollyday-0.4.7.jar  \n",
            "  inflating: stanford-ner-2015-04-20/lib/joda-time.jar  \n",
            "  inflating: stanford-ner-2015-04-20/lib/stanford-ner-resources.jar  \n",
            "  inflating: stanford-ner-2015-04-20/ner-gui.command  \n",
            "  inflating: stanford-ner-2015-04-20/ner.sh  \n",
            "  inflating: stanford-ner-2015-04-20/NERDemo.java  \n",
            "  inflating: stanford-ner-2015-04-20/ner.bat  \n",
            "  inflating: stanford-ner-2015-04-20/stanford-ner-3.5.2-javadoc.jar  \n",
            "   creating: stanford-ner-2015-04-20/classifiers/\n",
            "  inflating: stanford-ner-2015-04-20/classifiers/english.conll.4class.distsim.prop  \n",
            "  inflating: stanford-ner-2015-04-20/classifiers/example.serialized.ncc.ncc.ser.gz  \n",
            "  inflating: stanford-ner-2015-04-20/classifiers/english.muc.7class.distsim.crf.ser.gz  \n",
            "  inflating: stanford-ner-2015-04-20/classifiers/english.conll.4class.distsim.crf.ser.gz  \n",
            "  inflating: stanford-ner-2015-04-20/classifiers/english.muc.7class.distsim.prop  \n",
            "  inflating: stanford-ner-2015-04-20/classifiers/english.all.3class.distsim.prop  \n",
            "  inflating: stanford-ner-2015-04-20/classifiers/example.serialized.ncc.prop  \n",
            "  inflating: stanford-ner-2015-04-20/classifiers/english.all.3class.distsim.crf.ser.gz  \n",
            "  inflating: stanford-ner-2015-04-20/stanford-ner-3.5.2-sources.jar  \n",
            "  inflating: stanford-ner-2015-04-20/sample.txt  \n",
            "  inflating: stanford-ner-2015-04-20/sample-w-time.txt  \n",
            "  inflating: stanford-ner-2015-04-20/ner-gui.sh  \n",
            "  inflating: stanford-ner-2015-04-20/LICENSE.txt  \n"
          ],
          "name": "stdout"
        }
      ]
    },
    {
      "metadata": {
        "id": "NSfCCO9PKQ27",
        "colab_type": "code",
        "colab": {}
      },
      "cell_type": "code",
      "source": [
        "from nltk.tag.stanford import StanfordNERTagger\n",
        "jar = \"stanford-ner-2015-04-20/stanford-ner-3.5.2.jar\"\n",
        "model = \"stanford-ner-2015-04-20/classifiers/\" \n",
        "st_3class = StanfordNERTagger(model + \"english.all.3class.distsim.crf.ser.gz\", jar, encoding='utf8') \n",
        "st_4class = StanfordNERTagger(model + \"english.conll.4class.distsim.crf.ser.gz\", jar, encoding='utf8') \n",
        "st_7class = StanfordNERTagger(model + \"english.muc.7class.distsim.crf.ser.gz\", jar, encoding='utf8') "
      ],
      "execution_count": 0,
      "outputs": []
    },
    {
      "metadata": {
        "id": "RYow2ZnRKURv",
        "colab_type": "code",
        "colab": {}
      },
      "cell_type": "code",
      "source": [
        "def stanford_ner(document,model):\n",
        "  if model == 1:\n",
        "    return [(entity,tag) for entity,tag in st_3class.tag(document.split()) if tag != \"O\"]\n",
        "  elif model == 2:\n",
        "    return [(entity,tag) for entity,tag in st_4class.tag(document.split()) if tag != \"O\"]\n",
        "  elif model == 3:\n",
        "    return [(entity,tag) for entity,tag in st_7class.tag(document.split()) if tag != \"O\"]"
      ],
      "execution_count": 0,
      "outputs": []
    },
    {
      "metadata": {
        "id": "F3tqJYjGKaaP",
        "colab_type": "code",
        "outputId": "a7d2eb25-7bd3-449c-8fbd-cff3bb8bb50f",
        "colab": {
          "base_uri": "https://localhost:8080/",
          "height": 136
        }
      },
      "cell_type": "code",
      "source": [
        "stanford_ner(example_document,model=1)"
      ],
      "execution_count": 0,
      "outputs": [
        {
          "output_type": "execute_result",
          "data": {
            "text/plain": [
              "[('Keanu', 'PERSON'),\n",
              " ('Reeves,', 'PERSON'),\n",
              " ('Laurence', 'PERSON'),\n",
              " ('Fishburne,', 'PERSON'),\n",
              " ('Carrie-Anne', 'PERSON'),\n",
              " ('Joe', 'PERSON'),\n",
              " ('Pantoliano.', 'PERSON')]"
            ]
          },
          "metadata": {
            "tags": []
          },
          "execution_count": 13
        }
      ]
    },
    {
      "metadata": {
        "id": "VkPAFGdEOMrl",
        "colab_type": "code",
        "outputId": "1474207c-0ba8-451f-ab20-37a935bacad2",
        "colab": {
          "base_uri": "https://localhost:8080/",
          "height": 204
        }
      },
      "cell_type": "code",
      "source": [
        "stanford_ner(example_document,model=2)"
      ],
      "execution_count": 0,
      "outputs": [
        {
          "output_type": "execute_result",
          "data": {
            "text/plain": [
              "[('Matrix', 'PERSON'),\n",
              " ('Keanu', 'PERSON'),\n",
              " ('Reeves,', 'PERSON'),\n",
              " ('Laurence', 'PERSON'),\n",
              " ('Fishburne,', 'PERSON'),\n",
              " ('Carrie-Anne', 'PERSON'),\n",
              " ('Moss,', 'PERSON'),\n",
              " ('Hugo', 'PERSON'),\n",
              " ('Weaving,', 'PERSON'),\n",
              " ('Joe', 'PERSON'),\n",
              " ('Pantoliano.', 'PERSON')]"
            ]
          },
          "metadata": {
            "tags": []
          },
          "execution_count": 14
        }
      ]
    },
    {
      "metadata": {
        "id": "12cZITULOQ6u",
        "colab_type": "code",
        "outputId": "13875b1c-a697-4c62-8f7f-b7f1a2058666",
        "colab": {
          "base_uri": "https://localhost:8080/",
          "height": 272
        }
      },
      "cell_type": "code",
      "source": [
        "stanford_ner(example_document,model=3)"
      ],
      "execution_count": 0,
      "outputs": [
        {
          "output_type": "execute_result",
          "data": {
            "text/plain": [
              "[('Friday', 'DATE'),\n",
              " ('9112018', 'DATE'),\n",
              " ('9th', 'DATE'),\n",
              " ('November', 'DATE'),\n",
              " ('2018', 'DATE'),\n",
              " ('1987', 'DATE'),\n",
              " ('1999', 'DATE'),\n",
              " ('Keanu', 'PERSON'),\n",
              " ('Reeves,', 'PERSON'),\n",
              " ('Laurence', 'PERSON'),\n",
              " ('Fishburne,', 'PERSON'),\n",
              " ('Carrie-Anne', 'PERSON'),\n",
              " ('Moss,', 'PERSON'),\n",
              " ('Joe', 'PERSON'),\n",
              " ('Pantoliano.', 'PERSON')]"
            ]
          },
          "metadata": {
            "tags": []
          },
          "execution_count": 15
        }
      ]
    },
    {
      "metadata": {
        "id": "HdHi9MLEt6OB",
        "colab_type": "text"
      },
      "cell_type": "markdown",
      "source": [
        "# NLTK"
      ]
    },
    {
      "metadata": {
        "id": "dLtIbPYJuAfe",
        "colab_type": "code",
        "outputId": "4bcea3eb-b970-4b3b-a27a-9496e2275cac",
        "colab": {
          "base_uri": "https://localhost:8080/",
          "height": 204
        }
      },
      "cell_type": "code",
      "source": [
        "import nltk\n",
        "nltk.download('punkt')\n",
        "nltk.download('averaged_perceptron_tagger')\n",
        "nltk.download('maxent_ne_chunker')\n",
        "nltk.download('words')"
      ],
      "execution_count": 30,
      "outputs": [
        {
          "output_type": "stream",
          "text": [
            "[nltk_data] Downloading package punkt to /root/nltk_data...\n",
            "[nltk_data]   Unzipping tokenizers/punkt.zip.\n",
            "[nltk_data] Downloading package averaged_perceptron_tagger to\n",
            "[nltk_data]     /root/nltk_data...\n",
            "[nltk_data]   Unzipping taggers/averaged_perceptron_tagger.zip.\n",
            "[nltk_data] Downloading package maxent_ne_chunker to\n",
            "[nltk_data]     /root/nltk_data...\n",
            "[nltk_data]   Unzipping chunkers/maxent_ne_chunker.zip.\n",
            "[nltk_data] Downloading package words to /root/nltk_data...\n",
            "[nltk_data]   Unzipping corpora/words.zip.\n"
          ],
          "name": "stdout"
        },
        {
          "output_type": "execute_result",
          "data": {
            "text/plain": [
              "True"
            ]
          },
          "metadata": {
            "tags": []
          },
          "execution_count": 30
        }
      ]
    },
    {
      "metadata": {
        "id": "7r0uSb7LqwKF",
        "colab_type": "code",
        "colab": {}
      },
      "cell_type": "code",
      "source": [
        "def nltk_ner(document):\n",
        "  return {(' '.join(c[0] for c in chunk), chunk.label() ) for chunk in nltk.ne_chunk(nltk.pos_tag(nltk.word_tokenize(document))) if hasattr(chunk, 'label') }"
      ],
      "execution_count": 0,
      "outputs": []
    },
    {
      "metadata": {
        "id": "zPfbUR4QueDe",
        "colab_type": "code",
        "outputId": "4d025553-95fc-42e2-c126-4ffd4df0cc74",
        "colab": {
          "base_uri": "https://localhost:8080/",
          "height": 119
        }
      },
      "cell_type": "code",
      "source": [
        "nltk_ner(example_document)"
      ],
      "execution_count": 0,
      "outputs": [
        {
          "output_type": "execute_result",
          "data": {
            "text/plain": [
              "{('Hugo Weaving', 'PERSON'),\n",
              " ('Joe Pantoliano', 'PERSON'),\n",
              " ('Keanu Reeves', 'PERSON'),\n",
              " ('Laurence Fishburne', 'PERSON'),\n",
              " ('Matrix', 'ORGANIZATION'),\n",
              " ('Wachowskis', 'ORGANIZATION')}"
            ]
          },
          "metadata": {
            "tags": []
          },
          "execution_count": 18
        }
      ]
    },
    {
      "metadata": {
        "id": "Wjg7Sj3Tt8bz",
        "colab_type": "text"
      },
      "cell_type": "markdown",
      "source": [
        "# Spacy"
      ]
    },
    {
      "metadata": {
        "id": "qkg1NC08xVYM",
        "colab_type": "code",
        "outputId": "cf7fd1c8-22f5-49ce-b04e-379ba9c100dd",
        "colab": {
          "base_uri": "https://localhost:8080/",
          "height": 258
        }
      },
      "cell_type": "code",
      "source": [
        "!python3 -m spacy download en_core_web_lg\n",
        "import spacy\n",
        "sp = spacy.load('en_core_web_lg') "
      ],
      "execution_count": 32,
      "outputs": [
        {
          "output_type": "stream",
          "text": [
            "Collecting en_core_web_lg==2.0.0 from https://github.com/explosion/spacy-models/releases/download/en_core_web_lg-2.0.0/en_core_web_lg-2.0.0.tar.gz#egg=en_core_web_lg==2.0.0\n",
            "\u001b[?25l  Downloading https://github.com/explosion/spacy-models/releases/download/en_core_web_lg-2.0.0/en_core_web_lg-2.0.0.tar.gz (852.3MB)\n",
            "\u001b[K    100% |████████████████████████████████| 852.3MB 62.5MB/s \n",
            "\u001b[?25hInstalling collected packages: en-core-web-lg\n",
            "  Running setup.py install for en-core-web-lg ... \u001b[?25ldone\n",
            "\u001b[?25hSuccessfully installed en-core-web-lg-2.0.0\n",
            "\n",
            "\u001b[93m    Linking successful\u001b[0m\n",
            "    /usr/local/lib/python3.6/dist-packages/en_core_web_lg -->\n",
            "    /usr/local/lib/python3.6/dist-packages/spacy/data/en_core_web_lg\n",
            "\n",
            "    You can now load the model via spacy.load('en_core_web_lg')\n",
            "\n"
          ],
          "name": "stdout"
        }
      ]
    },
    {
      "metadata": {
        "id": "ghnQyFifqqeX",
        "colab_type": "code",
        "colab": {}
      },
      "cell_type": "code",
      "source": [
        "def spacy_ner(document):\n",
        "  return {(ent.text.strip(), ent.label_) for ent in sp(document).ents}"
      ],
      "execution_count": 0,
      "outputs": []
    },
    {
      "metadata": {
        "id": "HSSFSJvVyxOX",
        "colab_type": "code",
        "outputId": "4244569c-32ef-4a15-f117-b66516a08487",
        "colab": {
          "base_uri": "https://localhost:8080/",
          "height": 272
        }
      },
      "cell_type": "code",
      "source": [
        "spacy_ner(example_document)"
      ],
      "execution_count": 0,
      "outputs": [
        {
          "output_type": "execute_result",
          "data": {
            "text/plain": [
              "{('', 'PERSON'),\n",
              " ('1987', 'DATE'),\n",
              " ('1999', 'DATE'),\n",
              " ('2.34', 'TIME'),\n",
              " ('98 0.32', 'QUANTITY'),\n",
              " ('Carrie-Anne Moss', 'PERSON'),\n",
              " ('Friday 9/11/2018', 'DATE'),\n",
              " ('Hugo Weaving', 'ORG'),\n",
              " ('Joe Pantoliano', 'PERSON'),\n",
              " ('Keanu Reeves', 'PERSON'),\n",
              " ('Laurence Fishburne', 'PERSON'),\n",
              " ('Matrix', 'ORG'),\n",
              " ('November 2018', 'DATE'),\n",
              " ('Wachowskis', 'PERSON'),\n",
              " ('mohammed@cognitionx.io', 'PERSON')}"
            ]
          },
          "metadata": {
            "tags": []
          },
          "execution_count": 21
        }
      ]
    },
    {
      "metadata": {
        "id": "1k7BvEX_t-RL",
        "colab_type": "text"
      },
      "cell_type": "markdown",
      "source": [
        "# Allen NLP"
      ]
    },
    {
      "metadata": {
        "id": "ojRC5XLQu8Ra",
        "colab_type": "code",
        "outputId": "1512efe3-6b88-451c-90d9-d72826a6cb65",
        "colab": {
          "base_uri": "https://localhost:8080/",
          "height": 2078
        }
      },
      "cell_type": "code",
      "source": [
        "!pip3 install allennlp\n",
        "from allennlp.predictors import Predictor\n",
        "al = Predictor.from_path(\"https://s3-us-west-2.amazonaws.com/allennlp/models/fine-grained-ner-model-elmo-2018.12.21.tar.gz\")"
      ],
      "execution_count": 35,
      "outputs": [
        {
          "output_type": "stream",
          "text": [
            "Requirement already satisfied: allennlp in /usr/local/lib/python3.6/dist-packages (0.8.2)\n",
            "Requirement already satisfied: flask==1.0.2 in /usr/local/lib/python3.6/dist-packages (from allennlp) (1.0.2)\n",
            "Requirement already satisfied: gevent==1.3.6 in /usr/local/lib/python3.6/dist-packages (from allennlp) (1.3.6)\n",
            "Requirement already satisfied: tensorboardX==1.2 in /usr/local/lib/python3.6/dist-packages (from allennlp) (1.2)\n",
            "Requirement already satisfied: requests>=2.18 in /usr/local/lib/python3.6/dist-packages (from allennlp) (2.18.4)\n",
            "Requirement already satisfied: jsonnet==0.10.0; sys_platform != \"win32\" in /usr/local/lib/python3.6/dist-packages (from allennlp) (0.10.0)\n",
            "Requirement already satisfied: numpy in /usr/local/lib/python3.6/dist-packages (from allennlp) (1.14.6)\n",
            "Requirement already satisfied: ftfy in /usr/local/lib/python3.6/dist-packages (from allennlp) (5.5.1)\n",
            "Requirement already satisfied: pytz==2017.3 in /usr/local/lib/python3.6/dist-packages (from allennlp) (2017.3)\n",
            "Requirement already satisfied: scipy in /usr/local/lib/python3.6/dist-packages (from allennlp) (1.1.0)\n",
            "Requirement already satisfied: pytest in /usr/local/lib/python3.6/dist-packages (from allennlp) (3.6.4)\n",
            "Requirement already satisfied: overrides in /usr/local/lib/python3.6/dist-packages (from allennlp) (1.9)\n",
            "Requirement already satisfied: conllu==0.11 in /usr/local/lib/python3.6/dist-packages (from allennlp) (0.11)\n",
            "Requirement already satisfied: scikit-learn in /usr/local/lib/python3.6/dist-packages (from allennlp) (0.20.3)\n",
            "Requirement already satisfied: flaky in /usr/local/lib/python3.6/dist-packages (from allennlp) (3.5.3)\n",
            "Requirement already satisfied: nltk in /usr/local/lib/python3.6/dist-packages (from allennlp) (3.2.4)\n",
            "Requirement already satisfied: responses>=0.7 in /usr/local/lib/python3.6/dist-packages (from allennlp) (0.10.5)\n",
            "Requirement already satisfied: unidecode in /usr/local/lib/python3.6/dist-packages (from allennlp) (1.0.23)\n",
            "Requirement already satisfied: matplotlib==2.2.3 in /usr/local/lib/python3.6/dist-packages (from allennlp) (2.2.3)\n",
            "Requirement already satisfied: awscli>=1.11.91 in /usr/local/lib/python3.6/dist-packages (from allennlp) (1.16.121)\n",
            "Requirement already satisfied: flask-cors==3.0.7 in /usr/local/lib/python3.6/dist-packages (from allennlp) (3.0.7)\n",
            "Requirement already satisfied: boto3 in /usr/local/lib/python3.6/dist-packages (from allennlp) (1.9.106)\n",
            "Requirement already satisfied: msgpack<0.6.0,>=0.5.6 in /usr/local/lib/python3.6/dist-packages (from allennlp) (0.5.6)\n",
            "Requirement already satisfied: moto==1.3.4 in /usr/local/lib/python3.6/dist-packages (from allennlp) (1.3.4)\n",
            "Requirement already satisfied: sqlparse==0.2.4 in /usr/local/lib/python3.6/dist-packages (from allennlp) (0.2.4)\n",
            "Requirement already satisfied: pytorch-pretrained-bert>=0.6.0 in /usr/local/lib/python3.6/dist-packages (from allennlp) (0.6.1)\n",
            "Requirement already satisfied: editdistance in /usr/local/lib/python3.6/dist-packages (from allennlp) (0.5.2)\n",
            "Requirement already satisfied: tqdm>=4.19 in /usr/local/lib/python3.6/dist-packages (from allennlp) (4.28.1)\n",
            "Requirement already satisfied: parsimonious==0.8.0 in /usr/local/lib/python3.6/dist-packages (from allennlp) (0.8.0)\n",
            "Requirement already satisfied: numpydoc==0.8.0 in /usr/local/lib/python3.6/dist-packages (from allennlp) (0.8.0)\n",
            "Requirement already satisfied: spacy<2.1,>=2.0 in /usr/local/lib/python3.6/dist-packages (from allennlp) (2.0.18)\n",
            "Requirement already satisfied: h5py in /usr/local/lib/python3.6/dist-packages (from allennlp) (2.8.0)\n",
            "Requirement already satisfied: torch>=0.4.1 in /usr/local/lib/python3.6/dist-packages (from allennlp) (1.0.1.post2)\n",
            "Requirement already satisfied: Werkzeug>=0.14 in /usr/local/lib/python3.6/dist-packages (from flask==1.0.2->allennlp) (0.14.1)\n",
            "Requirement already satisfied: click>=5.1 in /usr/local/lib/python3.6/dist-packages (from flask==1.0.2->allennlp) (7.0)\n",
            "Requirement already satisfied: itsdangerous>=0.24 in /usr/local/lib/python3.6/dist-packages (from flask==1.0.2->allennlp) (1.1.0)\n",
            "Requirement already satisfied: Jinja2>=2.10 in /usr/local/lib/python3.6/dist-packages (from flask==1.0.2->allennlp) (2.10)\n",
            "Requirement already satisfied: greenlet>=0.4.14; platform_python_implementation == \"CPython\" in /usr/local/lib/python3.6/dist-packages (from gevent==1.3.6->allennlp) (0.4.15)\n",
            "Requirement already satisfied: six in /usr/local/lib/python3.6/dist-packages (from tensorboardX==1.2->allennlp) (1.11.0)\n",
            "Requirement already satisfied: protobuf>=0.3.2 in /usr/local/lib/python3.6/dist-packages (from tensorboardX==1.2->allennlp) (3.6.1)\n",
            "Requirement already satisfied: chardet<3.1.0,>=3.0.2 in /usr/local/lib/python3.6/dist-packages (from requests>=2.18->allennlp) (3.0.4)\n",
            "Requirement already satisfied: certifi>=2017.4.17 in /usr/local/lib/python3.6/dist-packages (from requests>=2.18->allennlp) (2018.11.29)\n",
            "Requirement already satisfied: idna<2.7,>=2.5 in /usr/local/lib/python3.6/dist-packages (from requests>=2.18->allennlp) (2.6)\n",
            "Requirement already satisfied: urllib3<1.23,>=1.21.1 in /usr/local/lib/python3.6/dist-packages (from requests>=2.18->allennlp) (1.22)\n",
            "Requirement already satisfied: wcwidth in /usr/local/lib/python3.6/dist-packages (from ftfy->allennlp) (0.1.7)\n",
            "Requirement already satisfied: py>=1.5.0 in /usr/local/lib/python3.6/dist-packages (from pytest->allennlp) (1.8.0)\n",
            "Requirement already satisfied: atomicwrites>=1.0 in /usr/local/lib/python3.6/dist-packages (from pytest->allennlp) (1.3.0)\n",
            "Requirement already satisfied: pluggy<0.8,>=0.5 in /usr/local/lib/python3.6/dist-packages (from pytest->allennlp) (0.7.1)\n",
            "Requirement already satisfied: more-itertools>=4.0.0 in /usr/local/lib/python3.6/dist-packages (from pytest->allennlp) (6.0.0)\n",
            "Requirement already satisfied: setuptools in /usr/local/lib/python3.6/dist-packages (from pytest->allennlp) (40.8.0)\n",
            "Requirement already satisfied: attrs>=17.4.0 in /usr/local/lib/python3.6/dist-packages (from pytest->allennlp) (19.1.0)\n",
            "Requirement already satisfied: python-dateutil>=2.1 in /usr/local/lib/python3.6/dist-packages (from matplotlib==2.2.3->allennlp) (2.5.3)\n",
            "Requirement already satisfied: cycler>=0.10 in /usr/local/lib/python3.6/dist-packages (from matplotlib==2.2.3->allennlp) (0.10.0)\n",
            "Requirement already satisfied: kiwisolver>=1.0.1 in /usr/local/lib/python3.6/dist-packages (from matplotlib==2.2.3->allennlp) (1.0.1)\n",
            "Requirement already satisfied: pyparsing!=2.0.4,!=2.1.2,!=2.1.6,>=2.0.1 in /usr/local/lib/python3.6/dist-packages (from matplotlib==2.2.3->allennlp) (2.3.1)\n",
            "Requirement already satisfied: colorama<=0.3.9,>=0.2.5 in /usr/local/lib/python3.6/dist-packages (from awscli>=1.11.91->allennlp) (0.3.9)\n",
            "Requirement already satisfied: rsa<=3.5.0,>=3.1.2 in /usr/local/lib/python3.6/dist-packages (from awscli>=1.11.91->allennlp) (3.4.2)\n",
            "Collecting botocore==1.12.111 (from awscli>=1.11.91->allennlp)\n",
            "\u001b[?25l  Downloading https://files.pythonhosted.org/packages/58/dc/a1e204bd358e45d8e921a70882d5641eaf8890335dd80a210488076fc4dc/botocore-1.12.111-py2.py3-none-any.whl (5.3MB)\n",
            "\u001b[K    100% |████████████████████████████████| 5.3MB 5.8MB/s \n",
            "\u001b[?25hRequirement already satisfied: s3transfer<0.3.0,>=0.2.0 in /usr/local/lib/python3.6/dist-packages (from awscli>=1.11.91->allennlp) (0.2.0)\n",
            "Requirement already satisfied: docutils>=0.10 in /usr/local/lib/python3.6/dist-packages (from awscli>=1.11.91->allennlp) (0.14)\n",
            "Requirement already satisfied: PyYAML<=3.13,>=3.10 in /usr/local/lib/python3.6/dist-packages (from awscli>=1.11.91->allennlp) (3.13)\n",
            "Requirement already satisfied: jmespath<1.0.0,>=0.7.1 in /usr/local/lib/python3.6/dist-packages (from boto3->allennlp) (0.9.4)\n",
            "Requirement already satisfied: aws-xray-sdk<0.96,>=0.93 in /usr/local/lib/python3.6/dist-packages (from moto==1.3.4->allennlp) (0.95)\n",
            "Requirement already satisfied: mock in /usr/local/lib/python3.6/dist-packages (from moto==1.3.4->allennlp) (2.0.0)\n",
            "Requirement already satisfied: cookies in /usr/local/lib/python3.6/dist-packages (from moto==1.3.4->allennlp) (2.2.1)\n",
            "Requirement already satisfied: cryptography>=2.0.0 in /usr/local/lib/python3.6/dist-packages (from moto==1.3.4->allennlp) (2.6.1)\n",
            "Requirement already satisfied: jsondiff==1.1.1 in /usr/local/lib/python3.6/dist-packages (from moto==1.3.4->allennlp) (1.1.1)\n",
            "Requirement already satisfied: docker>=2.5.1 in /usr/local/lib/python3.6/dist-packages (from moto==1.3.4->allennlp) (3.7.0)\n",
            "Requirement already satisfied: boto>=2.36.0 in /usr/local/lib/python3.6/dist-packages (from moto==1.3.4->allennlp) (2.49.0)\n",
            "Requirement already satisfied: pyaml in /usr/local/lib/python3.6/dist-packages (from moto==1.3.4->allennlp) (18.11.0)\n",
            "Requirement already satisfied: xmltodict in /usr/local/lib/python3.6/dist-packages (from moto==1.3.4->allennlp) (0.12.0)\n",
            "Requirement already satisfied: python-jose<3.0.0 in /usr/local/lib/python3.6/dist-packages (from moto==1.3.4->allennlp) (2.0.2)\n",
            "Requirement already satisfied: regex in /usr/local/lib/python3.6/dist-packages (from pytorch-pretrained-bert>=0.6.0->allennlp) (2018.1.10)\n",
            "Requirement already satisfied: sphinx>=1.2.3 in /usr/local/lib/python3.6/dist-packages (from numpydoc==0.8.0->allennlp) (1.8.4)\n",
            "Requirement already satisfied: preshed<2.1.0,>=2.0.1 in /usr/local/lib/python3.6/dist-packages (from spacy<2.1,>=2.0->allennlp) (2.0.1)\n",
            "Requirement already satisfied: murmurhash<1.1.0,>=0.28.0 in /usr/local/lib/python3.6/dist-packages (from spacy<2.1,>=2.0->allennlp) (1.0.2)\n",
            "Requirement already satisfied: dill<0.3,>=0.2 in /usr/local/lib/python3.6/dist-packages (from spacy<2.1,>=2.0->allennlp) (0.2.9)\n",
            "Requirement already satisfied: thinc<6.13.0,>=6.12.1 in /usr/local/lib/python3.6/dist-packages (from spacy<2.1,>=2.0->allennlp) (6.12.1)\n",
            "Requirement already satisfied: ujson>=1.35 in /usr/local/lib/python3.6/dist-packages (from spacy<2.1,>=2.0->allennlp) (1.35)\n",
            "Requirement already satisfied: cymem<2.1.0,>=2.0.2 in /usr/local/lib/python3.6/dist-packages (from spacy<2.1,>=2.0->allennlp) (2.0.2)\n",
            "Requirement already satisfied: plac<1.0.0,>=0.9.6 in /usr/local/lib/python3.6/dist-packages (from spacy<2.1,>=2.0->allennlp) (0.9.6)\n",
            "Requirement already satisfied: MarkupSafe>=0.23 in /usr/local/lib/python3.6/dist-packages (from Jinja2>=2.10->flask==1.0.2->allennlp) (1.1.1)\n",
            "Requirement already satisfied: pyasn1>=0.1.3 in /usr/local/lib/python3.6/dist-packages (from rsa<=3.5.0,>=3.1.2->awscli>=1.11.91->allennlp) (0.4.5)\n",
            "Requirement already satisfied: jsonpickle in /usr/local/lib/python3.6/dist-packages (from aws-xray-sdk<0.96,>=0.93->moto==1.3.4->allennlp) (1.1)\n",
            "Requirement already satisfied: wrapt in /usr/local/lib/python3.6/dist-packages (from aws-xray-sdk<0.96,>=0.93->moto==1.3.4->allennlp) (1.10.11)\n",
            "Requirement already satisfied: pbr>=0.11 in /usr/local/lib/python3.6/dist-packages (from mock->moto==1.3.4->allennlp) (5.1.3)\n",
            "Requirement already satisfied: asn1crypto>=0.21.0 in /usr/local/lib/python3.6/dist-packages (from cryptography>=2.0.0->moto==1.3.4->allennlp) (0.24.0)\n",
            "Requirement already satisfied: cffi!=1.11.3,>=1.8 in /usr/local/lib/python3.6/dist-packages (from cryptography>=2.0.0->moto==1.3.4->allennlp) (1.12.2)\n",
            "Requirement already satisfied: docker-pycreds>=0.4.0 in /usr/local/lib/python3.6/dist-packages (from docker>=2.5.1->moto==1.3.4->allennlp) (0.4.0)\n",
            "Requirement already satisfied: websocket-client>=0.32.0 in /usr/local/lib/python3.6/dist-packages (from docker>=2.5.1->moto==1.3.4->allennlp) (0.55.0)\n",
            "Requirement already satisfied: ecdsa<1.0 in /usr/local/lib/python3.6/dist-packages (from python-jose<3.0.0->moto==1.3.4->allennlp) (0.13)\n",
            "Requirement already satisfied: pycryptodome<4.0.0,>=3.3.1 in /usr/local/lib/python3.6/dist-packages (from python-jose<3.0.0->moto==1.3.4->allennlp) (3.7.3)\n",
            "Requirement already satisfied: future<1.0 in /usr/local/lib/python3.6/dist-packages (from python-jose<3.0.0->moto==1.3.4->allennlp) (0.16.0)\n",
            "Requirement already satisfied: imagesize in /usr/local/lib/python3.6/dist-packages (from sphinx>=1.2.3->numpydoc==0.8.0->allennlp) (1.1.0)\n",
            "Requirement already satisfied: snowballstemmer>=1.1 in /usr/local/lib/python3.6/dist-packages (from sphinx>=1.2.3->numpydoc==0.8.0->allennlp) (1.2.1)\n",
            "Requirement already satisfied: Pygments>=2.0 in /usr/local/lib/python3.6/dist-packages (from sphinx>=1.2.3->numpydoc==0.8.0->allennlp) (2.1.3)\n",
            "Requirement already satisfied: babel!=2.0,>=1.3 in /usr/local/lib/python3.6/dist-packages (from sphinx>=1.2.3->numpydoc==0.8.0->allennlp) (2.6.0)\n",
            "Requirement already satisfied: alabaster<0.8,>=0.7 in /usr/local/lib/python3.6/dist-packages (from sphinx>=1.2.3->numpydoc==0.8.0->allennlp) (0.7.12)\n",
            "Requirement already satisfied: packaging in /usr/local/lib/python3.6/dist-packages (from sphinx>=1.2.3->numpydoc==0.8.0->allennlp) (19.0)\n",
            "Requirement already satisfied: sphinxcontrib-websupport in /usr/local/lib/python3.6/dist-packages (from sphinx>=1.2.3->numpydoc==0.8.0->allennlp) (1.1.0)\n",
            "Requirement already satisfied: cytoolz<0.10,>=0.9.0 in /usr/local/lib/python3.6/dist-packages (from thinc<6.13.0,>=6.12.1->spacy<2.1,>=2.0->allennlp) (0.9.0.1)\n",
            "Requirement already satisfied: msgpack-numpy<0.4.4 in /usr/local/lib/python3.6/dist-packages (from thinc<6.13.0,>=6.12.1->spacy<2.1,>=2.0->allennlp) (0.4.3.2)\n",
            "Requirement already satisfied: pycparser in /usr/local/lib/python3.6/dist-packages (from cffi!=1.11.3,>=1.8->cryptography>=2.0.0->moto==1.3.4->allennlp) (2.19)\n",
            "Requirement already satisfied: toolz>=0.8.0 in /usr/local/lib/python3.6/dist-packages (from cytoolz<0.10,>=0.9.0->thinc<6.13.0,>=6.12.1->spacy<2.1,>=2.0->allennlp) (0.9.0)\n",
            "\u001b[31mfeaturetools 0.4.1 has requirement pandas>=0.23.0, but you'll have pandas 0.22.0 which is incompatible.\u001b[0m\n",
            "Installing collected packages: botocore\n",
            "  Found existing installation: botocore 1.12.106\n",
            "    Uninstalling botocore-1.12.106:\n",
            "      Successfully uninstalled botocore-1.12.106\n",
            "Successfully installed botocore-1.12.111\n"
          ],
          "name": "stdout"
        },
        {
          "output_type": "display_data",
          "data": {
            "application/vnd.colab-display-data+json": {
              "pip_warning": {
                "packages": [
                  "botocore"
                ]
              }
            }
          },
          "metadata": {
            "tags": []
          }
        },
        {
          "output_type": "stream",
          "text": [
            "100%|██████████| 724601837/724601837 [03:42<00:00, 3253050.54B/s] \n",
            "/usr/local/lib/python3.6/dist-packages/allennlp/data/token_indexers/token_characters_indexer.py:51: UserWarning: You are using the default value (0) of `min_padding_length`, which can cause some subtle bugs (more info see https://github.com/allenai/allennlp/issues/1954). Strongly recommend to set a value, usually the maximum size of the convolutional layer size when using CnnEncoder.\n",
            "  UserWarning)\n"
          ],
          "name": "stderr"
        }
      ]
    },
    {
      "metadata": {
        "id": "Po5hHwi5puQj",
        "colab_type": "code",
        "colab": {}
      },
      "cell_type": "code",
      "source": [
        "def convert_results(allen_results):\n",
        "  ents = set()\n",
        "  for word, tag in zip(allen_results[\"words\"], allen_results[\"tags\"]):\n",
        "    if tag != \"O\":\n",
        "      ent_position, ent_type = tag.split(\"-\")\n",
        "      if ent_position == \"U\":\n",
        "        ents.add((word,ent_type))\n",
        "      else:\n",
        "        if ent_position == \"B\":\n",
        "          w = word\n",
        "        elif ent_position == \"I\":\n",
        "          w += \" \" + word\n",
        "        elif ent_position == \"L\":\n",
        "          w += \" \" + word\n",
        "          ents.add((w,ent_type))\n",
        "  return ents\n",
        "\n",
        "def allennlp_ner(document):\n",
        "  return convert_results(al.predict(sentence=document))"
      ],
      "execution_count": 0,
      "outputs": []
    },
    {
      "metadata": {
        "id": "hBSuqZ9Oq-XT",
        "colab_type": "code",
        "outputId": "21a6524f-79b3-402a-a969-c6be07b0bc6f",
        "colab": {
          "base_uri": "https://localhost:8080/",
          "height": 204
        }
      },
      "cell_type": "code",
      "source": [
        "allennlp_ner(example_document)"
      ],
      "execution_count": 0,
      "outputs": [
        {
          "output_type": "execute_result",
          "data": {
            "text/plain": [
              "{('0.32 2.34', 'CARDINAL'),\n",
              " ('1987', 'DATE'),\n",
              " ('1999', 'DATE'),\n",
              " ('Carrie - Anne Moss', 'PERSON'),\n",
              " ('Friday 9/11/2018 9th November 2018', 'DATE'),\n",
              " ('Hugo Weaving', 'PERSON'),\n",
              " ('Joe Pantoliano', 'PERSON'),\n",
              " ('Keanu Reeves', 'PERSON'),\n",
              " ('Laurence Fishburne', 'PERSON'),\n",
              " ('The Matrix', 'WORK_OF_ART'),\n",
              " ('The Wachowskis', 'PERSON')}"
            ]
          },
          "metadata": {
            "tags": []
          },
          "execution_count": 24
        }
      ]
    },
    {
      "metadata": {
        "id": "b2uvc2hb1zrI",
        "colab_type": "text"
      },
      "cell_type": "markdown",
      "source": [
        "# Polyglot"
      ]
    },
    {
      "metadata": {
        "id": "6ixzM5Kn12Ae",
        "colab_type": "code",
        "outputId": "1d78c485-7a3d-43ac-e577-c204d3a7b128",
        "colab": {
          "base_uri": "https://localhost:8080/",
          "height": 667
        }
      },
      "cell_type": "code",
      "source": [
        "!pip3 install -U git+https://github.com/aboSamoor/polyglot.git@master\n",
        "!polyglot download embeddings2.en ner2.en\n",
        "from polyglot.text import Text"
      ],
      "execution_count": 37,
      "outputs": [
        {
          "output_type": "stream",
          "text": [
            "Collecting git+https://github.com/aboSamoor/polyglot.git@master\n",
            "  Cloning https://github.com/aboSamoor/polyglot.git (to revision master) to /tmp/pip-req-build-y3_lq51y\n",
            "Collecting futures>=2.1.6 (from polyglot==16.7.4)\n",
            "  Downloading https://files.pythonhosted.org/packages/cc/26/b61e3a4eb50653e8a7339d84eeaa46d1e93b92951978873c220ae64d0733/futures-3.1.1.tar.gz\n",
            "Collecting pycld2>=0.3 (from polyglot==16.7.4)\n",
            "\u001b[?25l  Downloading https://files.pythonhosted.org/packages/21/77/8525fe5f147bf2819c7c9942c717c4a79b83f8003da1a3847759fb560909/pycld2-0.31.tar.gz (14.3MB)\n",
            "\u001b[K    100% |████████████████████████████████| 14.3MB 2.2MB/s \n",
            "\u001b[?25hRequirement already satisfied, skipping upgrade: numpy>=1.6.1 in /usr/local/lib/python3.6/dist-packages (from polyglot==16.7.4) (1.14.6)\n",
            "Requirement already satisfied, skipping upgrade: wheel>=0.23.0 in /usr/local/lib/python3.6/dist-packages (from polyglot==16.7.4) (0.33.1)\n",
            "Requirement already satisfied, skipping upgrade: six>=1.7.3 in /usr/local/lib/python3.6/dist-packages (from polyglot==16.7.4) (1.11.0)\n",
            "Collecting morfessor>=2.0.2a1 (from polyglot==16.7.4)\n",
            "  Downloading https://files.pythonhosted.org/packages/62/4d/1416982d31175e5053b8a0ae91b3e2761077f88d7a8071c7051a302299eb/Morfessor-2.0.4.tar.gz\n",
            "Collecting PyICU>=1.8 (from polyglot==16.7.4)\n",
            "\u001b[?25l  Downloading https://files.pythonhosted.org/packages/c2/15/0af20b540c828943b6ffea5677c86e908dcac108813b522adebb75c827c1/PyICU-2.2.tar.gz (211kB)\n",
            "\u001b[K    100% |████████████████████████████████| 215kB 24.8MB/s \n",
            "\u001b[?25hBuilding wheels for collected packages: polyglot, futures, pycld2, morfessor, PyICU\n",
            "  Building wheel for polyglot (setup.py) ... \u001b[?25ldone\n",
            "\u001b[?25h  Stored in directory: /tmp/pip-ephem-wheel-cache-vacnhzmp/wheels/42/d9/73/345c7ae8554299ff8b31635d64eb8455fd591385fa734cdbef\n",
            "  Building wheel for futures (setup.py) ... \u001b[?25ldone\n",
            "\u001b[?25h  Stored in directory: /root/.cache/pip/wheels/f3/f9/c7/4fbf1faa6038faf183f6e3ea61f17a5f7eea5ab9a1dd7753fd\n",
            "  Building wheel for pycld2 (setup.py) ... \u001b[?25ldone\n",
            "\u001b[?25h  Stored in directory: /root/.cache/pip/wheels/7b/44/44/ec4c5e25e095f02aa0e63ef2bf0cc8badda5877330ffa5fbe4\n",
            "  Building wheel for morfessor (setup.py) ... \u001b[?25ldone\n",
            "\u001b[?25h  Stored in directory: /root/.cache/pip/wheels/43/74/e2/92a807d8662f5a0df908ba20887f8ad02bf1b130d3939b65b7\n",
            "  Building wheel for PyICU (setup.py) ... \u001b[?25ldone\n",
            "\u001b[?25h  Stored in directory: /root/.cache/pip/wheels/ed/73/e3/0621953e0e442f0333daa1dd6523bec36606ee33f75612923a\n",
            "Successfully built polyglot futures pycld2 morfessor PyICU\n",
            "Installing collected packages: futures, pycld2, morfessor, PyICU, polyglot\n",
            "Successfully installed PyICU-2.2 futures-3.1.1 morfessor-2.0.4 polyglot-16.7.4 pycld2-0.31\n"
          ],
          "name": "stdout"
        },
        {
          "output_type": "display_data",
          "data": {
            "application/vnd.colab-display-data+json": {
              "pip_warning": {
                "packages": [
                  "concurrent"
                ]
              }
            }
          },
          "metadata": {
            "tags": []
          }
        },
        {
          "output_type": "stream",
          "text": [
            "[polyglot_data] Downloading package embeddings2.en to\n",
            "[polyglot_data]     /root/polyglot_data...\n",
            "[polyglot_data] Downloading package ner2.en to /root/polyglot_data...\n"
          ],
          "name": "stdout"
        }
      ]
    },
    {
      "metadata": {
        "id": "DzUrNQKk2X7O",
        "colab_type": "code",
        "colab": {}
      },
      "cell_type": "code",
      "source": [
        "def polyglot_ner(document):\n",
        "  return {(' '.join(entity),entity.tag.split('-')[-1]) for entity in Text(document).entities}"
      ],
      "execution_count": 0,
      "outputs": []
    },
    {
      "metadata": {
        "id": "BC9e3KFB3T93",
        "colab_type": "code",
        "outputId": "7f07c69e-d352-41a8-c2f2-10f4edc44e7b",
        "colab": {
          "base_uri": "https://localhost:8080/",
          "height": 153
        }
      },
      "cell_type": "code",
      "source": [
        "polyglot_ner(example_document)"
      ],
      "execution_count": 0,
      "outputs": [
        {
          "output_type": "execute_result",
          "data": {
            "text/plain": [
              "{('Anne Moss', 'PER'),\n",
              " ('Carrie', 'PER'),\n",
              " ('Hugo Weaving', 'PER'),\n",
              " ('Joe Pantoliano', 'PER'),\n",
              " ('Keanu Reeves', 'PER'),\n",
              " ('Laurence Fishburne', 'PER'),\n",
              " ('cognitionx.io', 'PER'),\n",
              " ('mohammed', 'PER')}"
            ]
          },
          "metadata": {
            "tags": []
          },
          "execution_count": 27
        }
      ]
    },
    {
      "metadata": {
        "id": "nMAtuOgf5uAu",
        "colab_type": "text"
      },
      "cell_type": "markdown",
      "source": [
        "# Which is the Best?"
      ]
    },
    {
      "metadata": {
        "id": "TUqUvqw88R5B",
        "colab_type": "code",
        "colab": {}
      },
      "cell_type": "code",
      "source": [
        "test = {\n",
        "  \"text\":'''Elizabeth was born in London as the first child of the Duke and Duchess of York, later King George VI and Queen Elizabeth, and she was educated privately at home. Her father acceded to the throne on the abdication of his brother King Edward VIII in 1936''',\n",
        "  \"entities\" : {\n",
        "    \"dates\":{\"1936\"},\n",
        "    \"locations\":{\"London\", \"York\"},\n",
        "    \"people\":{\n",
        "        \"Elizabeth\",\n",
        "        \"Duke\",\n",
        "        \"Duchess\",\n",
        "        \"King George VI\",\n",
        "        \"Queen Elizabeth\",\n",
        "        \"King Edward VIII\",\n",
        "    },\n",
        "  }\n",
        "}"
      ],
      "execution_count": 0,
      "outputs": []
    },
    {
      "metadata": {
        "id": "0RC_jDpEN9g2",
        "colab_type": "text"
      },
      "cell_type": "markdown",
      "source": [
        "## Which is the quickest?"
      ]
    },
    {
      "metadata": {
        "id": "eBT6WbYl51gs",
        "colab_type": "code",
        "outputId": "ef84e5e5-7b86-446c-b7d1-e496486117af",
        "colab": {
          "base_uri": "https://localhost:8080/",
          "height": 187
        }
      },
      "cell_type": "code",
      "source": [
        "import time\n",
        "\n",
        "flair_start = time.time()\n",
        "Y_flair4 = flair_4ner(test[\"text\"])\n",
        "flair_end = time.time()\n",
        "flair_time4 = flair_end - flair_start\n",
        "print(f\"Flair (4 class) = {flair_time4}s\")\n",
        "\n",
        "flair_start = time.time()\n",
        "Y_flair12 = flair_12ner(test[\"text\"])\n",
        "flair_end = time.time()\n",
        "flair_time12 = flair_end - flair_start\n",
        "print(f\"Flair (12 class) = {flair_time12}s\")\n",
        "\n",
        "gate_start = time.time()\n",
        "Y_gate = gate_ner(test[\"text\"])\n",
        "gate_end = time.time()\n",
        "gate_time = gate_end - gate_start\n",
        "print(f\"GATE = {gate_time}s\")\n",
        "\n",
        "nltk_start = time.time()\n",
        "Y_nltk = nltk_ner(test[\"text\"])\n",
        "nltk_end = time.time()\n",
        "nltk_time = nltk_end - nltk_start\n",
        "print(f\"NLTK = {nltk_time}s\")\n",
        "\n",
        "stanford_start = time.time()\n",
        "Y_stanford1 = stanford_ner(test[\"text\"],model=1)\n",
        "stanford_end = time.time()\n",
        "stanford_time1 = stanford_end - stanford_start\n",
        "print(f\"Stanford Core NLP (3 class) = {stanford_time1}s\")\n",
        "\n",
        "stanford_start = time.time()\n",
        "Y_stanford2 = stanford_ner(test[\"text\"],model=2)\n",
        "stanford_end = time.time()\n",
        "stanford_time2 = stanford_end - stanford_start\n",
        "print(f\"Stanford Core NLP (4 class) = {stanford_time2}s\")\n",
        "\n",
        "stanford_start = time.time()\n",
        "Y_stanford3 = stanford_ner(test[\"text\"],model=3)\n",
        "stanford_end = time.time()\n",
        "stanford_time3 = stanford_end - stanford_start\n",
        "print(f\"Stanford Core NLP (7 class) = {stanford_time3}s\")\n",
        "\n",
        "spacy_start = time.time()\n",
        "Y_spacy = spacy_ner(test[\"text\"])\n",
        "spacy_end = time.time()\n",
        "spacy_time = spacy_end - spacy_start\n",
        "print(f\"Spacy = {spacy_time}s\")\n",
        "\n",
        "allen_start = time.time()\n",
        "Y_allen = allennlp_ner(test[\"text\"])\n",
        "allen_end = time.time()\n",
        "allen_time = allen_end - allen_start\n",
        "print(f\"Allen NLP = {allen_time}s\")\n",
        "\n",
        "poly_start = time.time()\n",
        "Y_polyglot = polyglot_ner(test[\"text\"])\n",
        "poly_end = time.time()\n",
        "poly_time = poly_end - poly_start\n",
        "print(f\"Polyglot = {poly_time}s\")"
      ],
      "execution_count": 39,
      "outputs": [
        {
          "output_type": "stream",
          "text": [
            "Flair (4 class) = 3.726571798324585s\n",
            "Flair (12 class) = 3.82078218460083s\n",
            "GATE = 0.727576732635498s\n",
            "NLTK = 0.4831078052520752s\n",
            "Stanford Core NLP (3 class) = 5.017462730407715s\n",
            "Stanford Core NLP (4 class) = 3.2307910919189453s\n",
            "Stanford Core NLP (7 class) = 3.1419668197631836s\n",
            "Spacy = 0.08717966079711914s\n",
            "Allen NLP = 2.343352794647217s\n",
            "Polyglot = 3.761240005493164s\n"
          ],
          "name": "stdout"
        }
      ]
    },
    {
      "metadata": {
        "id": "_M4Zjho0-HM0",
        "colab_type": "code",
        "outputId": "cb820112-3053-48b7-c2ae-58ebe48db7bc",
        "colab": {
          "base_uri": "https://localhost:8080/",
          "height": 472
        }
      },
      "cell_type": "code",
      "source": [
        "%matplotlib inline  \n",
        "\n",
        "import matplotlib.pyplot as plt\n",
        "import numpy as np\n",
        "\n",
        "plt.rcdefaults()\n",
        "fig, ax = plt.subplots()\n",
        "\n",
        "n_words = len(test[\"text\"].split())\n",
        "ners = ('Spacy', 'NLTK',  'GATE',  'Allen NLP', 'Stanford Core NLP (7 class)', 'Stanford Core NLP (4 class)', 'Polyglot', 'Flair (4 class)', 'Flair (12 class)', 'Stanford Core NLP (3 class)')\n",
        "performance = [spacy_time/n_words, nltk_time/n_words, gate_time/n_words,  allen_time/n_words, stanford_time3/n_words, stanford_time2/n_words, poly_time/n_words, flair_time4/n_words, flair_time12/n_words, stanford_time1/n_words]\n",
        "y_pos = np.arange(len(ners))\n",
        "\n",
        "ax.barh(y_pos, performance, align='center', color='green', ecolor='black')\n",
        "ax.set_yticks(y_pos)\n",
        "ax.set_yticklabels(ners)\n",
        "ax.invert_yaxis()  \n",
        "ax.set_xlabel('Time (s / word)')\n",
        "ax.set_title('How long does each NER take?')\n",
        "\n",
        "plt.show()"
      ],
      "execution_count": 55,
      "outputs": [
        {
          "output_type": "display_data",
          "data": {
            "image/png": "[encoded data removed]",
            "text/plain": [
              "<Figure size 640x480 with 1 Axes>"
            ]
          },
          "metadata": {
            "tags": []
          }
        }
      ]
    },
    {
      "metadata": {
        "id": "GNn6V860OBY1",
        "colab_type": "text"
      },
      "cell_type": "markdown",
      "source": [
        "## Which is the best NER for finding entities?"
      ]
    },
    {
      "metadata": {
        "id": "2dPZCVOO6dl5",
        "colab_type": "code",
        "colab": {}
      },
      "cell_type": "code",
      "source": [
        "def f1_score(Y, Y_hat, strict=False):\n",
        "  e = .000001\n",
        "  non_entities = {}\n",
        "  true_positives = sum([max([1 if y == y_hat else .5 if y_hat in y else .5 if y in y_hat else 0 for y_hat in Y_hat]+ [0]) for y in Y]) # correctly identified\n",
        "  if strict: true_positives = len(Y.intersection(Y_hat)) #if strict, only count exact entity matches and not partial matches (default)\n",
        "  dY = Y ^ Y_hat \n",
        "  false_positives = len(Y_hat.intersection(dY)) # incorrectly identified\n",
        "  false_negatives = len(Y) - true_positives # incorrectly rejected\n",
        "  recall = true_positives / (true_positives + false_negatives + e)\n",
        "  precision = true_positives / (true_positives + false_positives + e)\n",
        "  return (2 * precision * recall) / (precision + recall + e)"
      ],
      "execution_count": 0,
      "outputs": []
    },
    {
      "metadata": {
        "id": "d0ipbqoRNaI5",
        "colab_type": "code",
        "outputId": "57995f88-1ca3-446b-852a-721c6a2c2998",
        "colab": {
          "base_uri": "https://localhost:8080/",
          "height": 598
        }
      },
      "cell_type": "code",
      "source": [
        "expected_entities = {entity for entities in test[\"entities\"].values() for entity in entities}\n",
        "gate_entities = {entity.replace('(male)','').replace('(female)','').strip() for entity,_ in Y_gate}\n",
        "polyglot_entities = {entity for entity,_ in Y_polyglot}\n",
        "spacy_entities = {entity for entity,_ in Y_spacy}\n",
        "nltk_entities = {entity for entity,_ in Y_nltk}\n",
        "allen_entities = {entity for entity,_ in Y_allen}\n",
        "stanford_entities1 = {entity for entity,_ in Y_stanford1}\n",
        "stanford_entities2 = {entity for entity,_ in Y_stanford2}\n",
        "stanford_entities3 = {entity for entity,_ in Y_stanford3}\n",
        "flair_entities4 = {entity for entity,_ in Y_flair4}\n",
        "flair_entities12 = {entity for entity,_ in Y_flair12}\n",
        "\n",
        "print(f\"Expected = 100.0%\\n\\t{sorted(expected_entities)}\\n\")\n",
        "f1_flair4 = f1_score(expected_entities, flair_entities4)\n",
        "print(f\"Flair (4 class) = {f1_flair4*100}%\\n\\t{sorted(flair_entities4)}\\n\")\n",
        "f1_flair12 = f1_score(expected_entities, flair_entities12)\n",
        "print(f\"Flair (12 class) = {f1_flair12*100}%\\n\\t{sorted(flair_entities12)}\\n\")\n",
        "f1_gate = f1_score(expected_entities, gate_entities)\n",
        "print(f\"GATE = {f1_gate*100}%\\n\\t{sorted(gate_entities)}\\n\")\n",
        "f1_poly = f1_score(expected_entities, polyglot_entities)\n",
        "print(f\"Polyglot = {f1_poly*100}%\\n\\t{sorted(polyglot_entities)}\\n\")\n",
        "f1_spacy = f1_score(expected_entities, spacy_entities)\n",
        "print(f\"Spacy = {f1_spacy*100}%\\n\\t{sorted(spacy_entities)}\\n\")\n",
        "f1_nltk = f1_score(expected_entities, nltk_entities)\n",
        "print(f\"NLTK = {f1_nltk*100}%\\n\\t{sorted(nltk_entities)}\\n\")\n",
        "f1_stanford1 = f1_score(expected_entities, stanford_entities1)\n",
        "print(f\"Stanford Core NLP (3 class) = {f1_stanford1*100}%\\n\\t{sorted(stanford_entities1)}\\n\")\n",
        "f1_stanford2 = f1_score(expected_entities, stanford_entities2)\n",
        "print(f\"Stanford Core NLP (4 class) = {f1_stanford2*100}%\\n\\t{sorted(stanford_entities2)}\\n\")\n",
        "f1_stanford3 = f1_score(expected_entities, stanford_entities3)\n",
        "print(f\"Stanford Core NLP (7 class) = {f1_stanford3*100}%\\n\\t{sorted(stanford_entities3)}\\n\")\n",
        "f1_allen = f1_score(expected_entities, allen_entities)\n",
        "print(f\"Allen NLP = {f1_allen*100}%\\n\\t{sorted(allen_entities)}\\n\")"
      ],
      "execution_count": 46,
      "outputs": [
        {
          "output_type": "stream",
          "text": [
            "Expected = 100.0%\n",
            "\t['1936', 'Duchess', 'Duke', 'Elizabeth', 'King Edward VIII', 'King George VI', 'London', 'Queen Elizabeth', 'York']\n",
            "\n",
            "Flair (4 class) = 51.42851559188594%\n",
            "\t['Duchess of York,', 'Edward VIII', 'Elizabeth', 'Elizabeth,', 'George VI', 'London']\n",
            "\n",
            "Flair (12 class) = 59.99994450004136%\n",
            "\t['1936', 'Edward VIII', 'Elizabeth', 'George VI', 'London', 'Queen Elizabeth,', 'first', 'the Duke and Duchess of York,']\n",
            "\n",
            "GATE = 84.21046759005813%\n",
            "\t['1936', 'Duchess', 'Duke', 'Edward VIII', 'Elizabeth', 'George VI', 'London', 'Queen Elizabeth', 'York']\n",
            "\n",
            "Polyglot = 94.1175861591972%\n",
            "\t['Duchess', 'Duke', 'Elizabeth', 'King Edward VIII', 'King George VI', 'London', 'Queen Elizabeth', 'York']\n",
            "\n",
            "Spacy = 66.6666089991195%\n",
            "\t['1936', 'Elizabeth', 'George VI', 'King Edward VIII', 'London', 'Queen Elizabeth', 'first']\n",
            "\n",
            "NLTK = 66.66660925929759%\n",
            "\t['Duchess of York', 'Duke', 'Edward VIII', 'Elizabeth', 'George VI', 'London', 'Queen Elizabeth']\n",
            "\n",
            "Stanford Core NLP (3 class) = 43.902385484886%\n",
            "\t['Duke', 'Edward', 'Elizabeth', 'Elizabeth,', 'George', 'King', 'London', 'Queen', 'VI', 'VIII']\n",
            "\n",
            "Stanford Core NLP (4 class) = 54.54540123971243%\n",
            "\t['Duchess', 'Duke', 'Edward', 'Elizabeth', 'George', 'King', 'London', 'VI', 'VIII', 'York,', 'of']\n",
            "\n",
            "Stanford Core NLP (7 class) = 44.44438950622964%\n",
            "\t['1936', 'Duke', 'Edward', 'George', 'King', 'London', 'VI', 'VIII']\n",
            "\n",
            "Allen NLP = 54.54539834715323%\n",
            "\t['1936', 'Edward VIII', 'Elizabeth', 'George VI', 'London', 'first']\n",
            "\n"
          ],
          "name": "stdout"
        }
      ]
    },
    {
      "metadata": {
        "id": "YucNDasQX5Q2",
        "colab_type": "code",
        "outputId": "78ac776a-c70e-42d2-87eb-c23bb799f965",
        "colab": {
          "base_uri": "https://localhost:8080/",
          "height": 472
        }
      },
      "cell_type": "code",
      "source": [
        "import matplotlib.pyplot as plt\n",
        "import numpy as np\n",
        "\n",
        "plt.rcdefaults()\n",
        "fig, ax = plt.subplots()\n",
        "\n",
        "ners = ('Polyglot', 'GATE', 'Spacy', 'NLTK', 'Flair (12 class)', 'Allen NLP', 'Stanford Core NLP (4 class)', 'Flair (4 class)', 'Stanford Core NLP (7 class)', 'Stanford Core NLP (3 class)')\n",
        "performance = [f1_poly, f1_gate, f1_spacy, f1_nltk, f1_flair12, f1_allen, f1_stanford2, f1_flair4, f1_stanford3, f1_stanford1]\n",
        "y_pos = np.arange(len(ners))\n",
        "\n",
        "ax.barh(y_pos, performance, align='center', color='orange', ecolor='black')\n",
        "ax.set_yticks(y_pos)\n",
        "ax.set_yticklabels(ners)\n",
        "ax.invert_yaxis()  \n",
        "ax.set_xlabel('F1 score')\n",
        "ax.set_title('How good is each NER at detecting entities?')\n",
        "\n",
        "plt.show()"
      ],
      "execution_count": 53,
      "outputs": [
        {
          "output_type": "display_data",
          "data": {
            "image/png": "[encoded data removed]",
            "text/plain": [
              "<Figure size 640x480 with 1 Axes>"
            ]
          },
          "metadata": {
            "tags": []
          }
        }
      ]
    },
    {
      "metadata": {
        "id": "7J31lsMhONNW",
        "colab_type": "text"
      },
      "cell_type": "markdown",
      "source": [
        "## Which is the best NER for correctly labelling entities?"
      ]
    },
    {
      "metadata": {
        "id": "HySRaiqa_5rj",
        "colab_type": "code",
        "outputId": "3a7fc3be-ce1f-4933-d358-3d5937d848b3",
        "colab": {
          "base_uri": "https://localhost:8080/",
          "height": 1057
        }
      },
      "cell_type": "code",
      "source": [
        "flair4_people = {entity for entity,tag in Y_flair4 if tag == \"PER\"}\n",
        "flair12_people = {entity for entity,tag in Y_flair12 if tag == \"PERSON\"}\n",
        "gate_people = {entity.replace('(male)','').replace('(female)','').strip() for entity,tag in Y_gate if tag == \"Person\"}\n",
        "polyglot_people = {entity for entity,tag in Y_polyglot if tag == \"PER\"}\n",
        "spacy_people = {entity for entity,tag in Y_spacy if tag == \"PERSON\"}\n",
        "nltk_people = {entity for entity,tag in Y_nltk if tag == \"PERSON\"}\n",
        "stanford_people1 = {entity for entity,tag in Y_stanford1 if tag == \"PERSON\"}\n",
        "stanford_people2 = {entity for entity,tag in Y_stanford2 if tag == \"PERSON\"}\n",
        "stanford_people3 = {entity for entity,tag in Y_stanford3 if tag == \"PERSON\"}\n",
        "allen_people = {entity for entity,tag in Y_allen if tag == \"PERSON\"}\n",
        "\n",
        "flair4_dates = {entity for entity,tag in Y_flair4 if tag == \"DATE\"}\n",
        "flair12_dates = {entity for entity,tag in Y_flair12 if tag == \"DATE\"}\n",
        "gate_dates = {entity for entity,tag in Y_gate if tag == \"Date\"}\n",
        "polyglot_dates = {entity for entity,tag in Y_polyglot if tag == \"DATE\"}\n",
        "spacy_dates = {entity for entity,tag in Y_spacy if tag == \"DATE\"}\n",
        "nltk_dates = {entity for entity,tag in Y_nltk if tag == \"DATE\"}\n",
        "stanford_dates1 = {entity for entity,tag in Y_stanford1 if tag == \"DATE\"}\n",
        "stanford_dates2 = {entity for entity,tag in Y_stanford2 if tag == \"DATE\"}\n",
        "stanford_dates3 = {entity for entity,tag in Y_stanford3 if tag == \"DATE\"}\n",
        "allen_dates = {entity for entity,tag in Y_allen if tag == \"DATE\"}\n",
        "\n",
        "flair4_locations = {entity for entity,tag in Y_flair4 if tag == \"LOC\"}\n",
        "flair12_locations = {entity for entity,tag in Y_flair12 if tag == \"GPE\"}\n",
        "gate_locations = {entity for entity,tag in Y_gate if tag == \"Location\"}\n",
        "polyglot_locations = {entity for entity,tag in Y_polyglot if tag == \"LOC\"}\n",
        "spacy_locations = {entity for entity,tag in Y_spacy if tag == \"GPE\"}\n",
        "nltk_locations = {entity for entity,tag in Y_nltk if tag == \"GPE\"}\n",
        "stanford_locations1 = {entity for entity,tag in Y_stanford1 if tag == \"LOCATION\"}\n",
        "stanford_locations2 = {entity for entity,tag in Y_stanford2 if tag == \"LOCATION\"}\n",
        "stanford_locations3 = {entity for entity,tag in Y_stanford3 if tag == \"LOCATION\"}\n",
        "allen_locations = {entity for entity,tag in Y_allen if tag == \"GPE\"}\n",
        "\n",
        "f1_flair4_ppl = f1_score(test[\"entities\"][\"people\"], flair4_people)\n",
        "f1_flair4_dts = f1_score(test[\"entities\"][\"dates\"], flair4_dates)\n",
        "f1_flair4_loc = f1_score(test[\"entities\"][\"locations\"], flair4_locations)\n",
        "print(f\"Flair (4 class) \\n\\tPeople =\\t{f1_flair4_ppl*100}%\\t{flair4_people}\\n\\tLocations =\\t{f1_flair4_loc*100}%\\t{flair4_locations}\\n\\tDates =\\t\\t{f1_flair4_dts*100}%\\t{flair4_dates}\\n\\n\")\n",
        "f1_flair12_ppl = f1_score(test[\"entities\"][\"people\"], flair12_people)\n",
        "f1_flair12_dts = f1_score(test[\"entities\"][\"dates\"], flair12_dates)\n",
        "f1_flair12_loc = f1_score(test[\"entities\"][\"locations\"], flair12_locations)\n",
        "print(f\"Flair (12 class) \\n\\tPeople =\\t{f1_flair12_ppl*100}%\\t{flair12_people}\\n\\tLocations =\\t{f1_flair12_loc*100}%\\t{flair12_locations}\\n\\tDates =\\t\\t{f1_flair12_dts*100}%\\t{flair12_dates}\\n\\n\")\n",
        "f1_gate_ppl = f1_score(test[\"entities\"][\"people\"], gate_people)\n",
        "f1_gate_dts = f1_score(test[\"entities\"][\"dates\"], gate_dates)\n",
        "f1_gate_loc = f1_score(test[\"entities\"][\"locations\"], gate_locations)\n",
        "print(f\"GATE \\n\\tPeople =\\t{f1_gate_ppl*100}%\\t{gate_people}\\n\\tLocations =\\t{f1_gate_loc*100}%\\t{gate_locations}\\n\\tDates =\\t\\t{f1_gate_dts*100}%\\t{gate_dates}\\n\\n\")\n",
        "f1_poly_ppl = f1_score(test[\"entities\"][\"people\"], polyglot_people)\n",
        "f1_poly_dts = f1_score(test[\"entities\"][\"dates\"], polyglot_dates)\n",
        "f1_poly_loc = f1_score(test[\"entities\"][\"locations\"], polyglot_locations)\n",
        "print(f\"Polyglot \\n\\tPeople =\\t{f1_poly_ppl*100}%\\t{polyglot_people}\\n\\tLocations =\\t{f1_poly_loc*100}%\\t{polyglot_locations}\\n\\tDates =\\t\\t{f1_poly_dts*100}%\\t{polyglot_dates}\\n\\n\")\n",
        "f1_spacy_ppl = f1_score(test[\"entities\"][\"people\"], spacy_people)\n",
        "f1_spacy_dts = f1_score(test[\"entities\"][\"dates\"], spacy_dates)\n",
        "f1_spacy_loc = f1_score(test[\"entities\"][\"locations\"], spacy_locations)\n",
        "print(f\"Spacy \\n\\tPeople =\\t{f1_spacy_ppl*100}%\\t{spacy_people}\\n\\tLocations =\\t{f1_spacy_loc*100}%\\t{spacy_locations}\\n\\tDates =\\t\\t{f1_spacy_dts*100}%\\t{spacy_dates}\\n\\n\")\n",
        "f1_nltk_ppl = f1_score(test[\"entities\"][\"people\"], nltk_people)\n",
        "f1_nltk_dts = f1_score(test[\"entities\"][\"dates\"], nltk_dates)\n",
        "f1_nltk_loc = f1_score(test[\"entities\"][\"locations\"], nltk_locations)\n",
        "print(f\"NLTK \\n\\tPeople =\\t{f1_nltk_ppl*100}%\\t{nltk_people}\\n\\tLocations =\\t{f1_nltk_loc*100}%\\t{nltk_locations}\\n\\tDates =\\t\\t{f1_nltk_dts*100}%\\t{nltk_dates}\\n\\n\")\n",
        "f1_stanford_ppl1 = f1_score(test[\"entities\"][\"people\"], stanford_people1)\n",
        "f1_stanford_dts1 = f1_score(test[\"entities\"][\"dates\"], stanford_dates1)\n",
        "f1_stanford_loc1 = f1_score(test[\"entities\"][\"locations\"], stanford_locations1)\n",
        "print(f\"Stanford Core NLP (3 class)\\n\\tPeople =\\t{f1_stanford_ppl1*100}%\\t{stanford_people1}\\n\\tLocations =\\t{f1_stanford_loc1*100}%\\t{stanford_locations1}\\n\\tDates =\\t\\t{f1_stanford_dts1*100}%\\t{stanford_dates1}\\n\\n\")\n",
        "f1_stanford_ppl2 = f1_score(test[\"entities\"][\"people\"], stanford_people2)\n",
        "f1_stanford_dts2 = f1_score(test[\"entities\"][\"dates\"], stanford_dates2)\n",
        "f1_stanford_loc2 = f1_score(test[\"entities\"][\"locations\"], stanford_locations2)\n",
        "print(f\"Stanford Core NLP (4 class)\\n\\tPeople =\\t{f1_stanford_ppl2*100}%\\t{stanford_people2}\\n\\tLocations =\\t{f1_stanford_loc2*100}%\\t{stanford_locations2}\\n\\tDates =\\t\\t{f1_stanford_dts2*100}%\\t{stanford_dates2}\\n\\n\")\n",
        "f1_stanford_ppl3 = f1_score(test[\"entities\"][\"people\"], stanford_people3)\n",
        "f1_stanford_dts3 = f1_score(test[\"entities\"][\"dates\"], stanford_dates3)\n",
        "f1_stanford_loc3 = f1_score(test[\"entities\"][\"locations\"], stanford_locations3)\n",
        "print(f\"Stanford Core NLP (7 class)\\n\\tPeople =\\t{f1_stanford_ppl3*100}%\\t{stanford_people3}\\n\\tLocations =\\t{f1_stanford_loc3*100}%\\t{stanford_locations3}\\n\\tDates =\\t\\t{f1_stanford_dts3*100}%\\t{stanford_dates3}\\n\\n\")\n",
        "f1_allen_ppl = f1_score(test[\"entities\"][\"people\"], allen_people)\n",
        "f1_allen_dts = f1_score(test[\"entities\"][\"dates\"], allen_dates)\n",
        "f1_allen_loc = f1_score(test[\"entities\"][\"locations\"], allen_locations)\n",
        "print(f\"Allen NLP \\n\\tPeople =\\t{f1_allen_ppl*100}%\\t{allen_people}\\n\\tLocations =\\t{f1_allen_loc*100}%\\t{allen_locations}\\n\\tDates =\\t\\t{f1_allen_dts*100}%\\t{allen_dates}\\n\\n\")"
      ],
      "execution_count": 48,
      "outputs": [
        {
          "output_type": "stream",
          "text": [
            "Flair (4 class) \n",
            "\tPeople =\t46.15378934916695%\t{'George VI', 'Duchess of York,', 'Elizabeth', 'Edward VIII', 'Elizabeth,'}\n",
            "\tLocations =\t66.66657777782964%\t{'London'}\n",
            "\tDates =\t\t0.0%\tset()\n",
            "\n",
            "\n",
            "Flair (12 class) \n",
            "\tPeople =\t51.85179478742796%\t{'George VI', 'the Duke and Duchess of York,', 'Queen Elizabeth,', 'Elizabeth', 'Edward VIII'}\n",
            "\tLocations =\t66.66657777782964%\t{'London'}\n",
            "\tDates =\t\t99.99985000012501%\t{'1936'}\n",
            "\n",
            "\n",
            "GATE \n",
            "\tPeople =\t54.54539504136905%\t{'Queen Elizabeth', 'Elizabeth', 'Edward VIII', 'George VI'}\n",
            "\tLocations =\t99.99990000004999%\t{'London', 'York'}\n",
            "\tDates =\t\t99.99985000012501%\t{'1936'}\n",
            "\n",
            "\n",
            "Polyglot \n",
            "\tPeople =\t92.30762840239572%\t{'Queen Elizabeth', 'King Edward VIII', 'Duchess', 'King George VI', 'Duke', 'Elizabeth', 'York'}\n",
            "\tLocations =\t66.66657777782964%\t{'London'}\n",
            "\tDates =\t\t0.0%\tset()\n",
            "\n",
            "\n",
            "Spacy \n",
            "\tPeople =\t66.66660498870016%\t{'King Edward VIII', 'Queen Elizabeth', 'Elizabeth', 'George VI'}\n",
            "\tLocations =\t66.66657777782964%\t{'London'}\n",
            "\tDates =\t\t99.99985000012501%\t{'1936'}\n",
            "\n",
            "\n",
            "NLTK \n",
            "\tPeople =\t54.54539504136905%\t{'Queen Elizabeth', 'George VI', 'Elizabeth', 'Edward VIII'}\n",
            "\tLocations =\t66.66657777782964%\t{'London'}\n",
            "\tDates =\t\t0.0%\tset()\n",
            "\n",
            "\n",
            "Stanford Core NLP (3 class)\n",
            "\tPeople =\t32.25801290329548%\t{'VIII', 'Queen', 'George', 'Edward', 'King', 'Elizabeth', 'VI', 'Elizabeth,'}\n",
            "\tLocations =\t66.66657777782964%\t{'London'}\n",
            "\tDates =\t\t0.0%\tset()\n",
            "\n",
            "\n",
            "Stanford Core NLP (4 class)\n",
            "\tPeople =\t11.764661591838715%\t{'VIII', 'Edward'}\n",
            "\tLocations =\t66.66657777782964%\t{'London'}\n",
            "\tDates =\t\t0.0%\tset()\n",
            "\n",
            "\n",
            "Stanford Core NLP (7 class)\n",
            "\tPeople =\t22.222172839593686%\t{'George', 'VI'}\n",
            "\tLocations =\t66.66657777782964%\t{'London'}\n",
            "\tDates =\t\t99.99985000012501%\t{'1936'}\n",
            "\n",
            "\n",
            "Allen NLP \n",
            "\tPeople =\t47.61898956921271%\t{'Edward VIII', 'George VI', 'Elizabeth'}\n",
            "\tLocations =\t66.66657777782964%\t{'London'}\n",
            "\tDates =\t\t99.99985000012501%\t{'1936'}\n",
            "\n",
            "\n"
          ],
          "name": "stdout"
        }
      ]
    },
    {
      "metadata": {
        "id": "_FYCrxS0jF5k",
        "colab_type": "code",
        "outputId": "62b74019-eaaa-4542-e296-39ba81324654",
        "colab": {
          "base_uri": "https://localhost:8080/",
          "height": 461
        }
      },
      "cell_type": "code",
      "source": [
        "import pandas as pd\n",
        "\n",
        "df = pd.DataFrame({\n",
        "    \"NER\":[\"Flair (4 class)\", \"Flair (12 class)\", \"Polyglot\",\"GATE\",\"Spacy\",\"NLTK\",\"Allen\",\"Stanford (7 class)\",\"Stanford (3 class)\",\"Stanford (4 class)\"] *3,\n",
        "    \"Entity type\":[\"People\"] *10 + [\"Locations\"] *10 + [\"Dates\"]*10,\n",
        "    \"F1 score\":[f1_flair4_ppl, f1_flair12_ppl, f1_poly_ppl, f1_gate_ppl, f1_spacy_ppl, f1_nltk_ppl, f1_allen_ppl,f1_stanford_ppl3,f1_stanford_ppl1,f1_stanford_ppl2, f1_flair4_loc, f1_flair12_loc, f1_poly_loc, f1_gate_loc, f1_spacy_loc, f1_nltk_loc, f1_allen_loc, f1_stanford_loc3,f1_stanford_loc1,f1_stanford_loc2, f1_flair4_dts, f1_flair12_dts, f1_poly_dts, f1_gate_dts, f1_spacy_dts, f1_nltk_dts,  f1_allen_dts, f1_stanford_dts3,f1_stanford_dts1,f1_stanford_dts2],\n",
        "})\n",
        "\n",
        "\n",
        "import seaborn as sns\n",
        "sns.factorplot(x='F1 score',y='NER', hue='Entity type', data=df, kind='bar')\n",
        "\n",
        "plt.show()"
      ],
      "execution_count": 51,
      "outputs": [
        {
          "output_type": "stream",
          "text": [
            "/usr/local/lib/python3.6/dist-packages/seaborn/categorical.py:1468: FutureWarning: remove_na is deprecated and is a private function. Do not use.\n",
            "  stat_data = remove_na(group_data[hue_mask])\n"
          ],
          "name": "stderr"
        },
        {
          "output_type": "display_data",
          "data": {
            "image/png": "[encoded data removed]",
            "text/plain": [
              "<Figure size 516.25x400 with 1 Axes>"
            ]
          },
          "metadata": {
            "tags": []
          }
        }
      ]
    },
    {
      "metadata": {
        "id": "qwa_0BqYMVwx",
        "colab_type": "text"
      },
      "cell_type": "markdown",
      "source": [
        "# Hierarchical Multi-Task Learning model (HMTL)"
      ]
    },
    {
      "metadata": {
        "id": "3-2JZ3nYMYE-",
        "colab_type": "code",
        "colab": {}
      },
      "cell_type": "code",
      "source": [
        "#!git clone https://github.com/huggingface/hmtl\n",
        "#!hmtl/scripts/data_setup.sh\n",
        "#!pip3 install emoji\n",
        "#!pip3 install allennlp\n",
        "#from hmtlPredictor import HMTLPredictor\n",
        "#html = HMTLPredictor(model_name =\"conll_full_elmo\")\n",
        "#hmtl.predict(example_document, raw_format = True)"
      ],
      "execution_count": 0,
      "outputs": []
    },
    {
      "metadata": {
        "id": "PeKNr09ZHz3C",
        "colab_type": "text"
      },
      "cell_type": "markdown",
      "source": [
        "# Train your own NER"
      ]
    },
    {
      "metadata": {
        "id": "GllSIRW4H8sj",
        "colab_type": "code",
        "colab": {}
      },
      "cell_type": "code",
      "source": [
        "!pip3 install nlp-architect"
      ],
      "execution_count": 0,
      "outputs": []
    },
    {
      "metadata": {
        "id": "3aEI6_RkIAmo",
        "colab_type": "code",
        "colab": {}
      },
      "cell_type": "code",
      "source": [
        "train,test = 'train.txt', 'test.txt'\n",
        "\n",
        "sentence_length, word_length = 50, 12\n",
        "\n",
        "from nlp_architect.data.sequential_tagging import SequentialTaggingDataset\n",
        "dataset = SequentialTaggingDataset(train, test, max_sentence_length=sentence_length, max_word_length=word_length, tag_field_no=4)\n",
        "x_train, x_char_train, y_train = dataset.train\n",
        "x_test, x_char_test, y_test = dataset.test"
      ],
      "execution_count": 0,
      "outputs": []
    },
    {
      "metadata": {
        "id": "S1GC0yCTIUEV",
        "colab_type": "code",
        "colab": {}
      },
      "cell_type": "code",
      "source": [
        "from keras.utils import to_categorical\n",
        "num_y_labels = len(dataset.y_labels) + 1\n",
        "y_test = to_categorical(y_test, num_y_labels)\n",
        "y_train = to_categorical(y_train, num_y_labels)\n",
        "train_lengths = np.sum(np.not_equal(x_train, 0), axis=-1).reshape((-1, 1))\n",
        "test_lengths = np.sum(np.not_equal(x_test, 0), axis=-1).reshape((-1, 1))\n",
        "\n",
        "embedding_path = 'glove.6B.100d.txt'\n",
        "embedding_size = 100\n",
        "\n",
        "from nlp_architect.utils.embedding import get_embedding_matrix, load_word_embeddings\n",
        "embedding_model, _ = load_word_embeddings(embedding_path)\n",
        "embedding_mat = get_embedding_matrix(embedding_model, dataset.word_vocab)"
      ],
      "execution_count": 0,
      "outputs": []
    },
    {
      "metadata": {
        "id": "IY4S4ijWIj2L",
        "colab_type": "code",
        "colab": {}
      },
      "cell_type": "code",
      "source": [
        "from nlp_architect.models.ner_crf import NERCRF\n",
        "ner_model = NERCRF()\n",
        "ner_model.build(word_length,\n",
        "                num_y_labels,\n",
        "                dataset.word_vocab_size,\n",
        "                dataset.char_vocab_size,\n",
        "                word_embedding_dims=embedding_size)\n",
        "ner_model.load_embedding_weights(embedding_mat)"
      ],
      "execution_count": 0,
      "outputs": []
    },
    {
      "metadata": {
        "id": "yER2gBiyInNK",
        "colab_type": "code",
        "colab": {}
      },
      "cell_type": "code",
      "source": [
        "batch_size, num_epochs = 10, 1\n",
        "\n",
        "ner_model.fit(x=[x_train, x_char_train, train_lengths], y=y_train,\n",
        "              batch_size=batch_size,\n",
        "              epochs=num_epochs,\n",
        "              validation=([x_test, x_char_test, test_lengths], y_test))"
      ],
      "execution_count": 0,
      "outputs": []
    },
    {
      "metadata": {
        "id": "cTNhHT89I09H",
        "colab_type": "code",
        "colab": {}
      },
      "cell_type": "code",
      "source": [
        "from nlp_architect.utils.metrics import get_conll_scores\n",
        "\n",
        "predictions = ner_model.predict(x=[x_test, x_char_test, test_lengths], batch_size=1)\n",
        "evaluation = get_conll_scores(predictions, y_test, {v: k for k, v in dataset.y_labels.vocab.items()})\n",
        "evaluation"
      ],
      "execution_count": 0,
      "outputs": []
    }
  ]
}