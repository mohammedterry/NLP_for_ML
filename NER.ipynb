{
  "nbformat": 4,
  "nbformat_minor": 0,
  "metadata": {
    "colab": {
      "name": "NER.ipynb",
      "version": "0.3.2",
      "provenance": [],
      "collapsed_sections": [],
      "include_colab_link": true
    },
    "kernelspec": {
      "name": "python3",
      "display_name": "Python 3"
    }
  },
  "cells": [
    {
      "cell_type": "markdown",
      "metadata": {
        "id": "view-in-github",
        "colab_type": "text"
      },
      "source": [
        "<a href=\"https://colab.research.google.com/github/mohammedterry/NLP_for_ML/blob/master/NER.ipynb\" target=\"_parent\"><img src=\"https://colab.research.google.com/assets/colab-badge.svg\" alt=\"Open In Colab\"/></a>"
      ]
    },
    {
      "metadata": {
        "id": "BINfboLPqcO_",
        "colab_type": "code",
        "colab": {}
      },
      "cell_type": "code",
      "source": [
        "example_document = '''\n",
        "Friday 9/11/2018\n",
        "9th November 2018\n",
        "\n",
        "Hey ho !\n",
        "Can i have your contact details, please? \n",
        "aaha aaahhhh ah ahah ahahah ahh ahhahahaha hahaha hahahah\n",
        "Sure. \n",
        "My email is mohammed@cognitionx.io and my phone number is 0743423453 0 01 012 1987 98 0.32 2.34 \n",
        "\n",
        "The Matrix is a 1999 science fiction action film written and directed by The Wachowskis, starring Keanu Reeves, Laurence Fishburne, Carrie-Anne Moss, Hugo Weaving, and Joe Pantoliano.\n",
        "'''"
      ],
      "execution_count": 0,
      "outputs": []
    },
    {
      "metadata": {
        "id": "btx1denTqF1_",
        "colab_type": "text"
      },
      "cell_type": "markdown",
      "source": [
        "# GATE API (Free)"
      ]
    },
    {
      "metadata": {
        "id": "wvmXB7UKqIeg",
        "colab_type": "code",
        "colab": {
          "base_uri": "https://localhost:8080/",
          "height": 2179
        },
        "outputId": "23f62120-e636-43ab-f5bd-0d96d66f6d19"
      },
      "cell_type": "code",
      "source": [
        "import requests\n",
        "url = \"https://cloud-api.gate.ac.uk/process-document/annie-named-entity-recognizer\"\n",
        "headers = {'Content-Type': 'text/plain'}\n",
        "response = requests.post(url, data=example_document, headers=headers).json()\n",
        "\n",
        "import json\n",
        "print(json.dumps(response, indent=2))"
      ],
      "execution_count": 5,
      "outputs": [
        {
          "output_type": "stream",
          "text": [
            "{\n",
            "  \"text\": \"\\nFriday 9/11/2018\\n9th November 2018\\n\\nHey ho !\\nCan i have your contact details, please? \\naaha aaahhhh ah ahah ahahah ahh ahhahahaha hahaha hahahah\\nSure. \\nMy email is mohammed@cognitionx.io and my phone number is 0743423453 0 01 012 1987 98 0.32 2.34 \\n\\nThe Matrix is a 1999 science fiction action film written and directed by The Wachowskis, starring Keanu Reeves, Laurence Fishburne, Carrie-Anne Moss, Hugo Weaving, and Joe Pantoliano.\\n\",\n",
            "  \"entities\": {\n",
            "    \"Address\": [\n",
            "      {\n",
            "        \"indices\": [\n",
            "          165,\n",
            "          187\n",
            "        ],\n",
            "        \"kind\": \"email\",\n",
            "        \"rule\": \"Emailaddress1\",\n",
            "        \"ruleFinal\": \"EmailFinal\"\n",
            "      }\n",
            "    ],\n",
            "    \"Date\": [\n",
            "      {\n",
            "        \"indices\": [\n",
            "          1,\n",
            "          7\n",
            "        ],\n",
            "        \"rule\": \"GazDate\",\n",
            "        \"ruleFinal\": \"DateOnlyFinal\",\n",
            "        \"kind\": \"date\"\n",
            "      },\n",
            "      {\n",
            "        \"indices\": [\n",
            "          8,\n",
            "          17\n",
            "        ],\n",
            "        \"rule\": \"DateNumSlashDot\",\n",
            "        \"ruleFinal\": \"DateOnlyFinal\",\n",
            "        \"kind\": \"date\"\n",
            "      },\n",
            "      {\n",
            "        \"indices\": [\n",
            "          18,\n",
            "          35\n",
            "        ],\n",
            "        \"rule\": \"DateName\",\n",
            "        \"ruleFinal\": \"DateOnlyFinal\",\n",
            "        \"kind\": \"date\"\n",
            "      },\n",
            "      {\n",
            "        \"indices\": [\n",
            "          231,\n",
            "          235\n",
            "        ],\n",
            "        \"kind\": \"date\",\n",
            "        \"rule\": \"TempYear2\",\n",
            "        \"ruleFinal\": \"YearOnlyFinal\"\n",
            "      },\n",
            "      {\n",
            "        \"indices\": [\n",
            "          267,\n",
            "          271\n",
            "        ],\n",
            "        \"kind\": \"date\",\n",
            "        \"rule\": \"TempYear2\",\n",
            "        \"ruleFinal\": \"YearOnlyFinal\"\n",
            "      }\n",
            "    ],\n",
            "    \"Person\": [\n",
            "      {\n",
            "        \"indices\": [\n",
            "          349,\n",
            "          361\n",
            "        ],\n",
            "        \"firstName\": \"Keanu\",\n",
            "        \"gender\": \"male\",\n",
            "        \"surname\": \"Reeves\",\n",
            "        \"kind\": \"fullName\",\n",
            "        \"rule\": \"PersonFull\",\n",
            "        \"ruleFinal\": \"PersonFinal\"\n",
            "      },\n",
            "      {\n",
            "        \"indices\": [\n",
            "          363,\n",
            "          381\n",
            "        ],\n",
            "        \"firstName\": \"Laurence\",\n",
            "        \"gender\": \"male\",\n",
            "        \"surname\": \"Fishburne\",\n",
            "        \"kind\": \"fullName\",\n",
            "        \"rule\": \"PersonFull\",\n",
            "        \"ruleFinal\": \"PersonFinal\"\n",
            "      },\n",
            "      {\n",
            "        \"indices\": [\n",
            "          383,\n",
            "          399\n",
            "        ],\n",
            "        \"firstName\": \"Carrie\",\n",
            "        \"gender\": \"female\",\n",
            "        \"middleName\": \"Anne\",\n",
            "        \"surname\": \"Moss\",\n",
            "        \"kind\": \"fullName\",\n",
            "        \"rule\": \"PersonFull\",\n",
            "        \"ruleFinal\": \"PersonFinal\"\n",
            "      },\n",
            "      {\n",
            "        \"indices\": [\n",
            "          401,\n",
            "          413\n",
            "        ],\n",
            "        \"firstName\": \"Hugo\",\n",
            "        \"gender\": \"male\",\n",
            "        \"surname\": \"Weaving\",\n",
            "        \"kind\": \"fullName\",\n",
            "        \"rule\": \"PersonFull\",\n",
            "        \"ruleFinal\": \"PersonFinal\"\n",
            "      },\n",
            "      {\n",
            "        \"indices\": [\n",
            "          419,\n",
            "          433\n",
            "        ],\n",
            "        \"firstName\": \"Joe\",\n",
            "        \"gender\": \"male\",\n",
            "        \"surname\": \"Pantoliano\",\n",
            "        \"kind\": \"fullName\",\n",
            "        \"rule\": \"PersonFull\",\n",
            "        \"ruleFinal\": \"PersonFinal\"\n",
            "      }\n",
            "    ]\n",
            "  }\n",
            "}\n"
          ],
          "name": "stdout"
        }
      ]
    },
    {
      "metadata": {
        "id": "Sj_XZJgCqfbW",
        "colab_type": "code",
        "colab": {}
      },
      "cell_type": "code",
      "source": [
        "def gate_ner(sentence):\n",
        "  import requests\n",
        "  return [(sentence[entity[\"indices\"][0]:entity[\"indices\"][1]] + f\" ({entity['gender']})\",entity_type) if entity_type == \"Person\" and \"gender\" in entity else (sentence[entity[\"indices\"][0]:entity[\"indices\"][1]],entity_type)  for entity_type,entities in requests.post(\"https://cloud-api.gate.ac.uk/process-document/annie-named-entity-recognizer\", data=sentence, headers={'Content-Type': 'text/plain'}).json()[\"entities\"].items() for entity in entities]"
      ],
      "execution_count": 0,
      "outputs": []
    },
    {
      "metadata": {
        "id": "M10blkrErQ28",
        "colab_type": "code",
        "colab": {
          "base_uri": "https://localhost:8080/",
          "height": 204
        },
        "outputId": "19f856b9-b174-41e0-8b9c-ccedb039fb2a"
      },
      "cell_type": "code",
      "source": [
        "gate_ner(example_document)"
      ],
      "execution_count": 45,
      "outputs": [
        {
          "output_type": "execute_result",
          "data": {
            "text/plain": [
              "[('mohammed@cognitionx.io', 'Address'),\n",
              " ('Friday', 'Date'),\n",
              " ('9/11/2018', 'Date'),\n",
              " ('9th November 2018', 'Date'),\n",
              " ('1987', 'Date'),\n",
              " ('1999', 'Date'),\n",
              " ('Keanu Reeves (male)', 'Person'),\n",
              " ('Laurence Fishburne (male)', 'Person'),\n",
              " ('Carrie-Anne Moss (female)', 'Person'),\n",
              " ('Hugo Weaving (male)', 'Person'),\n",
              " ('Joe Pantoliano (male)', 'Person')]"
            ]
          },
          "metadata": {
            "tags": []
          },
          "execution_count": 45
        }
      ]
    },
    {
      "metadata": {
        "id": "HBqxcYavqoah",
        "colab_type": "text"
      },
      "cell_type": "markdown",
      "source": [
        "# Stanford Core NLP"
      ]
    },
    {
      "metadata": {
        "id": "U6in8psMKLMs",
        "colab_type": "code",
        "outputId": "f4f14ac1-2672-4c6a-ca31-96379827f091",
        "colab": {
          "base_uri": "https://localhost:8080/",
          "height": 258
        }
      },
      "cell_type": "code",
      "source": [
        "!pip3 install nltk==3.2.4"
      ],
      "execution_count": 9,
      "outputs": [
        {
          "output_type": "stream",
          "text": [
            "Collecting nltk==3.2.4\n",
            "\u001b[?25l  Downloading https://files.pythonhosted.org/packages/cd/c2/858e0708b497116ae45cf5c6b1f66984ac60729c61e49df6c1c0b808d1e4/nltk-3.2.4.tar.gz (1.2MB)\n",
            "\u001b[K    100% |████████████████████████████████| 1.2MB 14.4MB/s \n",
            "\u001b[?25hRequirement already satisfied: six in /usr/local/lib/python3.6/dist-packages (from nltk==3.2.4) (1.11.0)\n",
            "Building wheels for collected packages: nltk\n",
            "  Building wheel for nltk (setup.py) ... \u001b[?25ldone\n",
            "\u001b[?25h  Stored in directory: /root/.cache/pip/wheels/36/f1/5c/f667347d86a3a534ba4c0127eed4389f929916e3ec88bb461a\n",
            "Successfully built nltk\n",
            "Installing collected packages: nltk\n",
            "  Found existing installation: nltk 3.2.5\n",
            "    Uninstalling nltk-3.2.5:\n",
            "      Successfully uninstalled nltk-3.2.5\n",
            "Successfully installed nltk-3.2.4\n"
          ],
          "name": "stdout"
        }
      ]
    },
    {
      "metadata": {
        "id": "W8w7LLsyKAYU",
        "colab_type": "code",
        "outputId": "7edff9c7-094d-4e2f-bd28-98472bb56697",
        "colab": {
          "base_uri": "https://localhost:8080/",
          "height": 816
        }
      },
      "cell_type": "code",
      "source": [
        "!wget http://nlp.stanford.edu/software/stanford-ner-2015-04-20.zip\n",
        "!unzip stanford-ner-2015-04-20.zip "
      ],
      "execution_count": 10,
      "outputs": [
        {
          "output_type": "stream",
          "text": [
            "--2019-03-07 19:50:24--  http://nlp.stanford.edu/software/stanford-ner-2015-04-20.zip\n",
            "Resolving nlp.stanford.edu (nlp.stanford.edu)... 171.64.67.140\n",
            "Connecting to nlp.stanford.edu (nlp.stanford.edu)|171.64.67.140|:80... connected.\n",
            "HTTP request sent, awaiting response... 302 Found\n",
            "Location: https://nlp.stanford.edu/software/stanford-ner-2015-04-20.zip [following]\n",
            "--2019-03-07 19:50:24--  https://nlp.stanford.edu/software/stanford-ner-2015-04-20.zip\n",
            "Connecting to nlp.stanford.edu (nlp.stanford.edu)|171.64.67.140|:443... connected.\n",
            "HTTP request sent, awaiting response... 200 OK\n",
            "Length: 176961718 (169M) [application/zip]\n",
            "Saving to: ‘stanford-ner-2015-04-20.zip’\n",
            "\n",
            "stanford-ner-2015-0 100%[===================>] 168.76M  14.3MB/s    in 9.9s    \n",
            "\n",
            "2019-03-07 19:50:34 (17.0 MB/s) - ‘stanford-ner-2015-04-20.zip’ saved [176961718/176961718]\n",
            "\n",
            "Archive:  stanford-ner-2015-04-20.zip\n",
            "   creating: stanford-ner-2015-04-20/\n",
            "  inflating: stanford-ner-2015-04-20/README.txt  \n",
            "  inflating: stanford-ner-2015-04-20/ner-gui.bat  \n",
            "  inflating: stanford-ner-2015-04-20/build.xml  \n",
            "  inflating: stanford-ner-2015-04-20/stanford-ner-3.5.2.jar  \n",
            "  inflating: stanford-ner-2015-04-20/stanford-ner.jar  \n",
            "  inflating: stanford-ner-2015-04-20/sample-conll-file.txt  \n",
            "  inflating: stanford-ner-2015-04-20/sample.ner.txt  \n",
            "   creating: stanford-ner-2015-04-20/lib/\n",
            "  inflating: stanford-ner-2015-04-20/lib/jollyday-0.4.7.jar  \n",
            "  inflating: stanford-ner-2015-04-20/lib/joda-time.jar  \n",
            "  inflating: stanford-ner-2015-04-20/lib/stanford-ner-resources.jar  \n",
            "  inflating: stanford-ner-2015-04-20/ner-gui.command  \n",
            "  inflating: stanford-ner-2015-04-20/ner.sh  \n",
            "  inflating: stanford-ner-2015-04-20/NERDemo.java  \n",
            "  inflating: stanford-ner-2015-04-20/ner.bat  \n",
            "  inflating: stanford-ner-2015-04-20/stanford-ner-3.5.2-javadoc.jar  \n",
            "   creating: stanford-ner-2015-04-20/classifiers/\n",
            "  inflating: stanford-ner-2015-04-20/classifiers/english.conll.4class.distsim.prop  \n",
            "  inflating: stanford-ner-2015-04-20/classifiers/example.serialized.ncc.ncc.ser.gz  \n",
            "  inflating: stanford-ner-2015-04-20/classifiers/english.muc.7class.distsim.crf.ser.gz  \n",
            "  inflating: stanford-ner-2015-04-20/classifiers/english.conll.4class.distsim.crf.ser.gz  \n",
            "  inflating: stanford-ner-2015-04-20/classifiers/english.muc.7class.distsim.prop  \n",
            "  inflating: stanford-ner-2015-04-20/classifiers/english.all.3class.distsim.prop  \n",
            "  inflating: stanford-ner-2015-04-20/classifiers/example.serialized.ncc.prop  \n",
            "  inflating: stanford-ner-2015-04-20/classifiers/english.all.3class.distsim.crf.ser.gz  \n",
            "  inflating: stanford-ner-2015-04-20/stanford-ner-3.5.2-sources.jar  \n",
            "  inflating: stanford-ner-2015-04-20/sample.txt  \n",
            "  inflating: stanford-ner-2015-04-20/sample-w-time.txt  \n",
            "  inflating: stanford-ner-2015-04-20/ner-gui.sh  \n",
            "  inflating: stanford-ner-2015-04-20/LICENSE.txt  \n"
          ],
          "name": "stdout"
        }
      ]
    },
    {
      "metadata": {
        "id": "NSfCCO9PKQ27",
        "colab_type": "code",
        "colab": {}
      },
      "cell_type": "code",
      "source": [
        "from nltk.tag.stanford import StanfordNERTagger\n",
        "jar = \"stanford-ner-2015-04-20/stanford-ner-3.5.2.jar\"\n",
        "model = \"stanford-ner-2015-04-20/classifiers/\" \n",
        "st_3class = StanfordNERTagger(model + \"english.all.3class.distsim.crf.ser.gz\", jar, encoding='utf8') \n",
        "st_4class = StanfordNERTagger(model + \"english.conll.4class.distsim.crf.ser.gz\", jar, encoding='utf8') \n",
        "st_7class = StanfordNERTagger(model + \"english.muc.7class.distsim.crf.ser.gz\", jar, encoding='utf8') "
      ],
      "execution_count": 0,
      "outputs": []
    },
    {
      "metadata": {
        "id": "RYow2ZnRKURv",
        "colab_type": "code",
        "colab": {}
      },
      "cell_type": "code",
      "source": [
        "def stanford_ner(document,model):\n",
        "  if model == 1:\n",
        "    return [(entity,tag) for entity,tag in st_3class.tag(document.split()) if tag != \"O\"]\n",
        "  elif model == 2:\n",
        "    return [(entity,tag) for entity,tag in st_4class.tag(document.split()) if tag != \"O\"]\n",
        "  elif model == 3:\n",
        "    return [(entity,tag) for entity,tag in st_7class.tag(document.split()) if tag != \"O\"]"
      ],
      "execution_count": 0,
      "outputs": []
    },
    {
      "metadata": {
        "id": "F3tqJYjGKaaP",
        "colab_type": "code",
        "outputId": "a7d2eb25-7bd3-449c-8fbd-cff3bb8bb50f",
        "colab": {
          "base_uri": "https://localhost:8080/",
          "height": 136
        }
      },
      "cell_type": "code",
      "source": [
        "stanford_ner(example_document,model=1)"
      ],
      "execution_count": 13,
      "outputs": [
        {
          "output_type": "execute_result",
          "data": {
            "text/plain": [
              "[('Keanu', 'PERSON'),\n",
              " ('Reeves,', 'PERSON'),\n",
              " ('Laurence', 'PERSON'),\n",
              " ('Fishburne,', 'PERSON'),\n",
              " ('Carrie-Anne', 'PERSON'),\n",
              " ('Joe', 'PERSON'),\n",
              " ('Pantoliano.', 'PERSON')]"
            ]
          },
          "metadata": {
            "tags": []
          },
          "execution_count": 13
        }
      ]
    },
    {
      "metadata": {
        "id": "VkPAFGdEOMrl",
        "colab_type": "code",
        "outputId": "1474207c-0ba8-451f-ab20-37a935bacad2",
        "colab": {
          "base_uri": "https://localhost:8080/",
          "height": 204
        }
      },
      "cell_type": "code",
      "source": [
        "stanford_ner(example_document,model=2)"
      ],
      "execution_count": 14,
      "outputs": [
        {
          "output_type": "execute_result",
          "data": {
            "text/plain": [
              "[('Matrix', 'PERSON'),\n",
              " ('Keanu', 'PERSON'),\n",
              " ('Reeves,', 'PERSON'),\n",
              " ('Laurence', 'PERSON'),\n",
              " ('Fishburne,', 'PERSON'),\n",
              " ('Carrie-Anne', 'PERSON'),\n",
              " ('Moss,', 'PERSON'),\n",
              " ('Hugo', 'PERSON'),\n",
              " ('Weaving,', 'PERSON'),\n",
              " ('Joe', 'PERSON'),\n",
              " ('Pantoliano.', 'PERSON')]"
            ]
          },
          "metadata": {
            "tags": []
          },
          "execution_count": 14
        }
      ]
    },
    {
      "metadata": {
        "id": "12cZITULOQ6u",
        "colab_type": "code",
        "outputId": "13875b1c-a697-4c62-8f7f-b7f1a2058666",
        "colab": {
          "base_uri": "https://localhost:8080/",
          "height": 272
        }
      },
      "cell_type": "code",
      "source": [
        "stanford_ner(example_document,model=3)"
      ],
      "execution_count": 15,
      "outputs": [
        {
          "output_type": "execute_result",
          "data": {
            "text/plain": [
              "[('Friday', 'DATE'),\n",
              " ('9112018', 'DATE'),\n",
              " ('9th', 'DATE'),\n",
              " ('November', 'DATE'),\n",
              " ('2018', 'DATE'),\n",
              " ('1987', 'DATE'),\n",
              " ('1999', 'DATE'),\n",
              " ('Keanu', 'PERSON'),\n",
              " ('Reeves,', 'PERSON'),\n",
              " ('Laurence', 'PERSON'),\n",
              " ('Fishburne,', 'PERSON'),\n",
              " ('Carrie-Anne', 'PERSON'),\n",
              " ('Moss,', 'PERSON'),\n",
              " ('Joe', 'PERSON'),\n",
              " ('Pantoliano.', 'PERSON')]"
            ]
          },
          "metadata": {
            "tags": []
          },
          "execution_count": 15
        }
      ]
    },
    {
      "metadata": {
        "id": "HdHi9MLEt6OB",
        "colab_type": "text"
      },
      "cell_type": "markdown",
      "source": [
        "# NLTK"
      ]
    },
    {
      "metadata": {
        "id": "dLtIbPYJuAfe",
        "colab_type": "code",
        "outputId": "79ff365e-b993-47d0-8a68-a467720bbd83",
        "colab": {
          "base_uri": "https://localhost:8080/",
          "height": 204
        }
      },
      "cell_type": "code",
      "source": [
        "import nltk\n",
        "nltk.download('punkt')\n",
        "nltk.download('averaged_perceptron_tagger')\n",
        "nltk.download('maxent_ne_chunker')\n",
        "nltk.download('words')"
      ],
      "execution_count": 16,
      "outputs": [
        {
          "output_type": "stream",
          "text": [
            "[nltk_data] Downloading package punkt to /root/nltk_data...\n",
            "[nltk_data]   Unzipping tokenizers/punkt.zip.\n",
            "[nltk_data] Downloading package averaged_perceptron_tagger to\n",
            "[nltk_data]     /root/nltk_data...\n",
            "[nltk_data]   Unzipping taggers/averaged_perceptron_tagger.zip.\n",
            "[nltk_data] Downloading package maxent_ne_chunker to\n",
            "[nltk_data]     /root/nltk_data...\n",
            "[nltk_data]   Unzipping chunkers/maxent_ne_chunker.zip.\n",
            "[nltk_data] Downloading package words to /root/nltk_data...\n",
            "[nltk_data]   Unzipping corpora/words.zip.\n"
          ],
          "name": "stdout"
        },
        {
          "output_type": "execute_result",
          "data": {
            "text/plain": [
              "True"
            ]
          },
          "metadata": {
            "tags": []
          },
          "execution_count": 16
        }
      ]
    },
    {
      "metadata": {
        "id": "7r0uSb7LqwKF",
        "colab_type": "code",
        "colab": {}
      },
      "cell_type": "code",
      "source": [
        "def nltk_ner(document):\n",
        "  return {(' '.join(c[0] for c in chunk), chunk.label() ) for chunk in nltk.ne_chunk(nltk.pos_tag(nltk.word_tokenize(document))) if hasattr(chunk, 'label') }"
      ],
      "execution_count": 0,
      "outputs": []
    },
    {
      "metadata": {
        "id": "zPfbUR4QueDe",
        "colab_type": "code",
        "outputId": "4d025553-95fc-42e2-c126-4ffd4df0cc74",
        "colab": {
          "base_uri": "https://localhost:8080/",
          "height": 119
        }
      },
      "cell_type": "code",
      "source": [
        "nltk_ner(example_document)"
      ],
      "execution_count": 18,
      "outputs": [
        {
          "output_type": "execute_result",
          "data": {
            "text/plain": [
              "{('Hugo Weaving', 'PERSON'),\n",
              " ('Joe Pantoliano', 'PERSON'),\n",
              " ('Keanu Reeves', 'PERSON'),\n",
              " ('Laurence Fishburne', 'PERSON'),\n",
              " ('Matrix', 'ORGANIZATION'),\n",
              " ('Wachowskis', 'ORGANIZATION')}"
            ]
          },
          "metadata": {
            "tags": []
          },
          "execution_count": 18
        }
      ]
    },
    {
      "metadata": {
        "id": "Wjg7Sj3Tt8bz",
        "colab_type": "text"
      },
      "cell_type": "markdown",
      "source": [
        "# Spacy"
      ]
    },
    {
      "metadata": {
        "id": "qkg1NC08xVYM",
        "colab_type": "code",
        "outputId": "e510320c-3e80-4451-b995-910fbcc9545f",
        "colab": {
          "base_uri": "https://localhost:8080/",
          "height": 258
        }
      },
      "cell_type": "code",
      "source": [
        "!python3 -m spacy download en_core_web_lg\n",
        "import spacy\n",
        "sp = spacy.load('en_core_web_lg') "
      ],
      "execution_count": 19,
      "outputs": [
        {
          "output_type": "stream",
          "text": [
            "Collecting en_core_web_lg==2.0.0 from https://github.com/explosion/spacy-models/releases/download/en_core_web_lg-2.0.0/en_core_web_lg-2.0.0.tar.gz#egg=en_core_web_lg==2.0.0\n",
            "\u001b[?25l  Downloading https://github.com/explosion/spacy-models/releases/download/en_core_web_lg-2.0.0/en_core_web_lg-2.0.0.tar.gz (852.3MB)\n",
            "\u001b[K    100% |████████████████████████████████| 852.3MB 107.5MB/s \n",
            "\u001b[?25hInstalling collected packages: en-core-web-lg\n",
            "  Running setup.py install for en-core-web-lg ... \u001b[?25ldone\n",
            "\u001b[?25hSuccessfully installed en-core-web-lg-2.0.0\n",
            "\n",
            "\u001b[93m    Linking successful\u001b[0m\n",
            "    /usr/local/lib/python3.6/dist-packages/en_core_web_lg -->\n",
            "    /usr/local/lib/python3.6/dist-packages/spacy/data/en_core_web_lg\n",
            "\n",
            "    You can now load the model via spacy.load('en_core_web_lg')\n",
            "\n"
          ],
          "name": "stdout"
        }
      ]
    },
    {
      "metadata": {
        "id": "ghnQyFifqqeX",
        "colab_type": "code",
        "colab": {}
      },
      "cell_type": "code",
      "source": [
        "def spacy_ner(document):\n",
        "  return {(ent.text.strip(), ent.label_) for ent in sp(document).ents}"
      ],
      "execution_count": 0,
      "outputs": []
    },
    {
      "metadata": {
        "id": "HSSFSJvVyxOX",
        "colab_type": "code",
        "outputId": "4244569c-32ef-4a15-f117-b66516a08487",
        "colab": {
          "base_uri": "https://localhost:8080/",
          "height": 272
        }
      },
      "cell_type": "code",
      "source": [
        "spacy_ner(example_document)"
      ],
      "execution_count": 21,
      "outputs": [
        {
          "output_type": "execute_result",
          "data": {
            "text/plain": [
              "{('', 'PERSON'),\n",
              " ('1987', 'DATE'),\n",
              " ('1999', 'DATE'),\n",
              " ('2.34', 'TIME'),\n",
              " ('98 0.32', 'QUANTITY'),\n",
              " ('Carrie-Anne Moss', 'PERSON'),\n",
              " ('Friday 9/11/2018', 'DATE'),\n",
              " ('Hugo Weaving', 'ORG'),\n",
              " ('Joe Pantoliano', 'PERSON'),\n",
              " ('Keanu Reeves', 'PERSON'),\n",
              " ('Laurence Fishburne', 'PERSON'),\n",
              " ('Matrix', 'ORG'),\n",
              " ('November 2018', 'DATE'),\n",
              " ('Wachowskis', 'PERSON'),\n",
              " ('mohammed@cognitionx.io', 'PERSON')}"
            ]
          },
          "metadata": {
            "tags": []
          },
          "execution_count": 21
        }
      ]
    },
    {
      "metadata": {
        "id": "1k7BvEX_t-RL",
        "colab_type": "text"
      },
      "cell_type": "markdown",
      "source": [
        "# Allen NLP"
      ]
    },
    {
      "metadata": {
        "id": "ojRC5XLQu8Ra",
        "colab_type": "code",
        "outputId": "3b3aacbd-9df2-42eb-9548-9b328c26cf54",
        "colab": {
          "base_uri": "https://localhost:8080/",
          "height": 3404
        }
      },
      "cell_type": "code",
      "source": [
        "!pip3 install allennlp\n",
        "from allennlp.predictors import Predictor\n",
        "al = Predictor.from_path(\"https://s3-us-west-2.amazonaws.com/allennlp/models/fine-grained-ner-model-elmo-2018.12.21.tar.gz\")"
      ],
      "execution_count": 22,
      "outputs": [
        {
          "output_type": "stream",
          "text": [
            "Collecting allennlp\n",
            "\u001b[?25l  Downloading https://files.pythonhosted.org/packages/64/32/d6d0a93a23763f366df2dbd4e007e45ce4d2ad97e6315506db9da8af7731/allennlp-0.8.2-py3-none-any.whl (5.6MB)\n",
            "\u001b[K    100% |████████████████████████████████| 5.6MB 4.8MB/s \n",
            "\u001b[?25hCollecting overrides (from allennlp)\n",
            "  Downloading https://files.pythonhosted.org/packages/de/55/3100c6d14c1ed177492fcf8f07c4a7d2d6c996c0a7fc6a9a0a41308e7eec/overrides-1.9.tar.gz\n",
            "Requirement already satisfied: scikit-learn in /usr/local/lib/python3.6/dist-packages (from allennlp) (0.20.3)\n",
            "Collecting pytz==2017.3 (from allennlp)\n",
            "\u001b[?25l  Downloading https://files.pythonhosted.org/packages/a3/7f/e7d1acbd433b929168a4fb4182a2ff3c33653717195a26c1de099ad1ef29/pytz-2017.3-py2.py3-none-any.whl (511kB)\n",
            "\u001b[K    100% |████████████████████████████████| 512kB 24.8MB/s \n",
            "\u001b[?25hRequirement already satisfied: boto3 in /usr/local/lib/python3.6/dist-packages (from allennlp) (1.9.106)\n",
            "Requirement already satisfied: h5py in /usr/local/lib/python3.6/dist-packages (from allennlp) (2.8.0)\n",
            "Collecting conllu==0.11 (from allennlp)\n",
            "  Downloading https://files.pythonhosted.org/packages/d4/2c/856344d9b69baf5b374c395b4286626181a80f0c2b2f704914d18a1cea47/conllu-0.11-py2.py3-none-any.whl\n",
            "Collecting ftfy (from allennlp)\n",
            "\u001b[?25l  Downloading https://files.pythonhosted.org/packages/8f/86/df789c5834f15ae1ca53a8d4c1fc4788676c2e32112f6a786f2625d9c6e6/ftfy-5.5.1-py3-none-any.whl (43kB)\n",
            "\u001b[K    100% |████████████████████████████████| 51kB 17.6MB/s \n",
            "\u001b[?25hCollecting numpydoc==0.8.0 (from allennlp)\n",
            "  Downloading https://files.pythonhosted.org/packages/95/a8/b4706a6270f0475541c5c1ee3373c7a3b793936ec1f517f1a1dab4f896c0/numpydoc-0.8.0.tar.gz\n",
            "Collecting gevent==1.3.6 (from allennlp)\n",
            "\u001b[?25l  Downloading https://files.pythonhosted.org/packages/43/3d/a19fece28ba1b5133cf74bd22a229d77b4d9cc4b24aa8f263cca2845c555/gevent-1.3.6-cp36-cp36m-manylinux1_x86_64.whl (4.5MB)\n",
            "\u001b[K    100% |████████████████████████████████| 4.5MB 7.4MB/s \n",
            "\u001b[?25hRequirement already satisfied: tqdm>=4.19 in /usr/local/lib/python3.6/dist-packages (from allennlp) (4.28.1)\n",
            "Requirement already satisfied: editdistance in /usr/local/lib/python3.6/dist-packages (from allennlp) (0.5.2)\n",
            "Requirement already satisfied: msgpack<0.6.0,>=0.5.6 in /usr/local/lib/python3.6/dist-packages (from allennlp) (0.5.6)\n",
            "Collecting flaky (from allennlp)\n",
            "  Downloading https://files.pythonhosted.org/packages/02/42/cca66659a786567c8af98587d66d75e7d2b6e65662f8daab75db708ac35b/flaky-3.5.3-py2.py3-none-any.whl\n",
            "Collecting tensorboardX==1.2 (from allennlp)\n",
            "\u001b[?25l  Downloading https://files.pythonhosted.org/packages/c5/22/43f4f0318f7c68a1000dbb700a353b745584bc2397437832d15ba69ea5f1/tensorboardX-1.2-py2.py3-none-any.whl (44kB)\n",
            "\u001b[K    100% |████████████████████████████████| 51kB 19.2MB/s \n",
            "\u001b[?25hRequirement already satisfied: requests>=2.18 in /usr/local/lib/python3.6/dist-packages (from allennlp) (2.18.4)\n",
            "Collecting jsonnet==0.10.0; sys_platform != \"win32\" (from allennlp)\n",
            "\u001b[?25l  Downloading https://files.pythonhosted.org/packages/3c/83/d49904ee98dd4fbba6a003938e30e76251951c4bdb49628b4f92e5009a42/jsonnet-0.10.0.tar.gz (124kB)\n",
            "\u001b[K    100% |████████████████████████████████| 133kB 32.3MB/s \n",
            "\u001b[?25hCollecting moto==1.3.4 (from allennlp)\n",
            "\u001b[?25l  Downloading https://files.pythonhosted.org/packages/ee/8f/7b36e81ff067d0e7bf90f7210b351c0cfe6657f79fa4dcb0cb4787462e05/moto-1.3.4-py2.py3-none-any.whl (548kB)\n",
            "\u001b[K    100% |████████████████████████████████| 552kB 24.8MB/s \n",
            "\u001b[?25hRequirement already satisfied: torch>=0.4.1 in /usr/local/lib/python3.6/dist-packages (from allennlp) (1.0.1.post2)\n",
            "Requirement already satisfied: pytest in /usr/local/lib/python3.6/dist-packages (from allennlp) (3.6.4)\n",
            "Collecting responses>=0.7 (from allennlp)\n",
            "  Downloading https://files.pythonhosted.org/packages/2f/d8/a77cbd4cb8366ad0e275f2c642b50b401da22a2f5714e003e499fddca106/responses-0.10.5-py2.py3-none-any.whl\n",
            "Collecting unidecode (from allennlp)\n",
            "\u001b[?25l  Downloading https://files.pythonhosted.org/packages/31/39/53096f9217b057cb049fe872b7fc7ce799a1a89b76cf917d9639e7a558b5/Unidecode-1.0.23-py2.py3-none-any.whl (237kB)\n",
            "\u001b[K    100% |████████████████████████████████| 245kB 31.0MB/s \n",
            "\u001b[?25hCollecting matplotlib==2.2.3 (from allennlp)\n",
            "\u001b[?25l  Downloading https://files.pythonhosted.org/packages/9e/59/f235ab21bbe7b7c6570c4abf17ffb893071f4fa3b9cf557b09b60359ad9a/matplotlib-2.2.3-cp36-cp36m-manylinux1_x86_64.whl (12.6MB)\n",
            "\u001b[K    100% |████████████████████████████████| 12.6MB 3.1MB/s \n",
            "\u001b[?25hRequirement already satisfied: numpy in /usr/local/lib/python3.6/dist-packages (from allennlp) (1.14.6)\n",
            "Requirement already satisfied: flask==1.0.2 in /usr/local/lib/python3.6/dist-packages (from allennlp) (1.0.2)\n",
            "Collecting pytorch-pretrained-bert>=0.6.0 (from allennlp)\n",
            "\u001b[?25l  Downloading https://files.pythonhosted.org/packages/5d/3c/d5fa084dd3a82ffc645aba78c417e6072ff48552e3301b1fa3bd711e03d4/pytorch_pretrained_bert-0.6.1-py3-none-any.whl (114kB)\n",
            "\u001b[K    100% |████████████████████████████████| 122kB 30.0MB/s \n",
            "\u001b[?25hRequirement already satisfied: sqlparse==0.2.4 in /usr/local/lib/python3.6/dist-packages (from allennlp) (0.2.4)\n",
            "Collecting parsimonious==0.8.0 (from allennlp)\n",
            "  Downloading https://files.pythonhosted.org/packages/4a/89/32c55944cd30dff856f16859ee325b13c83c260d0c56c0eed511e8063c87/parsimonious-0.8.0.tar.gz\n",
            "Requirement already satisfied: spacy<2.1,>=2.0 in /usr/local/lib/python3.6/dist-packages (from allennlp) (2.0.18)\n",
            "Collecting awscli>=1.11.91 (from allennlp)\n",
            "\u001b[?25l  Downloading https://files.pythonhosted.org/packages/0c/46/91e7edad97daef95b73ea1f46df87634b9df027ac01926cfd44af186a5cf/awscli-1.16.119-py2.py3-none-any.whl (1.5MB)\n",
            "\u001b[K    100% |████████████████████████████████| 1.5MB 15.1MB/s \n",
            "\u001b[?25hCollecting flask-cors==3.0.7 (from allennlp)\n",
            "  Downloading https://files.pythonhosted.org/packages/65/cb/683f71ff8daa3aea0a5cbb276074de39f9ab66d3fbb8ad5efb5bb83e90d2/Flask_Cors-3.0.7-py2.py3-none-any.whl\n",
            "Requirement already satisfied: nltk in /usr/local/lib/python3.6/dist-packages (from allennlp) (3.2.4)\n",
            "Requirement already satisfied: scipy in /usr/local/lib/python3.6/dist-packages (from allennlp) (1.1.0)\n",
            "Requirement already satisfied: botocore<1.13.0,>=1.12.106 in /usr/local/lib/python3.6/dist-packages (from boto3->allennlp) (1.12.106)\n",
            "Requirement already satisfied: jmespath<1.0.0,>=0.7.1 in /usr/local/lib/python3.6/dist-packages (from boto3->allennlp) (0.9.4)\n",
            "Requirement already satisfied: s3transfer<0.3.0,>=0.2.0 in /usr/local/lib/python3.6/dist-packages (from boto3->allennlp) (0.2.0)\n",
            "Requirement already satisfied: six in /usr/local/lib/python3.6/dist-packages (from h5py->allennlp) (1.11.0)\n",
            "Requirement already satisfied: wcwidth in /usr/local/lib/python3.6/dist-packages (from ftfy->allennlp) (0.1.7)\n",
            "Requirement already satisfied: sphinx>=1.2.3 in /usr/local/lib/python3.6/dist-packages (from numpydoc==0.8.0->allennlp) (1.8.4)\n",
            "Requirement already satisfied: Jinja2>=2.3 in /usr/local/lib/python3.6/dist-packages (from numpydoc==0.8.0->allennlp) (2.10)\n",
            "Requirement already satisfied: greenlet>=0.4.14; platform_python_implementation == \"CPython\" in /usr/local/lib/python3.6/dist-packages (from gevent==1.3.6->allennlp) (0.4.15)\n",
            "Requirement already satisfied: protobuf>=0.3.2 in /usr/local/lib/python3.6/dist-packages (from tensorboardX==1.2->allennlp) (3.6.1)\n",
            "Requirement already satisfied: certifi>=2017.4.17 in /usr/local/lib/python3.6/dist-packages (from requests>=2.18->allennlp) (2018.11.29)\n",
            "Requirement already satisfied: urllib3<1.23,>=1.21.1 in /usr/local/lib/python3.6/dist-packages (from requests>=2.18->allennlp) (1.22)\n",
            "Requirement already satisfied: idna<2.7,>=2.5 in /usr/local/lib/python3.6/dist-packages (from requests>=2.18->allennlp) (2.6)\n",
            "Requirement already satisfied: chardet<3.1.0,>=3.0.2 in /usr/local/lib/python3.6/dist-packages (from requests>=2.18->allennlp) (3.0.4)\n",
            "Collecting python-jose<3.0.0 (from moto==1.3.4->allennlp)\n",
            "  Downloading https://files.pythonhosted.org/packages/bf/5c/5fa238c0c5b0656994b52721dd8b1d7bf52ebd8786518dde794f44de86b6/python_jose-2.0.2-py2.py3-none-any.whl\n",
            "Requirement already satisfied: boto>=2.36.0 in /usr/local/lib/python3.6/dist-packages (from moto==1.3.4->allennlp) (2.49.0)\n",
            "Collecting cookies (from moto==1.3.4->allennlp)\n",
            "\u001b[?25l  Downloading https://files.pythonhosted.org/packages/6a/60/557f84aa2db629e5124aa05408b975b1b5d0e1cec16cde0bfa06aae097d3/cookies-2.2.1-py2.py3-none-any.whl (44kB)\n",
            "\u001b[K    100% |████████████████████████████████| 51kB 19.8MB/s \n",
            "\u001b[?25hCollecting cryptography>=2.0.0 (from moto==1.3.4->allennlp)\n",
            "\u001b[?25l  Downloading https://files.pythonhosted.org/packages/5b/12/b0409a94dad366d98a8eee2a77678c7a73aafd8c0e4b835abea634ea3896/cryptography-2.6.1-cp34-abi3-manylinux1_x86_64.whl (2.3MB)\n",
            "\u001b[K    100% |████████████████████████████████| 2.3MB 11.2MB/s \n",
            "\u001b[?25hCollecting xmltodict (from moto==1.3.4->allennlp)\n",
            "  Downloading https://files.pythonhosted.org/packages/28/fd/30d5c1d3ac29ce229f6bdc40bbc20b28f716e8b363140c26eff19122d8a5/xmltodict-0.12.0-py2.py3-none-any.whl\n",
            "Collecting docker>=2.5.1 (from moto==1.3.4->allennlp)\n",
            "\u001b[?25l  Downloading https://files.pythonhosted.org/packages/7e/3c/b610f22b170b0f8fe4d8f78974878e116562389f666f99e6549567eb9d87/docker-3.7.0-py2.py3-none-any.whl (133kB)\n",
            "\u001b[K    100% |████████████████████████████████| 143kB 32.9MB/s \n",
            "\u001b[?25hCollecting jsondiff==1.1.1 (from moto==1.3.4->allennlp)\n",
            "  Downloading https://files.pythonhosted.org/packages/bd/5f/13e28a2f9abeda2ffb3f44f2f809b01b52bc02cdb63816e05b8c9cbbdfc5/jsondiff-1.1.1.tar.gz\n",
            "Collecting pyaml (from moto==1.3.4->allennlp)\n",
            "  Downloading https://files.pythonhosted.org/packages/c5/e1/1523fb1dab744e2c6b1f02446f2139a78726c18c062a8ddd53875abb20f8/pyaml-18.11.0-py2.py3-none-any.whl\n",
            "Collecting aws-xray-sdk<0.96,>=0.93 (from moto==1.3.4->allennlp)\n",
            "\u001b[?25l  Downloading https://files.pythonhosted.org/packages/a4/a5/da7887285564f9e0ae5cd25a453cca36e2cd43d8ccc9effde260b4d80904/aws_xray_sdk-0.95-py2.py3-none-any.whl (52kB)\n",
            "\u001b[K    100% |████████████████████████████████| 61kB 15.5MB/s \n",
            "\u001b[?25hRequirement already satisfied: werkzeug in /usr/local/lib/python3.6/dist-packages (from moto==1.3.4->allennlp) (0.14.1)\n",
            "Requirement already satisfied: python-dateutil<3.0.0,>=2.1 in /usr/local/lib/python3.6/dist-packages (from moto==1.3.4->allennlp) (2.5.3)\n",
            "Requirement already satisfied: mock in /usr/local/lib/python3.6/dist-packages (from moto==1.3.4->allennlp) (2.0.0)\n",
            "Requirement already satisfied: py>=1.5.0 in /usr/local/lib/python3.6/dist-packages (from pytest->allennlp) (1.8.0)\n",
            "Requirement already satisfied: setuptools in /usr/local/lib/python3.6/dist-packages (from pytest->allennlp) (40.8.0)\n",
            "Requirement already satisfied: atomicwrites>=1.0 in /usr/local/lib/python3.6/dist-packages (from pytest->allennlp) (1.3.0)\n",
            "Requirement already satisfied: pluggy<0.8,>=0.5 in /usr/local/lib/python3.6/dist-packages (from pytest->allennlp) (0.7.1)\n",
            "Requirement already satisfied: attrs>=17.4.0 in /usr/local/lib/python3.6/dist-packages (from pytest->allennlp) (19.1.0)\n",
            "Requirement already satisfied: more-itertools>=4.0.0 in /usr/local/lib/python3.6/dist-packages (from pytest->allennlp) (6.0.0)\n",
            "Requirement already satisfied: kiwisolver>=1.0.1 in /usr/local/lib/python3.6/dist-packages (from matplotlib==2.2.3->allennlp) (1.0.1)\n",
            "Requirement already satisfied: cycler>=0.10 in /usr/local/lib/python3.6/dist-packages (from matplotlib==2.2.3->allennlp) (0.10.0)\n",
            "Requirement already satisfied: pyparsing!=2.0.4,!=2.1.2,!=2.1.6,>=2.0.1 in /usr/local/lib/python3.6/dist-packages (from matplotlib==2.2.3->allennlp) (2.3.1)\n",
            "Requirement already satisfied: itsdangerous>=0.24 in /usr/local/lib/python3.6/dist-packages (from flask==1.0.2->allennlp) (1.1.0)\n",
            "Requirement already satisfied: click>=5.1 in /usr/local/lib/python3.6/dist-packages (from flask==1.0.2->allennlp) (7.0)\n",
            "Requirement already satisfied: regex in /usr/local/lib/python3.6/dist-packages (from pytorch-pretrained-bert>=0.6.0->allennlp) (2018.1.10)\n",
            "Requirement already satisfied: plac<1.0.0,>=0.9.6 in /usr/local/lib/python3.6/dist-packages (from spacy<2.1,>=2.0->allennlp) (0.9.6)\n",
            "Requirement already satisfied: ujson>=1.35 in /usr/local/lib/python3.6/dist-packages (from spacy<2.1,>=2.0->allennlp) (1.35)\n",
            "Requirement already satisfied: murmurhash<1.1.0,>=0.28.0 in /usr/local/lib/python3.6/dist-packages (from spacy<2.1,>=2.0->allennlp) (1.0.2)\n",
            "Requirement already satisfied: dill<0.3,>=0.2 in /usr/local/lib/python3.6/dist-packages (from spacy<2.1,>=2.0->allennlp) (0.2.9)\n",
            "Requirement already satisfied: thinc<6.13.0,>=6.12.1 in /usr/local/lib/python3.6/dist-packages (from spacy<2.1,>=2.0->allennlp) (6.12.1)\n",
            "Requirement already satisfied: cymem<2.1.0,>=2.0.2 in /usr/local/lib/python3.6/dist-packages (from spacy<2.1,>=2.0->allennlp) (2.0.2)\n",
            "Requirement already satisfied: preshed<2.1.0,>=2.0.1 in /usr/local/lib/python3.6/dist-packages (from spacy<2.1,>=2.0->allennlp) (2.0.1)\n",
            "Collecting colorama<=0.3.9,>=0.2.5 (from awscli>=1.11.91->allennlp)\n",
            "  Downloading https://files.pythonhosted.org/packages/db/c8/7dcf9dbcb22429512708fe3a547f8b6101c0d02137acbd892505aee57adf/colorama-0.3.9-py2.py3-none-any.whl\n",
            "Requirement already satisfied: PyYAML<=3.13,>=3.10 in /usr/local/lib/python3.6/dist-packages (from awscli>=1.11.91->allennlp) (3.13)\n",
            "Requirement already satisfied: docutils>=0.10 in /usr/local/lib/python3.6/dist-packages (from awscli>=1.11.91->allennlp) (0.14)\n",
            "Collecting rsa<=3.5.0,>=3.1.2 (from awscli>=1.11.91->allennlp)\n",
            "\u001b[?25l  Downloading https://files.pythonhosted.org/packages/e1/ae/baedc9cb175552e95f3395c43055a6a5e125ae4d48a1d7a924baca83e92e/rsa-3.4.2-py2.py3-none-any.whl (46kB)\n",
            "\u001b[K    100% |████████████████████████████████| 51kB 19.5MB/s \n",
            "\u001b[?25hRequirement already satisfied: alabaster<0.8,>=0.7 in /usr/local/lib/python3.6/dist-packages (from sphinx>=1.2.3->numpydoc==0.8.0->allennlp) (0.7.12)\n",
            "Requirement already satisfied: Pygments>=2.0 in /usr/local/lib/python3.6/dist-packages (from sphinx>=1.2.3->numpydoc==0.8.0->allennlp) (2.1.3)\n",
            "Requirement already satisfied: babel!=2.0,>=1.3 in /usr/local/lib/python3.6/dist-packages (from sphinx>=1.2.3->numpydoc==0.8.0->allennlp) (2.6.0)\n",
            "Requirement already satisfied: imagesize in /usr/local/lib/python3.6/dist-packages (from sphinx>=1.2.3->numpydoc==0.8.0->allennlp) (1.1.0)\n",
            "Requirement already satisfied: snowballstemmer>=1.1 in /usr/local/lib/python3.6/dist-packages (from sphinx>=1.2.3->numpydoc==0.8.0->allennlp) (1.2.1)\n",
            "Requirement already satisfied: packaging in /usr/local/lib/python3.6/dist-packages (from sphinx>=1.2.3->numpydoc==0.8.0->allennlp) (19.0)\n",
            "Requirement already satisfied: sphinxcontrib-websupport in /usr/local/lib/python3.6/dist-packages (from sphinx>=1.2.3->numpydoc==0.8.0->allennlp) (1.1.0)\n",
            "Requirement already satisfied: MarkupSafe>=0.23 in /usr/local/lib/python3.6/dist-packages (from Jinja2>=2.3->numpydoc==0.8.0->allennlp) (1.1.1)\n",
            "Collecting ecdsa<1.0 (from python-jose<3.0.0->moto==1.3.4->allennlp)\n",
            "\u001b[?25l  Downloading https://files.pythonhosted.org/packages/63/f4/73669d51825516ce8c43b816c0a6b64cd6eb71d08b99820c00792cb42222/ecdsa-0.13-py2.py3-none-any.whl (86kB)\n",
            "\u001b[K    100% |████████████████████████████████| 92kB 27.4MB/s \n",
            "\u001b[?25hRequirement already satisfied: future<1.0 in /usr/local/lib/python3.6/dist-packages (from python-jose<3.0.0->moto==1.3.4->allennlp) (0.16.0)\n",
            "Collecting pycryptodome<4.0.0,>=3.3.1 (from python-jose<3.0.0->moto==1.3.4->allennlp)\n",
            "\u001b[?25l  Downloading https://files.pythonhosted.org/packages/6d/cf/4b66bf1ac2484ca39599b4576d681186b61b543c2d2c29f9aa4ba3cc53b5/pycryptodome-3.7.3-cp36-cp36m-manylinux1_x86_64.whl (7.5MB)\n",
            "\u001b[K    100% |████████████████████████████████| 7.5MB 5.0MB/s \n",
            "\u001b[?25hRequirement already satisfied: cffi!=1.11.3,>=1.8 in /usr/local/lib/python3.6/dist-packages (from cryptography>=2.0.0->moto==1.3.4->allennlp) (1.12.2)\n",
            "Collecting asn1crypto>=0.21.0 (from cryptography>=2.0.0->moto==1.3.4->allennlp)\n",
            "\u001b[?25l  Downloading https://files.pythonhosted.org/packages/ea/cd/35485615f45f30a510576f1a56d1e0a7ad7bd8ab5ed7cdc600ef7cd06222/asn1crypto-0.24.0-py2.py3-none-any.whl (101kB)\n",
            "\u001b[K    100% |████████████████████████████████| 102kB 28.0MB/s \n",
            "\u001b[?25hCollecting docker-pycreds>=0.4.0 (from docker>=2.5.1->moto==1.3.4->allennlp)\n",
            "  Downloading https://files.pythonhosted.org/packages/f5/e8/f6bd1eee09314e7e6dee49cbe2c5e22314ccdb38db16c9fc72d2fa80d054/docker_pycreds-0.4.0-py2.py3-none-any.whl\n",
            "Collecting websocket-client>=0.32.0 (from docker>=2.5.1->moto==1.3.4->allennlp)\n",
            "\u001b[?25l  Downloading https://files.pythonhosted.org/packages/38/54/684db2ba1b7a203602808446b8686ee786f93b4a7e080cdc440cc7e06e56/websocket_client-0.55.0-py2.py3-none-any.whl (200kB)\n",
            "\u001b[K    100% |████████████████████████████████| 204kB 31.3MB/s \n",
            "\u001b[?25hCollecting jsonpickle (from aws-xray-sdk<0.96,>=0.93->moto==1.3.4->allennlp)\n",
            "  Downloading https://files.pythonhosted.org/packages/dc/12/8c44eabb501e2bc0aec0dd152b328074d98a50968d3a02be28f6037f0c6a/jsonpickle-1.1-py2.py3-none-any.whl\n",
            "Requirement already satisfied: wrapt in /usr/local/lib/python3.6/dist-packages (from aws-xray-sdk<0.96,>=0.93->moto==1.3.4->allennlp) (1.10.11)\n",
            "Requirement already satisfied: pbr>=0.11 in /usr/local/lib/python3.6/dist-packages (from mock->moto==1.3.4->allennlp) (5.1.3)\n",
            "Requirement already satisfied: msgpack-numpy<0.4.4 in /usr/local/lib/python3.6/dist-packages (from thinc<6.13.0,>=6.12.1->spacy<2.1,>=2.0->allennlp) (0.4.3.2)\n",
            "Requirement already satisfied: cytoolz<0.10,>=0.9.0 in /usr/local/lib/python3.6/dist-packages (from thinc<6.13.0,>=6.12.1->spacy<2.1,>=2.0->allennlp) (0.9.0.1)\n",
            "Requirement already satisfied: pyasn1>=0.1.3 in /usr/local/lib/python3.6/dist-packages (from rsa<=3.5.0,>=3.1.2->awscli>=1.11.91->allennlp) (0.4.5)\n",
            "Requirement already satisfied: pycparser in /usr/local/lib/python3.6/dist-packages (from cffi!=1.11.3,>=1.8->cryptography>=2.0.0->moto==1.3.4->allennlp) (2.19)\n",
            "Requirement already satisfied: toolz>=0.8.0 in /usr/local/lib/python3.6/dist-packages (from cytoolz<0.10,>=0.9.0->thinc<6.13.0,>=6.12.1->spacy<2.1,>=2.0->allennlp) (0.9.0)\n",
            "Building wheels for collected packages: overrides, numpydoc, jsonnet, parsimonious, jsondiff\n",
            "  Building wheel for overrides (setup.py) ... \u001b[?25ldone\n",
            "\u001b[?25h  Stored in directory: /root/.cache/pip/wheels/8d/52/86/e5a83b1797e7d263b458d2334edd2704c78508b3eea9323718\n",
            "  Building wheel for numpydoc (setup.py) ... \u001b[?25ldone\n",
            "\u001b[?25h  Stored in directory: /root/.cache/pip/wheels/ea/55/7f/3e25d754760ccd62d6796e5b2cfe25629346f52ea00753d549\n",
            "  Building wheel for jsonnet (setup.py) ... \u001b[?25ldone\n",
            "\u001b[?25h  Stored in directory: /root/.cache/pip/wheels/a0/aa/f0/b4ab8854cf00f922a87787425cfbb789aac01ab2c2cd1b4ca4\n",
            "  Building wheel for parsimonious (setup.py) ... \u001b[?25ldone\n",
            "\u001b[?25h  Stored in directory: /root/.cache/pip/wheels/bb/51/82/ae9b22a790f11e7be918939d01aa397c545ebb3723453c5fb4\n",
            "  Building wheel for jsondiff (setup.py) ... \u001b[?25ldone\n",
            "\u001b[?25h  Stored in directory: /root/.cache/pip/wheels/68/08/07/69d839606fb7fdc778fa86476abc0a864693d45969a0c1936c\n",
            "Successfully built overrides numpydoc jsonnet parsimonious jsondiff\n",
            "\u001b[31mimgaug 0.2.8 has requirement numpy>=1.15.0, but you'll have numpy 1.14.6 which is incompatible.\u001b[0m\n",
            "\u001b[31mfeaturetools 0.4.1 has requirement pandas>=0.23.0, but you'll have pandas 0.22.0 which is incompatible.\u001b[0m\n",
            "\u001b[31mfastai 1.0.46 has requirement numpy>=1.15, but you'll have numpy 1.14.6 which is incompatible.\u001b[0m\n",
            "\u001b[31malbumentations 0.1.12 has requirement imgaug<0.2.7,>=0.2.5, but you'll have imgaug 0.2.8 which is incompatible.\u001b[0m\n",
            "\u001b[31mawscli 1.16.119 has requirement botocore==1.12.109, but you'll have botocore 1.12.106 which is incompatible.\u001b[0m\n",
            "Installing collected packages: overrides, pytz, conllu, ftfy, numpydoc, gevent, flaky, tensorboardX, jsonnet, ecdsa, pycryptodome, python-jose, cookies, asn1crypto, cryptography, xmltodict, docker-pycreds, websocket-client, docker, jsondiff, pyaml, jsonpickle, aws-xray-sdk, responses, moto, unidecode, matplotlib, pytorch-pretrained-bert, parsimonious, colorama, rsa, awscli, flask-cors, allennlp\n",
            "  Found existing installation: pytz 2018.9\n",
            "    Uninstalling pytz-2018.9:\n",
            "      Successfully uninstalled pytz-2018.9\n",
            "  Found existing installation: gevent 1.4.0\n",
            "    Uninstalling gevent-1.4.0:\n",
            "      Successfully uninstalled gevent-1.4.0\n",
            "  Found existing installation: matplotlib 3.0.3\n",
            "    Uninstalling matplotlib-3.0.3:\n",
            "      Successfully uninstalled matplotlib-3.0.3\n",
            "  Found existing installation: rsa 4.0\n",
            "    Uninstalling rsa-4.0:\n",
            "      Successfully uninstalled rsa-4.0\n",
            "Successfully installed allennlp-0.8.2 asn1crypto-0.24.0 aws-xray-sdk-0.95 awscli-1.16.119 colorama-0.3.9 conllu-0.11 cookies-2.2.1 cryptography-2.6.1 docker-3.7.0 docker-pycreds-0.4.0 ecdsa-0.13 flaky-3.5.3 flask-cors-3.0.7 ftfy-5.5.1 gevent-1.3.6 jsondiff-1.1.1 jsonnet-0.10.0 jsonpickle-1.1 matplotlib-2.2.3 moto-1.3.4 numpydoc-0.8.0 overrides-1.9 parsimonious-0.8.0 pyaml-18.11.0 pycryptodome-3.7.3 python-jose-2.0.2 pytorch-pretrained-bert-0.6.1 pytz-2017.3 responses-0.10.5 rsa-3.4.2 tensorboardX-1.2 unidecode-1.0.23 websocket-client-0.55.0 xmltodict-0.12.0\n"
          ],
          "name": "stdout"
        },
        {
          "output_type": "display_data",
          "data": {
            "application/vnd.colab-display-data+json": {
              "pip_warning": {
                "packages": [
                  "matplotlib",
                  "mpl_toolkits",
                  "pytz",
                  "rsa"
                ]
              }
            }
          },
          "metadata": {
            "tags": []
          }
        },
        {
          "output_type": "stream",
          "text": [
            "Better speed can be achieved with apex installed from https://www.github.com/nvidia/apex.\n"
          ],
          "name": "stdout"
        },
        {
          "output_type": "stream",
          "text": [
            "100%|██████████| 724601837/724601837 [00:15<00:00, 46287984.69B/s]\n",
            "/usr/local/lib/python3.6/dist-packages/allennlp/data/token_indexers/token_characters_indexer.py:51: UserWarning: You are using the default value (0) of `min_padding_length`, which can cause some subtle bugs (more info see https://github.com/allenai/allennlp/issues/1954). Strongly recommend to set a value, usually the maximum size of the convolutional layer size when using CnnEncoder.\n",
            "  UserWarning)\n"
          ],
          "name": "stderr"
        }
      ]
    },
    {
      "metadata": {
        "id": "Po5hHwi5puQj",
        "colab_type": "code",
        "colab": {}
      },
      "cell_type": "code",
      "source": [
        "def convert_results(allen_results):\n",
        "  ents = set()\n",
        "  for word, tag in zip(allen_results[\"words\"], allen_results[\"tags\"]):\n",
        "    if tag != \"O\":\n",
        "      ent_position, ent_type = tag.split(\"-\")\n",
        "      if ent_position == \"U\":\n",
        "        ents.add((word,ent_type))\n",
        "      else:\n",
        "        if ent_position == \"B\":\n",
        "          w = word\n",
        "        elif ent_position == \"I\":\n",
        "          w += \" \" + word\n",
        "        elif ent_position == \"L\":\n",
        "          w += \" \" + word\n",
        "          ents.add((w,ent_type))\n",
        "  return ents\n",
        "\n",
        "def allennlp_ner(document):\n",
        "  return convert_results(al.predict(sentence=document))"
      ],
      "execution_count": 0,
      "outputs": []
    },
    {
      "metadata": {
        "id": "hBSuqZ9Oq-XT",
        "colab_type": "code",
        "outputId": "21a6524f-79b3-402a-a969-c6be07b0bc6f",
        "colab": {
          "base_uri": "https://localhost:8080/",
          "height": 204
        }
      },
      "cell_type": "code",
      "source": [
        "allennlp_ner(example_document)"
      ],
      "execution_count": 24,
      "outputs": [
        {
          "output_type": "execute_result",
          "data": {
            "text/plain": [
              "{('0.32 2.34', 'CARDINAL'),\n",
              " ('1987', 'DATE'),\n",
              " ('1999', 'DATE'),\n",
              " ('Carrie - Anne Moss', 'PERSON'),\n",
              " ('Friday 9/11/2018 9th November 2018', 'DATE'),\n",
              " ('Hugo Weaving', 'PERSON'),\n",
              " ('Joe Pantoliano', 'PERSON'),\n",
              " ('Keanu Reeves', 'PERSON'),\n",
              " ('Laurence Fishburne', 'PERSON'),\n",
              " ('The Matrix', 'WORK_OF_ART'),\n",
              " ('The Wachowskis', 'PERSON')}"
            ]
          },
          "metadata": {
            "tags": []
          },
          "execution_count": 24
        }
      ]
    },
    {
      "metadata": {
        "id": "b2uvc2hb1zrI",
        "colab_type": "text"
      },
      "cell_type": "markdown",
      "source": [
        "# Polyglot"
      ]
    },
    {
      "metadata": {
        "id": "6ixzM5Kn12Ae",
        "colab_type": "code",
        "outputId": "e9200e3d-cea9-427a-cd52-e67049fe7c78",
        "colab": {
          "base_uri": "https://localhost:8080/",
          "height": 667
        }
      },
      "cell_type": "code",
      "source": [
        "!pip3 install -U git+https://github.com/aboSamoor/polyglot.git@master\n",
        "!polyglot download embeddings2.en ner2.en\n",
        "from polyglot.text import Text"
      ],
      "execution_count": 25,
      "outputs": [
        {
          "output_type": "stream",
          "text": [
            "Collecting git+https://github.com/aboSamoor/polyglot.git@master\n",
            "  Cloning https://github.com/aboSamoor/polyglot.git (to revision master) to /tmp/pip-req-build-uezmihj9\n",
            "Requirement already satisfied, skipping upgrade: numpy>=1.6.1 in /usr/local/lib/python3.6/dist-packages (from polyglot==16.7.4) (1.14.6)\n",
            "Requirement already satisfied, skipping upgrade: wheel>=0.23.0 in /usr/local/lib/python3.6/dist-packages (from polyglot==16.7.4) (0.33.1)\n",
            "Collecting morfessor>=2.0.2a1 (from polyglot==16.7.4)\n",
            "  Downloading https://files.pythonhosted.org/packages/62/4d/1416982d31175e5053b8a0ae91b3e2761077f88d7a8071c7051a302299eb/Morfessor-2.0.4.tar.gz\n",
            "Requirement already satisfied, skipping upgrade: six>=1.7.3 in /usr/local/lib/python3.6/dist-packages (from polyglot==16.7.4) (1.11.0)\n",
            "Collecting pycld2>=0.3 (from polyglot==16.7.4)\n",
            "\u001b[?25l  Downloading https://files.pythonhosted.org/packages/21/77/8525fe5f147bf2819c7c9942c717c4a79b83f8003da1a3847759fb560909/pycld2-0.31.tar.gz (14.3MB)\n",
            "\u001b[K    100% |████████████████████████████████| 14.3MB 2.5MB/s \n",
            "\u001b[?25hCollecting PyICU>=1.8 (from polyglot==16.7.4)\n",
            "\u001b[?25l  Downloading https://files.pythonhosted.org/packages/c2/15/0af20b540c828943b6ffea5677c86e908dcac108813b522adebb75c827c1/PyICU-2.2.tar.gz (211kB)\n",
            "\u001b[K    100% |████████████████████████████████| 215kB 27.6MB/s \n",
            "\u001b[?25hCollecting futures>=2.1.6 (from polyglot==16.7.4)\n",
            "  Downloading https://files.pythonhosted.org/packages/cc/26/b61e3a4eb50653e8a7339d84eeaa46d1e93b92951978873c220ae64d0733/futures-3.1.1.tar.gz\n",
            "Building wheels for collected packages: polyglot, morfessor, pycld2, PyICU, futures\n",
            "  Building wheel for polyglot (setup.py) ... \u001b[?25ldone\n",
            "\u001b[?25h  Stored in directory: /tmp/pip-ephem-wheel-cache-e3kg53mm/wheels/42/d9/73/345c7ae8554299ff8b31635d64eb8455fd591385fa734cdbef\n",
            "  Building wheel for morfessor (setup.py) ... \u001b[?25ldone\n",
            "\u001b[?25h  Stored in directory: /root/.cache/pip/wheels/43/74/e2/92a807d8662f5a0df908ba20887f8ad02bf1b130d3939b65b7\n",
            "  Building wheel for pycld2 (setup.py) ... \u001b[?25ldone\n",
            "\u001b[?25h  Stored in directory: /root/.cache/pip/wheels/7b/44/44/ec4c5e25e095f02aa0e63ef2bf0cc8badda5877330ffa5fbe4\n",
            "  Building wheel for PyICU (setup.py) ... \u001b[?25ldone\n",
            "\u001b[?25h  Stored in directory: /root/.cache/pip/wheels/ed/73/e3/0621953e0e442f0333daa1dd6523bec36606ee33f75612923a\n",
            "  Building wheel for futures (setup.py) ... \u001b[?25ldone\n",
            "\u001b[?25h  Stored in directory: /root/.cache/pip/wheels/f3/f9/c7/4fbf1faa6038faf183f6e3ea61f17a5f7eea5ab9a1dd7753fd\n",
            "Successfully built polyglot morfessor pycld2 PyICU futures\n",
            "Installing collected packages: morfessor, pycld2, PyICU, futures, polyglot\n",
            "Successfully installed PyICU-2.2 futures-3.1.1 morfessor-2.0.4 polyglot-16.7.4 pycld2-0.31\n"
          ],
          "name": "stdout"
        },
        {
          "output_type": "display_data",
          "data": {
            "application/vnd.colab-display-data+json": {
              "pip_warning": {
                "packages": [
                  "concurrent"
                ]
              }
            }
          },
          "metadata": {
            "tags": []
          }
        },
        {
          "output_type": "stream",
          "text": [
            "[polyglot_data] Downloading package embeddings2.en to\n",
            "[polyglot_data]     /root/polyglot_data...\n",
            "[polyglot_data] Downloading package ner2.en to /root/polyglot_data...\n"
          ],
          "name": "stdout"
        }
      ]
    },
    {
      "metadata": {
        "id": "DzUrNQKk2X7O",
        "colab_type": "code",
        "colab": {}
      },
      "cell_type": "code",
      "source": [
        "def polyglot_ner(document):\n",
        "  return {(' '.join(entity),entity.tag.split('-')[-1]) for entity in Text(document).entities}"
      ],
      "execution_count": 0,
      "outputs": []
    },
    {
      "metadata": {
        "id": "BC9e3KFB3T93",
        "colab_type": "code",
        "outputId": "7f07c69e-d352-41a8-c2f2-10f4edc44e7b",
        "colab": {
          "base_uri": "https://localhost:8080/",
          "height": 153
        }
      },
      "cell_type": "code",
      "source": [
        "polyglot_ner(example_document)"
      ],
      "execution_count": 27,
      "outputs": [
        {
          "output_type": "execute_result",
          "data": {
            "text/plain": [
              "{('Anne Moss', 'PER'),\n",
              " ('Carrie', 'PER'),\n",
              " ('Hugo Weaving', 'PER'),\n",
              " ('Joe Pantoliano', 'PER'),\n",
              " ('Keanu Reeves', 'PER'),\n",
              " ('Laurence Fishburne', 'PER'),\n",
              " ('cognitionx.io', 'PER'),\n",
              " ('mohammed', 'PER')}"
            ]
          },
          "metadata": {
            "tags": []
          },
          "execution_count": 27
        }
      ]
    },
    {
      "metadata": {
        "id": "nMAtuOgf5uAu",
        "colab_type": "text"
      },
      "cell_type": "markdown",
      "source": [
        "# Which is the Best?"
      ]
    },
    {
      "metadata": {
        "id": "TUqUvqw88R5B",
        "colab_type": "code",
        "colab": {}
      },
      "cell_type": "code",
      "source": [
        "test = {\n",
        "  \"text\":'''Elizabeth was born in London as the first child of the Duke and Duchess of York, later King George VI and Queen Elizabeth, and she was educated privately at home. Her father acceded to the throne on the abdication of his brother King Edward VIII in 1936''',\n",
        "  \"entities\" : {\n",
        "    \"dates\":{\"1936\"},\n",
        "    \"locations\":{\"London\", \"York\"},\n",
        "    \"people\":{\n",
        "        \"Elizabeth\",\n",
        "        \"Duke\",\n",
        "        \"Duchess\",\n",
        "        \"King George VI\",\n",
        "        \"Queen Elizabeth\",\n",
        "        \"King Edward VIII\",\n",
        "    },\n",
        "  }\n",
        "}"
      ],
      "execution_count": 0,
      "outputs": []
    },
    {
      "metadata": {
        "id": "0RC_jDpEN9g2",
        "colab_type": "text"
      },
      "cell_type": "markdown",
      "source": [
        "## Which is the quickest?"
      ]
    },
    {
      "metadata": {
        "id": "eBT6WbYl51gs",
        "colab_type": "code",
        "outputId": "ffae3500-f7fb-4c03-aa36-422619334388",
        "colab": {
          "base_uri": "https://localhost:8080/",
          "height": 153
        }
      },
      "cell_type": "code",
      "source": [
        "import time\n",
        "\n",
        "gate_start = time.time()\n",
        "Y_gate = gate_ner(test[\"text\"])\n",
        "gate_end = time.time()\n",
        "gate_time = gate_end - gate_start\n",
        "print(f\"GATE = {gate_time}s\")\n",
        "\n",
        "nltk_start = time.time()\n",
        "Y_nltk = nltk_ner(test[\"text\"])\n",
        "nltk_end = time.time()\n",
        "nltk_time = nltk_end - nltk_start\n",
        "print(f\"NLTK = {nltk_time}s\")\n",
        "\n",
        "stanford_start = time.time()\n",
        "Y_stanford1 = stanford_ner(test[\"text\"],model=1)\n",
        "stanford_end = time.time()\n",
        "stanford_time1 = stanford_end - stanford_start\n",
        "print(f\"Stanford Core NLP (3 class) = {stanford_time1}s\")\n",
        "\n",
        "stanford_start = time.time()\n",
        "Y_stanford2 = stanford_ner(test[\"text\"],model=2)\n",
        "stanford_end = time.time()\n",
        "stanford_time2 = stanford_end - stanford_start\n",
        "print(f\"Stanford Core NLP (4 class) = {stanford_time2}s\")\n",
        "\n",
        "stanford_start = time.time()\n",
        "Y_stanford3 = stanford_ner(test[\"text\"],model=3)\n",
        "stanford_end = time.time()\n",
        "stanford_time3 = stanford_end - stanford_start\n",
        "print(f\"Stanford Core NLP (7 class) = {stanford_time3}s\")\n",
        "\n",
        "spacy_start = time.time()\n",
        "Y_spacy = spacy_ner(test[\"text\"])\n",
        "spacy_end = time.time()\n",
        "spacy_time = spacy_end - spacy_start\n",
        "print(f\"Spacy = {spacy_time}s\")\n",
        "\n",
        "allen_start = time.time()\n",
        "Y_allen = allennlp_ner(test[\"text\"])\n",
        "allen_end = time.time()\n",
        "allen_time = allen_end - allen_start\n",
        "print(f\"Allen NLP = {allen_time}s\")\n",
        "\n",
        "poly_start = time.time()\n",
        "Y_polyglot = polyglot_ner(test[\"text\"])\n",
        "poly_end = time.time()\n",
        "poly_time = poly_end - poly_start\n",
        "print(f\"Polyglot = {poly_time}s\")"
      ],
      "execution_count": 46,
      "outputs": [
        {
          "output_type": "stream",
          "text": [
            "GATE = 0.606043815612793s\n",
            "NLTK = 0.0897672176361084s\n",
            "Stanford Core NLP (3 class) = 3.346768617630005s\n",
            "Stanford Core NLP (4 class) = 2.811490297317505s\n",
            "Stanford Core NLP (7 class) = 2.5216190814971924s\n",
            "Spacy = 0.0429234504699707s\n",
            "Allen NLP = 3.3621904850006104s\n",
            "Polyglot = 0.006922721862792969s\n"
          ],
          "name": "stdout"
        }
      ]
    },
    {
      "metadata": {
        "id": "_M4Zjho0-HM0",
        "colab_type": "code",
        "outputId": "ebdd6690-e568-4ecb-8a03-4617dfe443e4",
        "colab": {
          "base_uri": "https://localhost:8080/",
          "height": 489
        }
      },
      "cell_type": "code",
      "source": [
        "import matplotlib.pyplot as plt\n",
        "import numpy as np\n",
        "\n",
        "plt.rcdefaults()\n",
        "fig, ax = plt.subplots()\n",
        "\n",
        "n_words = len(test[\"text\"].split())\n",
        "ners = ('Polyglot', 'Spacy', 'NLTK',  'GATE',  'Allen NLP', 'Stanford Core NLP (7 class)', 'Stanford Core NLP (4 class)', 'Stanford Core NLP (3 class)')\n",
        "performance = [poly_time/n_words, spacy_time/n_words, nltk_time/n_words, gate_time/n_words,  allen_time/n_words, stanford_time3/n_words, stanford_time2/n_words, stanford_time1/n_words]\n",
        "y_pos = np.arange(len(ners))\n",
        "\n",
        "ax.barh(y_pos, performance, align='center', color='green', ecolor='black')\n",
        "ax.set_yticks(y_pos)\n",
        "ax.set_yticklabels(ners)\n",
        "ax.invert_yaxis()  \n",
        "ax.set_xlabel('Time (s / word)')\n",
        "ax.set_title('How long does each NER take?')"
      ],
      "execution_count": 48,
      "outputs": [
        {
          "output_type": "execute_result",
          "data": {
            "text/plain": [
              "Text(0.5, 1.0, 'How long does each NER take?')"
            ]
          },
          "metadata": {
            "tags": []
          },
          "execution_count": 48
        },
        {
          "output_type": "display_data",
          "data": {
            "image/png": "[encoded data removed]",
            "text/plain": [
              "<Figure size 640x480 with 1 Axes>"
            ]
          },
          "metadata": {
            "tags": []
          }
        }
      ]
    },
    {
      "metadata": {
        "id": "GNn6V860OBY1",
        "colab_type": "text"
      },
      "cell_type": "markdown",
      "source": [
        "## Which is the best NER for finding entities?"
      ]
    },
    {
      "metadata": {
        "id": "2dPZCVOO6dl5",
        "colab_type": "code",
        "colab": {}
      },
      "cell_type": "code",
      "source": [
        "def f1_score(Y, Y_hat, strict=False):\n",
        "  e = .000001\n",
        "  non_entities = {}\n",
        "  true_positives = sum([max([1 if y == y_hat else .5 if y_hat in y else .5 if y in y_hat else 0 for y_hat in Y_hat]+ [0]) for y in Y]) # correctly identified\n",
        "  if strict: true_positives = len(Y.intersection(Y_hat)) #if strict, only count exact entity matches and not partial matches (default)\n",
        "  dY = Y ^ Y_hat \n",
        "  false_positives = len(Y_hat.intersection(dY)) # incorrectly identified\n",
        "  false_negatives = len(Y) - true_positives # incorrectly rejected\n",
        "  recall = true_positives / (true_positives + false_negatives + e)\n",
        "  precision = true_positives / (true_positives + false_positives + e)\n",
        "  return (2 * precision * recall) / (precision + recall + e)"
      ],
      "execution_count": 0,
      "outputs": []
    },
    {
      "metadata": {
        "id": "d0ipbqoRNaI5",
        "colab_type": "code",
        "outputId": "a1244d01-2a2d-43cc-de97-508b280d4029",
        "colab": {
          "base_uri": "https://localhost:8080/",
          "height": 476
        }
      },
      "cell_type": "code",
      "source": [
        "expected_entities = {entity for entities in test[\"entities\"].values() for entity in entities}\n",
        "gate_entities = {entity.replace('(male)','').replace('(female)','').strip() for entity,_ in Y_gate}\n",
        "polyglot_entities = {entity for entity,_ in Y_polyglot}\n",
        "spacy_entities = {entity for entity,_ in Y_spacy}\n",
        "nltk_entities = {entity for entity,_ in Y_nltk}\n",
        "stanford_entities1 = {entity for entity,_ in Y_stanford1}\n",
        "stanford_entities2 = {entity for entity,_ in Y_stanford2}\n",
        "stanford_entities3 = {entity for entity,_ in Y_stanford3}\n",
        "allen_entities = {entity for entity,_ in Y_allen}\n",
        "\n",
        "print(f\"Expected = 100.0%\\n\\t{sorted(expected_entities)}\\n\")\n",
        "f1_gate = f1_score(expected_entities, gate_entities)\n",
        "print(f\"GATE = {f1_gate*100}%\\n\\t{sorted(gate_entities)}\\n\")\n",
        "f1_poly = f1_score(expected_entities, polyglot_entities)\n",
        "print(f\"Polyglot = {f1_poly*100}%\\n\\t{sorted(polyglot_entities)}\\n\")\n",
        "f1_spacy = f1_score(expected_entities, spacy_entities)\n",
        "print(f\"Spacy = {f1_spacy*100}%\\n\\t{sorted(spacy_entities)}\\n\")\n",
        "f1_nltk = f1_score(expected_entities, nltk_entities)\n",
        "print(f\"NLTK = {f1_nltk*100}%\\n\\t{sorted(nltk_entities)}\\n\")\n",
        "f1_stanford1 = f1_score(expected_entities, stanford_entities1)\n",
        "print(f\"Stanford Core NLP (3 class) = {f1_stanford1*100}%\\n\\t{sorted(stanford_entities1)}\\n\")\n",
        "f1_stanford2 = f1_score(expected_entities, stanford_entities2)\n",
        "print(f\"Stanford Core NLP (4 class) = {f1_stanford2*100}%\\n\\t{sorted(stanford_entities2)}\\n\")\n",
        "f1_stanford3 = f1_score(expected_entities, stanford_entities3)\n",
        "print(f\"Stanford Core NLP (7 class) = {f1_stanford3*100}%\\n\\t{sorted(stanford_entities3)}\\n\")\n",
        "f1_allen = f1_score(expected_entities, allen_entities)\n",
        "print(f\"Allen NLP = {f1_allen*100}%\\n\\t{sorted(allen_entities)}\\n\")"
      ],
      "execution_count": 60,
      "outputs": [
        {
          "output_type": "stream",
          "text": [
            "Expected = 100.0%\n",
            "\t['1936', 'Duchess', 'Duke', 'Elizabeth', 'King Edward VIII', 'King George VI', 'London', 'Queen Elizabeth', 'York']\n",
            "\n",
            "GATE = 84.21046759005813%\n",
            "\t['1936', 'Duchess', 'Duke', 'Edward VIII', 'Elizabeth', 'George VI', 'London', 'Queen Elizabeth', 'York']\n",
            "\n",
            "Polyglot = 94.1175861591972%\n",
            "\t['Duchess', 'Duke', 'Elizabeth', 'King Edward VIII', 'King George VI', 'London', 'Queen Elizabeth', 'York']\n",
            "\n",
            "Spacy = 66.6666089991195%\n",
            "\t['1936', 'Elizabeth', 'George VI', 'King Edward VIII', 'London', 'Queen Elizabeth', 'first']\n",
            "\n",
            "NLTK = 66.66660925929759%\n",
            "\t['Duchess of York', 'Duke', 'Edward VIII', 'Elizabeth', 'George VI', 'London', 'Queen Elizabeth']\n",
            "\n",
            "Stanford Core NLP (3 class) = 43.902385484886%\n",
            "\t['Duke', 'Edward', 'Elizabeth', 'Elizabeth,', 'George', 'King', 'London', 'Queen', 'VI', 'VIII']\n",
            "\n",
            "Stanford Core NLP (4 class) = 54.54540123971243%\n",
            "\t['Duchess', 'Duke', 'Edward', 'Elizabeth', 'George', 'King', 'London', 'VI', 'VIII', 'York,', 'of']\n",
            "\n",
            "Stanford Core NLP (7 class) = 44.44438950622964%\n",
            "\t['1936', 'Duke', 'Edward', 'George', 'King', 'London', 'VI', 'VIII']\n",
            "\n",
            "Allen NLP = 54.54539834715323%\n",
            "\t['1936', 'Edward VIII', 'Elizabeth', 'George VI', 'London', 'first']\n",
            "\n"
          ],
          "name": "stdout"
        }
      ]
    },
    {
      "metadata": {
        "id": "YucNDasQX5Q2",
        "colab_type": "code",
        "outputId": "660f4172-cede-4584-e7fb-70349241f8b7",
        "colab": {
          "base_uri": "https://localhost:8080/",
          "height": 489
        }
      },
      "cell_type": "code",
      "source": [
        "import matplotlib.pyplot as plt\n",
        "import numpy as np\n",
        "\n",
        "plt.rcdefaults()\n",
        "fig, ax = plt.subplots()\n",
        "\n",
        "ners = ('Polyglot', 'GATE', 'Spacy', 'NLTK', 'Allen NLP', 'Stanford Core NLP (4 class)', 'Stanford Core NLP (7 class)', 'Stanford Core NLP (3 class)')\n",
        "performance = [f1_poly, f1_gate, f1_spacy, f1_nltk, f1_allen, f1_stanford2, f1_stanford3, f1_stanford1]\n",
        "y_pos = np.arange(len(ners))\n",
        "\n",
        "ax.barh(y_pos, performance, align='center', color='orange', ecolor='black')\n",
        "ax.set_yticks(y_pos)\n",
        "ax.set_yticklabels(ners)\n",
        "ax.invert_yaxis()  \n",
        "ax.set_xlabel('F1 score')\n",
        "ax.set_title('How good is each NER at detecting entities?')"
      ],
      "execution_count": 61,
      "outputs": [
        {
          "output_type": "execute_result",
          "data": {
            "text/plain": [
              "Text(0.5, 1.0, 'How good is each NER at detecting entities?')"
            ]
          },
          "metadata": {
            "tags": []
          },
          "execution_count": 61
        },
        {
          "output_type": "display_data",
          "data": {
            "image/png": "[encoded data removed]",
            "text/plain": [
              "<Figure size 640x480 with 1 Axes>"
            ]
          },
          "metadata": {
            "tags": []
          }
        }
      ]
    },
    {
      "metadata": {
        "id": "7J31lsMhONNW",
        "colab_type": "text"
      },
      "cell_type": "markdown",
      "source": [
        "## Which is the best NER for correctly labelling entities?"
      ]
    },
    {
      "metadata": {
        "id": "HySRaiqa_5rj",
        "colab_type": "code",
        "outputId": "0c0c086f-15fa-4128-aaca-602f23dccf57",
        "colab": {
          "base_uri": "https://localhost:8080/",
          "height": 853
        }
      },
      "cell_type": "code",
      "source": [
        "gate_people = {entity.replace('(male)','').replace('(female)','').strip() for entity,tag in Y_gate if tag == \"Person\"}\n",
        "polyglot_people = {entity for entity,tag in Y_polyglot if tag == \"PER\"}\n",
        "spacy_people = {entity for entity,tag in Y_spacy if tag == \"PERSON\"}\n",
        "nltk_people = {entity for entity,tag in Y_nltk if tag == \"PERSON\"}\n",
        "stanford_people1 = {entity for entity,tag in Y_stanford1 if tag == \"PERSON\"}\n",
        "stanford_people2 = {entity for entity,tag in Y_stanford2 if tag == \"PERSON\"}\n",
        "stanford_people3 = {entity for entity,tag in Y_stanford3 if tag == \"PERSON\"}\n",
        "allen_people = {entity for entity,tag in Y_allen if tag == \"PERSON\"}\n",
        "\n",
        "gate_dates = {entity for entity,tag in Y_gate if tag == \"Date\"}\n",
        "polyglot_dates = {entity for entity,tag in Y_polyglot if tag == \"DATE\"}\n",
        "spacy_dates = {entity for entity,tag in Y_spacy if tag == \"DATE\"}\n",
        "nltk_dates = {entity for entity,tag in Y_nltk if tag == \"DATE\"}\n",
        "stanford_dates1 = {entity for entity,tag in Y_stanford1 if tag == \"DATE\"}\n",
        "stanford_dates2 = {entity for entity,tag in Y_stanford2 if tag == \"DATE\"}\n",
        "stanford_dates3 = {entity for entity,tag in Y_stanford3 if tag == \"DATE\"}\n",
        "allen_dates = {entity for entity,tag in Y_allen if tag == \"DATE\"}\n",
        "\n",
        "gate_locations = {entity for entity,tag in Y_gate if tag == \"Location\"}\n",
        "polyglot_locations = {entity for entity,tag in Y_polyglot if tag == \"LOC\"}\n",
        "spacy_locations = {entity for entity,tag in Y_spacy if tag == \"GPE\"}\n",
        "nltk_locations = {entity for entity,tag in Y_nltk if tag == \"GPE\"}\n",
        "stanford_locations1 = {entity for entity,tag in Y_stanford1 if tag == \"LOCATION\"}\n",
        "stanford_locations2 = {entity for entity,tag in Y_stanford2 if tag == \"LOCATION\"}\n",
        "stanford_locations3 = {entity for entity,tag in Y_stanford3 if tag == \"LOCATION\"}\n",
        "allen_locations = {entity for entity,tag in Y_allen if tag == \"GPE\"}\n",
        "\n",
        "f1_gate_ppl = f1_score(test[\"entities\"][\"people\"], gate_people)\n",
        "f1_gate_dts = f1_score(test[\"entities\"][\"dates\"], gate_dates)\n",
        "f1_gate_loc = f1_score(test[\"entities\"][\"locations\"], gate_locations)\n",
        "print(f\"GATE \\n\\tPeople =\\t{f1_gate_ppl*100}%\\t{gate_people}\\n\\tLocations =\\t{f1_gate_loc*100}%\\t{gate_locations}\\n\\tDates =\\t\\t{f1_gate_dts*100}%\\t{gate_dates}\\n\\n\")\n",
        "f1_poly_ppl = f1_score(test[\"entities\"][\"people\"], polyglot_people)\n",
        "f1_poly_dts = f1_score(test[\"entities\"][\"dates\"], polyglot_dates)\n",
        "f1_poly_loc = f1_score(test[\"entities\"][\"locations\"], polyglot_locations)\n",
        "print(f\"Polyglot \\n\\tPeople =\\t{f1_poly_ppl*100}%\\t{polyglot_people}\\n\\tLocations =\\t{f1_poly_loc*100}%\\t{polyglot_locations}\\n\\tDates =\\t\\t{f1_poly_dts*100}%\\t{polyglot_dates}\\n\\n\")\n",
        "f1_spacy_ppl = f1_score(test[\"entities\"][\"people\"], spacy_people)\n",
        "f1_spacy_dts = f1_score(test[\"entities\"][\"dates\"], spacy_dates)\n",
        "f1_spacy_loc = f1_score(test[\"entities\"][\"locations\"], spacy_locations)\n",
        "print(f\"Spacy \\n\\tPeople =\\t{f1_spacy_ppl*100}%\\t{spacy_people}\\n\\tLocations =\\t{f1_spacy_loc*100}%\\t{spacy_locations}\\n\\tDates =\\t\\t{f1_spacy_dts*100}%\\t{spacy_dates}\\n\\n\")\n",
        "f1_nltk_ppl = f1_score(test[\"entities\"][\"people\"], nltk_people)\n",
        "f1_nltk_dts = f1_score(test[\"entities\"][\"dates\"], nltk_dates)\n",
        "f1_nltk_loc = f1_score(test[\"entities\"][\"locations\"], nltk_locations)\n",
        "print(f\"NLTK \\n\\tPeople =\\t{f1_nltk_ppl*100}%\\t{nltk_people}\\n\\tLocations =\\t{f1_nltk_loc*100}%\\t{nltk_locations}\\n\\tDates =\\t\\t{f1_nltk_dts*100}%\\t{nltk_dates}\\n\\n\")\n",
        "f1_stanford_ppl1 = f1_score(test[\"entities\"][\"people\"], stanford_people1)\n",
        "f1_stanford_dts1 = f1_score(test[\"entities\"][\"dates\"], stanford_dates1)\n",
        "f1_stanford_loc1 = f1_score(test[\"entities\"][\"locations\"], stanford_locations1)\n",
        "print(f\"Stanford Core NLP (3 class)\\n\\tPeople =\\t{f1_stanford_ppl1*100}%\\t{stanford_people1}\\n\\tLocations =\\t{f1_stanford_loc1*100}%\\t{stanford_locations1}\\n\\tDates =\\t\\t{f1_stanford_dts1*100}%\\t{stanford_dates1}\\n\\n\")\n",
        "f1_stanford_ppl2 = f1_score(test[\"entities\"][\"people\"], stanford_people2)\n",
        "f1_stanford_dts2 = f1_score(test[\"entities\"][\"dates\"], stanford_dates2)\n",
        "f1_stanford_loc2 = f1_score(test[\"entities\"][\"locations\"], stanford_locations2)\n",
        "print(f\"Stanford Core NLP (4 class)\\n\\tPeople =\\t{f1_stanford_ppl2*100}%\\t{stanford_people2}\\n\\tLocations =\\t{f1_stanford_loc2*100}%\\t{stanford_locations2}\\n\\tDates =\\t\\t{f1_stanford_dts2*100}%\\t{stanford_dates2}\\n\\n\")\n",
        "f1_stanford_ppl3 = f1_score(test[\"entities\"][\"people\"], stanford_people3)\n",
        "f1_stanford_dts3 = f1_score(test[\"entities\"][\"dates\"], stanford_dates3)\n",
        "f1_stanford_loc3 = f1_score(test[\"entities\"][\"locations\"], stanford_locations3)\n",
        "print(f\"Stanford Core NLP (7 class)\\n\\tPeople =\\t{f1_stanford_ppl3*100}%\\t{stanford_people3}\\n\\tLocations =\\t{f1_stanford_loc3*100}%\\t{stanford_locations3}\\n\\tDates =\\t\\t{f1_stanford_dts3*100}%\\t{stanford_dates3}\\n\\n\")\n",
        "f1_allen_ppl = f1_score(test[\"entities\"][\"people\"], allen_people)\n",
        "f1_allen_dts = f1_score(test[\"entities\"][\"dates\"], allen_dates)\n",
        "f1_allen_loc = f1_score(test[\"entities\"][\"locations\"], allen_locations)\n",
        "print(f\"Allen NLP \\n\\tPeople =\\t{f1_allen_ppl*100}%\\t{allen_people}\\n\\tLocations =\\t{f1_allen_loc*100}%\\t{allen_locations}\\n\\tDates =\\t\\t{f1_allen_dts*100}%\\t{allen_dates}\\n\\n\")"
      ],
      "execution_count": 58,
      "outputs": [
        {
          "output_type": "stream",
          "text": [
            "GATE \n",
            "\tPeople =\t54.54539504136905%\t{'Queen Elizabeth', 'Elizabeth', 'Edward VIII', 'George VI'}\n",
            "\tLocations =\t99.99990000004999%\t{'York', 'London'}\n",
            "\tDates =\t\t99.99985000012501%\t{'1936'}\n",
            "\n",
            "\n",
            "Polyglot \n",
            "\tPeople =\t92.30762840239572%\t{'Queen Elizabeth', 'King Edward VIII', 'York', 'Duke', 'King George VI', 'Duchess', 'Elizabeth'}\n",
            "\tLocations =\t66.66657777782964%\t{'London'}\n",
            "\tDates =\t\t0.0%\tset()\n",
            "\n",
            "\n",
            "Spacy \n",
            "\tPeople =\t66.66660498870016%\t{'Elizabeth', 'Queen Elizabeth', 'King Edward VIII', 'George VI'}\n",
            "\tLocations =\t66.66657777782964%\t{'London'}\n",
            "\tDates =\t\t99.99985000012501%\t{'1936'}\n",
            "\n",
            "\n",
            "NLTK \n",
            "\tPeople =\t54.54539504136905%\t{'Elizabeth', 'Queen Elizabeth', 'Edward VIII', 'George VI'}\n",
            "\tLocations =\t66.66657777782964%\t{'London'}\n",
            "\tDates =\t\t0.0%\tset()\n",
            "\n",
            "\n",
            "Stanford Core NLP (3 class)\n",
            "\tPeople =\t32.25801290329548%\t{'Queen', 'King', 'VIII', 'Elizabeth,', 'George', 'Edward', 'Elizabeth', 'VI'}\n",
            "\tLocations =\t66.66657777782964%\t{'London'}\n",
            "\tDates =\t\t0.0%\tset()\n",
            "\n",
            "\n",
            "Stanford Core NLP (4 class)\n",
            "\tPeople =\t11.764661591838715%\t{'Edward', 'VIII'}\n",
            "\tLocations =\t66.66657777782964%\t{'London'}\n",
            "\tDates =\t\t0.0%\tset()\n",
            "\n",
            "\n",
            "Stanford Core NLP (7 class)\n",
            "\tPeople =\t22.222172839593686%\t{'George', 'VI'}\n",
            "\tLocations =\t66.66657777782964%\t{'London'}\n",
            "\tDates =\t\t99.99985000012501%\t{'1936'}\n",
            "\n",
            "\n",
            "Allen NLP \n",
            "\tPeople =\t47.61898956921271%\t{'Elizabeth', 'Edward VIII', 'George VI'}\n",
            "\tLocations =\t66.66657777782964%\t{'London'}\n",
            "\tDates =\t\t99.99985000012501%\t{'1936'}\n",
            "\n",
            "\n"
          ],
          "name": "stdout"
        }
      ]
    },
    {
      "metadata": {
        "id": "_FYCrxS0jF5k",
        "colab_type": "code",
        "outputId": "23b2ac10-1a1b-47c3-d779-8ea29b7e58f7",
        "colab": {
          "base_uri": "https://localhost:8080/",
          "height": 478
        }
      },
      "cell_type": "code",
      "source": [
        "import pandas as pd\n",
        "\n",
        "df = pd.DataFrame({\n",
        "    \"NER\":[\"Polyglot\",\"GATE\",\"Spacy\",\"NLTK\",\"Allen\",\"Stanford (7 class)\",\"Stanford (3 class)\",\"Stanford (4 class)\"] *3,\n",
        "    \"Entity type\":[\"People\"] *8 + [\"Locations\"] *8 + [\"Dates\"]*8,\n",
        "    \"F1 score\":[f1_poly_ppl, f1_gate_ppl, f1_spacy_ppl, f1_nltk_ppl, f1_allen_ppl,f1_stanford_ppl3,f1_stanford_ppl1,f1_stanford_ppl2, f1_poly_loc, f1_gate_loc, f1_spacy_loc, f1_nltk_loc, f1_allen_loc, f1_stanford_loc3,f1_stanford_loc1,f1_stanford_loc2,  f1_poly_dts, f1_gate_dts, f1_spacy_dts, f1_nltk_dts,  f1_allen_dts, f1_stanford_dts3,f1_stanford_dts1,f1_stanford_dts2],\n",
        "})\n",
        "\n",
        "\n",
        "import seaborn as sns\n",
        "sns.factorplot(x='F1 score',y='NER', hue='Entity type', data=df, kind='bar')"
      ],
      "execution_count": 59,
      "outputs": [
        {
          "output_type": "stream",
          "text": [
            "/usr/local/lib/python3.6/dist-packages/seaborn/categorical.py:1468: FutureWarning: remove_na is deprecated and is a private function. Do not use.\n",
            "  stat_data = remove_na(group_data[hue_mask])\n"
          ],
          "name": "stderr"
        },
        {
          "output_type": "execute_result",
          "data": {
            "text/plain": [
              "<seaborn.axisgrid.FacetGrid at 0x7fbdad6eb390>"
            ]
          },
          "metadata": {
            "tags": []
          },
          "execution_count": 59
        },
        {
          "output_type": "display_data",
          "data": {
            "image/png": "[encoded data removed]",
            "text/plain": [
              "<Figure size 516.25x400 with 1 Axes>"
            ]
          },
          "metadata": {
            "tags": []
          }
        }
      ]
    }
  ]
}