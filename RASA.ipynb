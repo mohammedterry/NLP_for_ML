{
  "nbformat": 4,
  "nbformat_minor": 0,
  "metadata": {
    "colab": {
      "name": "RASA.ipynb",
      "version": "0.3.2",
      "provenance": [],
      "collapsed_sections": [],
      "include_colab_link": true
    },
    "kernelspec": {
      "name": "python3",
      "display_name": "Python 3"
    }
  },
  "cells": [
    {
      "cell_type": "markdown",
      "metadata": {
        "id": "view-in-github",
        "colab_type": "text"
      },
      "source": [
        "<a href=\"https://colab.research.google.com/github/mohammedterry/NLP_for_ML/blob/master/RASA.ipynb\" target=\"_parent\"><img src=\"https://colab.research.google.com/assets/colab-badge.svg\" alt=\"Open In Colab\"/></a>"
      ]
    },
    {
      "cell_type": "markdown",
      "metadata": {
        "id": "mwBet9TtnRCR",
        "colab_type": "text"
      },
      "source": [
        "# Rasa Tutorial: The Basics"
      ]
    },
    {
      "cell_type": "markdown",
      "metadata": {
        "id": "RrOZ07fWEf7Y",
        "colab_type": "text"
      },
      "source": [
        "### Install Dependencies"
      ]
    },
    {
      "cell_type": "code",
      "metadata": {
        "id": "DsJE7da66oef",
        "colab_type": "code",
        "colab": {}
      },
      "source": [
        "!pip3 install git+https://github.com/mit-nlp/MITIE.git\n",
        "!pip3 install rasa_nlu[mitie]\n",
        "!pip3 install rasa_core==0.9.6\n",
        "!wget https://github.com/mit-nlp/MITIE/releases/download/v0.4/MITIE-models-v0.2.tar.bz2\n",
        "!tar jxf MITIE-models-v0.2.tar.bz2"
      ],
      "execution_count": 0,
      "outputs": []
    },
    {
      "cell_type": "markdown",
      "metadata": {
        "id": "dv-mVlSNCilv",
        "colab_type": "text"
      },
      "source": [
        "# 1. Rasa NLU: Interpreters \n",
        "## (User) Utterances -> (User) Intents & Entities"
      ]
    },
    {
      "cell_type": "markdown",
      "metadata": {
        "id": "EPdNzQTmBXv8",
        "colab_type": "text"
      },
      "source": [
        "### 1.a. Configure Interpreter Pipeline"
      ]
    },
    {
      "cell_type": "code",
      "metadata": {
        "id": "M8-LV-7L5QZO",
        "colab_type": "code",
        "colab": {}
      },
      "source": [
        "with open('interpreter.yml','w') as f:\n",
        "  f.write('''\n",
        "  language: \"en\"\n",
        "\n",
        "  pipeline:\n",
        "  - name: \"nlp_mitie\"\n",
        "    model: \"MITIE-models/english/total_word_feature_extractor.dat\"\n",
        "  - name: \"tokenizer_mitie\"\n",
        "  - name: \"ner_mitie\"\n",
        "  - name: \"ner_synonyms\"\n",
        "  - name: \"intent_entity_featurizer_regex\"\n",
        "  - name: \"intent_featurizer_mitie\"\n",
        "  - name: \"intent_classifier_sklearn\"\n",
        "  ''')"
      ],
      "execution_count": 0,
      "outputs": []
    },
    {
      "cell_type": "markdown",
      "metadata": {
        "id": "KSnVdUG5BNlv",
        "colab_type": "text"
      },
      "source": [
        "### 1.b. Prepare Interpreter Training Data\n",
        "\n",
        "Format:\n",
        "\n",
        "''##intent: intent_label\"\n",
        "\n",
        "\"-example utterance for intent \"\n",
        "\n",
        "\"-another example utterance with an [entity] (entity_label)\""
      ]
    },
    {
      "cell_type": "code",
      "metadata": {
        "id": "0QP0Fk_C9BfQ",
        "colab_type": "code",
        "colab": {}
      },
      "source": [
        "with open('interpreter_dataset.md','w') as f:\n",
        "  f.write('''\n",
        "  \n",
        "  ## intent:intent_bye \n",
        "  - Bye \t\t\t\n",
        "  - Goodbye\n",
        "  - See you later\n",
        "  - gotta go\n",
        "  - See you\n",
        "  - i'm off\n",
        "\n",
        "  ## intent:intent_greet\n",
        "  - Hi\n",
        "  - Hey\n",
        "  - Hello\n",
        "  - Good morning\n",
        "  - hi there\n",
        "  - greetings\n",
        "\n",
        "  ## intent:intent_thank\n",
        "  - Thanks\n",
        "  - Thank you\n",
        "  - cheers\n",
        "  - thanks a lot\n",
        "  - cool thank you\n",
        "\n",
        "  ## intent:intent_yes\n",
        "  - yes\n",
        "  - yeah\n",
        "  - sure\n",
        "  - absolutely\n",
        "  - yep\n",
        "\n",
        "  ## intent:intent_no\n",
        "  - no\n",
        "  - no way jose\n",
        "  - nope\n",
        "  - absolutely not\n",
        "  - i don't think so\n",
        "\n",
        "  ## intent:intent_name\n",
        "  - My name is [Alice](name)  \n",
        "  - I'm [Lucy](name)\n",
        "  - I am [Richard](name)\n",
        "  - Call me [Sally](name)\n",
        "  \n",
        "  ## intent:intent_question\n",
        "  - I have a question about [robots](topic)\n",
        "  - Can i ask you something\n",
        "  - What's [AI](topic) all about anyway\n",
        "  - Can you help me understand what an [LSTM](topic) is?\n",
        "  - I need to ask someone about something\n",
        "  - can you help me understand [the difference between a CNN and an RNN](topic)?\n",
        " \n",
        "  ''')"
      ],
      "execution_count": 0,
      "outputs": []
    },
    {
      "cell_type": "markdown",
      "metadata": {
        "id": "lG2RtxCxCAmX",
        "colab_type": "text"
      },
      "source": [
        "### 1.c. Train the Interpreter"
      ]
    },
    {
      "cell_type": "code",
      "metadata": {
        "id": "DVGgJ-1fBwTQ",
        "colab_type": "code",
        "outputId": "c0a4ebf1-2379-4496-c7ec-f96b395765f2",
        "colab": {
          "base_uri": "https://localhost:8080/",
          "height": 1868
        }
      },
      "source": [
        "!python3 -m rasa_nlu.train -c interpreter.yml -d interpreter_dataset.md -o models --fixed_model_name interpreter --verbose"
      ],
      "execution_count": 61,
      "outputs": [
        {
          "output_type": "stream",
          "text": [
            "2019-05-07 17:04:22 \u001b[1;30mINFO    \u001b[0m \u001b[34mrasa_nlu.components\u001b[0m  - Added 'nlp_mitie' to component cache. Key 'nlp_mitie-/content/MITIE-models/english/total_word_feature_extractor.dat'.\n",
            "2019-05-07 17:04:22 \u001b[1;30mINFO    \u001b[0m \u001b[34mrasa_nlu.training_data.loading\u001b[0m  - Training data format of interpreter_dataset.md is md\n",
            "2019-05-07 17:04:22 \u001b[1;30mINFO    \u001b[0m \u001b[34mrasa_nlu.training_data.training_data\u001b[0m  - Training data stats: \n",
            "\t- intent examples: 37 (7 distinct intents)\n",
            "\t- Found intents: 'intent_thank', 'intent_question', 'intent_no', 'intent_name', 'intent_yes', 'intent_greet', 'intent_bye'\n",
            "\t- entity examples: 8 (2 distinct entities)\n",
            "\t- found entities: 'name', 'topic'\n",
            "\n",
            "2019-05-07 17:04:22 \u001b[1;30mINFO    \u001b[0m \u001b[34mrasa_nlu.model\u001b[0m  - Starting to train component nlp_mitie\n",
            "2019-05-07 17:04:22 \u001b[1;30mINFO    \u001b[0m \u001b[34mrasa_nlu.model\u001b[0m  - Finished training component.\n",
            "2019-05-07 17:04:22 \u001b[1;30mINFO    \u001b[0m \u001b[34mrasa_nlu.model\u001b[0m  - Starting to train component tokenizer_mitie\n",
            "2019-05-07 17:04:22 \u001b[1;30mINFO    \u001b[0m \u001b[34mrasa_nlu.model\u001b[0m  - Finished training component.\n",
            "2019-05-07 17:04:22 \u001b[1;30mINFO    \u001b[0m \u001b[34mrasa_nlu.model\u001b[0m  - Starting to train component ner_mitie\n",
            "Training to recognize 2 labels: 'name', 'topic'\n",
            "Part I: train segmenter\n",
            "words in dictionary: 200000\n",
            "num features: 271\n",
            "now do training\n",
            "C:           20\n",
            "epsilon:     0.01\n",
            "num threads: 1\n",
            "cache size:  5\n",
            "max iterations: 2000\n",
            "loss per missed segment:  3\n",
            "C: 20   loss: 3 \t0.75\n",
            "C: 35   loss: 3 \t0.75\n",
            "C: 20   loss: 4.5 \t0.75\n",
            "C: 5   loss: 3 \t0.75\n",
            "C: 20   loss: 1.5 \t0.625\n",
            "C: 20   loss: 3.75 \t0.75\n",
            "C: 20   loss: 3.375 \t0.75\n",
            "C: 21.5   loss: 3 \t0.75\n",
            "C: 20   loss: 3.1875 \t0.75\n",
            "C: 18.5   loss: 3 \t0.75\n",
            "C: 20   loss: 3.09375 \t0.75\n",
            "C: 20   loss: 2.9 \t0.75\n",
            "C: 20   loss: 3.1 \t0.75\n",
            "C: 20   loss: 3.025 \t0.75\n",
            "best C: 20\n",
            "best loss: 3\n",
            "num feats in chunker model: 4095\n",
            "train: precision, recall, f1-score: 1 1 1 \n",
            "Part I: elapsed time: 3 seconds.\n",
            "\n",
            "Part II: train segment classifier\n",
            "now do training\n",
            "num training samples: 8\n",
            "C: 200   f-score: 0.5\n",
            "C: 400   f-score: 0.5\n",
            "C: 300   f-score: 0.5\n",
            "C: 100   f-score: 0.5\n",
            "C: 0.01   f-score: 0.75\n",
            "C: 50.005   f-score: 0.5\n",
            "C: 25.0075   f-score: 0.5\n",
            "C: 12.5088   f-score: 0.5\n",
            "C: 6.25938   f-score: 0.5\n",
            "C: 3.13469   f-score: 0.5\n",
            "C: 1.57234   f-score: 0.5\n",
            "C: 0.791172   f-score: 0.5\n",
            "C: 0.400586   f-score: 0.5\n",
            "best C: 0.01\n",
            "test on train: \n",
            "4 0 \n",
            "0 4 \n",
            "\n",
            "overall accuracy: 1\n",
            "Part II: elapsed time: 3 seconds.\n",
            "df.number_of_classes(): 2\n",
            "2019-05-07 17:04:32 \u001b[1;30mINFO    \u001b[0m \u001b[34mrasa_nlu.model\u001b[0m  - Finished training component.\n",
            "2019-05-07 17:04:32 \u001b[1;30mINFO    \u001b[0m \u001b[34mrasa_nlu.model\u001b[0m  - Starting to train component ner_synonyms\n",
            "2019-05-07 17:04:32 \u001b[1;30mINFO    \u001b[0m \u001b[34mrasa_nlu.model\u001b[0m  - Finished training component.\n",
            "2019-05-07 17:04:32 \u001b[1;30mINFO    \u001b[0m \u001b[34mrasa_nlu.model\u001b[0m  - Starting to train component intent_entity_featurizer_regex\n",
            "2019-05-07 17:04:32 \u001b[1;30mINFO    \u001b[0m \u001b[34mrasa_nlu.model\u001b[0m  - Finished training component.\n",
            "2019-05-07 17:04:32 \u001b[1;30mINFO    \u001b[0m \u001b[34mrasa_nlu.model\u001b[0m  - Starting to train component intent_featurizer_mitie\n",
            "2019-05-07 17:04:32 \u001b[1;30mINFO    \u001b[0m \u001b[34mrasa_nlu.model\u001b[0m  - Finished training component.\n",
            "2019-05-07 17:04:32 \u001b[1;30mINFO    \u001b[0m \u001b[34mrasa_nlu.model\u001b[0m  - Starting to train component intent_classifier_sklearn\n",
            "Fitting 2 folds for each of 6 candidates, totalling 12 fits\n",
            "[Parallel(n_jobs=1)]: Using backend SequentialBackend with 1 concurrent workers.\n",
            "/usr/local/lib/python3.6/dist-packages/sklearn/metrics/classification.py:1143: UndefinedMetricWarning: F-score is ill-defined and being set to 0.0 in labels with no predicted samples.\n",
            "  'precision', 'predicted', average, warn_for)\n",
            "/usr/local/lib/python3.6/dist-packages/sklearn/metrics/classification.py:1143: UndefinedMetricWarning: F-score is ill-defined and being set to 0.0 in labels with no predicted samples.\n",
            "  'precision', 'predicted', average, warn_for)\n",
            "/usr/local/lib/python3.6/dist-packages/sklearn/metrics/classification.py:1143: UndefinedMetricWarning: F-score is ill-defined and being set to 0.0 in labels with no predicted samples.\n",
            "  'precision', 'predicted', average, warn_for)\n",
            "/usr/local/lib/python3.6/dist-packages/sklearn/metrics/classification.py:1143: UndefinedMetricWarning: F-score is ill-defined and being set to 0.0 in labels with no predicted samples.\n",
            "  'precision', 'predicted', average, warn_for)\n",
            "/usr/local/lib/python3.6/dist-packages/sklearn/metrics/classification.py:1143: UndefinedMetricWarning: F-score is ill-defined and being set to 0.0 in labels with no predicted samples.\n",
            "  'precision', 'predicted', average, warn_for)\n",
            "/usr/local/lib/python3.6/dist-packages/sklearn/metrics/classification.py:1143: UndefinedMetricWarning: F-score is ill-defined and being set to 0.0 in labels with no predicted samples.\n",
            "  'precision', 'predicted', average, warn_for)\n",
            "/usr/local/lib/python3.6/dist-packages/sklearn/metrics/classification.py:1143: UndefinedMetricWarning: F-score is ill-defined and being set to 0.0 in labels with no predicted samples.\n",
            "  'precision', 'predicted', average, warn_for)\n",
            "/usr/local/lib/python3.6/dist-packages/sklearn/metrics/classification.py:1143: UndefinedMetricWarning: F-score is ill-defined and being set to 0.0 in labels with no predicted samples.\n",
            "  'precision', 'predicted', average, warn_for)\n",
            "/usr/local/lib/python3.6/dist-packages/sklearn/metrics/classification.py:1143: UndefinedMetricWarning: F-score is ill-defined and being set to 0.0 in labels with no predicted samples.\n",
            "  'precision', 'predicted', average, warn_for)\n",
            "/usr/local/lib/python3.6/dist-packages/sklearn/metrics/classification.py:1143: UndefinedMetricWarning: F-score is ill-defined and being set to 0.0 in labels with no predicted samples.\n",
            "  'precision', 'predicted', average, warn_for)\n",
            "/usr/local/lib/python3.6/dist-packages/sklearn/metrics/classification.py:1143: UndefinedMetricWarning: F-score is ill-defined and being set to 0.0 in labels with no predicted samples.\n",
            "  'precision', 'predicted', average, warn_for)\n",
            "/usr/local/lib/python3.6/dist-packages/sklearn/metrics/classification.py:1143: UndefinedMetricWarning: F-score is ill-defined and being set to 0.0 in labels with no predicted samples.\n",
            "  'precision', 'predicted', average, warn_for)\n",
            "[Parallel(n_jobs=1)]: Done  12 out of  12 | elapsed:    0.1s finished\n",
            "2019-05-07 17:04:32 \u001b[1;30mINFO    \u001b[0m \u001b[34mrasa_nlu.model\u001b[0m  - Finished training component.\n",
            "2019-05-07 17:04:32 \u001b[1;30mINFO    \u001b[0m \u001b[34mrasa_nlu.model\u001b[0m  - Successfully saved model into '/content/models/default/interpreter'\n",
            "2019-05-07 17:04:33 \u001b[1;30mINFO    \u001b[0m \u001b[34m__main__\u001b[0m  - Finished training\n"
          ],
          "name": "stdout"
        }
      ]
    },
    {
      "cell_type": "markdown",
      "metadata": {
        "id": "kilcZfTACKFa",
        "colab_type": "text"
      },
      "source": [
        "### 1.d. Test the Interpreter"
      ]
    },
    {
      "cell_type": "code",
      "metadata": {
        "id": "ad10X6WM-d3T",
        "colab_type": "code",
        "colab": {}
      },
      "source": [
        "from rasa_core.interpreter import RasaNLUInterpreter\n",
        "interpreter = RasaNLUInterpreter('models/default/interpreter')"
      ],
      "execution_count": 0,
      "outputs": []
    },
    {
      "cell_type": "code",
      "metadata": {
        "id": "Zis6aKq6qgBy",
        "colab_type": "code",
        "colab": {
          "base_uri": "https://localhost:8080/",
          "height": 397
        },
        "outputId": "cb621547-88d3-489a-b596-e16171055acf"
      },
      "source": [
        "interpreter.parse(input())"
      ],
      "execution_count": 63,
      "outputs": [
        {
          "output_type": "stream",
          "text": [
            "my name is Mohammed\n"
          ],
          "name": "stdout"
        },
        {
          "output_type": "execute_result",
          "data": {
            "text/plain": [
              "{'entities': [{'confidence': None,\n",
              "   'end': 7,\n",
              "   'entity': 'topic',\n",
              "   'extractor': 'ner_mitie',\n",
              "   'start': 3,\n",
              "   'value': 'name'},\n",
              "  {'confidence': None,\n",
              "   'end': 19,\n",
              "   'entity': 'name',\n",
              "   'extractor': 'ner_mitie',\n",
              "   'start': 11,\n",
              "   'value': 'Mohammed'}],\n",
              " 'intent': {'confidence': 0.19057546974538978, 'name': 'intent_name'},\n",
              " 'intent_ranking': [{'confidence': 0.19057546974538978, 'name': 'intent_name'},\n",
              "  {'confidence': 0.18999902425884263, 'name': 'intent_bye'},\n",
              "  {'confidence': 0.16306338534782516, 'name': 'intent_question'},\n",
              "  {'confidence': 0.14167062945137399, 'name': 'intent_no'},\n",
              "  {'confidence': 0.13837872828572317, 'name': 'intent_greet'},\n",
              "  {'confidence': 0.09133066232400461, 'name': 'intent_thank'},\n",
              "  {'confidence': 0.08498210058684068, 'name': 'intent_yes'}],\n",
              " 'text': 'my name is Mohammed'}"
            ]
          },
          "metadata": {
            "tags": []
          },
          "execution_count": 63
        }
      ]
    },
    {
      "cell_type": "markdown",
      "metadata": {
        "id": "N8D_FAMyCeFe",
        "colab_type": "text"
      },
      "source": [
        "# 2. Rasa Core: Policies \n",
        "## (User) Intents -> (Bot) Utterances & Actions"
      ]
    },
    {
      "cell_type": "markdown",
      "metadata": {
        "id": "59QKBmg-H5an",
        "colab_type": "text"
      },
      "source": [
        "### 2.a. Configure Policy Pipeline\n"
      ]
    },
    {
      "cell_type": "code",
      "metadata": {
        "id": "pr3FcGrz6T21",
        "colab_type": "code",
        "colab": {}
      },
      "source": [
        "with open(\"policies.yml\",'w') as f:\n",
        "  f.write('''\n",
        "    policies:\n",
        "    - name: KerasPolicy\n",
        "      epochs: 100\n",
        "      max_history: 5\n",
        "    - name: FallbackPolicy\n",
        "      fallback_action_name: 'action_default_fallback'\n",
        "    - name: MemoizationPolicy\n",
        "      max_history: 5\n",
        "    - name: FormPolicy\n",
        "    - name: MappingPolicy\n",
        "''')"
      ],
      "execution_count": 0,
      "outputs": []
    },
    {
      "cell_type": "markdown",
      "metadata": {
        "id": "R7qo4nskDgPj",
        "colab_type": "text"
      },
      "source": [
        "### 2.b. Define the Bot's Utterances"
      ]
    },
    {
      "cell_type": "code",
      "metadata": {
        "id": "WDPKiV-l3Dad",
        "colab_type": "code",
        "colab": {}
      },
      "source": [
        "with open('domain.yml','w') as f:\n",
        "  f.write('''\n",
        "  \n",
        "  intents:\n",
        "  - intent_greet\n",
        "  - intent_bye\n",
        "  - intent_thank\n",
        "  - intent_yes\n",
        "  - intent_no\n",
        "  - intent_name\n",
        "  - intent_question\n",
        "\n",
        "  entities:\n",
        "  - name\n",
        "  - topic\n",
        "\n",
        "  slots:\n",
        "    name:\n",
        "      type: text\n",
        "\n",
        "  actions:\n",
        "  - utter_name\n",
        "  - utter_thank\n",
        "  - utter_greet\n",
        "  - utter_salaam\n",
        "  - utter_bye\n",
        "  - utter_sorry\n",
        "  - utter_confusion\n",
        "  - utter_expertNetwork\n",
        "\n",
        "  templates:\n",
        "    utter_greet:\n",
        "    - \"Hiya\"\n",
        "    - \"hello\"\n",
        "    - \"Howdy\"\n",
        "    \n",
        "    utter_name:\n",
        "    - text: \"What's your name?\"\n",
        "    - text: \"My name is Ash. What can I call you?\"\n",
        "\n",
        "    utter_greet:\n",
        "    - text: \"Nice to you meet you {name}. How can I help?\"\n",
        "    - text: \"Lovely to meet you {name}\"\n",
        "    - text: \"Pleased to meet you {name}\"\n",
        "    - text: \"Hi {name}. A pleasure meeting you\"\n",
        "    \n",
        "    utter_salaam:\n",
        "    - text: \"Al-salamu 'alaykum {name}\"\n",
        "    - text: \"Salaam {name}\"\n",
        "    - text: \"Peace be upon you {name}\"\n",
        "    \n",
        "    utter_bye:\n",
        "    - text: \"Talk to you later!\"\n",
        "    - text: \"Bye\"\n",
        "    - text: \"Good bye\"\n",
        "    - text: \"Come back soon\"\n",
        "\n",
        "    utter_thank:\n",
        "    - text: \"My pleasure.\"\n",
        "    - text: \"Most welcome\"\n",
        "    - text: \"Don't mention it\"\n",
        "    \n",
        "    utter_sorry:\n",
        "    - text: \"I'm sorry\"\n",
        "    - text: \"Sorry\"\n",
        "    - text: \"forgive me\"\n",
        "    \n",
        "    utter_confusion:\n",
        "    - text: \"I don't know\"\n",
        "    - text: \"I'm not sure\"\n",
        "    - text: \"me no understand\"\n",
        "    \n",
        "    utter_expertNetwork:\n",
        "    - text: \"Interesting!  Lets see if someone in our network knows about {topic} ...\"\n",
        "      image: \"https://s3.eu-west-2.amazonaws.com/cognitionx-assets/images/Cx_logo_Monogram_square.png\"\n",
        "    - text: \"Let me connect you with our network of experts ...\"\n",
        "      image: \"https://s3.eu-west-2.amazonaws.com/cognitionx-assets/images/Cx_logo_Monogram_square.png\"\n",
        "    - text: \"sure, I'll connect you to an expert now ...\"\n",
        "      image: \"https://s3.eu-west-2.amazonaws.com/cognitionx-assets/images/Cx_logo_Monogram_square.png\"\n",
        "    \n",
        "  ''')"
      ],
      "execution_count": 0,
      "outputs": []
    },
    {
      "cell_type": "markdown",
      "metadata": {
        "id": "okfJTbthBU1j",
        "colab_type": "text"
      },
      "source": [
        "### 2.c Prepare Policy Training Data\n",
        "\n",
        "Format:\n",
        "\n",
        "\"## story_name\"\n",
        "\n",
        "\"* intent {\"entity_label\":\"entity_value\"}\"\n",
        "\n",
        "\"   -   uterrance_or_action\"\n",
        "\n",
        "\"   -   utterance_or_action\""
      ]
    },
    {
      "cell_type": "code",
      "metadata": {
        "id": "0ZET6kYcB2Ot",
        "colab_type": "code",
        "colab": {}
      },
      "source": [
        "with open('policy_dataset.md','w') as f:\n",
        "  f.write('''\n",
        "  \n",
        "  ## story_greet \n",
        "  * intent_greet \n",
        "   - utter_greet\n",
        "   - utter_name \n",
        "   \n",
        "  ## story_bye\n",
        "  * intent_bye\n",
        "   - utter_bye\n",
        "  \n",
        "  ## story_no\n",
        "  * intent_no\n",
        "   - utter_sorry\n",
        "\n",
        "  ## story_thank\n",
        "  * intent_thank OR intent_yes\n",
        "   - utter_thank\n",
        "\n",
        "  ## story_AIquestion\n",
        "  * intent_question{\"topic\":\"AI\"}\n",
        "   - utter_expertNetwork\n",
        "\n",
        "  ## story_otherquestion\n",
        "  * intent_question\n",
        "   - utter_sorry\n",
        "   - utter_confusion\n",
        "\n",
        "  ## story_name\n",
        "  * intent_name\n",
        "   - utter_greet\n",
        "   \n",
        "  ## story_name\n",
        "  * intent_name{\"name\":\"Mohammed\"}\n",
        "   - utter_salaam\n",
        "   \n",
        "  ''')"
      ],
      "execution_count": 0,
      "outputs": []
    },
    {
      "cell_type": "markdown",
      "metadata": {
        "id": "SFA-2nq4CRBN",
        "colab_type": "text"
      },
      "source": [
        "### 2.d. Train the Policy"
      ]
    },
    {
      "cell_type": "code",
      "metadata": {
        "id": "pOfpAONzy2A6",
        "colab_type": "code",
        "outputId": "23a0f049-f53a-4c1b-fd42-3307b31fa485",
        "colab": {
          "base_uri": "https://localhost:8080/",
          "height": 4131
        }
      },
      "source": [
        "!python3 -m rasa_core.train -d domain.yml -s policy_dataset.md -o models/dialogue"
      ],
      "execution_count": 69,
      "outputs": [
        {
          "output_type": "stream",
          "text": [
            "Using TensorFlow backend.\n",
            "/usr/local/lib/python3.6/dist-packages/ruamel/yaml/constructor.py:283: DuplicateKeyFutureWarning: while constructing a mapping\n",
            "  in \"domain.yml\", line 31, column 5\n",
            "found duplicate key \"utter_greet\" with value \"[]\" (original value: \"[]\")\n",
            "  in \"domain.yml\", line 40, column 5\n",
            "\n",
            "To suppress this check see:\n",
            "    http://yaml.readthedocs.io/en/latest/api.html#duplicate-keys\n",
            "\n",
            "Duplicate keys will become an error in future releases, and are errors\n",
            "by default when using the new API.\n",
            "\n",
            "  warnings.warn(DuplicateKeyFutureWarning(*args))\n",
            "Processed Story Blocks: 100% 10/10 [00:00<00:00, 4632.54it/s, # trackers=1]\n",
            "Processed Story Blocks: 100% 10/10 [00:00<00:00, 866.79it/s, # trackers=9]\n",
            "Processed Story Blocks: 100% 10/10 [00:00<00:00, 203.05it/s, # trackers=43]\n",
            "Processed Story Blocks: 100% 10/10 [00:00<00:00, 69.61it/s, # trackers=31]\n",
            "Processed trackers: 100% 692/692 [00:00<00:00, 860.96it/s, # actions=329]\n",
            "Processed actions: 329it [00:00, 7869.96it/s, # examples=329]\n",
            "Processed trackers: 100% 692/692 [00:00<00:00, 967.67it/s, # actions=329]\n",
            "_________________________________________________________________\n",
            "Layer (type)                 Output Shape              Param #   \n",
            "=================================================================\n",
            "masking_1 (Masking)          (None, 3, 20)             0         \n",
            "_________________________________________________________________\n",
            "lstm_1 (LSTM)                (None, 32)                6784      \n",
            "_________________________________________________________________\n",
            "dense_1 (Dense)              (None, 10)                330       \n",
            "_________________________________________________________________\n",
            "activation_1 (Activation)    (None, 10)                0         \n",
            "=================================================================\n",
            "Total params: 7,114\n",
            "Trainable params: 7,114\n",
            "Non-trainable params: 0\n",
            "_________________________________________________________________\n",
            "Train on 296 samples, validate on 33 samples\n",
            "Epoch 1/100\n",
            "2019-05-07 17:06:33.259769: I tensorflow/core/platform/cpu_feature_guard.cc:140] Your CPU supports instructions that this TensorFlow binary was not compiled to use: AVX2 FMA\n",
            "296/296 [==============================] - 1s 2ms/step - loss: 2.1967 - acc: 0.3953 - val_loss: 2.1623 - val_acc: 0.2727\n",
            "Epoch 2/100\n",
            "296/296 [==============================] - 0s 200us/step - loss: 2.0909 - acc: 0.4122 - val_loss: 2.1037 - val_acc: 0.2727\n",
            "Epoch 3/100\n",
            "296/296 [==============================] - 0s 212us/step - loss: 2.0078 - acc: 0.4122 - val_loss: 2.0613 - val_acc: 0.2727\n",
            "Epoch 4/100\n",
            "296/296 [==============================] - 0s 168us/step - loss: 1.9427 - acc: 0.4122 - val_loss: 2.0375 - val_acc: 0.2727\n",
            "Epoch 5/100\n",
            "296/296 [==============================] - 0s 175us/step - loss: 1.8778 - acc: 0.4122 - val_loss: 2.0279 - val_acc: 0.2727\n",
            "Epoch 6/100\n",
            "296/296 [==============================] - 0s 167us/step - loss: 1.8575 - acc: 0.4122 - val_loss: 2.0173 - val_acc: 0.2727\n",
            "Epoch 7/100\n",
            "296/296 [==============================] - 0s 188us/step - loss: 1.8019 - acc: 0.4122 - val_loss: 2.0090 - val_acc: 0.2727\n",
            "Epoch 8/100\n",
            "296/296 [==============================] - 0s 184us/step - loss: 1.7790 - acc: 0.4122 - val_loss: 1.9990 - val_acc: 0.2727\n",
            "Epoch 9/100\n",
            "296/296 [==============================] - 0s 174us/step - loss: 1.7518 - acc: 0.4122 - val_loss: 1.9765 - val_acc: 0.2727\n",
            "Epoch 10/100\n",
            "296/296 [==============================] - 0s 176us/step - loss: 1.6946 - acc: 0.4122 - val_loss: 1.9643 - val_acc: 0.2727\n",
            "Epoch 11/100\n",
            "296/296 [==============================] - 0s 193us/step - loss: 1.6804 - acc: 0.4122 - val_loss: 1.9497 - val_acc: 0.2727\n",
            "Epoch 12/100\n",
            "296/296 [==============================] - 0s 180us/step - loss: 1.6352 - acc: 0.4122 - val_loss: 1.9207 - val_acc: 0.2727\n",
            "Epoch 13/100\n",
            "296/296 [==============================] - 0s 164us/step - loss: 1.6203 - acc: 0.4122 - val_loss: 1.8983 - val_acc: 0.2727\n",
            "Epoch 14/100\n",
            "296/296 [==============================] - 0s 166us/step - loss: 1.6108 - acc: 0.4122 - val_loss: 1.8743 - val_acc: 0.2727\n",
            "Epoch 15/100\n",
            "296/296 [==============================] - 0s 168us/step - loss: 1.5442 - acc: 0.4122 - val_loss: 1.8511 - val_acc: 0.2727\n",
            "Epoch 16/100\n",
            "296/296 [==============================] - 0s 185us/step - loss: 1.5217 - acc: 0.4122 - val_loss: 1.8096 - val_acc: 0.2727\n",
            "Epoch 17/100\n",
            "296/296 [==============================] - 0s 187us/step - loss: 1.4948 - acc: 0.4155 - val_loss: 1.7768 - val_acc: 0.2727\n",
            "Epoch 18/100\n",
            "296/296 [==============================] - 0s 177us/step - loss: 1.4310 - acc: 0.4426 - val_loss: 1.7202 - val_acc: 0.2727\n",
            "Epoch 19/100\n",
            "296/296 [==============================] - 0s 167us/step - loss: 1.4029 - acc: 0.4561 - val_loss: 1.6853 - val_acc: 0.2727\n",
            "Epoch 20/100\n",
            "296/296 [==============================] - 0s 175us/step - loss: 1.3797 - acc: 0.4696 - val_loss: 1.6320 - val_acc: 0.3030\n",
            "Epoch 21/100\n",
            "296/296 [==============================] - 0s 168us/step - loss: 1.3202 - acc: 0.4899 - val_loss: 1.5602 - val_acc: 0.3636\n",
            "Epoch 22/100\n",
            "296/296 [==============================] - 0s 195us/step - loss: 1.2368 - acc: 0.5169 - val_loss: 1.4994 - val_acc: 0.3636\n",
            "Epoch 23/100\n",
            "296/296 [==============================] - 0s 168us/step - loss: 1.1824 - acc: 0.5608 - val_loss: 1.4273 - val_acc: 0.3939\n",
            "Epoch 24/100\n",
            "296/296 [==============================] - 0s 168us/step - loss: 1.1032 - acc: 0.6419 - val_loss: 1.3577 - val_acc: 0.5152\n",
            "Epoch 25/100\n",
            "296/296 [==============================] - 0s 161us/step - loss: 1.0451 - acc: 0.7095 - val_loss: 1.2910 - val_acc: 0.5758\n",
            "Epoch 26/100\n",
            "296/296 [==============================] - 0s 189us/step - loss: 1.0034 - acc: 0.7365 - val_loss: 1.2333 - val_acc: 0.6364\n",
            "Epoch 27/100\n",
            "296/296 [==============================] - 0s 177us/step - loss: 0.9638 - acc: 0.7432 - val_loss: 1.1603 - val_acc: 0.6667\n",
            "Epoch 28/100\n",
            "296/296 [==============================] - 0s 175us/step - loss: 0.9022 - acc: 0.7601 - val_loss: 1.0980 - val_acc: 0.7273\n",
            "Epoch 29/100\n",
            "296/296 [==============================] - 0s 171us/step - loss: 0.8301 - acc: 0.8074 - val_loss: 1.0450 - val_acc: 0.7273\n",
            "Epoch 30/100\n",
            "296/296 [==============================] - 0s 172us/step - loss: 0.8251 - acc: 0.8108 - val_loss: 1.0002 - val_acc: 0.7273\n",
            "Epoch 31/100\n",
            "296/296 [==============================] - 0s 189us/step - loss: 0.7572 - acc: 0.8345 - val_loss: 0.9504 - val_acc: 0.7273\n",
            "Epoch 32/100\n",
            "296/296 [==============================] - 0s 217us/step - loss: 0.7517 - acc: 0.8480 - val_loss: 0.8990 - val_acc: 0.7576\n",
            "Epoch 33/100\n",
            "296/296 [==============================] - 0s 176us/step - loss: 0.6927 - acc: 0.8784 - val_loss: 0.8432 - val_acc: 0.7879\n",
            "Epoch 34/100\n",
            "296/296 [==============================] - 0s 170us/step - loss: 0.6931 - acc: 0.8716 - val_loss: 0.8195 - val_acc: 0.8182\n",
            "Epoch 35/100\n",
            "296/296 [==============================] - 0s 176us/step - loss: 0.6472 - acc: 0.8851 - val_loss: 0.7877 - val_acc: 0.8182\n",
            "Epoch 36/100\n",
            "296/296 [==============================] - 0s 193us/step - loss: 0.6195 - acc: 0.8851 - val_loss: 0.7478 - val_acc: 0.8485\n",
            "Epoch 37/100\n",
            "296/296 [==============================] - 0s 181us/step - loss: 0.6059 - acc: 0.8750 - val_loss: 0.7040 - val_acc: 0.8485\n",
            "Epoch 38/100\n",
            "296/296 [==============================] - 0s 177us/step - loss: 0.5769 - acc: 0.8986 - val_loss: 0.6720 - val_acc: 0.8485\n",
            "Epoch 39/100\n",
            "296/296 [==============================] - 0s 191us/step - loss: 0.5435 - acc: 0.9088 - val_loss: 0.6418 - val_acc: 0.8485\n",
            "Epoch 40/100\n",
            "296/296 [==============================] - 0s 177us/step - loss: 0.5083 - acc: 0.8986 - val_loss: 0.6046 - val_acc: 0.8485\n",
            "Epoch 41/100\n",
            "296/296 [==============================] - 0s 169us/step - loss: 0.5321 - acc: 0.8851 - val_loss: 0.5698 - val_acc: 0.8485\n",
            "Epoch 42/100\n",
            "296/296 [==============================] - 0s 170us/step - loss: 0.4597 - acc: 0.9088 - val_loss: 0.5402 - val_acc: 0.8485\n",
            "Epoch 43/100\n",
            "296/296 [==============================] - 0s 209us/step - loss: 0.4422 - acc: 0.9257 - val_loss: 0.5338 - val_acc: 0.8485\n",
            "Epoch 44/100\n",
            "296/296 [==============================] - 0s 175us/step - loss: 0.4443 - acc: 0.9020 - val_loss: 0.4903 - val_acc: 0.8485\n",
            "Epoch 45/100\n",
            "296/296 [==============================] - 0s 179us/step - loss: 0.4143 - acc: 0.9291 - val_loss: 0.4746 - val_acc: 0.8485\n",
            "Epoch 46/100\n",
            "296/296 [==============================] - 0s 173us/step - loss: 0.4107 - acc: 0.9223 - val_loss: 0.4385 - val_acc: 0.8485\n",
            "Epoch 47/100\n",
            "296/296 [==============================] - 0s 195us/step - loss: 0.3922 - acc: 0.9426 - val_loss: 0.4280 - val_acc: 0.8485\n",
            "Epoch 48/100\n",
            "296/296 [==============================] - 0s 176us/step - loss: 0.3853 - acc: 0.9223 - val_loss: 0.4120 - val_acc: 0.8485\n",
            "Epoch 49/100\n",
            "296/296 [==============================] - 0s 180us/step - loss: 0.3566 - acc: 0.9459 - val_loss: 0.3889 - val_acc: 0.8485\n",
            "Epoch 50/100\n",
            "296/296 [==============================] - 0s 178us/step - loss: 0.3504 - acc: 0.9189 - val_loss: 0.3614 - val_acc: 0.8788\n",
            "Epoch 51/100\n",
            "296/296 [==============================] - 0s 175us/step - loss: 0.3110 - acc: 0.9493 - val_loss: 0.3385 - val_acc: 0.8788\n",
            "Epoch 52/100\n",
            "296/296 [==============================] - 0s 178us/step - loss: 0.3068 - acc: 0.9392 - val_loss: 0.3267 - val_acc: 0.8788\n",
            "Epoch 53/100\n",
            "296/296 [==============================] - 0s 196us/step - loss: 0.3201 - acc: 0.9189 - val_loss: 0.2933 - val_acc: 0.9394\n",
            "Epoch 54/100\n",
            "296/296 [==============================] - 0s 173us/step - loss: 0.3112 - acc: 0.9054 - val_loss: 0.2727 - val_acc: 0.9394\n",
            "Epoch 55/100\n",
            "296/296 [==============================] - 0s 174us/step - loss: 0.2983 - acc: 0.9426 - val_loss: 0.2695 - val_acc: 0.9394\n",
            "Epoch 56/100\n",
            "296/296 [==============================] - 0s 192us/step - loss: 0.3002 - acc: 0.9459 - val_loss: 0.2524 - val_acc: 0.9394\n",
            "Epoch 57/100\n",
            "296/296 [==============================] - 0s 184us/step - loss: 0.2683 - acc: 0.9493 - val_loss: 0.2354 - val_acc: 0.9697\n",
            "Epoch 58/100\n",
            "296/296 [==============================] - 0s 176us/step - loss: 0.2880 - acc: 0.9291 - val_loss: 0.2145 - val_acc: 0.9697\n",
            "Epoch 59/100\n",
            "296/296 [==============================] - 0s 171us/step - loss: 0.2650 - acc: 0.9392 - val_loss: 0.2007 - val_acc: 1.0000\n",
            "Epoch 60/100\n",
            "296/296 [==============================] - 0s 198us/step - loss: 0.2537 - acc: 0.9358 - val_loss: 0.2208 - val_acc: 0.9394\n",
            "Epoch 61/100\n",
            "296/296 [==============================] - 0s 169us/step - loss: 0.2355 - acc: 0.9493 - val_loss: 0.2140 - val_acc: 0.9394\n",
            "Epoch 62/100\n",
            "296/296 [==============================] - 0s 179us/step - loss: 0.2148 - acc: 0.9459 - val_loss: 0.1969 - val_acc: 0.9394\n",
            "Epoch 63/100\n",
            "296/296 [==============================] - 0s 167us/step - loss: 0.2317 - acc: 0.9426 - val_loss: 0.1926 - val_acc: 0.9394\n",
            "Epoch 64/100\n",
            "296/296 [==============================] - 0s 168us/step - loss: 0.1938 - acc: 0.9628 - val_loss: 0.2048 - val_acc: 0.9394\n",
            "Epoch 65/100\n",
            "296/296 [==============================] - 0s 169us/step - loss: 0.2563 - acc: 0.9291 - val_loss: 0.1497 - val_acc: 1.0000\n",
            "Epoch 66/100\n",
            "296/296 [==============================] - 0s 194us/step - loss: 0.2432 - acc: 0.9324 - val_loss: 0.1328 - val_acc: 1.0000\n",
            "Epoch 67/100\n",
            "296/296 [==============================] - 0s 165us/step - loss: 0.2131 - acc: 0.9493 - val_loss: 0.1291 - val_acc: 1.0000\n",
            "Epoch 68/100\n",
            "296/296 [==============================] - 0s 169us/step - loss: 0.2041 - acc: 0.9595 - val_loss: 0.1312 - val_acc: 1.0000\n",
            "Epoch 69/100\n",
            "296/296 [==============================] - 0s 164us/step - loss: 0.2133 - acc: 0.9493 - val_loss: 0.1297 - val_acc: 1.0000\n",
            "Epoch 70/100\n",
            "296/296 [==============================] - 0s 186us/step - loss: 0.2016 - acc: 0.9459 - val_loss: 0.1133 - val_acc: 1.0000\n",
            "Epoch 71/100\n",
            "296/296 [==============================] - 0s 167us/step - loss: 0.2070 - acc: 0.9392 - val_loss: 0.1188 - val_acc: 1.0000\n",
            "Epoch 72/100\n",
            "296/296 [==============================] - 0s 179us/step - loss: 0.2185 - acc: 0.9426 - val_loss: 0.1185 - val_acc: 1.0000\n",
            "Epoch 73/100\n",
            "296/296 [==============================] - 0s 170us/step - loss: 0.1720 - acc: 0.9628 - val_loss: 0.1221 - val_acc: 1.0000\n",
            "Epoch 74/100\n",
            "296/296 [==============================] - 0s 168us/step - loss: 0.2044 - acc: 0.9493 - val_loss: 0.0991 - val_acc: 1.0000\n",
            "Epoch 75/100\n",
            "296/296 [==============================] - 0s 172us/step - loss: 0.2055 - acc: 0.9493 - val_loss: 0.0963 - val_acc: 1.0000\n",
            "Epoch 76/100\n",
            "296/296 [==============================] - 0s 189us/step - loss: 0.1773 - acc: 0.9561 - val_loss: 0.0846 - val_acc: 1.0000\n",
            "Epoch 77/100\n",
            "296/296 [==============================] - 0s 174us/step - loss: 0.1530 - acc: 0.9662 - val_loss: 0.0755 - val_acc: 1.0000\n",
            "Epoch 78/100\n",
            "296/296 [==============================] - 0s 170us/step - loss: 0.1687 - acc: 0.9662 - val_loss: 0.0810 - val_acc: 1.0000\n",
            "Epoch 79/100\n",
            "296/296 [==============================] - 0s 166us/step - loss: 0.1894 - acc: 0.9595 - val_loss: 0.0733 - val_acc: 1.0000\n",
            "Epoch 80/100\n",
            "296/296 [==============================] - 0s 184us/step - loss: 0.1812 - acc: 0.9426 - val_loss: 0.0688 - val_acc: 1.0000\n",
            "Epoch 81/100\n",
            "296/296 [==============================] - 0s 180us/step - loss: 0.1940 - acc: 0.9324 - val_loss: 0.0618 - val_acc: 1.0000\n",
            "Epoch 82/100\n",
            "296/296 [==============================] - 0s 173us/step - loss: 0.1405 - acc: 0.9730 - val_loss: 0.0628 - val_acc: 1.0000\n",
            "Epoch 83/100\n",
            "296/296 [==============================] - 0s 177us/step - loss: 0.1440 - acc: 0.9595 - val_loss: 0.0644 - val_acc: 1.0000\n",
            "Epoch 84/100\n",
            "296/296 [==============================] - 0s 170us/step - loss: 0.1971 - acc: 0.9493 - val_loss: 0.0583 - val_acc: 1.0000\n",
            "Epoch 85/100\n",
            "296/296 [==============================] - 0s 195us/step - loss: 0.1431 - acc: 0.9628 - val_loss: 0.0624 - val_acc: 1.0000\n",
            "Epoch 86/100\n",
            "296/296 [==============================] - 0s 176us/step - loss: 0.2032 - acc: 0.9291 - val_loss: 0.0589 - val_acc: 1.0000\n",
            "Epoch 87/100\n",
            "296/296 [==============================] - 0s 168us/step - loss: 0.1344 - acc: 0.9628 - val_loss: 0.0587 - val_acc: 1.0000\n",
            "Epoch 88/100\n",
            "296/296 [==============================] - 0s 164us/step - loss: 0.1606 - acc: 0.9662 - val_loss: 0.0570 - val_acc: 1.0000\n",
            "Epoch 89/100\n",
            "296/296 [==============================] - 0s 187us/step - loss: 0.1686 - acc: 0.9628 - val_loss: 0.0475 - val_acc: 1.0000\n",
            "Epoch 90/100\n",
            "296/296 [==============================] - 0s 167us/step - loss: 0.1912 - acc: 0.9493 - val_loss: 0.0432 - val_acc: 1.0000\n",
            "Epoch 91/100\n",
            "296/296 [==============================] - 0s 183us/step - loss: 0.1731 - acc: 0.9595 - val_loss: 0.0475 - val_acc: 1.0000\n",
            "Epoch 92/100\n",
            "296/296 [==============================] - 0s 169us/step - loss: 0.1631 - acc: 0.9595 - val_loss: 0.0448 - val_acc: 1.0000\n",
            "Epoch 93/100\n",
            "296/296 [==============================] - 0s 168us/step - loss: 0.1653 - acc: 0.9662 - val_loss: 0.0453 - val_acc: 1.0000\n",
            "Epoch 94/100\n",
            "296/296 [==============================] - 0s 167us/step - loss: 0.1385 - acc: 0.9730 - val_loss: 0.0471 - val_acc: 1.0000\n",
            "Epoch 95/100\n",
            "296/296 [==============================] - 0s 191us/step - loss: 0.1275 - acc: 0.9696 - val_loss: 0.0386 - val_acc: 1.0000\n",
            "Epoch 96/100\n",
            "296/296 [==============================] - 0s 170us/step - loss: 0.1471 - acc: 0.9595 - val_loss: 0.0372 - val_acc: 1.0000\n",
            "Epoch 97/100\n",
            "296/296 [==============================] - 0s 165us/step - loss: 0.1424 - acc: 0.9730 - val_loss: 0.0349 - val_acc: 1.0000\n",
            "Epoch 98/100\n",
            "296/296 [==============================] - 0s 162us/step - loss: 0.1705 - acc: 0.9561 - val_loss: 0.0324 - val_acc: 1.0000\n",
            "Epoch 99/100\n",
            "296/296 [==============================] - 0s 195us/step - loss: 0.1524 - acc: 0.9628 - val_loss: 0.0334 - val_acc: 1.0000\n",
            "Epoch 100/100\n",
            "296/296 [==============================] - 0s 169us/step - loss: 0.1230 - acc: 0.9730 - val_loss: 0.0375 - val_acc: 1.0000\n"
          ],
          "name": "stdout"
        }
      ]
    },
    {
      "cell_type": "markdown",
      "metadata": {
        "id": "d40QZa3u62dl",
        "colab_type": "text"
      },
      "source": [
        "### 2.e Test the Policy"
      ]
    },
    {
      "cell_type": "code",
      "metadata": {
        "id": "hqZFMlVvMJj6",
        "colab_type": "code",
        "colab": {}
      },
      "source": [
        "from rasa_core.agent import Agent\n",
        "policy = Agent.load('models/dialogue', interpreter=interpreter)"
      ],
      "execution_count": 0,
      "outputs": []
    },
    {
      "cell_type": "code",
      "metadata": {
        "id": "sjgAEe7prN4z",
        "colab_type": "code",
        "colab": {
          "base_uri": "https://localhost:8080/",
          "height": 52
        },
        "outputId": "ff0bcb9b-ccc3-4647-b3ca-f16aeade4d1e"
      },
      "source": [
        "policy.handle_message(input())"
      ],
      "execution_count": 71,
      "outputs": [
        {
          "output_type": "stream",
          "text": [
            "my name is Mohammed\n"
          ],
          "name": "stdout"
        },
        {
          "output_type": "execute_result",
          "data": {
            "text/plain": [
              "[{'recipient_id': 'default', 'text': \"Al-salamu 'alaykum Mohammed\"}]"
            ]
          },
          "metadata": {
            "tags": []
          },
          "execution_count": 71
        }
      ]
    },
    {
      "cell_type": "markdown",
      "metadata": {
        "id": "5H7BN-tUrVrG",
        "colab_type": "text"
      },
      "source": [
        "# Let's chat with our Rasa Bot"
      ]
    },
    {
      "cell_type": "code",
      "metadata": {
        "id": "S-3s1jWy7UB4",
        "colab_type": "code",
        "colab": {}
      },
      "source": [
        "DEFAULT_URLS = [\"https://coubsecure-s.akamaihd.net/get/b54/p/coub/simple/cw_timeline_pic/7b2b17d8f24/15c695d0259a8b2231793/big_1518477107_image.jpg\",\n",
        "                \"https://i0.wp.com/i.ytimg.com/vi/iqhKSgOKUlM/maxresdefault.jpg\",\n",
        "                \"https://i.imgur.com/yX0HpCU.gif?noredirect\"]\n",
        "TEMPLATE_HTML = '''\n",
        "<div class=\"chat-window\"\n",
        "<p>{}<p>\n",
        "<img src = {} width=\"75\" height=\"75\"></img>\n",
        "</div>\n",
        "'''\n",
        "\n",
        "import IPython,random\n",
        "\n",
        "def chat():\n",
        "  while True: \n",
        "    user_utterance = input()\n",
        "    responses = policy.handle_message(user_utterance)\n",
        "    responses_html = ''.join([TEMPLATE_HTML.format('',response[\"text\"].split(\"Image:\")[-1]) if \"Image:\" in response[\"text\"] else TEMPLATE_HTML.format(response[\"text\"],random.choice(DEFAULT_URLS)) for response in responses])\n",
        "    IPython.display.display(IPython.display.HTML(responses_html))  \n",
        "    if user_utterance == \"bye\": \n",
        "      break"
      ],
      "execution_count": 0,
      "outputs": []
    },
    {
      "cell_type": "code",
      "metadata": {
        "id": "Ef4-VJseRCMo",
        "colab_type": "code",
        "colab": {
          "base_uri": "https://localhost:8080/",
          "height": 2955
        },
        "outputId": "6b4b260f-98f5-4771-b270-d4622c9b93dd"
      },
      "source": [
        "chat()"
      ],
      "execution_count": 73,
      "outputs": [
        {
          "output_type": "stream",
          "text": [
            "hi bot\n"
          ],
          "name": "stdout"
        },
        {
          "output_type": "display_data",
          "data": {
            "text/html": [
              "\n",
              "<div class=\"chat-window\"\n",
              "<p>Hi Mohammed. A pleasure meeting you<p>\n",
              "<img src = https://i0.wp.com/i.ytimg.com/vi/iqhKSgOKUlM/maxresdefault.jpg width=\"75\" height=\"75\"></img>\n",
              "</div>\n"
            ],
            "text/plain": [
              "<IPython.core.display.HTML object>"
            ]
          },
          "metadata": {
            "tags": []
          }
        },
        {
          "output_type": "stream",
          "text": [
            "what is your name\n"
          ],
          "name": "stdout"
        },
        {
          "output_type": "display_data",
          "data": {
            "text/html": [
              "\n",
              "<div class=\"chat-window\"\n",
              "<p>forgive me<p>\n",
              "<img src = https://i0.wp.com/i.ytimg.com/vi/iqhKSgOKUlM/maxresdefault.jpg width=\"75\" height=\"75\"></img>\n",
              "</div>\n",
              "\n",
              "<div class=\"chat-window\"\n",
              "<p>me no understand<p>\n",
              "<img src = https://i0.wp.com/i.ytimg.com/vi/iqhKSgOKUlM/maxresdefault.jpg width=\"75\" height=\"75\"></img>\n",
              "</div>\n"
            ],
            "text/plain": [
              "<IPython.core.display.HTML object>"
            ]
          },
          "metadata": {
            "tags": []
          }
        },
        {
          "output_type": "stream",
          "text": [
            "lol what is AI\n"
          ],
          "name": "stdout"
        },
        {
          "output_type": "display_data",
          "data": {
            "text/html": [
              "\n",
              "<div class=\"chat-window\"\n",
              "<p>Let me connect you with our network of experts ...<p>\n",
              "<img src = https://coubsecure-s.akamaihd.net/get/b54/p/coub/simple/cw_timeline_pic/7b2b17d8f24/15c695d0259a8b2231793/big_1518477107_image.jpg width=\"75\" height=\"75\"></img>\n",
              "</div>\n",
              "\n",
              "<div class=\"chat-window\"\n",
              "<p><p>\n",
              "<img src =  https://s3.eu-west-2.amazonaws.com/cognitionx-assets/images/Cx_logo_Monogram_square.png width=\"75\" height=\"75\"></img>\n",
              "</div>\n"
            ],
            "text/plain": [
              "<IPython.core.display.HTML object>"
            ]
          },
          "metadata": {
            "tags": []
          }
        },
        {
          "output_type": "stream",
          "text": [
            "hello\n"
          ],
          "name": "stdout"
        },
        {
          "output_type": "display_data",
          "data": {
            "text/html": [
              "\n",
              "<div class=\"chat-window\"\n",
              "<p>Pleased to meet you Mohammed<p>\n",
              "<img src = https://i0.wp.com/i.ytimg.com/vi/iqhKSgOKUlM/maxresdefault.jpg width=\"75\" height=\"75\"></img>\n",
              "</div>\n",
              "\n",
              "<div class=\"chat-window\"\n",
              "<p>My name is Ash. What can I call you?<p>\n",
              "<img src = https://coubsecure-s.akamaihd.net/get/b54/p/coub/simple/cw_timeline_pic/7b2b17d8f24/15c695d0259a8b2231793/big_1518477107_image.jpg width=\"75\" height=\"75\"></img>\n",
              "</div>\n"
            ],
            "text/plain": [
              "<IPython.core.display.HTML object>"
            ]
          },
          "metadata": {
            "tags": []
          }
        },
        {
          "output_type": "stream",
          "text": [
            "my name is Mohammed\n"
          ],
          "name": "stdout"
        },
        {
          "output_type": "display_data",
          "data": {
            "text/html": [
              "\n",
              "<div class=\"chat-window\"\n",
              "<p>Peace be upon you Mohammed<p>\n",
              "<img src = https://i.imgur.com/yX0HpCU.gif?noredirect width=\"75\" height=\"75\"></img>\n",
              "</div>\n"
            ],
            "text/plain": [
              "<IPython.core.display.HTML object>"
            ]
          },
          "metadata": {
            "tags": []
          }
        },
        {
          "output_type": "stream",
          "text": [
            "my name is Rob\n"
          ],
          "name": "stdout"
        },
        {
          "output_type": "display_data",
          "data": {
            "text/html": [
              "\n",
              "<div class=\"chat-window\"\n",
              "<p>Peace be upon you Rob<p>\n",
              "<img src = https://i0.wp.com/i.ytimg.com/vi/iqhKSgOKUlM/maxresdefault.jpg width=\"75\" height=\"75\"></img>\n",
              "</div>\n"
            ],
            "text/plain": [
              "<IPython.core.display.HTML object>"
            ]
          },
          "metadata": {
            "tags": []
          }
        },
        {
          "output_type": "stream",
          "text": [
            "my name is Bob\n"
          ],
          "name": "stdout"
        },
        {
          "output_type": "display_data",
          "data": {
            "text/html": [
              "\n",
              "<div class=\"chat-window\"\n",
              "<p>Peace be upon you Bob<p>\n",
              "<img src = https://coubsecure-s.akamaihd.net/get/b54/p/coub/simple/cw_timeline_pic/7b2b17d8f24/15c695d0259a8b2231793/big_1518477107_image.jpg width=\"75\" height=\"75\"></img>\n",
              "</div>\n"
            ],
            "text/plain": [
              "<IPython.core.display.HTML object>"
            ]
          },
          "metadata": {
            "tags": []
          }
        },
        {
          "output_type": "stream",
          "text": [
            "my name is Bob\n"
          ],
          "name": "stdout"
        },
        {
          "output_type": "display_data",
          "data": {
            "text/html": [
              "\n",
              "<div class=\"chat-window\"\n",
              "<p>Peace be upon you Bob<p>\n",
              "<img src = https://i.imgur.com/yX0HpCU.gif?noredirect width=\"75\" height=\"75\"></img>\n",
              "</div>\n"
            ],
            "text/plain": [
              "<IPython.core.display.HTML object>"
            ]
          },
          "metadata": {
            "tags": []
          }
        },
        {
          "output_type": "stream",
          "text": [
            "what is your name\n"
          ],
          "name": "stdout"
        },
        {
          "output_type": "display_data",
          "data": {
            "text/html": [
              "\n",
              "<div class=\"chat-window\"\n",
              "<p>Sorry<p>\n",
              "<img src = https://i0.wp.com/i.ytimg.com/vi/iqhKSgOKUlM/maxresdefault.jpg width=\"75\" height=\"75\"></img>\n",
              "</div>\n",
              "\n",
              "<div class=\"chat-window\"\n",
              "<p>me no understand<p>\n",
              "<img src = https://coubsecure-s.akamaihd.net/get/b54/p/coub/simple/cw_timeline_pic/7b2b17d8f24/15c695d0259a8b2231793/big_1518477107_image.jpg width=\"75\" height=\"75\"></img>\n",
              "</div>\n"
            ],
            "text/plain": [
              "<IPython.core.display.HTML object>"
            ]
          },
          "metadata": {
            "tags": []
          }
        },
        {
          "output_type": "stream",
          "text": [
            "what is an LSTM\n"
          ],
          "name": "stdout"
        },
        {
          "output_type": "display_data",
          "data": {
            "text/html": [
              "\n",
              "<div class=\"chat-window\"\n",
              "<p>sure, I'll connect you to an expert now ...<p>\n",
              "<img src = https://coubsecure-s.akamaihd.net/get/b54/p/coub/simple/cw_timeline_pic/7b2b17d8f24/15c695d0259a8b2231793/big_1518477107_image.jpg width=\"75\" height=\"75\"></img>\n",
              "</div>\n",
              "\n",
              "<div class=\"chat-window\"\n",
              "<p><p>\n",
              "<img src =  https://s3.eu-west-2.amazonaws.com/cognitionx-assets/images/Cx_logo_Monogram_square.png width=\"75\" height=\"75\"></img>\n",
              "</div>\n"
            ],
            "text/plain": [
              "<IPython.core.display.HTML object>"
            ]
          },
          "metadata": {
            "tags": []
          }
        },
        {
          "output_type": "stream",
          "text": [
            "what is a CNN\n"
          ],
          "name": "stdout"
        },
        {
          "output_type": "display_data",
          "data": {
            "text/html": [
              "\n",
              "<div class=\"chat-window\"\n",
              "<p>Interesting!  Lets see if someone in our network knows about {topic} ...<p>\n",
              "<img src = https://coubsecure-s.akamaihd.net/get/b54/p/coub/simple/cw_timeline_pic/7b2b17d8f24/15c695d0259a8b2231793/big_1518477107_image.jpg width=\"75\" height=\"75\"></img>\n",
              "</div>\n",
              "\n",
              "<div class=\"chat-window\"\n",
              "<p><p>\n",
              "<img src =  https://s3.eu-west-2.amazonaws.com/cognitionx-assets/images/Cx_logo_Monogram_square.png width=\"75\" height=\"75\"></img>\n",
              "</div>\n"
            ],
            "text/plain": [
              "<IPython.core.display.HTML object>"
            ]
          },
          "metadata": {
            "tags": []
          }
        },
        {
          "output_type": "stream",
          "text": [
            "what is a robot\n"
          ],
          "name": "stdout"
        },
        {
          "output_type": "display_data",
          "data": {
            "text/html": [
              "\n",
              "<div class=\"chat-window\"\n",
              "<p>Let me connect you with our network of experts ...<p>\n",
              "<img src = https://i0.wp.com/i.ytimg.com/vi/iqhKSgOKUlM/maxresdefault.jpg width=\"75\" height=\"75\"></img>\n",
              "</div>\n",
              "\n",
              "<div class=\"chat-window\"\n",
              "<p><p>\n",
              "<img src =  https://s3.eu-west-2.amazonaws.com/cognitionx-assets/images/Cx_logo_Monogram_square.png width=\"75\" height=\"75\"></img>\n",
              "</div>\n"
            ],
            "text/plain": [
              "<IPython.core.display.HTML object>"
            ]
          },
          "metadata": {
            "tags": []
          }
        },
        {
          "output_type": "stream",
          "text": [
            "no thanks\n"
          ],
          "name": "stdout"
        },
        {
          "output_type": "display_data",
          "data": {
            "text/html": [
              "\n",
              "<div class=\"chat-window\"\n",
              "<p>My pleasure.<p>\n",
              "<img src = https://i0.wp.com/i.ytimg.com/vi/iqhKSgOKUlM/maxresdefault.jpg width=\"75\" height=\"75\"></img>\n",
              "</div>\n"
            ],
            "text/plain": [
              "<IPython.core.display.HTML object>"
            ]
          },
          "metadata": {
            "tags": []
          }
        },
        {
          "output_type": "stream",
          "text": [
            "yes please\n"
          ],
          "name": "stdout"
        },
        {
          "output_type": "display_data",
          "data": {
            "text/html": [
              "\n",
              "<div class=\"chat-window\"\n",
              "<p>My pleasure.<p>\n",
              "<img src = https://i0.wp.com/i.ytimg.com/vi/iqhKSgOKUlM/maxresdefault.jpg width=\"75\" height=\"75\"></img>\n",
              "</div>\n"
            ],
            "text/plain": [
              "<IPython.core.display.HTML object>"
            ]
          },
          "metadata": {
            "tags": []
          }
        },
        {
          "output_type": "stream",
          "text": [
            "ok sure\n"
          ],
          "name": "stdout"
        },
        {
          "output_type": "display_data",
          "data": {
            "text/html": [
              "\n",
              "<div class=\"chat-window\"\n",
              "<p>Don't mention it<p>\n",
              "<img src = https://i0.wp.com/i.ytimg.com/vi/iqhKSgOKUlM/maxresdefault.jpg width=\"75\" height=\"75\"></img>\n",
              "</div>\n"
            ],
            "text/plain": [
              "<IPython.core.display.HTML object>"
            ]
          },
          "metadata": {
            "tags": []
          }
        },
        {
          "output_type": "stream",
          "text": [
            "go away\n"
          ],
          "name": "stdout"
        },
        {
          "output_type": "display_data",
          "data": {
            "text/html": [
              "\n",
              "<div class=\"chat-window\"\n",
              "<p>Don't mention it<p>\n",
              "<img src = https://i0.wp.com/i.ytimg.com/vi/iqhKSgOKUlM/maxresdefault.jpg width=\"75\" height=\"75\"></img>\n",
              "</div>\n"
            ],
            "text/plain": [
              "<IPython.core.display.HTML object>"
            ]
          },
          "metadata": {
            "tags": []
          }
        },
        {
          "output_type": "stream",
          "text": [
            "good day\n"
          ],
          "name": "stdout"
        },
        {
          "output_type": "display_data",
          "data": {
            "text/html": [
              "\n",
              "<div class=\"chat-window\"\n",
              "<p>Most welcome<p>\n",
              "<img src = https://coubsecure-s.akamaihd.net/get/b54/p/coub/simple/cw_timeline_pic/7b2b17d8f24/15c695d0259a8b2231793/big_1518477107_image.jpg width=\"75\" height=\"75\"></img>\n",
              "</div>\n"
            ],
            "text/plain": [
              "<IPython.core.display.HTML object>"
            ]
          },
          "metadata": {
            "tags": []
          }
        },
        {
          "output_type": "stream",
          "text": [
            "bye\n"
          ],
          "name": "stdout"
        },
        {
          "output_type": "display_data",
          "data": {
            "text/html": [
              "\n",
              "<div class=\"chat-window\"\n",
              "<p>Most welcome<p>\n",
              "<img src = https://coubsecure-s.akamaihd.net/get/b54/p/coub/simple/cw_timeline_pic/7b2b17d8f24/15c695d0259a8b2231793/big_1518477107_image.jpg width=\"75\" height=\"75\"></img>\n",
              "</div>\n"
            ],
            "text/plain": [
              "<IPython.core.display.HTML object>"
            ]
          },
          "metadata": {
            "tags": []
          }
        }
      ]
    }
  ]
}